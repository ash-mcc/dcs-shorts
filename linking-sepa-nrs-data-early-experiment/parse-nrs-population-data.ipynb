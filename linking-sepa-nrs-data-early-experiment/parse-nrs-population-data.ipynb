{
 "cells": [
  {
   "cell_type": "code",
   "execution_count": 1,
   "metadata": {},
   "outputs": [
    {
     "data": {
      "text/plain": [
       "nil"
      ]
     },
     "execution_count": 1,
     "metadata": {},
     "output_type": "execute_result"
    }
   ],
   "source": [
    "; Take NRS' data file about populations\n",
    "; parse it\n",
    "; put it into a simple datastucture\n",
    "; and write it to a CSV file.\n",
    "\n",
    "\n",
    "; Dependencies\n",
    "\n",
    "(require '[clojupyter.misc.helper :as helper])\n",
    "\n",
    "(helper/add-dependencies '[org.clojure/data.csv \"1.0.0\"])\n",
    "\n",
    "(require '[clojure.java.io :as io])\n",
    "(require '[clojure.pprint :as pp])\n",
    "(require '[clojure.data.csv :as csv])"
   ]
  },
  {
   "cell_type": "code",
   "execution_count": 2,
   "metadata": {},
   "outputs": [
    {
     "data": {
      "text/plain": [
       "#'user/csv-file"
      ]
     },
     "execution_count": 2,
     "metadata": {},
     "output_type": "execute_result"
    }
   ],
   "source": [
    "; Get the CSV file of population oriented data from the National Records of Scotland at https://www.nrscotland.gov.uk/files//statistics/population-estimates/time-series/mid-18/mid-year-pop-est-18-time-series-2.csv\n",
    "\n",
    "(def csv-file \"mid-year-pop-est-18-time-series-2.csv\")"
   ]
  },
  {
   "cell_type": "code",
   "execution_count": 3,
   "metadata": {},
   "outputs": [
    {
     "name": "stdout",
     "output_type": "stream",
     "text": [
      "([Mid-year population estimates: Scotland and its council areas1, total population by sex: 1981 to 2018                                       ] [                                       ] [Code Persons 1981 1982 1983 1984 1985 1986 1987 1988 1989 1990 1991 1992 1993 1994 1995 1996 1997 1998 1999 2000 2001 2002 2003 2004 2005 2006 2007 2008 2009 2010 2011 2012 2013 2014 2015 2016 2017 2018] [                                       ] [S92000003 Scotland 5,180,200 5,164,540 5,148,120 5,138,880 5,127,890 5,111,760 5,099,020 5,077,440 5,078,190 5,081,270 5,083,330 5,085,620 5,092,460 5,102,210 5,103,690 5,092,190 5,083,340 5,077,070 5,071,950 5,062,940 5,064,200 5,066,000 5,068,500 5,084,300 5,110,200 5,133,000 5,170,000 5,202,900 5,231,900 5,262,200 5,299,900 5,313,600 5,327,700  5,347,600  5,373,000 5,404,700 5,424,800 5,438,100] [S12000033 Aberdeen City 212,494 213,260 214,400 214,560 215,450 217,080 214,080 212,140 212,510 212,870 214,120 216,140 218,250 219,500 219,880 218,350 217,300 215,650 214,630 213,340 211,910 210,680 209,280 207,820 208,690 209,630 212,470 214,020 217,020 219,730 222,460 224,910 227,070  228,920  230,350 229,840 228,800 227,560])\n"
     ]
    },
    {
     "data": {
      "text/plain": [
       "nil"
      ]
     },
     "execution_count": 3,
     "metadata": {},
     "output_type": "execute_result"
    }
   ],
   "source": [
    "; Read the CSV file\n",
    "\n",
    "(def csv-data\n",
    "    (with-open [reader (io/reader csv-file)]\n",
    "        (doall\n",
    "            (csv/read-csv reader))))\n",
    "\n",
    "(->> csv-data (take 6) println)"
   ]
  },
  {
   "cell_type": "code",
   "execution_count": 4,
   "metadata": {},
   "outputs": [
    {
     "name": "stdout",
     "output_type": "stream",
     "text": [
      "\n",
      "| :pos |                 :type |\n",
      "|------+-----------------------|\n",
      "|    0 |         Aberdeen City |\n",
      "|    1 |         Aberdeenshire |\n",
      "|    2 |                 Angus |\n",
      "|    3 |       Argyll and Bute |\n",
      "|    4 |     City of Edinburgh |\n",
      "|    5 |      Clackmannanshire |\n",
      "|    6 | Dumfries and Galloway |\n",
      "|    7 |           Dundee City |\n",
      "|    8 |         East Ayrshire |\n",
      "|    9 |   East Dunbartonshire |\n",
      "|   10 |          East Lothian |\n",
      "|   11 |     East Renfrewshire |\n",
      "|   12 |               Falkirk |\n",
      "|   13 |                  Fife |\n",
      "|   14 |          Glasgow City |\n",
      "|   15 |              Highland |\n",
      "|   16 |            Inverclyde |\n",
      "|   17 |            Midlothian |\n",
      "|   18 |                 Moray |\n",
      "|   19 |    Na h-Eileanan Siar |\n",
      "|   20 |        North Ayrshire |\n",
      "|   21 |     North Lanarkshire |\n",
      "|   22 |        Orkney Islands |\n",
      "|   23 |     Perth and Kinross |\n",
      "|   24 |          Renfrewshire |\n",
      "|   25 |      Scottish Borders |\n",
      "|   26 |      Shetland Islands |\n",
      "|   27 |        South Ayrshire |\n",
      "|   28 |     South Lanarkshire |\n",
      "|   29 |              Stirling |\n",
      "|   30 |   West Dunbartonshire |\n",
      "|   31 |          West Lothian |\n"
     ]
    },
    {
     "data": {
      "text/plain": [
       "nil"
      ]
     },
     "execution_count": 4,
     "metadata": {},
     "output_type": "execute_result"
    }
   ],
   "source": [
    "; The councils are in the 2nd column, 5th row onwards for 32 rows\n",
    "\n",
    "(def councils (->> csv-data (drop 5) (take 32) (map second) distinct vec))\n",
    "\n",
    "(pp/print-table [:pos :type] (map-indexed #(hash-map :pos %1 :type %2) councils))"
   ]
  },
  {
   "cell_type": "code",
   "execution_count": 5,
   "metadata": {},
   "outputs": [
    {
     "name": "stdout",
     "output_type": "stream",
     "text": [
      "\n",
      "| :pos | :year |\n",
      "|------+-------|\n",
      "|    0 |  2011 |\n",
      "|    1 |  2012 |\n",
      "|    2 |  2013 |\n",
      "|    3 |  2014 |\n",
      "|    4 |  2015 |\n",
      "|    5 |  2016 |\n",
      "|    6 |  2017 |\n",
      "|    7 |  2018 |\n"
     ]
    },
    {
     "data": {
      "text/plain": [
       "nil"
      ]
     },
     "execution_count": 5,
     "metadata": {},
     "output_type": "execute_result"
    }
   ],
   "source": [
    "; The years are in the 3rd row, 33rd column onwards\n",
    "\n",
    "(def years (->> (nth csv-data 2) (drop 32) distinct vec))\n",
    "\n",
    "(pp/print-table [:pos :year] (map-indexed #(hash-map :pos %1 :year %2) years))"
   ]
  },
  {
   "cell_type": "code",
   "execution_count": 6,
   "metadata": {},
   "outputs": [
    {
     "data": {
      "text/plain": [
       "nil"
      ]
     },
     "execution_count": 6,
     "metadata": {},
     "output_type": "execute_result"
    }
   ],
   "source": [
    "; Get the population given the council and year\n",
    "\n",
    "(defn row-ix [council] \n",
    "    (+ 5\n",
    "       (.indexOf councils council)))\n",
    "\n",
    "(defn col-ix [year] \n",
    "    (+ 32\n",
    "       (.indexOf years year)))\n",
    "\n",
    "(defn population [council year]\n",
    "    (-> csv-data\n",
    "        (nth (row-ix council))\n",
    "        (nth (col-ix year))\n",
    "        .trim\n",
    "        (.replaceAll \",\" \"\")))\n",
    "\n",
    "(assert (= \"222460\" (population (first councils) (first years))))"
   ]
  },
  {
   "cell_type": "code",
   "execution_count": 7,
   "metadata": {},
   "outputs": [
    {
     "data": {
      "text/plain": [
       "256"
      ]
     },
     "execution_count": 7,
     "metadata": {},
     "output_type": "execute_result"
    }
   ],
   "source": [
    "; To a list of maps, each containing: council, year, popuation\n",
    "\n",
    "(def population-data\n",
    "    (for [ \n",
    "        council councils\n",
    "        year years]\n",
    "        {:council council\n",
    "         :year year\n",
    "         :population (population council year)}))\n",
    "\n",
    "(count population-data)"
   ]
  },
  {
   "cell_type": "code",
   "execution_count": 8,
   "metadata": {},
   "outputs": [
    {
     "name": "stdout",
     "output_type": "stream",
     "text": [
      "\n",
      "|           :council | :year | :population |\n",
      "|--------------------+-------+-------------|\n",
      "|  City of Edinburgh |  2016 |      507170 |\n",
      "|  South Lanarkshire |  2014 |      315300 |\n",
      "|      East Ayrshire |  2011 |      122690 |\n",
      "|     North Ayrshire |  2011 |      138090 |\n",
      "| Na h-Eileanan Siar |  2013 |       27400 |\n"
     ]
    },
    {
     "data": {
      "text/plain": [
       "nil"
      ]
     },
     "execution_count": 8,
     "metadata": {},
     "output_type": "execute_result"
    }
   ],
   "source": [
    "; Sample 10 rows\n",
    "\n",
    "(pp/print-table [:council :year :population] (repeatedly 5 #(rand-nth population-data)))"
   ]
  },
  {
   "cell_type": "code",
   "execution_count": 9,
   "metadata": {},
   "outputs": [
    {
     "data": {
      "text/plain": [
       "nil"
      ]
     },
     "execution_count": 9,
     "metadata": {},
     "output_type": "execute_result"
    }
   ],
   "source": [
    "; Write to CSV\n",
    "\n",
    "(let [header-row (->> population-data\n",
    "                      first\n",
    "                      keys\n",
    "                      (map name))\n",
    "      data-rows (->> population-data\n",
    "                     (map vals))]\n",
    "    (with-open [writer (io/writer \"nrs-population-data.csv\")]\n",
    "      (csv/write-csv writer (cons header-row data-rows))))"
   ]
  },
  {
   "cell_type": "code",
   "execution_count": null,
   "metadata": {},
   "outputs": [],
   "source": []
  }
 ],
 "metadata": {
  "kernelspec": {
   "display_name": "Clojure (clojupyter=0.3.2=1)",
   "language": "clojure",
   "name": "conda-clojupyter"
  },
  "language_info": {
   "file_extension": ".clj",
   "mimetype": "text/x-clojure",
   "name": "clojure",
   "version": "1.10.1"
  }
 },
 "nbformat": 4,
 "nbformat_minor": 2
}
