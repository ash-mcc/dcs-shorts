{
 "cells": [
  {
   "cell_type": "code",
   "execution_count": 1,
   "metadata": {},
   "outputs": [
    {
     "data": {
      "text/plain": [
       "nil"
      ]
     },
     "execution_count": 1,
     "metadata": {},
     "output_type": "execute_result"
    }
   ],
   "source": [
    "; Take SEPA's dataset about waste tonnes and NRS' dataset about populations\n",
    "; add these into to triplestore\n",
    "; to make them available as \"linked data\".\n",
    "\n",
    "\n",
    "; Dependencies\n",
    "\n",
    "(require '[clojupyter.misc.helper :as helper])\n",
    "(require '[clojupyter.display :as display])\n",
    "\n",
    "(helper/add-dependencies '[org.clojure/data.csv \"1.0.0\"])\n",
    "(helper/add-dependencies '[com.datomic/client-pro \"0.9.41\"])\n",
    "\n",
    "(require '[clojure.java.io :as io])\n",
    "(require '[clojure.pprint :as pp])\n",
    "(require '[clojure.data.csv :as csv])\n",
    "(require '[datomic.client.api :as d])"
   ]
  },
  {
   "cell_type": "code",
   "execution_count": 2,
   "metadata": {},
   "outputs": [
    {
     "name": "stdout",
     "output_type": "stream",
     "text": [
      "{:db-name waste, :database-id 5e971c8d-9cea-4b08-b05a-3852aecd482b, :t 66, :next-t 1000, :type :datomic.client/conn}\n"
     ]
    },
    {
     "data": {
      "text/plain": [
       "nil"
      ]
     },
     "execution_count": 2,
     "metadata": {},
     "output_type": "execute_result"
    }
   ],
   "source": [
    "; Connect to the triplestore (a Datomic database management server)\n",
    "\n",
    "(def dbms-client\n",
    "    (d/client { \n",
    "        :server-type :peer-server\n",
    "        :access-key \"ash\"\n",
    "        :secret \"ash123\"\n",
    "        :endpoint \"localhost:8998\"\n",
    "        :validate-hostnames false}))\n",
    "\n",
    "(def conn (d/connect dbms-client {:db-name \"waste\"}))\n",
    "(println conn)"
   ]
  },
  {
   "cell_type": "code",
   "execution_count": 3,
   "metadata": {},
   "outputs": [
    {
     "name": "stdout",
     "output_type": "stream",
     "text": [
      "1 council schema entity inserted\n",
      "32 council data entities inserted\n"
     ]
    },
    {
     "data": {
      "text/plain": [
       "nil"
      ]
     },
     "execution_count": 3,
     "metadata": {},
     "output_type": "execute_result"
    }
   ],
   "source": [
    "; Add facts about councils\n",
    "\n",
    "(def schema-facts [  \n",
    "    {:db/ident :council/name\n",
    "        :db/valueType :db.type/string\n",
    "        :db/unique :db.unique/identity\n",
    "        :db/cardinality :db.cardinality/one\n",
    "        :db/doc \"A council\"}])\n",
    "\n",
    "; A convenience function\n",
    "(defn transact [conn data desc]\n",
    "    (let [n (count (:tempids (d/transact conn {:tx-data data})))\n",
    "          s (if (= 1 n) \"y\" \"ies\")]\n",
    "        (println (str n \" \" desc \" entit\" s \" inserted\"))))\n",
    "\n",
    "(transact conn schema-facts \"council schema\")\n",
    "\n",
    "(def councils [\"Aberdeen City\" \"Aberdeenshire\" \"Angus\" \"Argyll and Bute\" \"City of Edinburgh\" \"Clackmannanshire\" \n",
    "         \"Dumfries and Galloway\" \"Dundee City\" \"East Ayrshire\" \"East Dunbartonshire\" \"East Lothian\" \"East Renfrewshire\" \n",
    "         \"Falkirk\" \"Fife\" \"Glasgow City\" \"Highland\" \"Inverclyde\" \"Midlothian\" \"Moray\" \"Na h-Eileanan Siar\" \n",
    "         \"North Ayrshire\" \"North Lanarkshire\" \"Orkney Islands\" \"Perth and Kinross\" \"Renfrewshire\" \"Scottish Borders\" \n",
    "         \"Shetland Islands\" \"South Ayrshire\" \"South Lanarkshire\" \"Stirling\" \"West Dunbartonshire\" \"West Lothian\"])\n",
    "\n",
    "(def council-facts (map #(hash-map :council/name %) councils))\n",
    "\n",
    "(transact conn council-facts \"council data\")"
   ]
  },
  {
   "cell_type": "code",
   "execution_count": 4,
   "metadata": {},
   "outputs": [
    {
     "name": "stdout",
     "output_type": "stream",
     "text": [
      "1 year schema entity inserted\n",
      "8 year data entities inserted\n"
     ]
    },
    {
     "data": {
      "text/plain": [
       "nil"
      ]
     },
     "execution_count": 4,
     "metadata": {},
     "output_type": "execute_result"
    }
   ],
   "source": [
    "; Add facts about years\n",
    "\n",
    "(def schema-facts [  \n",
    "    {:db/ident :year/value\n",
    "        :db/valueType :db.type/long\n",
    "        :db/unique :db.unique/identity\n",
    "        :db/cardinality :db.cardinality/one\n",
    "        :db/doc \"A year\"}])\n",
    "\n",
    "(transact conn schema-facts \"year schema\")\n",
    "\n",
    "(def years [2011 2012 2013 2014 2015 2016 2017 2018])\n",
    "\n",
    "(def year-facts (map #(hash-map :year/value %) years))\n",
    "\n",
    "(transact conn year-facts \"year data\")"
   ]
  },
  {
   "cell_type": "code",
   "execution_count": 5,
   "metadata": {},
   "outputs": [
    {
     "name": "stdout",
     "output_type": "stream",
     "text": [
      "\n",
      "|          :council | :year |                                                                                 :type |                     :process | :tonnage |\n",
      "|-------------------+-------+---------------------------------------------------------------------------------------+------------------------------+----------|\n",
      "|           Falkirk |  2016 | Discarded equipment (excluding discarded vehicles, batteries and accumulators wastes) |           Prepared for reuse |          |\n",
      "| North Lanarkshire |  2016 |                                                                          Glass wastes |                     Recycled |  6697.21 |\n",
      "|          Highland |  2017 |                                        Mineral waste from construction and demolition |            Organics recycled |          |\n",
      "|      East Lothian |  2016 |                                        Mineral waste from construction and demolition | Recovered by co-incineration |          |\n",
      "|        Inverclyde |  2017 |                                                                                 Soils | Recovered by co-incineration |          |\n"
     ]
    },
    {
     "data": {
      "text/plain": [
       "nil"
      ]
     },
     "execution_count": 5,
     "metadata": {},
     "output_type": "execute_result"
    }
   ],
   "source": [
    "; Read the sepa-waste-data file\n",
    "\n",
    "; A convenience function\n",
    "(defn to-maps [csv-data]\n",
    "  (map zipmap\n",
    "       (->> (first csv-data)\n",
    "            (map keyword)\n",
    "            repeat)\n",
    "        (rest csv-data)))\n",
    "\n",
    "(def sepa-waste-data\n",
    "    (with-open [reader (io/reader \"sepa-waste-data.csv\")]\n",
    "        (doall\n",
    "            (to-maps (csv/read-csv reader)))))\n",
    "\n",
    "; Print a sample\n",
    "(pp/print-table [:council :year :type :process :tonnage] (repeatedly 5 #(rand-nth sepa-waste-data)))"
   ]
  },
  {
   "cell_type": "code",
   "execution_count": 6,
   "metadata": {},
   "outputs": [
    {
     "name": "stdout",
     "output_type": "stream",
     "text": [
      "1 waste-type schema entity inserted\n",
      "23 waste-type data entities inserted\n"
     ]
    },
    {
     "data": {
      "text/plain": [
       "nil"
      ]
     },
     "execution_count": 6,
     "metadata": {},
     "output_type": "execute_result"
    }
   ],
   "source": [
    "; Add facts about waste types\n",
    "\n",
    "(def schema-facts [     \n",
    "    {:db/ident :waste-type/name\n",
    "        :db/valueType :db.type/string\n",
    "        :db/unique :db.unique/identity\n",
    "        :db/cardinality :db.cardinality/one\n",
    "        :db/doc \"A waste type\"}])\n",
    "\n",
    "(transact conn schema-facts \"waste-type schema\")\n",
    "\n",
    "(def waste-types (distinct (map :type sepa-waste-data)))\n",
    "\n",
    "(def waste-type-facts (map #(hash-map :waste-type/name %) waste-types))\n",
    "\n",
    "(transact conn waste-type-facts \"waste-type data\")"
   ]
  },
  {
   "cell_type": "code",
   "execution_count": 7,
   "metadata": {},
   "outputs": [
    {
     "name": "stdout",
     "output_type": "stream",
     "text": [
      "1 waste-process schema entity inserted\n",
      "9 waste-process data entities inserted\n"
     ]
    },
    {
     "data": {
      "text/plain": [
       "nil"
      ]
     },
     "execution_count": 7,
     "metadata": {},
     "output_type": "execute_result"
    }
   ],
   "source": [
    "; Add facts about waste processes\n",
    "\n",
    "(def schema-facts [     \n",
    "    {:db/ident :waste-process/name\n",
    "        :db/valueType :db.type/string\n",
    "        :db/unique :db.unique/identity\n",
    "        :db/cardinality :db.cardinality/one\n",
    "        :db/doc \"A waste process\"}])\n",
    "\n",
    "(transact conn schema-facts \"waste-process schema\")\n",
    "\n",
    "(def waste-processes (distinct (map :process sepa-waste-data)))\n",
    "\n",
    "(def waste-process-facts (map #(hash-map :waste-process/name %) waste-processes))\n",
    "\n",
    "(transact conn waste-process-facts \"waste-process data\")"
   ]
  },
  {
   "cell_type": "code",
   "execution_count": 8,
   "metadata": {},
   "outputs": [
    {
     "name": "stdout",
     "output_type": "stream",
     "text": [
      "5 waste-tonnes-cytp schema entities inserted\n",
      "23240 waste-tonnes-cytp entities inserted\n"
     ]
    },
    {
     "data": {
      "text/plain": [
       "nil"
      ]
     },
     "execution_count": 8,
     "metadata": {},
     "output_type": "execute_result"
    }
   ],
   "source": [
    "; Add facts about waste tonnes\n",
    "\n",
    "(def schema-facts [  \n",
    "    ; TODO uniqueness contraint over conncil + year + type + process\n",
    "    {:db/ident :waste-tonnes-cytp/council\n",
    "        :db/valueType :db.type/ref\n",
    "        :db/cardinality :db.cardinality/one\n",
    "        :db/doc \"A council that is associated with this entity\"}          \n",
    "    {:db/ident :waste-tonnes-cytp/year\n",
    "        :db/valueType :db.type/ref\n",
    "        :db/cardinality :db.cardinality/one\n",
    "        :db/doc \"A year that is associated with this entity\"}\n",
    "      {:db/ident :waste-tonnes-cytp/waste-type\n",
    "        :db/valueType :db.type/ref\n",
    "        :db/cardinality :db.cardinality/one\n",
    "        :db/doc \"A waste type that is associated with this entity\"}                \n",
    "     {:db/ident :waste-tonnes-cytp/waste-process\n",
    "        :db/valueType :db.type/ref\n",
    "        :db/cardinality :db.cardinality/one\n",
    "        :db/doc \"A waste process that is associated with this entity\"}              \n",
    "     {:db/ident :waste-tonnes-cytp/tonnes\n",
    "        :db/valueType :db.type/double\n",
    "        :db/cardinality :db.cardinality/one\n",
    "        :db/doc \"A tonnage quantity\"}])\n",
    "\n",
    "(transact conn schema-facts \"waste-tonnes-cytp schema\")\n",
    "\n",
    "(def waste-tonnes (filter #(not (clojure.string/blank? (:tonnage %))) sepa-waste-data))\n",
    "\n",
    "(def waste-tonnes-facts \n",
    "    (map #(hash-map :waste-tonnes-cytp/council [:council/name (:council %)]\n",
    "                    :waste-tonnes-cytp/year [:year/value (Integer/parseInt (:year %))]\n",
    "                    :waste-tonnes-cytp/waste-type [:waste-type/name (:type %)]\n",
    "                    :waste-tonnes-cytp/waste-process [:waste-process/name (:process %)]\n",
    "                    :waste-tonnes-cytp/tonnes (Double/parseDouble (:tonnage %)))\n",
    "         waste-tonnes))\n",
    "\n",
    "(transact conn waste-tonnes-facts \"waste-tonnes-cytp\")"
   ]
  },
  {
   "cell_type": "code",
   "execution_count": 9,
   "metadata": {},
   "outputs": [
    {
     "name": "stdout",
     "output_type": "stream",
     "text": [
      "\n",
      "|          :council | :year | :population |\n",
      "|-------------------+-------+-------------|\n",
      "|      Glasgow City |  2016 |      615070 |\n",
      "|  Shetland Islands |  2015 |       23200 |\n",
      "| North Lanarkshire |  2018 |      340180 |\n",
      "| East Renfrewshire |  2012 |       91040 |\n",
      "|      Renfrewshire |  2016 |      175930 |\n"
     ]
    },
    {
     "data": {
      "text/plain": [
       "nil"
      ]
     },
     "execution_count": 9,
     "metadata": {},
     "output_type": "execute_result"
    }
   ],
   "source": [
    "; Read the nrs-population-data file\n",
    "\n",
    "(def nrs-population-data\n",
    "    (with-open [reader (io/reader \"nrs-population-data.csv\")]\n",
    "        (doall\n",
    "            (to-maps (csv/read-csv reader)))))\n",
    "\n",
    "; Print a sample\n",
    "(pp/print-table [:council :year :population] (repeatedly 5 #(rand-nth nrs-population-data)))"
   ]
  },
  {
   "cell_type": "code",
   "execution_count": 10,
   "metadata": {},
   "outputs": [
    {
     "name": "stdout",
     "output_type": "stream",
     "text": [
      "3 population schema entities inserted\n",
      "256 population-cy entities inserted\n"
     ]
    },
    {
     "data": {
      "text/plain": [
       "nil"
      ]
     },
     "execution_count": 10,
     "metadata": {},
     "output_type": "execute_result"
    }
   ],
   "source": [
    "; Add facts about populations\n",
    "\n",
    "(def schema-facts [\n",
    "    ; TODO uniqueness contraint over conncil + year\n",
    "    {:db/ident :population-cy/council\n",
    "        :db/valueType :db.type/ref\n",
    "        :db/cardinality :db.cardinality/one\n",
    "        :db/doc \"A council that is associated with this entity\"}          \n",
    "    {:db/ident :population-cy/year\n",
    "        :db/valueType :db.type/ref\n",
    "        :db/cardinality :db.cardinality/one\n",
    "        :db/doc \"A year that is associated with this entity\"}\n",
    "     {:db/ident :population-cy/population\n",
    "        :db/valueType :db.type/long\n",
    "        :db/cardinality :db.cardinality/one\n",
    "        :db/doc \"A population quantity\"}]) \n",
    "\n",
    "(transact conn schema-facts \"population schema\")\n",
    "\n",
    "(def population-facts \n",
    "    (map #(hash-map :population-cy/council [:council/name (:council %)]\n",
    "                    :population-cy/year [:year/value (Integer/parseInt (:year %))]\n",
    "                    :population-cy/population (Long/parseLong (:population %)))\n",
    "         nrs-population-data))\n",
    "\n",
    "(transact conn population-facts \"population-cy\")"
   ]
  },
  {
   "cell_type": "code",
   "execution_count": 11,
   "metadata": {},
   "outputs": [
    {
     "data": {
      "text/plain": [
       "nil"
      ]
     },
     "execution_count": 11,
     "metadata": {},
     "output_type": "execute_result"
    }
   ],
   "source": [
    "; Check for the expected numbers of facts\n",
    "\n",
    "(def db (d/db conn))\n",
    "\n",
    "; Expect 32 :council/name facts\n",
    "(assert (= 32 (ffirst (d/q '[:find (count ?e) :where [?e :council/name]] db))))\n",
    "\n",
    "; Expect 8 :year/value facts\n",
    "(assert (= 8 (ffirst (d/q '[:find (count ?e) :where [?e :year/value]] db))))\n",
    "\n",
    "; Expect 23 :waste-type/name facts\n",
    "(assert (= 23 (ffirst (d/q '[:find (count ?e) :where [?e :waste-type/name]] db))))\n",
    "                            \n",
    "; Expect 9 :waste-process/name facts\n",
    "(assert (= 9 (ffirst (d/q '[:find (count ?e) :where [?e :waste-process/name]] db))))\n",
    "\n",
    "; Expect 23240 :waste-tonnes-cytp/tonnes facts\n",
    "(assert (= 23240 (ffirst (d/q '[:find (count ?e) :where [?e :waste-tonnes-cytp/tonnes]] db))))\n",
    "\n",
    "; Expect 256 :population-cy/population facts\n",
    "(assert (= 256 (ffirst (d/q '[:find (count ?e) :where [?e :population-cy/population]] db))))"
   ]
  }
 ],
 "metadata": {
  "kernelspec": {
   "display_name": "Clojure (clojupyter=0.3.2=1)",
   "language": "clojure",
   "name": "conda-clojupyter"
  },
  "language_info": {
   "file_extension": ".clj",
   "mimetype": "text/x-clojure",
   "name": "clojure",
   "version": "1.10.1"
  }
 },
 "nbformat": 4,
 "nbformat_minor": 2
}
