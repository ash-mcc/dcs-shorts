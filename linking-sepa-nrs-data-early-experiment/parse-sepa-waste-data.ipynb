{
 "cells": [
  {
   "cell_type": "code",
   "execution_count": 2,
   "metadata": {},
   "outputs": [
    {
     "data": {
      "text/plain": [
       "nil"
      ]
     },
     "execution_count": 2,
     "metadata": {},
     "output_type": "execute_result"
    }
   ],
   "source": [
    "; Take SEPA's data file about waste tonnes\n",
    "; parse it\n",
    "; put it into a simple datastucture\n",
    "; and write it to a CSV file.\n",
    "\n",
    "\n",
    "; Dependencies\n",
    "\n",
    "(require '[clojupyter.misc.helper :as helper])\n",
    "\n",
    "(helper/add-dependencies '[org.clojure/data.csv \"1.0.0\"])\n",
    "\n",
    "(require '[clojure.java.io :as io])\n",
    "(require '[clojure.pprint :as pp])\n",
    "(require '[clojure.data.csv :as csv])"
   ]
  },
  {
   "cell_type": "code",
   "execution_count": 3,
   "metadata": {},
   "outputs": [
    {
     "data": {
      "text/plain": [
       "#'user/csv-file"
      ]
     },
     "execution_count": 3,
     "metadata": {},
     "output_type": "execute_result"
    }
   ],
   "source": [
    "; Get the CSV file of waste oriented data from the SEPA tool at https://www.environment.gov.scot/data/data-analysis/household-waste/\n",
    "\n",
    "(def csv-file \"Household Waste Data Application - Scottish household waste generation and management (tonnes) by Local Authority.csv\")"
   ]
  },
  {
   "cell_type": "code",
   "execution_count": 4,
   "metadata": {},
   "outputs": [
    {
     "name": "stdout",
     "output_type": "stream",
     "text": [
      "([Local Authority Waste type Generated Generated Generated Generated Generated Generated Generated Generated Prepared for reuse Prepared for reuse Prepared for reuse Prepared for reuse Prepared for reuse Prepared for reuse Prepared for reuse Prepared for reuse Recycled Recycled Recycled Recycled Recycled Recycled Recycled Recycled Organics recycled Organics recycled Organics recycled Organics recycled Organics recycled Organics recycled Organics recycled Organics recycled Recovered by incineration Recovered by incineration Recovered by incineration Recovered by incineration Recovered by incineration Recovered by incineration Recovered by incineration Recovered by incineration Recovered by co-incineration Recovered by co-incineration Recovered by co-incineration Recovered by co-incineration Recovered by co-incineration Recovered by co-incineration Recovered by co-incineration Recovered by co-incineration Managed by other methods Managed by other methods Managed by other methods Managed by other methods Managed by other methods Managed by other methods Managed by other methods Managed by other methods Disposed by incineration Disposed by incineration Disposed by incineration Disposed by incineration Disposed by incineration Disposed by incineration Disposed by incineration Disposed by incineration Landfilled Landfilled Landfilled Landfilled Landfilled Landfilled Landfilled Landfilled] [Local Authority Waste type 2011 2012 2013 2014 2015 2016 2017 2018 2011 2012 2013 2014 2015 2016 2017 2018 2011 2012 2013 2014 2015 2016 2017 2018 2011 2012 2013 2014 2015 2016 2017 2018 2011 2012 2013 2014 2015 2016 2017 2018 2011 2012 2013 2014 2015 2016 2017 2018 2011 2012 2013 2014 2015 2016 2017 2018 2011 2012 2013 2014 2015 2016 2017 2018 2011 2012 2013 2014 2015 2016 2017 2018] [Aberdeen City Animal and mixed food waste 9595.52 5782.13 3089.23 3679.74 3831.17 4343.01 4111.33 4709.65 0 0       0 0   0.46 1.73 13.12 8.35 3198.51 3082.87 3097.92 3669.61 3798.82 4241.95 4098.21 4701.3 0 0       0 0       0 0       0 0       0 0  10.12 31.89 99.33  ])\n"
     ]
    },
    {
     "data": {
      "text/plain": [
       "nil"
      ]
     },
     "execution_count": 4,
     "metadata": {},
     "output_type": "execute_result"
    }
   ],
   "source": [
    "; Read the CSV file\n",
    "\n",
    "(def csv-data\n",
    "    (with-open [reader (io/reader csv-file)]\n",
    "        (doall\n",
    "            (csv/read-csv reader :separator \\tab))))\n",
    "\n",
    "(->> csv-data (take 3) println)"
   ]
  },
  {
   "cell_type": "code",
   "execution_count": 5,
   "metadata": {},
   "outputs": [
    {
     "name": "stdout",
     "output_type": "stream",
     "text": [
      "\n",
      "| :pos |                     :process |\n",
      "|------+------------------------------|\n",
      "|    0 |                    Generated |\n",
      "|    1 |           Prepared for reuse |\n",
      "|    2 |                     Recycled |\n",
      "|    3 |            Organics recycled |\n",
      "|    4 |    Recovered by incineration |\n",
      "|    5 | Recovered by co-incineration |\n",
      "|    6 |     Managed by other methods |\n",
      "|    7 |     Disposed by incineration |\n",
      "|    8 |                   Landfilled |\n"
     ]
    },
    {
     "data": {
      "text/plain": [
       "nil"
      ]
     },
     "execution_count": 5,
     "metadata": {},
     "output_type": "execute_result"
    }
   ],
   "source": [
    "; The processes are in the 1st row, 3rd column onwards\n",
    "\n",
    "(def processes (->> csv-data first (drop 2) distinct vec))\n",
    "\n",
    "(pp/print-table [:pos :process] (map-indexed #(hash-map :pos %1 :process %2) processes))"
   ]
  },
  {
   "cell_type": "code",
   "execution_count": 6,
   "metadata": {},
   "outputs": [
    {
     "name": "stdout",
     "output_type": "stream",
     "text": [
      "\n",
      "| :pos | :year |\n",
      "|------+-------|\n",
      "|    0 |  2011 |\n",
      "|    1 |  2012 |\n",
      "|    2 |  2013 |\n",
      "|    3 |  2014 |\n",
      "|    4 |  2015 |\n",
      "|    5 |  2016 |\n",
      "|    6 |  2017 |\n",
      "|    7 |  2018 |\n"
     ]
    },
    {
     "data": {
      "text/plain": [
       "nil"
      ]
     },
     "execution_count": 6,
     "metadata": {},
     "output_type": "execute_result"
    }
   ],
   "source": [
    "; The years are in the 2nd row, 3rd column onwards\n",
    "\n",
    "(def years (->> csv-data second (drop 2) distinct vec))\n",
    "\n",
    "(pp/print-table [:pos :year] (map-indexed #(hash-map :pos %1 :year %2) years))"
   ]
  },
  {
   "cell_type": "code",
   "execution_count": 7,
   "metadata": {},
   "outputs": [
    {
     "name": "stdout",
     "output_type": "stream",
     "text": [
      "\n",
      "| :pos |              :council |\n",
      "|------+-----------------------|\n",
      "|    0 |         Aberdeen City |\n",
      "|    1 |         Aberdeenshire |\n",
      "|    2 |                 Angus |\n",
      "|    3 |       Argyll and Bute |\n",
      "|    4 |     City of Edinburgh |\n",
      "|    5 |      Clackmannanshire |\n",
      "|    6 | Dumfries and Galloway |\n",
      "|    7 |           Dundee City |\n",
      "|    8 |         East Ayrshire |\n",
      "|    9 |   East Dunbartonshire |\n",
      "|   10 |          East Lothian |\n",
      "|   11 |     East Renfrewshire |\n",
      "|   12 |               Falkirk |\n",
      "|   13 |                  Fife |\n",
      "|   14 |          Glasgow City |\n",
      "|   15 |              Highland |\n",
      "|   16 |            Inverclyde |\n",
      "|   17 |            Midlothian |\n",
      "|   18 |                 Moray |\n",
      "|   19 |    Na h-Eileanan Siar |\n",
      "|   20 |        North Ayrshire |\n",
      "|   21 |     North Lanarkshire |\n",
      "|   22 |        Orkney Islands |\n",
      "|   23 |     Perth and Kinross |\n",
      "|   24 |          Renfrewshire |\n",
      "|   25 |      Scottish Borders |\n",
      "|   26 |      Shetland Islands |\n",
      "|   27 |        South Ayrshire |\n",
      "|   28 |     South Lanarkshire |\n",
      "|   29 |              Stirling |\n",
      "|   30 |   West Dunbartonshire |\n",
      "|   31 |          West Lothian |\n"
     ]
    },
    {
     "data": {
      "text/plain": [
       "nil"
      ]
     },
     "execution_count": 7,
     "metadata": {},
     "output_type": "execute_result"
    }
   ],
   "source": [
    "; The councils are in the 1st column, 3rd row onwards\n",
    "\n",
    "(def councils (->> csv-data (drop 2) (map first) distinct vec))\n",
    "\n",
    "(pp/print-table [:pos :council] (map-indexed #(hash-map :pos %1 :council %2) councils))"
   ]
  },
  {
   "cell_type": "code",
   "execution_count": 8,
   "metadata": {},
   "outputs": [
    {
     "name": "stdout",
     "output_type": "stream",
     "text": [
      "\n",
      "| :pos |                                                                                 :type |\n",
      "|------+---------------------------------------------------------------------------------------|\n",
      "|    0 |                                                           Animal and mixed food waste |\n",
      "|    1 |                                                     Batteries and accumulators wastes |\n",
      "|    2 |                                                                       Chemical wastes |\n",
      "|    3 |                                                                     Combustion wastes |\n",
      "|    4 | Discarded equipment (excluding discarded vehicles, batteries and accumulators wastes) |\n",
      "|    5 |                                                                    Discarded vehicles |\n",
      "|    6 |                                                                          Glass wastes |\n",
      "|    7 |                                                     Health care and biological wastes |\n",
      "|    8 |                                                          Household and similar wastes |\n",
      "|    9 |                                                              Metallic wastes, ferrous |\n",
      "|   10 |                                        Metallic wastes, mixed ferrous and non-ferrous |\n",
      "|   11 |                                                          Metallic wastes, non-ferrous |\n",
      "|   12 |                                        Mineral waste from construction and demolition |\n",
      "|   13 |                                                  Mixed and undifferentiated materials |\n",
      "|   14 |                                                            Paper and cardboard wastes |\n",
      "|   15 |                                                                        Plastic wastes |\n",
      "|   16 |                                                                         Rubber wastes |\n",
      "|   17 |                                                                                 Soils |\n",
      "|   18 |                                                                        Textile wastes |\n",
      "|   19 |                                                                             Used oils |\n",
      "|   20 |                                                                        Vegetal wastes |\n",
      "|   21 |                                                                           Wood wastes |\n",
      "|   22 |                                                                              Subtotal |\n"
     ]
    },
    {
     "data": {
      "text/plain": [
       "nil"
      ]
     },
     "execution_count": 8,
     "metadata": {},
     "output_type": "execute_result"
    }
   ],
   "source": [
    "; The types are in the 2nd column, 3rd row onwards\n",
    "\n",
    "(def types (->> csv-data (drop 2) (map second) distinct vec))\n",
    "\n",
    "(pp/print-table [:pos :type] (map-indexed #(hash-map :pos %1 :type %2) types))"
   ]
  },
  {
   "cell_type": "code",
   "execution_count": 9,
   "metadata": {},
   "outputs": [
    {
     "data": {
      "text/plain": [
       "nil"
      ]
     },
     "execution_count": 9,
     "metadata": {},
     "output_type": "execute_result"
    }
   ],
   "source": [
    "; Get the tonnage given the council, year, type and process\n",
    "\n",
    "(defn row-ix [council type] \n",
    "    (+ 2\n",
    "       (* (count types) (.indexOf councils council))\n",
    "       (.indexOf types type)))\n",
    "\n",
    "(defn col-ix [process year] \n",
    "    (+ 2\n",
    "       (* (count years) (.indexOf processes process))\n",
    "       (.indexOf years year)))\n",
    "\n",
    "(defn tonnage [council year type process]\n",
    "    (-> csv-data\n",
    "        (nth (row-ix council type))\n",
    "        (nth (col-ix process year))))\n",
    "\n",
    "(assert (= \"9595.52\" (tonnage (first councils) (first years) (first types) (first processes))))"
   ]
  },
  {
   "cell_type": "code",
   "execution_count": 10,
   "metadata": {},
   "outputs": [
    {
     "data": {
      "text/plain": [
       "52992"
      ]
     },
     "execution_count": 10,
     "metadata": {},
     "output_type": "execute_result"
    }
   ],
   "source": [
    "; To a list of maps, each containing: council, year, type, process, tonnage\n",
    "\n",
    "(def waste-data\n",
    "    (for [ \n",
    "        council councils\n",
    "        year years\n",
    "        type types\n",
    "        process processes]\n",
    "        {:council council\n",
    "         :year year\n",
    "         :type type\n",
    "         :process process\n",
    "         :tonnage (tonnage council year type process)}))\n",
    "\n",
    "(count waste-data)"
   ]
  },
  {
   "cell_type": "code",
   "execution_count": 11,
   "metadata": {},
   "outputs": [
    {
     "name": "stdout",
     "output_type": "stream",
     "text": [
      "\n",
      "|          :council | :year |                       :type |                  :process | :tonnage |\n",
      "|-------------------+-------+-----------------------------+---------------------------+----------|\n",
      "| East Renfrewshire |  2018 |              Vegetal wastes |         Organics recycled |  8587.15 |\n",
      "|   Argyll and Bute |  2013 |  Paper and cardboard wastes | Recovered by incineration |          |\n",
      "| City of Edinburgh |  2016 |              Plastic wastes |         Organics recycled |          |\n",
      "|             Moray |  2017 |                   Used oils |         Organics recycled |          |\n",
      "|  Scottish Borders |  2014 | Animal and mixed food waste |         Organics recycled |          |\n"
     ]
    },
    {
     "data": {
      "text/plain": [
       "nil"
      ]
     },
     "execution_count": 11,
     "metadata": {},
     "output_type": "execute_result"
    }
   ],
   "source": [
    "; Sample 10 rows\n",
    "\n",
    "(pp/print-table [:council :year :type :process :tonnage] (repeatedly 5 #(rand-nth waste-data)))"
   ]
  },
  {
   "cell_type": "code",
   "execution_count": 12,
   "metadata": {},
   "outputs": [
    {
     "data": {
      "text/plain": [
       "nil"
      ]
     },
     "execution_count": 12,
     "metadata": {},
     "output_type": "execute_result"
    }
   ],
   "source": [
    "; Write to CSV\n",
    "\n",
    "(let [header-row (->> waste-data\n",
    "                      first\n",
    "                      keys\n",
    "                      (map name))\n",
    "      data-rows (->> waste-data\n",
    "                     (map vals))]\n",
    "    (with-open [writer (io/writer \"sepa-waste-data.csv\")]\n",
    "      (csv/write-csv writer (cons header-row data-rows))))"
   ]
  }
 ],
 "metadata": {
  "kernelspec": {
   "display_name": "Clojure (clojupyter=0.3.2=1)",
   "language": "clojure",
   "name": "conda-clojupyter"
  },
  "language_info": {
   "file_extension": ".clj",
   "mimetype": "text/x-clojure",
   "name": "clojure",
   "version": "1.10.1"
  }
 },
 "nbformat": 4,
 "nbformat_minor": 2
}
