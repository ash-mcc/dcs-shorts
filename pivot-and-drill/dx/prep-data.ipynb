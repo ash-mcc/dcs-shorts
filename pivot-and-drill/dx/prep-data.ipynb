{
 "cells": [
  {
   "cell_type": "code",
   "execution_count": 93,
   "metadata": {},
   "outputs": [
    {
     "data": {
      "text/plain": [
       "org.apache.commons.math3.stat.regression.SimpleRegression"
      ]
     },
     "execution_count": 93,
     "metadata": {},
     "output_type": "execute_result"
    }
   ],
   "source": [
    "; Add code libraries\n",
    "\n",
    "(require '[clojupyter.misc.helper :as helper])\n",
    "\n",
    "(helper/add-dependencies '[org.clojure/data.csv \"1.0.0\"])\n",
    "(helper/add-dependencies '[org.clojure/data.json \"1.0.0\"])\n",
    "(helper/add-dependencies '[clj-http/clj-http \"3.10.1\"])\n",
    "(helper/add-dependencies '[org.apache.commons/commons-math3 \"3.6.1\"])\n",
    "\n",
    "(require '[clojure.string :as str]\n",
    "         '[clojure.pprint :as pp]\n",
    "         '[clojure.java.io :as io]\n",
    "         '[clojure.data.csv :as csv]\n",
    "         '[clojure.data.json :as json]\n",
    "         '[clj-http.client :as http])\n",
    "         \n",
    "(import 'java.io.FileWriter\n",
    "        'java.net.URLEncoder\n",
    "        'java.math.RoundingMode\n",
    "        'org.apache.commons.math3.stat.regression.SimpleRegression)"
   ]
  },
  {
   "cell_type": "code",
   "execution_count": 2,
   "metadata": {},
   "outputs": [
    {
     "data": {
      "text/plain": [
       "#'user/trend"
      ]
     },
     "execution_count": 2,
     "metadata": {},
     "output_type": "execute_result"
    }
   ],
   "source": [
    "; Define convenience functions\n",
    "\n",
    "; Convert the CSV structure to a list-of-maps structure.\n",
    "(defn to-maps [csv-data]\n",
    "    (map zipmap (->> (first csv-data)\n",
    "                    (map keyword)\n",
    "                    repeat)\n",
    "                (rest csv-data)))\n",
    "\n",
    "; Ask statistic.gov.scot to execute the given SPARQL query\n",
    "; and return its result as a list-of-maps.\n",
    "(defn exec-query [sparql]\n",
    "    (->> (http/post \"http://statistics.gov.scot/sparql\" \n",
    "                    {:body (str \"query=\" (URLEncoder/encode sparql)) \n",
    "                    :headers {\"Accept\" \"text/csv\" \n",
    "                              \"Content-Type\" \"application/x-www-form-urlencoded\"} \n",
    "                    :debug false})\n",
    "        :body\n",
    "        csv/read-csv\n",
    "        to-maps))\n",
    "        \n",
    "; Compute 'the trend of y'.\n",
    "; (Returns the gradient of a linear approximation to the curve decribed by xy-pairs.)\n",
    "(defn trend [xy-pairs]\n",
    "    (let [regression (SimpleRegression. true)]\n",
    "        (doseq [[x y] xy-pairs]\n",
    "            (.addData regression x y))\n",
    "        (.getSlope regression)))"
   ]
  },
  {
   "cell_type": "code",
   "execution_count": 97,
   "metadata": {},
   "outputs": [
    {
     "name": "stdout",
     "output_type": "stream",
     "text": [
      "36432 rows\n"
     ]
    },
    {
     "data": {
      "text/plain": [
       "nil"
      ]
     },
     "execution_count": 97,
     "metadata": {},
     "output_type": "execute_result"
    }
   ],
   "source": [
    "; Query for the household waste solids data\n",
    "\n",
    "(def sparql \"\n",
    "\n",
    "PREFIX qb: <http://purl.org/linked-data/cube#>\n",
    "PREFIX rdfs: <http://www.w3.org/2000/01/rdf-schema#>\n",
    "PREFIX pdmx: <http://purl.org/linked-data/sdmx/2009/dimension#>\n",
    "PREFIX sdmx: <http://statistics.gov.scot/def/dimension/>\n",
    "PREFIX snum: <http://statistics.gov.scot/def/measure-properties/>\n",
    "PREFIX xsd: <http://www.w3.org/2001/XMLSchema#>\n",
    "\n",
    "SELECT \n",
    "    ?year\n",
    "    ?area\n",
    "    ?endState\n",
    "    ?material\n",
    "    ?tonnes \n",
    "WHERE {\n",
    "  \n",
    "    ?tonnageObs qb:dataSet <http://statistics.gov.scot/data/household-waste> .\n",
    "    ?tonnageObs pdmx:refArea ?areaUri .\n",
    "    ?tonnageObs pdmx:refPeriod ?periodUri .\n",
    "    ?tonnageObs sdmx:wasteCategory ?wasteCategoryUri .\n",
    "    ?tonnageObs sdmx:wasteManagement ?wasteManagementUri .\n",
    "    ?tonnageObs snum:count ?tonnes .\n",
    "  \n",
    "    ?areaUri rdfs:label ?area .\n",
    "    ?periodUri rdfs:label ?year .\n",
    "    ?wasteCategoryUri rdfs:label ?material .\n",
    "    ?wasteManagementUri rdfs:label ?endState .\n",
    "}\n",
    "\")\n",
    "\n",
    "(def household-waste-solids \n",
    "    (->> sparql\n",
    "        exec-query\n",
    "        (map #(assoc % :year (.intValue (bigdec (:year %)))\n",
    "                       :tonnes (.doubleValue (bigdec (:tonnes %)))))))\n",
    "\n",
    "(println (count household-waste-solids ) \"rows\")"
   ]
  },
  {
   "cell_type": "code",
   "execution_count": 98,
   "metadata": {},
   "outputs": [
    {
     "name": "stdout",
     "output_type": "stream",
     "text": [
      "\n",
      "| :year |               :area |                         :endState |                                      :material | :tonnes |\n",
      "|-------+---------------------+-----------------------------------+------------------------------------------------+---------|\n",
      "|  2012 |               Moray |                   Other Diversion |                                          Soils |     0.0 |\n",
      "|  2017 | West Dunbartonshire | Other Diversion (pre 2014 method) |                       Metallic wastes, ferrous |     0.0 |\n",
      "|  2016 |   South Lanarkshire |                   Waste Generated |                    Animal and mixed food waste |  3153.0 |\n",
      "|  2015 |    Shetland Islands |                   Other Diversion |                                   Glass wastes |     0.0 |\n",
      "|  2017 |     Argyll and Bute |                   Other Diversion |              Health care and biological wastes |     0.0 |\n",
      "|  2014 |   North Lanarkshire |                        Landfilled | Mineral waste from construction and demolition |     0.0 |\n",
      "|  2012 |   North Lanarkshire | Other Diversion (pre 2014 method) |                                  Rubber wastes |     0.0 |\n",
      "|  2012 |      Orkney Islands |                   Other Diversion |                                 Textile wastes |     0.0 |\n",
      "|  2015 |   South Lanarkshire |                   Other Diversion |                                Chemical wastes |     0.0 |\n",
      "|  2018 |        Glasgow City |                        Landfilled |                                   Glass wastes |     0.0 |\n"
     ]
    },
    {
     "data": {
      "text/plain": [
       "nil"
      ]
     },
     "execution_count": 98,
     "metadata": {},
     "output_type": "execute_result"
    }
   ],
   "source": [
    "; Print a sample\n",
    "\n",
    "(def ks [:year :area :endState :material :tonnes])\n",
    "(pp/print-table ks (repeatedly 10 #(rand-nth household-waste-solids )))"
   ]
  },
  {
   "cell_type": "code",
   "execution_count": 124,
   "metadata": {
    "scrolled": true
   },
   "outputs": [
    {
     "name": "stdout",
     "output_type": "stream",
     "text": [
      "627 rows\n"
     ]
    },
    {
     "data": {
      "text/plain": [
       "nil"
      ]
     },
     "execution_count": 124,
     "metadata": {},
     "output_type": "execute_result"
    }
   ],
   "source": [
    "; Query for the population data\n",
    "\n",
    "(def sparql \"\n",
    "\n",
    "PREFIX qb: <http://purl.org/linked-data/cube#>\n",
    "PREFIX rdfs: <http://www.w3.org/2000/01/rdf-schema#>\n",
    "PREFIX pdmx: <http://purl.org/linked-data/sdmx/2009/dimension#>\n",
    "PREFIX sdmx: <http://statistics.gov.scot/def/dimension/>\n",
    "PREFIX snum: <http://statistics.gov.scot/def/measure-properties/>\n",
    "PREFIX uent: <http://statistics.data.gov.uk/def/statistical-entity#>\n",
    "PREFIX ugeo: <http://statistics.data.gov.uk/def/statistical-geography#>\n",
    "\n",
    "SELECT \n",
    "  ?year\n",
    "  ?area\n",
    "  ?population\n",
    "\n",
    "WHERE {\n",
    "  VALUES ?areaType { \n",
    "           <http://statistics.gov.scot/id/statistical-entity/S92>\n",
    "           <http://statistics.gov.scot/id/statistical-entity/S12> }\n",
    "           \n",
    "  ?areaUri uent:code ?areaType;\n",
    "           ugeo:status 'Live' ;\n",
    "           rdfs:label ?area .\n",
    "           \n",
    "  ?populationUri qb:dataSet <http://statistics.gov.scot/data/population-estimates-current-geographic-boundaries> ;\n",
    "                 pdmx:refArea ?areaUri ;\n",
    "                 pdmx:refPeriod ?periodUri ;\n",
    "                 sdmx:age <http://statistics.gov.scot/def/concept/age/all> ;\n",
    "                 sdmx:sex <http://statistics.gov.scot/def/concept/sex/all> ;\n",
    "                 snum:count ?population .\n",
    "  \n",
    "  ?periodUri rdfs:label ?year .\n",
    "}\n",
    "\")\n",
    "\n",
    "(def population\n",
    "    (->> sparql\n",
    "        exec-query\n",
    "        (map #(assoc % :year (.intValue (bigdec (:year %)))\n",
    "                       :population (.intValue (bigdec (:population %)))))))\n",
    "\n",
    "(println (count population ) \"rows\")"
   ]
  },
  {
   "cell_type": "code",
   "execution_count": 125,
   "metadata": {},
   "outputs": [
    {
     "name": "stdout",
     "output_type": "stream",
     "text": [
      "\n",
      "| :year |              :area | :population |\n",
      "|-------+--------------------+-------------|\n",
      "|  2003 |   Clackmannanshire |       48140 |\n",
      "|  2004 |     North Ayrshire |      136500 |\n",
      "|  2012 |   Shetland Islands |       23210 |\n",
      "|  2011 |    Argyll and Bute |       88930 |\n",
      "|  2017 |     Orkney Islands |       22000 |\n",
      "|  2001 | Na h-Eileanan Siar |       26450 |\n",
      "|  2019 |    Argyll and Bute |       85870 |\n",
      "|  2003 |     South Ayrshire |      111550 |\n",
      "|  2001 |              Angus |      108370 |\n",
      "|  2011 |   Scottish Borders |      113880 |\n"
     ]
    },
    {
     "data": {
      "text/plain": [
       "nil"
      ]
     },
     "execution_count": 125,
     "metadata": {},
     "output_type": "execute_result"
    }
   ],
   "source": [
    "; Print a sample\n",
    "\n",
    "(def ks [:year :area :population])\n",
    "(pp/print-table ks (repeatedly 10 #(rand-nth population )))"
   ]
  },
  {
   "cell_type": "code",
   "execution_count": 128,
   "metadata": {},
   "outputs": [
    {
     "name": "stdout",
     "output_type": "stream",
     "text": [
      "627 rows\n"
     ]
    },
    {
     "data": {
      "text/plain": [
       "nil"
      ]
     },
     "execution_count": 128,
     "metadata": {},
     "output_type": "execute_result"
    }
   ],
   "source": [
    "; Query for the household data\n",
    "\n",
    "(def sparql \"\n",
    "\n",
    "PREFIX qb: <http://purl.org/linked-data/cube#>\n",
    "PREFIX rdfs: <http://www.w3.org/2000/01/rdf-schema#>\n",
    "PREFIX pdmx: <http://purl.org/linked-data/sdmx/2009/dimension#>\n",
    "PREFIX sdmx: <http://statistics.gov.scot/def/dimension/>\n",
    "PREFIX snum: <http://statistics.gov.scot/def/measure-properties/>\n",
    "PREFIX uent: <http://statistics.data.gov.uk/def/statistical-entity#>\n",
    "PREFIX ugeo: <http://statistics.data.gov.uk/def/statistical-geography#>\n",
    "\n",
    "SELECT \n",
    "  ?year\n",
    "  ?area\n",
    "  ?count\n",
    "\n",
    "WHERE {\n",
    "  VALUES ?areaType { \n",
    "           <http://statistics.gov.scot/id/statistical-entity/S92>\n",
    "           <http://statistics.gov.scot/id/statistical-entity/S12> }\n",
    "           \n",
    "  ?areaUri uent:code ?areaType;\n",
    "           ugeo:status 'Live' ;\n",
    "           rdfs:label ?area .\n",
    "           \n",
    "  ?householdUri qb:dataSet <http://statistics.gov.scot/data/mid-year-household-estimates> ;\n",
    "                 pdmx:refArea ?areaUri ;\n",
    "                 pdmx:refPeriod ?periodUri ;\n",
    "                 snum:count ?count .\n",
    "  \n",
    "  ?periodUri rdfs:label ?year .\n",
    "}\n",
    "\")\n",
    "\n",
    "(def household\n",
    "    (->> sparql\n",
    "        exec-query\n",
    "        (map #(assoc % :year (.intValue (bigdec (:year %)))\n",
    "                       :count (.intValue (bigdec (:count %)))))))\n",
    "\n",
    "(println (count household ) \"rows\")"
   ]
  },
  {
   "cell_type": "code",
   "execution_count": 129,
   "metadata": {},
   "outputs": [
    {
     "name": "stdout",
     "output_type": "stream",
     "text": [
      "\n",
      "| :year |               :area | :count |\n",
      "|-------+---------------------+--------|\n",
      "|  2004 |   East Renfrewshire |  35764 |\n",
      "|  2018 | East Dunbartonshire |  46023 |\n",
      "|  2014 |   East Renfrewshire |  38048 |\n",
      "|  2006 |  Na h-Eileanan Siar |  11779 |\n",
      "|  2016 |      North Ayrshire |  63440 |\n",
      "|  2008 |   Perth and Kinross |  64284 |\n",
      "|  2001 |            Highland |  89618 |\n",
      "|  2011 |   Perth and Kinross |  64905 |\n",
      "|  2009 |        East Lothian |  42211 |\n",
      "|  2015 |    Shetland Islands |  10235 |\n"
     ]
    },
    {
     "data": {
      "text/plain": [
       "nil"
      ]
     },
     "execution_count": 129,
     "metadata": {},
     "output_type": "execute_result"
    }
   ],
   "source": [
    "; Print a sample\n",
    "\n",
    "(def ks [:year :area :count])\n",
    "(pp/print-table ks (repeatedly 10 #(rand-nth household )))"
   ]
  },
  {
   "cell_type": "code",
   "execution_count": 130,
   "metadata": {},
   "outputs": [
    {
     "name": "stdout",
     "output_type": "stream",
     "text": [
      "17424 rows\n"
     ]
    },
    {
     "data": {
      "text/plain": [
       "nil"
      ]
     },
     "execution_count": 130,
     "metadata": {},
     "output_type": "execute_result"
    }
   ],
   "source": [
    "; Assemble the target data structure\n",
    "\n",
    "(def population-indexed \n",
    "    (group-by (juxt :year :area) population))\n",
    "    \n",
    "(def household-indexed \n",
    "    (group-by (juxt :year :area) household))\n",
    "\n",
    "(def target-data-struct\n",
    "    (->> household-waste-solids\n",
    "        (filter #(not (or ;; could be useful, so leave in but hide on the page\n",
    "                          ;; (= \"Scotland\" (:area %))\n",
    "                          ;; duplicated by & could clash with summing on the page, so remove\n",
    "                          (= \"Waste Generated\" (:endState %))\n",
    "                          (= \"Total Waste\" (:material %))\n",
    "                          ;; confusingly duplicated in the non pre 2014 data, so remove\n",
    "                          (= \"Other Diversion (pre 2014 method)\" (:endState %)) ;; remove\n",
    "                          (= \"Recycled (pre 2014 method)\" (:endState %)))))\n",
    "        (map #(if-let [population (-> population-indexed (get [(:year %) (:area %)]) first :population)]\n",
    "                (assoc % :tonnesPerCitizen (/ (:tonnes %) population))\n",
    "                %))\n",
    "        (map #(if-let [count (-> household-indexed (get [(:year %) (:area %)]) first :count)]\n",
    "                (assoc % :tonnesPerHousehold (/ (:tonnes %) count))\n",
    "                %))))\n",
    "         \n",
    "(println (count target-data-struct) \"rows\")"
   ]
  },
  {
   "cell_type": "code",
   "execution_count": 131,
   "metadata": {},
   "outputs": [
    {
     "name": "stdout",
     "output_type": "stream",
     "text": [
      "wrote the JSON file /Users/amc/workspace/data-commons-scotland/dcs-shorts/pivot-and-drill/dx/dx-data.json\n"
     ]
    },
    {
     "data": {
      "text/plain": [
       "nil"
      ]
     },
     "execution_count": 131,
     "metadata": {},
     "output_type": "execute_result"
    }
   ],
   "source": [
    "; Write, as JSON, to a file\n",
    "         \n",
    "(def file (io/file \"dx-data.json\"))\n",
    "(binding [*out* (FileWriter. file)]\n",
    "    (json/pprint target-data-struct))\n",
    "(println \"wrote the JSON file\" (.getAbsolutePath file))"
   ]
  },
  {
   "cell_type": "code",
   "execution_count": null,
   "metadata": {},
   "outputs": [],
   "source": []
  },
  {
   "cell_type": "code",
   "execution_count": null,
   "metadata": {},
   "outputs": [],
   "source": []
  },
  {
   "cell_type": "code",
   "execution_count": null,
   "metadata": {},
   "outputs": [],
   "source": []
  }
 ],
 "metadata": {
  "kernelspec": {
   "display_name": "Clojure (clojupyter=0.3.2=1)",
   "language": "clojure",
   "name": "conda-clojupyter"
  },
  "language_info": {
   "file_extension": ".clj",
   "mimetype": "text/x-clojure",
   "name": "clojure",
   "version": "1.10.1"
  },
  "toc": {
   "base_numbering": 1,
   "nav_menu": {},
   "number_sections": false,
   "sideBar": false,
   "skip_h1_title": false,
   "title_cell": "Table of Contents",
   "title_sidebar": "Contents",
   "toc_cell": false,
   "toc_position": {},
   "toc_section_display": false,
   "toc_window_display": false
  },
  "widgets": {
   "application/vnd.jupyter.widget-state+json": {
    "state": {},
    "version_major": 2,
    "version_minor": 0
   }
  }
 },
 "nbformat": 4,
 "nbformat_minor": 2
}
