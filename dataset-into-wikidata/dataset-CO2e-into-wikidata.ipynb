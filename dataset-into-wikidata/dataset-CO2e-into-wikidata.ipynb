{
 "cells": [
  {
   "cell_type": "markdown",
   "metadata": {},
   "source": [
    "# Uploading a CO2e dataset into Wikidata \n",
    "\n",
    "This executable notebook uploads a CO2e dataset into [Wikidata](https://www.wikipedia.org/wiki/Wikidata).\n",
    "\n",
    "### The dataset that is to be uploaded\n",
    "\n",
    "The [Scottish Environment Protection Agency](https://www.sepa.org.uk) (SEPA) has published CO2e data for household waste in Scotlan to indicate the [global warming potential](https://en.wikipedia.org/wiki/Global_warming_potential) of this waste. The data shows the tonnes of CO2e per Scottish council area per year (only 2017 and 2018, at present). \n",
    "\n",
    "The data is found in the two Excel spreadsheets \n",
    "[2017-household-waste-tables](https://www.sepa.org.uk/media/378875/2017-household-waste-summary-tables-final.xlsx) and\n",
    "[2018-household-waste-tables](https://www.sepa.org.uk/media/469611/2018-household-waste-data-tables.xlsx) - \n",
    "in worksheet \"Table 1\" and column \"J', in each. \n",
    "For convenience, I copied this data into the [sepa-CO2e.csv](sepa-CO2e.csv) file.\n",
    "\n",
    "\n",
    "### Prep tooling"
   ]
  },
  {
   "cell_type": "code",
   "execution_count": 3,
   "metadata": {},
   "outputs": [
    {
     "data": {
      "text/plain": [
       "java.net.URLEncoder"
      ]
     },
     "execution_count": 3,
     "metadata": {},
     "output_type": "execute_result"
    }
   ],
   "source": [
    "; Add code libraries\n",
    "\n",
    "(require '[clojupyter.misc.helper :as helper])\n",
    "\n",
    "(helper/add-dependencies '[org.clojure/data.csv \"1.0.0\"])\n",
    "(helper/add-dependencies '[clj-http/clj-http \"3.10.1\"])\n",
    "\n",
    "(require '[clojure.string :as str]\n",
    "         '[clojure.set :as set]\n",
    "         '[clojure.data :as data]\n",
    "         '[clojure.pprint :as pp]\n",
    "         '[clojure.java.io :as io]\n",
    "         '[clojure.data.csv :as csv]\n",
    "         '[clj-http.client :as http])\n",
    "\n",
    "(import 'java.net.URLEncoder)"
   ]
  },
  {
   "cell_type": "code",
   "execution_count": 4,
   "metadata": {},
   "outputs": [
    {
     "data": {
      "text/plain": [
       "#'user/exec-query"
      ]
     },
     "execution_count": 4,
     "metadata": {},
     "output_type": "execute_result"
    }
   ],
   "source": [
    "; Define convenience functions\n",
    "\n",
    "; Convert the CSV structure to a list-of-maps structure.\n",
    "(defn to-maps [csv-data]\n",
    "    (map zipmap (->> (first csv-data)\n",
    "                    (map keyword)\n",
    "                    repeat)\n",
    "                (rest csv-data)))\n",
    "\n",
    "; Map the name of a SPARQL service to its URL.\n",
    "(def service-urls {:wikidata \"https://query.wikidata.org/sparql\"})\n",
    "                                \n",
    "; Ask the service to execute the given SPARQL query\n",
    "; and return its result as a list-of-maps.\n",
    "(defn exec-query [service-name sparql]\n",
    "  (->> (http/post (service-name service-urls) \n",
    "        {:body (str \"query=\" (URLEncoder/encode sparql)) \n",
    "         :headers {\"Accept\" \"text/csv\" \n",
    "                   \"Content-Type\" \"application/x-www-form-urlencoded\"} \n",
    "         :debug false})\n",
    "    :body\n",
    "    csv/read-csv\n",
    "    to-maps))"
   ]
  },
  {
   "cell_type": "markdown",
   "metadata": {},
   "source": [
    "### Load SEPA's CO2e dataset into memory\n",
    "\n",
    "Load the dataset from the [sepa-CO2e.csv](sepa-CO2e.csv) file that I created for convenience."
   ]
  },
  {
   "cell_type": "code",
   "execution_count": 36,
   "metadata": {},
   "outputs": [
    {
     "name": "stdout",
     "output_type": "stream",
     "text": [
      "64 rows\n",
      "\n",
      "|            :council | :year |    :TCO2e |\n",
      "|---------------------+-------+-----------|\n",
      "|         Dundee City |  2018 | 148298.68 |\n",
      "|   City of Edinburgh |  2018 | 492831.56 |\n",
      "| East Dunbartonshire |  2018 | 111395.06 |\n",
      "|               Moray |  2017 |  97535.97 |\n",
      "| West Dunbartonshire |  2018 | 102739.24 |\n"
     ]
    },
    {
     "data": {
      "text/plain": [
       "nil"
      ]
     },
     "execution_count": 36,
     "metadata": {},
     "output_type": "execute_result"
    }
   ],
   "source": [
    "; Load the dataset from sepa-CO2e.csv\n",
    "(def sepa\n",
    "    (with-open [reader (io/reader \"sepa-CO2e.csv\")]\n",
    "        (doall\n",
    "            (to-maps (csv/read-csv reader)))))\n",
    "\n",
    "(println (count sepa) \"rows\")\n",
    "\n",
    "; Adjust a couple of council area labels to be in keeping with those used by Wikidata\n",
    "(def sepa\n",
    "    (map #(let [council (:council %)]\n",
    "              (cond \n",
    "                (= council \"Na h-Eileanan Siar\") (assoc % :council \"Outer Hebrides\")\n",
    "                (str/starts-with? council \"Orkney Islands\") (assoc % :council \"Orkney Islands\")\n",
    "                :else %))\n",
    "        sepa))\n",
    "\n",
    "; Print a sample\n",
    "(pp/print-table [:council :year :TCO2e] (repeatedly 5 #(rand-nth sepa)))"
   ]
  },
  {
   "cell_type": "markdown",
   "metadata": {},
   "source": [
    "### Load Wikidata's relevant CO2e data into memory\n",
    "\n",
    "Load the data by running a SPARQL query against Wikidata.  "
   ]
  },
  {
   "cell_type": "code",
   "execution_count": 38,
   "metadata": {},
   "outputs": [
    {
     "name": "stdout",
     "output_type": "stream",
     "text": [
      "32 rows\n"
     ]
    },
    {
     "data": {
      "text/plain": [
       "nil"
      ]
     },
     "execution_count": 38,
     "metadata": {},
     "output_type": "execute_result"
    }
   ],
   "source": [
    "; Define the SPARQL query that will fetch the relevant Scottish council area data\n",
    "(def sparql \"\n",
    "SELECT ?qid ?councilAreaLabel ?year ?co2eQuantity \n",
    "WHERE {\n",
    "  ?councilArea wdt:P31 wd:Q15060255 . # Scottish council area\n",
    "  BIND(strafter(str(?councilArea), 'http://www.wikidata.org/entity/') as ?qid)\n",
    "  OPTIONAL { \n",
    "    ?councilArea p:P5991 ?co2e . \n",
    "    ?co2e ps:P5991 ?co2eQuantity ;\n",
    "          pq:P585 ?co2eDate ;\n",
    "          pq:P1269 wd:Q180388 ; # 'facet of' 'waste management'\n",
    "          pq:P828 wd:Q259059 . # 'has cause' 'household'\n",
    "    BIND(YEAR(?co2eDate) as ?year)\n",
    "  }\n",
    "  SERVICE wikibase:label { bd:serviceParam wikibase:language '[AUTO_LANGUAGE],en' . }\n",
    "}\")\n",
    "\n",
    "; Execute the SPARQL query agaist Wikidata\n",
    "(def wikidata0\n",
    "    (->> sparql\n",
    "        (exec-query :wikidata)\n",
    "        (map #(set/rename-keys % {:councilAreaLabel :label}))))\n",
    "\n",
    "(println (count wikidata0) \"rows\")"
   ]
  },
  {
   "cell_type": "code",
   "execution_count": 41,
   "metadata": {},
   "outputs": [
    {
     "name": "stdout",
     "output_type": "stream",
     "text": [
      "0 rows\n"
     ]
    },
    {
     "data": {
      "text/plain": [
       "nil"
      ]
     },
     "execution_count": 41,
     "metadata": {},
     "output_type": "execute_result"
    }
   ],
   "source": [
    "; wikidata0 might contain rows where the year is not 2017 or 2018.\n",
    "; This is deliberate. \n",
    "; We want to know the Scottish council area label and qid values \n",
    ";   even when they are not associated with 2017 or 2018 CO2e values\n",
    "; Because we need all the labels and qids later, when we build the label->qid map.\n",
    "; However, the next step is to compare relevant (i.e. 2017 & 2018) data items,\n",
    ";  and for that purpose, we filter wikidata0 to remove non relevant data items.\n",
    "(def wikidata \n",
    "    (->> wikidata0\n",
    "        (filter #(contains? #{2017 2018} (:year %)))))\n",
    "\n",
    "(println (count wikidata) \"rows\")"
   ]
  },
  {
   "cell_type": "markdown",
   "metadata": {},
   "source": [
    "### Compare Wikidata's CO2e data against SEPA's "
   ]
  },
  {
   "cell_type": "code",
   "execution_count": 43,
   "metadata": {},
   "outputs": [
    {
     "name": "stdout",
     "output_type": "stream",
     "text": [
      "64 in SEPA only\n",
      "0 in Wikidata only\n",
      "0 in both\n"
     ]
    },
    {
     "data": {
      "text/plain": [
       "nil"
      ]
     },
     "execution_count": 43,
     "metadata": {},
     "output_type": "execute_result"
    }
   ],
   "source": [
    "; Check for differences\n",
    "\n",
    "(def diff (data/diff \n",
    "            (set sepa) \n",
    "            (set wikidata)))\n",
    "\n",
    "(println (count (first diff)) \"in SEPA only\")\n",
    "(println (count (second diff)) \"in Wikidata only\")\n",
    "(println (count (nth diff 2)) \"in both\")\n",
    "\n",
    "(with-open [wtr (io/writer \"CO2e-values-diff.txt\")]\n",
    "  (binding [*out* wtr]\n",
    "    (do\n",
    "      (println \"CO2e-values: SEPA versus Wikidata\")\n",
    "      (println)\n",
    "      (println (count (first diff)) \"in SEPA only...\")\n",
    "      (pp/pprint (first diff))\n",
    "      (println)\n",
    "      (println (count (second diff)) \"in Wikidata only...\")\n",
    "      (pp/pprint (second diff))\n",
    "      (println)\n",
    "      (println (count (nth diff 2)) \"in both...\")\n",
    "      (pp/pprint (nth diff 2)))))"
   ]
  },
  {
   "cell_type": "markdown",
   "metadata": {},
   "source": [
    "#### When I first compared...\n",
    "\n",
    "When I ran the above comparison for the first time (at 2020-09-24T16:26GMT) it discovered the following differences...\n",
    "\n",
    "64 in SEPA only\n",
    "0 in Wikidata only\n",
    "0 in both\n",
    "The details are in [this file](CO2e-values-diff-2020-09-24T16_26.txt).\n",
    "\n",
    "Then I manually edited Wikidata to fix a few of those differences. However this was labourious so I decided to introduce some automation by using QuickSatements. QuickStatements accepts CSV input - representing edits to be applied to Wikidata. The quickStatements CSV input was generated as follows."
   ]
  },
  {
   "cell_type": "code",
   "execution_count": 35,
   "metadata": {},
   "outputs": [
    {
     "name": "stdout",
     "output_type": "stream",
     "text": [
      "32 entries\n",
      "\n",
      "|            :label |    :qid |\n",
      "|-------------------+---------|\n",
      "|      West Lothian | Q204940 |\n",
      "|      Renfrewshire | Q211091 |\n",
      "|    Orkney Islands | Q100166 |\n",
      "| South Lanarkshire | Q209142 |\n",
      "|    Outer Hebrides |  Q80967 |\n"
     ]
    },
    {
     "data": {
      "text/plain": [
       "nil"
      ]
     },
     "execution_count": 35,
     "metadata": {},
     "output_type": "execute_result"
    }
   ],
   "source": [
    ";TODO for use later on\n",
    "\n",
    "\n",
    "; Build a label->qid map\n",
    "(def label->qid\n",
    "    (->> wikidata0\n",
    "        (map #(vector (:label %) (:qid %)))\n",
    "        distinct\n",
    "        (into {})))\n",
    "\n",
    "(println (count label->qid) \"entries\")\n",
    "\n",
    "; Print a sample\n",
    "(pp/print-table [:label :qid] \n",
    "                (map #(hash-map :label (first %) :qid (second %)) (repeatedly 5 #(rand-nth (into [] label->qid)))))"
   ]
  },
  {
   "cell_type": "markdown",
   "metadata": {},
   "source": [
    "#### 2.3.1. When I first compared...\n",
    "\n",
    "When I ran the above comparison for the first time (at 2020-09-07T21:20GMT) it discovered the following differences...\n",
    "\n",
    "```\n",
    "2 in :scotgov only...\n",
    "#{{:code \"S12000050\", :label \"North Lanarkshire\"}\n",
    "  {:code \"S12000013\", :label \"Na h-Eileanan Siar\"}}\n",
    "\n",
    "2 in :wikidata only...\n",
    "#{{:code \"S12000044\", :label \"North Lanarkshire\"}\n",
    "  {:code \"S12000013\", :label \"Outer Hebrides\"}}\n",
    "\n",
    "30 in both\n",
    "```\n",
    "At that time, `wikidata`'s code value for North Lanarkshire was incorrect so I amended it directly via its web page:\n",
    "* North Lanarkshire [Q207111](https://www.wikidata.org/wiki/Q207111): `S12000044` -> `S12000050`\n",
    "\n",
    "I am using `code` values to identify council areas so it is important that they are correct.\n",
    "\n",
    "For my purpose, the `label` values are not significant so I didn't ponder if the Outer Hebrides' \"English\" `label` should be changed to be its Scottish Gaelic name. So the above live `diff` is probably still indicating this one difference.\n",
    "\n",
    "## 3. Population\n",
    "\n",
    "Now consider the _population_ aspect of the dataset, how do `scotgov` (statistic.gov.scot) and `wikidata` (Wikidata) compare?\n",
    "\n",
    "### 3.1. Population values from statistics.gov.scot"
   ]
  },
  {
   "cell_type": "code",
   "execution_count": 8,
   "metadata": {},
   "outputs": [
    {
     "name": "stdout",
     "output_type": "stream",
     "text": [
      "608 rows\n"
     ]
    },
    {
     "data": {
      "text/plain": [
       "nil"
      ]
     },
     "execution_count": 8,
     "metadata": {},
     "output_type": "execute_result"
    }
   ],
   "source": [
    "; Query statistics.gov.scot for population values\n",
    "\n",
    "(def sparql \"\n",
    "\n",
    "PREFIX qb: <http://purl.org/linked-data/cube#>\n",
    "PREFIX rdfs: <http://www.w3.org/2000/01/rdf-schema#>\n",
    "PREFIX pdmx: <http://purl.org/linked-data/sdmx/2009/dimension#>\n",
    "PREFIX sdmx: <http://statistics.gov.scot/def/dimension/>\n",
    "PREFIX snum: <http://statistics.gov.scot/def/measure-properties/>\n",
    "PREFIX uent: <http://statistics.data.gov.uk/def/statistical-entity#>\n",
    "PREFIX ugeo: <http://statistics.data.gov.uk/def/statistical-geography#>\n",
    "\n",
    "SELECT \n",
    "  (strafter(str(?areaUri), 'http://statistics.gov.scot/id/statistical-geography/') as ?code) \n",
    "  ?label\n",
    "  ?year\n",
    "  ?population\n",
    "\n",
    "WHERE {\n",
    "  ?areaUri uent:code <http://statistics.gov.scot/id/statistical-entity/S12> ;\n",
    "           ugeo:status 'Live' ;\n",
    "           rdfs:label ?label .\n",
    "           \n",
    "  ?populationUri qb:dataSet <http://statistics.gov.scot/data/population-estimates-current-geographic-boundaries> ;\n",
    "                 pdmx:refArea ?areaUri ;\n",
    "                 pdmx:refPeriod ?periodUri ;\n",
    "                 sdmx:age <http://statistics.gov.scot/def/concept/age/all> ;\n",
    "                 sdmx:sex <http://statistics.gov.scot/def/concept/sex/all> ;\n",
    "                 snum:count ?population .\n",
    "  \n",
    "  ?periodUri rdfs:label ?year .\n",
    "}\")\n",
    "\n",
    "(def population-values-scotgov \n",
    "    (->> sparql\n",
    "        (exec-query :scotgov)))\n",
    "\n",
    "(println (count population-values-scotgov ) \"rows\")"
   ]
  },
  {
   "cell_type": "code",
   "execution_count": 9,
   "metadata": {},
   "outputs": [
    {
     "name": "stdout",
     "output_type": "stream",
     "text": [
      "\n",
      "|     :code |            :label | :year | :population |\n",
      "|-----------+-------------------+-------+-------------|\n",
      "| S12000041 |             Angus |  2009 |      114830 |\n",
      "| S12000026 |  Scottish Borders |  2014 |      114040 |\n",
      "| S12000036 | City of Edinburgh |  2013 |      487460 |\n",
      "| S12000018 |        Inverclyde |  2001 |       84150 |\n",
      "| S12000036 | City of Edinburgh |  2019 |      524930 |\n"
     ]
    },
    {
     "data": {
      "text/plain": [
       "nil"
      ]
     },
     "execution_count": 9,
     "metadata": {},
     "output_type": "execute_result"
    }
   ],
   "source": [
    "; Print a sample\n",
    "\n",
    "(def ks [:code :label :year :population])\n",
    "(pp/print-table ks (repeatedly 5 #(rand-nth population-values-scotgov)))"
   ]
  },
  {
   "cell_type": "markdown",
   "metadata": {},
   "source": [
    "### 3.2. Population values from Wikidata"
   ]
  },
  {
   "cell_type": "code",
   "execution_count": 10,
   "metadata": {},
   "outputs": [
    {
     "name": "stdout",
     "output_type": "stream",
     "text": [
      "608 rows\n"
     ]
    },
    {
     "data": {
      "text/plain": [
       "nil"
      ]
     },
     "execution_count": 10,
     "metadata": {},
     "output_type": "execute_result"
    }
   ],
   "source": [
    "; Query Wikidata for population values\n",
    "\n",
    "(def sparql \"\n",
    "\n",
    "SELECT DISTINCT\n",
    "  ?code\n",
    "  ?areaEntityLabel\n",
    "  (YEAR(?populationWhen) as ?year )\n",
    "  ?population \n",
    "\n",
    "WHERE {\n",
    "  ?areaEntity wdt:P31 wd:Q15060255 ; # Scottish council area\n",
    "              wdt:P836 ?code ; # nine-character UK Government Statistical Service code\n",
    "              p:P1082 ?populationEntity .\n",
    "  ?populationEntity ps:P1082 ?population ;\n",
    "                    pq:P585 ?populationWhen .\n",
    "\n",
    "  SERVICE wikibase:label { bd:serviceParam wikibase:language '[AUTO_LANGUAGE],en' . }\n",
    "}\")\n",
    "\n",
    "(def population-values-wikidata\n",
    "    (->> sparql\n",
    "        (exec-query :wikidata)\n",
    "        (map #(set/rename-keys % {:areaEntityLabel :label}))\n",
    "        (map #(assoc % :population (str/replace (:population %) #\".0$\" \"\")))))\n",
    "\n",
    "(println (count population-values-wikidata) \"rows\")"
   ]
  },
  {
   "cell_type": "markdown",
   "metadata": {},
   "source": [
    "[Hyperlink](https://w.wiki/boc) to try out the above SPARQL query."
   ]
  },
  {
   "cell_type": "code",
   "execution_count": 11,
   "metadata": {},
   "outputs": [
    {
     "name": "stdout",
     "output_type": "stream",
     "text": [
      "\n",
      "|     :code |            :label | :year | :population |\n",
      "|-----------+-------------------+-------+-------------|\n",
      "| S12000041 |             Angus |  2013 |      116290 |\n",
      "| S12000011 | East Renfrewshire |  2001 |       89410 |\n",
      "| S12000018 |        Inverclyde |  2002 |       83730 |\n",
      "| S12000028 |    South Ayrshire |  2015 |      112400 |\n",
      "| S12000005 |  Clackmannanshire |  2019 |       51540 |\n"
     ]
    },
    {
     "data": {
      "text/plain": [
       "nil"
      ]
     },
     "execution_count": 11,
     "metadata": {},
     "output_type": "execute_result"
    }
   ],
   "source": [
    "; Print a sample\n",
    "\n",
    "(def ks [:code :label :year :population])\n",
    "(pp/print-table ks (repeatedly 5 #(rand-nth population-values-wikidata)))"
   ]
  },
  {
   "cell_type": "markdown",
   "metadata": {},
   "source": [
    "### 3.3. Compare Wikidata's population values against those of statistics.gov.scot"
   ]
  },
  {
   "cell_type": "code",
   "execution_count": 12,
   "metadata": {},
   "outputs": [
    {
     "name": "stdout",
     "output_type": "stream",
     "text": [
      "0 in :scotgov only\n",
      "0 in :wikidata only\n",
      "608 in both\n"
     ]
    },
    {
     "data": {
      "text/plain": [
       "nil"
      ]
     },
     "execution_count": 12,
     "metadata": {},
     "output_type": "execute_result"
    }
   ],
   "source": [
    "; Check for differences\n",
    "\n",
    "; Make the label sets in both the same so that the diff \n",
    "; doesn't pick up on the 'Outer Hebrides' vs 'Na h-Eileanan Siar' label difference\n",
    "(def population-values-scotgov\n",
    "  (map #(if (= \"S12000013\" (:code %)) \n",
    "              (assoc % :label \"Outer Hebrides\") \n",
    "              %)\n",
    "       population-values-scotgov))\n",
    "\n",
    "(def diff (data/diff \n",
    "            (set population-values-scotgov) \n",
    "            (set population-values-wikidata)))\n",
    "\n",
    "(println (count (first diff)) \"in :scotgov only\")\n",
    "(println (count (second diff)) \"in :wikidata only\")\n",
    "(println (count (nth diff 2)) \"in both\")\n",
    "\n",
    "(with-open [wtr (io/writer \"population-values-diff.txt\")]\n",
    "  (binding [*out* wtr]\n",
    "    (do\n",
    "      (println \"population-values: scotgov versus wikidata\")\n",
    "      (println)\n",
    "      (println (count (first diff)) \"in :scotgov only...\")\n",
    "      (pp/pprint (first diff))\n",
    "      (println)\n",
    "      (println (count (second diff)) \"in :wikidata only...\")\n",
    "      (pp/pprint (second diff))\n",
    "      (println)\n",
    "      (println (count (nth diff 2)) \"in both...\")\n",
    "      (pp/pprint (nth diff 2)))))"
   ]
  },
  {
   "cell_type": "markdown",
   "metadata": {},
   "source": [
    "#### 3.3.1. When I first compared...\n",
    "\n",
    "When I ran the above comparison for the first time (at 2020-09-08T10:01GMT) it discovered the following differences...\n",
    "```\n",
    "574 in :scotgov only\n",
    "9 in :wikidata only\n",
    "34 in both\n",
    "```\n",
    "The details are in [this file](population-values-diff-2020-09-08T10_01GMT.txt). \n",
    "\n",
    "Then I manually edited Wikidata to fix a few of those differences. However this was labourious so I decided to introduce some automation by using [QuickSatements](https://quickstatements.toolforge.org/). QuickStatements accepts CSV input - representing edits to be applied to Wikidata. The quickStatements CSV input was generated as follows."
   ]
  },
  {
   "cell_type": "code",
   "execution_count": 13,
   "metadata": {},
   "outputs": [
    {
     "name": "stdout",
     "output_type": "stream",
     "text": [
      "32 rows\n"
     ]
    },
    {
     "data": {
      "text/plain": [
       "#'user/code->qid"
      ]
     },
     "execution_count": 13,
     "metadata": {},
     "output_type": "execute_result"
    }
   ],
   "source": []
  },
  {
   "cell_type": "code",
   "execution_count": 14,
   "metadata": {},
   "outputs": [
    {
     "data": {
      "text/plain": [
       "nil"
      ]
     },
     "execution_count": 14,
     "metadata": {},
     "output_type": "execute_result"
    }
   ],
   "source": [
    "; Generate the CSV that is to be imported into QuickStatements\n",
    "\n",
    "(def TQD \"\\\"\\\"\\\"\") ; triple double-quote \n",
    "\n",
    "(with-open [wtr (io/writer \"population-values-quickstatements.csv\")]\n",
    "  (binding [*out* wtr]\n",
    "    ;; qid, population, point in time (qualifier), determination method (qualifier), editing comment\n",
    "    (println \"qid,P1082,qal585,qal459,S854,#\") \n",
    "    (doseq [m (first diff)]\n",
    "      (println (str (code->qid (:code m)) \",\"\n",
    "                    (:population m) \",\"\n",
    "                    \"+\" (:year m) \"-00-00T00:00:00Z/9,\"\n",
    "                    \"Q791801,\" ; estimation process\n",
    "                    TQD \"http://statistics.gov.scot/data/population-estimates-current-geographic-boundaries\" TQD \",\"\n",
    "                    TQD \"Set \" (:label m) \" council area's \" (:year m) \" population\" TQD)))))"
   ]
  },
  {
   "cell_type": "markdown",
   "metadata": {},
   "source": [
    "\n",
    "When I ran the above CSV generation for the first time - the output is in [this file](population-values-quickstatements-2020-09-09T11_20GMT.csv) - it specified 2232 _individual_ edits to Wikidata. These were successfully executed (taking about 30 mins) against Wikidata by QuickStatements. (Unfortunately QuickStatements does not yet support a means to set the `rank` of a triple so I had to individually edit the 32 council area pages to mark, in each, its 2019 population value  as the `Preferred rank` population value - indicating that it is the most up-to-date population value.) \n",
    "\n",
    "## 4. The usefulness of the uploaded dataset\n",
    "\n",
    "The uploaded dataset can be pulled (_de-referenced_) into Wikipedia articles and other web pages. \n",
    "\n",
    "### 4.1. Embedding dataset values into Wikipedia articles\n",
    "\n",
    "As an example, I edited the Wikipedia article [Council areas of Scotland](https://simple.wikipedia.org/wiki/Council_areas_of_Scotland) to insert into its main table, the new column \"_Number of people (latest estimate)_\" whose values are pulled (each time the page is rendered) directly from the data that we have uploaded into Wikidata:\n",
    "\n",
    "![Screenshot of Wikipedia article](screenshot-wikipedia-council-areas-article.png)\n",
    "\n",
    "### 4.2. Embedding dataset based graphs into web pages\n",
    "\n",
    "And >><a href=\"https://query.wikidata.org/embed.html#%23defaultView%3ALineChart%0ASELECT%20%0A%20%20%3FcouncilArea%0A%20%20(str(YEAR(%3FpopulationWhen))%20as%20%3Fyear%20)%0A%20%20%3Fpopulation%0A%20%20%3FcouncilAreaLabel%0AWHERE%20%7B%0A%20%20%3FcouncilArea%20wdt%3AP31%20wd%3AQ15060255%20%3B%0A%20%20%20%20%20%20%20%20%20%20%20%20%20%20p%3AP1082%20%3FpopulationEntity%20.%0A%20%20%3FpopulationEntity%20ps%3AP1082%20%3Fpopulation%20%3B%0A%20%20%20%20%20%20%20%20%20%20%20%20%20%20%20%20%20%20%20%20pq%3AP585%20%3FpopulationWhen%20.%0A%20%20SERVICE%20wikibase%3Alabel%20%7B%20bd%3AserviceParam%20wikibase%3Alanguage%20%27%5BAUTO_LANGUAGE%5D%2Cen%27%20.%20%7D%0A%7D\">here</a><< is a line graph, dynamically generated from the new Wikidata data, that can be embedded in any web page.\n",
    "\n",
    "### 4.3. Concerns, next steps, alternative approaches\n",
    "\n",
    "Interestingly, there is [some discussion](https://en.wikipedia.org/wiki/Wikipedia:Requests_for_comment/Wikidata_Phase_2) about the pros & cons of inserting Wikidata values into Wikipedia articles. The main argument against is the immaturity of Wikidata's structure: therefore a concern about the durability of the references into its data structure. The counter point is that early use & evolution might be the best path to maturity.\n",
    "\n",
    "The case study for our Data Commons Scotland project, is _open data about waste in Scotland_. So a next step for the project might be to upload into Wikidata, datasets that describe the amounts of household waste generated & recycled, and 'carbon impact' figures. These could also be linked to [council areas](https://www.wikidata.org/wiki/Q15060255) - as we have done the population dataset - to support _per council area_/_per citizen_ statistics and visualisations. Appropriate [properties](https://www.wikidata.org/wiki/Q18616576) do not yet exist in Wikidata for the description of such data about waste, so new ones would need to be ratified by the Wikidata community.\n",
    "\n",
    "Should should datasets actually be uploaded into Wikidata?... These are small datasets and they seem to fit well enough into Wikidata's knowledge graph. Uploading them into Wikidata may make them easier to access, de-silo the data\n",
    "and help enrich Wikidata's knowledge graph. But then, of course, there is the _keeping it up-to-date_ issue to solve. \n",
    "Alternatively, those datasets could be pulled dynamically & directly from statistics.gov.scot, into Wikipedia  articles with the help of some new MediaWiki [extensions](https://www.mediawiki.org/wiki/Category:Extensions).\n",
    "\n",
    "\n",
    "\n",
    "\n"
   ]
  },
  {
   "cell_type": "code",
   "execution_count": null,
   "metadata": {},
   "outputs": [],
   "source": []
  }
 ],
 "metadata": {
  "kernelspec": {
   "display_name": "Clojure (clojupyter=0.3.2=1)",
   "language": "clojure",
   "name": "conda-clojupyter"
  },
  "language_info": {
   "file_extension": ".clj",
   "mimetype": "text/x-clojure",
   "name": "clojure",
   "version": "1.10.1"
  },
  "toc": {
   "base_numbering": 1,
   "nav_menu": {},
   "number_sections": false,
   "sideBar": false,
   "skip_h1_title": false,
   "title_cell": "Table of Contents",
   "title_sidebar": "Contents",
   "toc_cell": false,
   "toc_position": {},
   "toc_section_display": false,
   "toc_window_display": false
  },
  "widgets": {
   "application/vnd.jupyter.widget-state+json": {
    "state": {},
    "version_major": 2,
    "version_minor": 0
   }
  }
 },
 "nbformat": 4,
 "nbformat_minor": 2
}
