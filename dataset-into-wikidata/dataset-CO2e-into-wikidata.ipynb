{
 "cells": [
  {
   "cell_type": "markdown",
   "metadata": {},
   "source": [
    "# Uploading a CO2e dataset into Wikidata \n",
    "\n",
    "This executable notebook uploads a CO2e dataset into [Wikidata](https://www.wikipedia.org/wiki/Wikidata).\n",
    "\n",
    "### The dataset that is to be uploaded\n",
    "\n",
    "The [Scottish Environment Protection Agency](https://www.sepa.org.uk) (SEPA) has published CO2e data for household waste in Scotlan to indicate the [global warming potential](https://en.wikipedia.org/wiki/Global_warming_potential) of this waste. The data shows the tonnes of CO2e per Scottish council area per year (only 2017 and 2018, at present). \n",
    "\n",
    "The data is found in the two Excel spreadsheets \n",
    "[2017-household-waste-tables](https://www.sepa.org.uk/media/378875/2017-household-waste-summary-tables-final.xlsx) and\n",
    "[2018-household-waste-tables](https://www.sepa.org.uk/media/469611/2018-household-waste-data-tables.xlsx) - \n",
    "in worksheet \"Table 1\" and column \"J', in each. \n",
    "For convenience, I copied this data into the [sepa-CO2e.csv](sepa-CO2e.csv) file.\n",
    "\n",
    "\n",
    "### Prep tooling"
   ]
  },
  {
   "cell_type": "code",
   "execution_count": 80,
   "metadata": {},
   "outputs": [
    {
     "data": {
      "text/plain": [
       "java.net.URLEncoder"
      ]
     },
     "execution_count": 80,
     "metadata": {},
     "output_type": "execute_result"
    }
   ],
   "source": [
    "; Add code libraries\n",
    "\n",
    "(require '[clojupyter.misc.helper :as helper])\n",
    "\n",
    "(helper/add-dependencies '[org.clojure/data.csv \"1.0.0\"])\n",
    "(helper/add-dependencies '[clj-http/clj-http \"3.10.1\"])\n",
    "(helper/add-dependencies '[metasoarous/oz \"1.6.0-alpha24\"])\n",
    "\n",
    "(require '[clojure.string :as str]\n",
    "         '[clojure.set :as set]\n",
    "         '[clojure.data :as data]\n",
    "         '[clojure.pprint :as pp]\n",
    "         '[clojure.java.io :as io]\n",
    "         '[clojure.data.csv :as csv]\n",
    "         '[clj-http.client :as http]\n",
    "         '[oz.notebook.clojupyter :as oz]\n",
    "         '[oz.core :as ozcore])\n",
    "\n",
    "(import 'java.net.URLEncoder)"
   ]
  },
  {
   "cell_type": "code",
   "execution_count": 59,
   "metadata": {},
   "outputs": [
    {
     "data": {
      "text/plain": [
       "#'user/exec-query"
      ]
     },
     "execution_count": 59,
     "metadata": {},
     "output_type": "execute_result"
    }
   ],
   "source": [
    "; Define convenience functions\n",
    "\n",
    "; Convert the CSV structure to a list-of-maps structure.\n",
    "(defn to-maps [csv-data]\n",
    "    (map zipmap (->> (first csv-data)\n",
    "                    (map keyword)\n",
    "                    repeat)\n",
    "                (rest csv-data)))\n",
    "\n",
    "; Map the name of a SPARQL service to its URL.\n",
    "(def service-urls {:wikidata \"https://query.wikidata.org/sparql\"})\n",
    "                                \n",
    "; Ask the service to execute the given SPARQL query\n",
    "; and return its result as a list-of-maps.\n",
    "(defn exec-query [service-name sparql]\n",
    "  (->> (http/post (service-name service-urls) \n",
    "        {:body (str \"query=\" (URLEncoder/encode sparql)) \n",
    "         :headers {\"Accept\" \"text/csv\" \n",
    "                   \"Content-Type\" \"application/x-www-form-urlencoded\"} \n",
    "         :debug false})\n",
    "    :body\n",
    "    csv/read-csv\n",
    "    to-maps))"
   ]
  },
  {
   "cell_type": "markdown",
   "metadata": {},
   "source": [
    "### Load SEPA's CO2e dataset into memory\n",
    "\n",
    "Load the dataset from the [sepa-CO2e.csv](sepa-CO2e.csv) file that I created for convenience."
   ]
  },
  {
   "cell_type": "code",
   "execution_count": 69,
   "metadata": {},
   "outputs": [
    {
     "name": "stdout",
     "output_type": "stream",
     "text": [
      "64 rows\n",
      "\n",
      "|              :council | :year |   :amount |                              :unit |\n",
      "|-----------------------+-------+-----------+------------------------------------|\n",
      "|        Orkney Islands |  2018 |  27127.63 | tonne of carbon dioxide equivalent |\n",
      "|     South Lanarkshire |  2017 |  370821.4 | tonne of carbon dioxide equivalent |\n",
      "|              Highland |  2017 | 321198.11 | tonne of carbon dioxide equivalent |\n",
      "| Dumfries and Galloway |  2018 | 227001.47 | tonne of carbon dioxide equivalent |\n",
      "|           Dundee City |  2018 | 148298.68 | tonne of carbon dioxide equivalent |\n"
     ]
    },
    {
     "data": {
      "text/plain": [
       "nil"
      ]
     },
     "execution_count": 69,
     "metadata": {},
     "output_type": "execute_result"
    }
   ],
   "source": [
    "; Load the dataset from sepa-CO2e.csv\n",
    "(def sepa\n",
    "    (with-open [reader (io/reader \"sepa-CO2e.csv\")]\n",
    "        (doall\n",
    "            (to-maps (csv/read-csv reader)))))\n",
    "\n",
    "(println (count sepa) \"rows\")\n",
    "\n",
    "; Adjust a few keys and values to be in keeping with those used by Wikidata\n",
    "(def sepa\n",
    "    (->> sepa\n",
    "        (map #(set/rename-keys % {:TCO2e :amount}))\n",
    "        (map #(assoc % :unit \"tonne of carbon dioxide equivalent\"))\n",
    "        (map #(let [council (:council %)]\n",
    "                  (cond \n",
    "                    (= council \"Na h-Eileanan Siar\") (assoc % :council \"Outer Hebrides\")\n",
    "                    (str/starts-with? council \"Orkney Islands\") (assoc % :council \"Orkney Islands\")\n",
    "                    :else %)))))\n",
    "\n",
    "; Print a sample\n",
    "(pp/print-table [:council :year :amount :unit] (repeatedly 5 #(rand-nth sepa)))"
   ]
  },
  {
   "cell_type": "markdown",
   "metadata": {},
   "source": [
    "### Load Wikidata's relevant CO2e data into memory\n",
    "\n",
    "Load the data by running a SPARQL query against Wikidata.  "
   ]
  },
  {
   "cell_type": "code",
   "execution_count": 77,
   "metadata": {},
   "outputs": [
    {
     "name": "stdout",
     "output_type": "stream",
     "text": [
      "33 rows\n"
     ]
    },
    {
     "data": {
      "text/plain": [
       "nil"
      ]
     },
     "execution_count": 77,
     "metadata": {},
     "output_type": "execute_result"
    }
   ],
   "source": [
    "; Define the SPARQL query that will fetch the relevant Scottish council area data\n",
    "(def sparql \"\n",
    "SELECT ?qid ?councilAreaLabel ?year ?amount ?unitLabel\n",
    "WHERE {\n",
    "  ?councilArea wdt:P31 wd:Q15060255 . # Scottish council area\n",
    "  BIND(strafter(str(?councilArea), 'http://www.wikidata.org/entity/') as ?qid)\n",
    "  OPTIONAL { \n",
    "    ?councilArea p:P5991 ?CO2e . \n",
    "    ?CO2e psv:P5991 ?quantity ;\n",
    "          pq:P585 ?date ;\n",
    "          pq:P828 wd:Q180388 ; # 'has cause' 'waste management'\n",
    "          pq:P828 wd:Q259059 . # 'has cause' 'household'\n",
    "    ?quantity wikibase:quantityAmount ?amount;\n",
    "              wikibase:quantityUnit ?unit.\n",
    "    BIND(YEAR(?date) as ?year)\n",
    "  }\n",
    "  SERVICE wikibase:label { bd:serviceParam wikibase:language '[AUTO_LANGUAGE],en' . }\n",
    "}\")\n",
    "\n",
    "; Execute the SPARQL query agaist Wikidata\n",
    "(def wikidata0\n",
    "    (->> sparql\n",
    "        (exec-query :wikidata)\n",
    "        (map #(set/rename-keys % {:councilAreaLabel :council\n",
    "                                  :unitLabel :unit}))))\n",
    "\n",
    "(println (count wikidata0) \"rows\")"
   ]
  },
  {
   "cell_type": "code",
   "execution_count": 78,
   "metadata": {},
   "outputs": [
    {
     "name": "stdout",
     "output_type": "stream",
     "text": [
      "3 rows\n"
     ]
    },
    {
     "data": {
      "text/plain": [
       "nil"
      ]
     },
     "execution_count": 78,
     "metadata": {},
     "output_type": "execute_result"
    }
   ],
   "source": [
    "; wikidata0 might contain rows where the year is not 2017 or 2018.\n",
    "; This is deliberate. \n",
    "; We want to know the Scottish council area label and qid values \n",
    ";   even when they are not associated with 2017 or 2018 CO2e values\n",
    "; Because we need all the labels and qids later, when we build the label->qid map.\n",
    "; However, the next step is to compare relevant (i.e. 2017 & 2018) data items,\n",
    ";  and for that purpose, we filter wikidata0 to remove non relevant data items.\n",
    "(def wikidata \n",
    "    (->> wikidata0\n",
    "        (filter #(contains? #{\"2017\" \"2018\"} (:year %)))\n",
    "        (map #(select-keys % [:council :year :amount :unit]))))\n",
    "\n",
    "(println (count wikidata) \"rows\")"
   ]
  },
  {
   "cell_type": "markdown",
   "metadata": {},
   "source": [
    "### Compare Wikidata's CO2e data against SEPA's "
   ]
  },
  {
   "cell_type": "code",
   "execution_count": 79,
   "metadata": {},
   "outputs": [
    {
     "name": "stdout",
     "output_type": "stream",
     "text": [
      "61 in SEPA only\n",
      "0 in Wikidata only\n",
      "3 in both\n"
     ]
    },
    {
     "data": {
      "text/plain": [
       "nil"
      ]
     },
     "execution_count": 79,
     "metadata": {},
     "output_type": "execute_result"
    }
   ],
   "source": [
    "; Check for differences\n",
    "\n",
    "(def diff (data/diff \n",
    "            (set sepa) \n",
    "            (set wikidata)))\n",
    "\n",
    "(println (count (first diff)) \"in SEPA only\")\n",
    "(println (count (second diff)) \"in Wikidata only\")\n",
    "(println (count (nth diff 2)) \"in both\")\n",
    "\n",
    "(with-open [wtr (io/writer \"CO2e-diff.txt\")]\n",
    "  (binding [*out* wtr]\n",
    "    (do\n",
    "      (println \"CO2e-values: SEPA versus Wikidata\")\n",
    "      (println)\n",
    "      (println (count (first diff)) \"in SEPA only...\")\n",
    "      (pp/pprint (first diff))\n",
    "      (println)\n",
    "      (println (count (second diff)) \"in Wikidata only...\")\n",
    "      (pp/pprint (second diff))\n",
    "      (println)\n",
    "      (println (count (nth diff 2)) \"in both...\")\n",
    "      (pp/pprint (nth diff 2)))))"
   ]
  },
  {
   "cell_type": "markdown",
   "metadata": {},
   "source": [
    "#### When I first compared...\n",
    "\n",
    "When I ran the above comparison for the first time (at 2020-09-24T15_30Z) it discovered the following differences...\n",
    "\n",
    "```\n",
    "64 in SEPA only\n",
    "0 in Wikidata only\n",
    "0 in both\n",
    "```\n",
    "The details are in [this file](CO2e-diff-2020-09-24T15_30Z.txt).\n",
    "\n",
    "To fix those differences, \n",
    "I created/amended the appropriate Wikidata data items \n",
    "via the [QuickSatements](https://quickstatements.toolforge.org/) service. \n",
    "QuickStatements accepts CSV input - representing edits to be applied to Wikidata. \n",
    "The quickStatements CSV input was generated as follows."
   ]
  },
  {
   "cell_type": "code",
   "execution_count": 76,
   "metadata": {},
   "outputs": [
    {
     "data": {
      "text/plain": [
       "nil"
      ]
     },
     "execution_count": 76,
     "metadata": {},
     "output_type": "execute_result"
    }
   ],
   "source": [
    "; Generate the CSV that is to be imported into QuickStatements\n",
    "\n",
    "(def TQD \"\\\"\\\"\\\"\") ; triple double-quote \n",
    "\n",
    "(def year->url {\"2017\" \"https://www.sepa.org.uk/media/378875/2017-household-waste-summary-tables-final.xlsx\"\n",
    "                \"2018\" \"https://www.sepa.org.uk/media/469611/2018-household-waste-data-tables.xlsx\"})\n",
    "\n",
    "(def council->qid\n",
    "    (->> wikidata0\n",
    "        (map #(vector (:council %) (:qid %)))\n",
    "        (into {})))\n",
    "\n",
    "(with-open [wtr (io/writer \"CO2e-quickstatements.csv\")]\n",
    "  (binding [*out* wtr]\n",
    "    ;; qid, CO2e, point in time (qualifier), determination method (qualifier), has cause (qualifier), has cause (qualifier), reference URL, editing comment\n",
    "    (println \"qid,P5991,qal585,qal459,qal828,qal828,S854,#\") \n",
    "    (doseq [m (first diff)]\n",
    "      (println (str (council->qid (:council m)) \",\"\n",
    "                    (:amount m) \"U57084755,\" ; tonne of carbon dioxide equivalent\n",
    "                    \"+\" (:year m) \"-00-00T00:00:00Z/9,\"\n",
    "                    \"Q791801,\" ; estimation process\n",
    "                    \"Q180388,\" ; waste management\n",
    "                    \"Q259059,\" ; household\n",
    "                    TQD (year->url (:year m)) TQD \",\"\n",
    "                    TQD \"Set \" (:council m) \" council area's \" (:year m) \" CO2e amount\" TQD)))))"
   ]
  },
  {
   "cell_type": "markdown",
   "metadata": {},
   "source": [
    "\n",
    "When I ran the above CSV generation for the first time - the output is in [this file](CO2-quickstatements-2020-09-25T08_50Z.csv) - it specified 378 _individual_ edits to Wikidata (after I removed 6 of them that I had already manually edited into Wikidata). These were successfully executed (taking about 20 mins) against Wikidata by QuickStatements.\n",
    "\n",
    "### Using the uploaded dataset\n",
    "\n",
    "As an example use, let's display a grouped bar chart to visualise...\n",
    "\n",
    ">_for household waste, the tonnes of CO2e generated per citizen per year per Scottish council area_.\n",
    "\n",
    "To do so...\n",
    "* we run a SPARQL query against Wikidata \n",
    "* that uses the CO2e dataset that we've just uploaded\n",
    "* and uses the population dataset that we [previously](dataset-into-wikidata.ipynb) uploaded \n",
    "* to perform the required calculation \n",
    "* then, finally, we instruct Vega-Lite to render the chart. "
   ]
  },
  {
   "cell_type": "code",
   "execution_count": 179,
   "metadata": {
    "scrolled": true
   },
   "outputs": [
    {
     "name": "stdout",
     "output_type": "stream",
     "text": [
      "[W 20:53:45.705 Clojupyter] org.apache.http.client.protocol.ResponseProcessCookies:130 -- Invalid cookie header: \"Set-Cookie: WMF-Last-Access=27-Sep-2020;Path=/;HttpOnly;secure;Expires=Thu, 29 Oct 2020 12:00:00 GMT\". Invalid 'expires' attribute: Thu, 29 Oct 2020 12:00:00 GMT\n",
      "[W 20:53:45.706 Clojupyter] org.apache.http.client.protocol.ResponseProcessCookies:130 -- Invalid cookie header: \"Set-Cookie: WMF-Last-Access-Global=27-Sep-2020;Path=/;Domain=.wikidata.org;HttpOnly;secure;Expires=Thu, 29 Oct 2020 12:00:00 GMT\". Invalid 'expires' attribute: Thu, 29 Oct 2020 12:00:00 GMT\n"
     ]
    },
    {
     "data": {
      "text/html": [
       "\n",
       "  <div>\n",
       "    <div id='uuid-ea383e53-e628-4c3d-acff-c814c4ea0cd6'></div>\n",
       "    <script>\n",
       "    requirejs.config({\n",
       "      baseUrl: 'https://cdn.jsdelivr.net/npm/',\n",
       "      paths: {\n",
       "        'vega-embed':  'vega-embed@6.9.0?noext',\n",
       "        'vega-lib': 'vega-lib?noext',\n",
       "        'vega-lite': 'vega-lite@4.13.1?noext',\n",
       "        'vega': 'vega@5.13.0?noext'\n",
       "      }\n",
       "    });\n",
       "    require(['vega-embed'], function(vegaEmbed) {\n",
       "      let spec = {\"data\":{\"values\":[{\"qid\":\"Q47134\",\"year\":\"2017\",\"CO2ePerCitizen\":\"1.38539861351819757366\",\"council\":\"Shetland Islands\"},{\"qid\":\"Q47134\",\"year\":\"2018\",\"CO2ePerCitizen\":\"1.35054371465854719443\",\"council\":\"Shetland Islands\"},{\"qid\":\"Q80967\",\"year\":\"2017\",\"CO2ePerCitizen\":\"1.43421150278293135436\",\"council\":\"Outer Hebrides\"},{\"qid\":\"Q100166\",\"year\":\"2018\",\"CO2ePerCitizen\":\"1.22248760703019378098\",\"council\":\"Orkney Islands\"},{\"qid\":\"Q100166\",\"year\":\"2017\",\"CO2ePerCitizen\":\"1.32145454545454545455\",\"council\":\"Orkney Islands\"},{\"qid\":\"Q80967\",\"year\":\"2018\",\"CO2ePerCitizen\":\"1.41248602310846067835\",\"council\":\"Outer Hebrides\"},{\"qid\":\"Q202174\",\"year\":\"2018\",\"CO2ePerCitizen\":\"1.38127753303964757709\",\"council\":\"Argyll and Bute\"},{\"qid\":\"Q202174\",\"year\":\"2017\",\"CO2ePerCitizen\":\"1.46296509618707522175\",\"council\":\"Argyll and Bute\"},{\"qid\":\"Q202177\",\"year\":\"2017\",\"CO2ePerCitizen\":\"0.99672342621259029928\",\"council\":\"Angus\"},{\"qid\":\"Q204940\",\"year\":\"2017\",\"CO2ePerCitizen\":\"0.8048866582096961006\",\"council\":\"West Lothian\"},{\"qid\":\"Q202177\",\"year\":\"2018\",\"CO2ePerCitizen\":\"0.96633919338159255429\",\"council\":\"Angus\"},{\"qid\":\"Q206934\",\"year\":\"2018\",\"CO2ePerCitizen\":\"1.00579154806218524195\",\"council\":\"Midlothian\"},{\"qid\":\"Q206934\",\"year\":\"2017\",\"CO2ePerCitizen\":\"1.09119769119769119769\",\"council\":\"Midlothian\"},{\"qid\":\"Q204940\",\"year\":\"2018\",\"CO2ePerCitizen\":\"0.8349017239486109586\",\"council\":\"West Lothian\"},{\"qid\":\"Q206926\",\"year\":\"2017\",\"CO2ePerCitizen\":\"1.01268134619633257235\",\"council\":\"North Ayrshire\"},{\"qid\":\"Q206926\",\"year\":\"2018\",\"CO2ePerCitizen\":\"1.04270402128917800118\",\"council\":\"North Ayrshire\"},{\"qid\":\"Q189912\",\"year\":\"2018\",\"CO2ePerCitizen\":\"1.17868971583738096149\",\"council\":\"Aberdeenshire\"},{\"qid\":\"Q201149\",\"year\":\"2018\",\"CO2ePerCitizen\":\"0.913839369739990858\",\"council\":\"Fife\"},{\"qid\":\"Q126514\",\"year\":\"2017\",\"CO2ePerCitizen\":\"1.47467158176943699732\",\"council\":\"Dumfries and Galloway\"},{\"qid\":\"Q126514\",\"year\":\"2018\",\"CO2ePerCitizen\":\"1.52564688487129511392\",\"council\":\"Dumfries and Galloway\"},{\"qid\":\"Q189912\",\"year\":\"2017\",\"CO2ePerCitizen\":\"1.24248281130634071811\",\"council\":\"Aberdeenshire\"},{\"qid\":\"Q201149\",\"year\":\"2017\",\"CO2ePerCitizen\":\"0.94036778762015023828\",\"council\":\"Fife\"},{\"qid\":\"Q207257\",\"year\":\"2017\",\"CO2ePerCitizen\":\"1.06923884013735215567\",\"council\":\"East Lothian\"},{\"qid\":\"Q207268\",\"year\":\"2018\",\"CO2ePerCitizen\":\"1.0422178988326848249\",\"council\":\"Clackmannanshire\"},{\"qid\":\"Q207111\",\"year\":\"2018\",\"CO2ePerCitizen\":\"1.04055500029396202011\",\"council\":\"North Lanarkshire\"},{\"qid\":\"Q207257\",\"year\":\"2018\",\"CO2ePerCitizen\":\"1.04627091407505435296\",\"council\":\"East Lothian\"},{\"qid\":\"Q207111\",\"year\":\"2017\",\"CO2ePerCitizen\":\"1.19642310860101188375\",\"council\":\"North Lanarkshire\"},{\"qid\":\"Q207679\",\"year\":\"2017\",\"CO2ePerCitizen\":\"0.93397088021178027796\",\"council\":\"Perth and Kinross\"},{\"qid\":\"Q208271\",\"year\":\"2018\",\"CO2ePerCitizen\":\"0.73644273832373640435\",\"council\":\"Inverclyde\"},{\"qid\":\"Q207679\",\"year\":\"2018\",\"CO2ePerCitizen\":\"0.92695485491440280256\",\"council\":\"Perth and Kinross\"},{\"qid\":\"Q207268\",\"year\":\"2017\",\"CO2ePerCitizen\":\"1.07576287657920310982\",\"council\":\"Clackmannanshire\"},{\"qid\":\"Q208121\",\"year\":\"2017\",\"CO2ePerCitizen\":\"1.17014842093516348622\",\"council\":\"West Dunbartonshire\"},{\"qid\":\"Q208121\",\"year\":\"2018\",\"CO2ePerCitizen\":\"1.15268708627846965107\",\"council\":\"West Dunbartonshire\"},{\"qid\":\"Q208279\",\"year\":\"2018\",\"CO2ePerCitizen\":\"1.34674789844612380063\",\"council\":\"Highland\"},{\"qid\":\"Q208271\",\"year\":\"2017\",\"CO2ePerCitizen\":\"0.72016251904520060945\",\"council\":\"Inverclyde\"},{\"qid\":\"Q209131\",\"year\":\"2017\",\"CO2ePerCitizen\":\"1.11894746183883564075\",\"council\":\"South Ayrshire\"},{\"qid\":\"Q208279\",\"year\":\"2017\",\"CO2ePerCitizen\":\"1.36575389063695892508\",\"council\":\"Highland\"},{\"qid\":\"Q209131\",\"year\":\"2018\",\"CO2ePerCitizen\":\"1.1085828520657485562\",\"council\":\"South Ayrshire\"},{\"qid\":\"Q2379199\",\"year\":\"2018\",\"CO2ePerCitizen\":\"0.95049373191899710704\",\"council\":\"City of Edinburgh\"},{\"qid\":\"Q2357511\",\"year\":\"2018\",\"CO2ePerCitizen\":\"0.99696134453781512605\",\"council\":\"Dundee City\"},{\"qid\":\"Q217838\",\"year\":\"2018\",\"CO2ePerCitizen\":\"0.93471854129121170359\",\"council\":\"Stirling\"},{\"qid\":\"Q2357511\",\"year\":\"2017\",\"CO2ePerCitizen\":\"1.03996368771434335283\",\"council\":\"Dundee City\"},{\"qid\":\"Q217838\",\"year\":\"2017\",\"CO2ePerCitizen\":\"0.90005319148936170213\",\"council\":\"Stirling\"},{\"qid\":\"Q62274582\",\"year\":\"2018\",\"CO2ePerCitizen\":\"0.87237651608367024082\",\"council\":\"Aberdeen City\"},{\"qid\":\"Q55934339\",\"year\":\"2018\",\"CO2ePerCitizen\":\"1.17167669737073162944\",\"council\":\"Glasgow City\"},{\"qid\":\"Q55934339\",\"year\":\"2017\",\"CO2ePerCitizen\":\"1.09508711474670703037\",\"council\":\"Glasgow City\"},{\"qid\":\"Q2379199\",\"year\":\"2017\",\"CO2ePerCitizen\":\"0.98897722180004286744\",\"council\":\"City of Edinburgh\"},{\"qid\":\"Q62274582\",\"year\":\"2017\",\"CO2ePerCitizen\":\"0.86791520979020979021\",\"council\":\"Aberdeen City\"},{\"qid\":\"Q216802\",\"year\":\"2018\",\"CO2ePerCitizen\":\"0.96640888112760384184\",\"council\":\"Falkirk\"},{\"qid\":\"Q216802\",\"year\":\"2017\",\"CO2ePerCitizen\":\"0.93592081433835009055\",\"council\":\"Falkirk\"},{\"qid\":\"Q211925\",\"year\":\"2017\",\"CO2ePerCitizen\":\"1.01282186576614605319\",\"council\":\"East Renfrewshire\"},{\"qid\":\"Q211889\",\"year\":\"2018\",\"CO2ePerCitizen\":\"1.02829317825163851195\",\"council\":\"East Dunbartonshire\"},{\"qid\":\"Q211925\",\"year\":\"2018\",\"CO2ePerCitizen\":\"0.93587264894399495639\",\"council\":\"East Renfrewshire\"},{\"qid\":\"Q211889\",\"year\":\"2017\",\"CO2ePerCitizen\":\"1.20922963099972255618\",\"council\":\"East Dunbartonshire\"},{\"qid\":\"Q211091\",\"year\":\"2017\",\"CO2ePerCitizen\":\"1.10578521744047955664\",\"council\":\"Renfrewshire\"},{\"qid\":\"Q211106\",\"year\":\"2017\",\"CO2ePerCitizen\":\"1.01832324076007517227\",\"council\":\"Moray\"},{\"qid\":\"Q209135\",\"year\":\"2018\",\"CO2ePerCitizen\":\"0.96918910045961917269\",\"council\":\"East Ayrshire\"},{\"qid\":\"Q209142\",\"year\":\"2017\",\"CO2ePerCitizen\":\"1.165480717855234623\",\"council\":\"South Lanarkshire\"},{\"qid\":\"Q211113\",\"year\":\"2017\",\"CO2ePerCitizen\":\"1.17081377151799687011\",\"council\":\"Scottish Borders\"},{\"qid\":\"Q211091\",\"year\":\"2018\",\"CO2ePerCitizen\":\"1.06589234490128803645\",\"council\":\"Renfrewshire\"},{\"qid\":\"Q211106\",\"year\":\"2018\",\"CO2ePerCitizen\":\"0.95960008375209380235\",\"council\":\"Moray\"},{\"qid\":\"Q209142\",\"year\":\"2018\",\"CO2ePerCitizen\":\"1.13233339602532756567\",\"council\":\"South Lanarkshire\"},{\"qid\":\"Q209135\",\"year\":\"2017\",\"CO2ePerCitizen\":\"0.98027718550106609808\",\"council\":\"East Ayrshire\"},{\"qid\":\"Q211113\",\"year\":\"2018\",\"CO2ePerCitizen\":\"1.16369393597640322721\",\"council\":\"Scottish Borders\"}]},\"mark\":{\"type\":\"bar\",\"tooltip\":{\"content\":\"data\"}},\"width\":20,\"encoding\":{\"column\":{\"field\":\"council\",\"type\":\"nominal\",\"spacing\":0,\"sort\":{\"field\":\"CO2ePerCitizen\",\"op\":\"mean\"},\"header\":{\"labelAngle\":-90,\"labelAlign\":\"right\",\"labelOrient\":\"bottom\",\"labelBaseline\":\"middle\"},\"axis\":{\"title\":null}},\"x\":{\"field\":\"year\",\"type\":\"ordinal\",\"axis\":{\"title\":null,\"labels\":false,\"ticks\":false}},\"y\":{\"field\":\"CO2ePerCitizen\",\"type\":\"quantitative\",\"axis\":{\"grid\":true,\"labelAngle\":-45,\"title\":\"CO2e tonnes\"},\"scale\":{\"zero\":false}},\"color\":{\"field\":\"year\"}}};\n",
       "      vegaEmbed('#uuid-ea383e53-e628-4c3d-acff-c814c4ea0cd6', spec, {defaultStyle:true}).catch(console.warn);\n",
       "      }, function(err) {\n",
       "      console.log('Failed to load');\n",
       "    });\n",
       "    </script>\n",
       "  </div>\n",
       "    "
      ]
     },
     "execution_count": 179,
     "metadata": {},
     "output_type": "execute_result"
    }
   ],
   "source": [
    "(def sparql \"\n",
    "SELECT ?qid ?councilAreaLabel ?year ?CO2ePerCitizen\n",
    "WHERE {\n",
    "  ?councilArea wdt:P31 wd:Q15060255 . # Scottish council area\n",
    "  BIND(strafter(str(?councilArea), 'http://www.wikidata.org/entity/') as ?qid)\n",
    "  ?councilArea p:P5991 ?CO2e ;\n",
    "               p:P1082 ?population. \n",
    "  ?CO2e psv:P5991 ?CO2eQuantity ;\n",
    "        pq:P585 ?date ;\n",
    "        pq:P828 wd:Q180388 ; # 'has cause' 'waste management'\n",
    "        pq:P828 wd:Q259059 . # 'has cause' 'household'\n",
    "  ?population psv:P1082 ?populationQuantity ;\n",
    "              pq:P585 ?date .\n",
    "  ?CO2eQuantity wikibase:quantityAmount ?CO2eAmount.\n",
    "  ?populationQuantity wikibase:quantityAmount ?populationAmount .\n",
    "  BIND(YEAR(?date) as ?year)\n",
    "  BIND((xsd:integer(?CO2eAmount)/xsd:integer(?populationAmount)) AS ?CO2ePerCitizen)\n",
    "  SERVICE wikibase:label { bd:serviceParam wikibase:language '[AUTO_LANGUAGE],en' . }\n",
    "}\")\n",
    "\n",
    "(def wikidata\n",
    "    (->> sparql\n",
    "        (exec-query :wikidata)\n",
    "        (map #(set/rename-keys % {:councilAreaLabel :council}))))\n",
    "\n",
    "(def chart-spec\n",
    "  {:data {:values wikidata}\n",
    "   :mark {:type \"bar\" \n",
    "          :tooltip {:content \"data\"}}\n",
    "   :width 20\n",
    "   :encoding {:column {:field \"council\"\n",
    "                       :type \"nominal\"\n",
    "                       :spacing 0\n",
    "                       :sort {:field \"CO2ePerCitizen\" :op \"mean\"}\n",
    "                       :header{:labelAngle -90\n",
    "                               :labelAlign \"right\"\n",
    "                               :labelOrient \"bottom\"\n",
    "                               :labelBaseline \"middle\"}\n",
    "                       :axis {:title nil}}\n",
    "              :x {:field \"year\"\n",
    "                  :type \"ordinal\"\n",
    "                  :axis {:title nil\n",
    "                         :labels false\n",
    "                         :ticks false}}\n",
    "              :y {:field \"CO2ePerCitizen\"\n",
    "                  :type \"quantitative\"\n",
    "                  :axis {:grid true\n",
    "                         :labelAngle -45\n",
    "                         :title \"CO2e tonnes\"}\n",
    "                  :scale {:zero false}}\n",
    "              :color {:field \"year\"}}})\n",
    "\n",
    "(oz/view! chart-spec)"
   ]
  },
  {
   "cell_type": "code",
   "execution_count": null,
   "metadata": {},
   "outputs": [],
   "source": []
  }
 ],
 "metadata": {
  "kernelspec": {
   "display_name": "Clojure (clojupyter=0.3.2=1)",
   "language": "clojure",
   "name": "conda-clojupyter"
  },
  "language_info": {
   "file_extension": ".clj",
   "mimetype": "text/x-clojure",
   "name": "clojure",
   "version": "1.10.1"
  },
  "toc": {
   "base_numbering": 1,
   "nav_menu": {},
   "number_sections": false,
   "sideBar": false,
   "skip_h1_title": false,
   "title_cell": "Table of Contents",
   "title_sidebar": "Contents",
   "toc_cell": false,
   "toc_position": {},
   "toc_section_display": false,
   "toc_window_display": false
  },
  "widgets": {
   "application/vnd.jupyter.widget-state+json": {
    "state": {},
    "version_major": 2,
    "version_minor": 0
   }
  }
 },
 "nbformat": 4,
 "nbformat_minor": 2
}
