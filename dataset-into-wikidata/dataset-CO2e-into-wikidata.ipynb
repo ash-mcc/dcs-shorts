{
 "cells": [
  {
   "cell_type": "markdown",
   "metadata": {},
   "source": [
    "# Uploading a CO2e dataset into Wikidata \n",
    "\n",
    "This executable notebook uploads a CO2e dataset into [Wikidata](https://www.wikipedia.org/wiki/Wikidata).\n",
    "\n",
    "### The dataset that is to be uploaded\n",
    "\n",
    "The [Scottish Environment Protection Agency](https://www.sepa.org.uk) (SEPA) has published CO2e data for household waste in Scotlan to indicate the [global warming potential](https://en.wikipedia.org/wiki/Global_warming_potential) of this waste. The data shows the tonnes of CO2e per Scottish council area per year (only 2017 and 2018, at present). \n",
    "\n",
    "The data is found in the two Excel spreadsheets \n",
    "[2017-household-waste-tables](https://www.sepa.org.uk/media/378875/2017-household-waste-summary-tables-final.xlsx) and\n",
    "[2018-household-waste-tables](https://www.sepa.org.uk/media/469611/2018-household-waste-data-tables.xlsx) - \n",
    "in worksheet \"Table 1\" and column \"J', in each. \n",
    "For convenience, I copied this data into the [sepa-CO2e.csv](sepa-CO2e.csv) file.\n",
    "\n",
    "\n",
    "### Prep tooling"
   ]
  },
  {
   "cell_type": "code",
   "execution_count": 1,
   "metadata": {},
   "outputs": [
    {
     "data": {
      "text/plain": [
       "java.net.URLEncoder"
      ]
     },
     "execution_count": 1,
     "metadata": {},
     "output_type": "execute_result"
    }
   ],
   "source": [
    "; Add code libraries\n",
    "\n",
    "(require '[clojupyter.misc.helper :as helper])\n",
    "\n",
    "(helper/add-dependencies '[org.clojure/data.csv \"1.0.0\"])\n",
    "(helper/add-dependencies '[clj-http/clj-http \"3.10.1\"])\n",
    "(helper/add-dependencies '[metasoarous/oz \"1.6.0-alpha24\"])\n",
    "\n",
    "(require '[clojure.string :as str]\n",
    "         '[clojure.set :as set]\n",
    "         '[clojure.data :as data]\n",
    "         '[clojure.pprint :as pp]\n",
    "         '[clojure.java.io :as io]\n",
    "         '[clojure.data.csv :as csv]\n",
    "         '[clj-http.client :as http]\n",
    "         '[oz.notebook.clojupyter :as oz]\n",
    "         '[oz.core :as ozcore])\n",
    "\n",
    "(import 'java.net.URLEncoder)"
   ]
  },
  {
   "cell_type": "code",
   "execution_count": 2,
   "metadata": {},
   "outputs": [
    {
     "data": {
      "text/plain": [
       "#'user/exec-query"
      ]
     },
     "execution_count": 2,
     "metadata": {},
     "output_type": "execute_result"
    }
   ],
   "source": [
    "; Define convenience functions\n",
    "\n",
    "; Convert the CSV structure to a list-of-maps structure.\n",
    "(defn to-maps [csv-data]\n",
    "    (map zipmap (->> (first csv-data)\n",
    "                    (map keyword)\n",
    "                    repeat)\n",
    "                (rest csv-data)))\n",
    "\n",
    "; Map the name of a SPARQL service to its URL.\n",
    "(def service-urls {:wikidata \"https://query.wikidata.org/sparql\"})\n",
    "                                \n",
    "; Ask the service to execute the given SPARQL query\n",
    "; and return its result as a list-of-maps.\n",
    "(defn exec-query [service-name sparql]\n",
    "  (->> (http/post (service-name service-urls) \n",
    "        {:body (str \"query=\" (URLEncoder/encode sparql)) \n",
    "         :headers {\"Accept\" \"text/csv\" \n",
    "                   \"Content-Type\" \"application/x-www-form-urlencoded\"} \n",
    "         :debug false})\n",
    "    :body\n",
    "    csv/read-csv\n",
    "    to-maps))"
   ]
  },
  {
   "cell_type": "markdown",
   "metadata": {},
   "source": [
    "### Load SEPA's CO2e dataset into memory\n",
    "\n",
    "Load the dataset from the [sepa-CO2e.csv](sepa-CO2e.csv) file that I created for convenience."
   ]
  },
  {
   "cell_type": "code",
   "execution_count": 3,
   "metadata": {},
   "outputs": [
    {
     "name": "stdout",
     "output_type": "stream",
     "text": [
      "64 rows\n",
      "\n",
      "|          :council | :year |   :amount |                              :unit |\n",
      "|-------------------+-------+-----------+------------------------------------|\n",
      "|      East Lothian |  2018 | 110685.64 | tonne of carbon dioxide equivalent |\n",
      "|  Clackmannanshire |  2017 |  55348.62 | tonne of carbon dioxide equivalent |\n",
      "|    North Ayrshire |  2017 | 137512.34 | tonne of carbon dioxide equivalent |\n",
      "| City of Edinburgh |  2017 | 507553.12 | tonne of carbon dioxide equivalent |\n",
      "|           Falkirk |  2018 | 154954.43 | tonne of carbon dioxide equivalent |\n"
     ]
    },
    {
     "data": {
      "text/plain": [
       "nil"
      ]
     },
     "execution_count": 3,
     "metadata": {},
     "output_type": "execute_result"
    }
   ],
   "source": [
    "; Load the dataset from sepa-CO2e.csv\n",
    "(def sepa\n",
    "    (with-open [reader (io/reader \"sepa-CO2e.csv\")]\n",
    "        (doall\n",
    "            (to-maps (csv/read-csv reader)))))\n",
    "\n",
    "(println (count sepa) \"rows\")\n",
    "\n",
    "; Adjust a few keys and values to be in keeping with those used by Wikidata\n",
    "(def sepa\n",
    "    (->> sepa\n",
    "        (map #(set/rename-keys % {:TCO2e :amount}))\n",
    "        (map #(assoc % :unit \"tonne of carbon dioxide equivalent\"))\n",
    "        (map #(let [council (:council %)]\n",
    "                  (cond \n",
    "                    (= council \"Na h-Eileanan Siar\") (assoc % :council \"Outer Hebrides\")\n",
    "                    (str/starts-with? council \"Orkney Islands\") (assoc % :council \"Orkney Islands\")\n",
    "                    :else %)))))\n",
    "\n",
    "; Print a sample\n",
    "(pp/print-table [:council :year :amount :unit] (repeatedly 5 #(rand-nth sepa)))"
   ]
  },
  {
   "cell_type": "markdown",
   "metadata": {},
   "source": [
    "### Load Wikidata's relevant CO2e data into memory\n",
    "\n",
    "Load the data by running a SPARQL query against Wikidata.  "
   ]
  },
  {
   "cell_type": "code",
   "execution_count": 4,
   "metadata": {},
   "outputs": [
    {
     "name": "stdout",
     "output_type": "stream",
     "text": [
      "[W 07:33:46.470 Clojupyter] org.apache.http.client.protocol.ResponseProcessCookies:130 -- Invalid cookie header: \"Set-Cookie: WMF-Last-Access=28-Sep-2020;Path=/;HttpOnly;secure;Expires=Fri, 30 Oct 2020 00:00:00 GMT\". Invalid 'expires' attribute: Fri, 30 Oct 2020 00:00:00 GMT\n",
      "[W 07:33:46.488 Clojupyter] org.apache.http.client.protocol.ResponseProcessCookies:130 -- Invalid cookie header: \"Set-Cookie: WMF-Last-Access-Global=28-Sep-2020;Path=/;Domain=.wikidata.org;HttpOnly;secure;Expires=Fri, 30 Oct 2020 00:00:00 GMT\". Invalid 'expires' attribute: Fri, 30 Oct 2020 00:00:00 GMT\n",
      "64 rows\n"
     ]
    },
    {
     "data": {
      "text/plain": [
       "nil"
      ]
     },
     "execution_count": 4,
     "metadata": {},
     "output_type": "execute_result"
    }
   ],
   "source": [
    "; Define the SPARQL query that will fetch the relevant Scottish council area data\n",
    "(def sparql \"\n",
    "SELECT ?qid ?councilAreaLabel ?year ?amount ?unitLabel\n",
    "WHERE {\n",
    "  ?councilArea wdt:P31 wd:Q15060255 . # Scottish council area\n",
    "  BIND(strafter(str(?councilArea), 'http://www.wikidata.org/entity/') as ?qid)\n",
    "  OPTIONAL { \n",
    "    ?councilArea p:P5991 ?CO2e . \n",
    "    ?CO2e psv:P5991 ?quantity ;\n",
    "          pq:P585 ?date ;\n",
    "          pq:P828 wd:Q180388 ; # 'has cause' 'waste management'\n",
    "          pq:P828 wd:Q259059 . # 'has cause' 'household'\n",
    "    ?quantity wikibase:quantityAmount ?amount;\n",
    "              wikibase:quantityUnit ?unit.\n",
    "    BIND(YEAR(?date) as ?year)\n",
    "  }\n",
    "  SERVICE wikibase:label { bd:serviceParam wikibase:language '[AUTO_LANGUAGE],en' . }\n",
    "}\")\n",
    "\n",
    "; Execute the SPARQL query agaist Wikidata\n",
    "(def wikidata0\n",
    "    (->> sparql\n",
    "        (exec-query :wikidata)\n",
    "        (map #(set/rename-keys % {:councilAreaLabel :council\n",
    "                                  :unitLabel :unit}))))\n",
    "\n",
    "(println (count wikidata0) \"rows\")"
   ]
  },
  {
   "cell_type": "code",
   "execution_count": 5,
   "metadata": {},
   "outputs": [
    {
     "name": "stdout",
     "output_type": "stream",
     "text": [
      "64 rows\n"
     ]
    },
    {
     "data": {
      "text/plain": [
       "nil"
      ]
     },
     "execution_count": 5,
     "metadata": {},
     "output_type": "execute_result"
    }
   ],
   "source": [
    "; wikidata0 might contain rows where the year is not 2017 or 2018.\n",
    "; This is deliberate. \n",
    "; We want to know the Scottish council area label and qid values \n",
    ";   even when they are not associated with 2017 or 2018 CO2e values\n",
    "; Because we need all the labels and qids later, when we build the label->qid map.\n",
    "; However, the next step is to compare relevant (i.e. 2017 & 2018) data items,\n",
    ";  and for that purpose, we filter wikidata0 to remove non relevant data items.\n",
    "(def wikidata \n",
    "    (->> wikidata0\n",
    "        (filter #(contains? #{\"2017\" \"2018\"} (:year %)))\n",
    "        (map #(select-keys % [:council :year :amount :unit]))))\n",
    "\n",
    "(println (count wikidata) \"rows\")"
   ]
  },
  {
   "cell_type": "markdown",
   "metadata": {},
   "source": [
    "### Compare Wikidata's CO2e data against SEPA's "
   ]
  },
  {
   "cell_type": "code",
   "execution_count": 6,
   "metadata": {},
   "outputs": [
    {
     "name": "stdout",
     "output_type": "stream",
     "text": [
      "0 in SEPA only\n",
      "0 in Wikidata only\n",
      "64 in both\n"
     ]
    },
    {
     "data": {
      "text/plain": [
       "nil"
      ]
     },
     "execution_count": 6,
     "metadata": {},
     "output_type": "execute_result"
    }
   ],
   "source": [
    "; Check for differences\n",
    "\n",
    "(def diff (data/diff \n",
    "            (set sepa) \n",
    "            (set wikidata)))\n",
    "\n",
    "(println (count (first diff)) \"in SEPA only\")\n",
    "(println (count (second diff)) \"in Wikidata only\")\n",
    "(println (count (nth diff 2)) \"in both\")\n",
    "\n",
    "(with-open [wtr (io/writer \"CO2e-diff.txt\")]\n",
    "  (binding [*out* wtr]\n",
    "    (do\n",
    "      (println \"CO2e-values: SEPA versus Wikidata\")\n",
    "      (println)\n",
    "      (println (count (first diff)) \"in SEPA only...\")\n",
    "      (pp/pprint (first diff))\n",
    "      (println)\n",
    "      (println (count (second diff)) \"in Wikidata only...\")\n",
    "      (pp/pprint (second diff))\n",
    "      (println)\n",
    "      (println (count (nth diff 2)) \"in both...\")\n",
    "      (pp/pprint (nth diff 2)))))"
   ]
  },
  {
   "cell_type": "markdown",
   "metadata": {},
   "source": [
    "#### When I first compared...\n",
    "\n",
    "When I ran the above comparison for the first time (at 2020-09-24T15_30Z) it discovered the following differences...\n",
    "\n",
    "```\n",
    "64 in SEPA only\n",
    "0 in Wikidata only\n",
    "0 in both\n",
    "```\n",
    "The details are in [this file](CO2e-diff-2020-09-24T15_30Z.txt).\n",
    "\n",
    "To fix those differences, \n",
    "I created/amended the appropriate Wikidata data items \n",
    "via the [QuickSatements](https://quickstatements.toolforge.org/) service. \n",
    "QuickStatements accepts CSV input - representing edits to be applied to Wikidata. \n",
    "The quickStatements CSV input was generated as follows."
   ]
  },
  {
   "cell_type": "code",
   "execution_count": 7,
   "metadata": {},
   "outputs": [
    {
     "data": {
      "text/plain": [
       "nil"
      ]
     },
     "execution_count": 7,
     "metadata": {},
     "output_type": "execute_result"
    }
   ],
   "source": [
    "; Generate the CSV that is to be imported into QuickStatements\n",
    "\n",
    "(def TQD \"\\\"\\\"\\\"\") ; triple double-quote \n",
    "\n",
    "(def year->url {\"2017\" \"https://www.sepa.org.uk/media/378875/2017-household-waste-summary-tables-final.xlsx\"\n",
    "                \"2018\" \"https://www.sepa.org.uk/media/469611/2018-household-waste-data-tables.xlsx\"})\n",
    "\n",
    "(def council->qid\n",
    "    (->> wikidata0\n",
    "        (map #(vector (:council %) (:qid %)))\n",
    "        (into {})))\n",
    "\n",
    "(with-open [wtr (io/writer \"CO2e-quickstatements.csv\")]\n",
    "  (binding [*out* wtr]\n",
    "    ;; qid, CO2e, point in time (qualifier), determination method (qualifier), has cause (qualifier), has cause (qualifier), reference URL, editing comment\n",
    "    (println \"qid,P5991,qal585,qal459,qal828,qal828,S854,#\") \n",
    "    (doseq [m (first diff)]\n",
    "      (println (str (council->qid (:council m)) \",\"\n",
    "                    (:amount m) \"U57084755,\" ; tonne of carbon dioxide equivalent\n",
    "                    \"+\" (:year m) \"-00-00T00:00:00Z/9,\"\n",
    "                    \"Q791801,\" ; estimation process\n",
    "                    \"Q180388,\" ; waste management\n",
    "                    \"Q259059,\" ; household\n",
    "                    TQD (year->url (:year m)) TQD \",\"\n",
    "                    TQD \"Set \" (:council m) \" council area's \" (:year m) \" CO2e amount\" TQD)))))"
   ]
  },
  {
   "cell_type": "markdown",
   "metadata": {},
   "source": [
    "\n",
    "When I ran the above CSV generation for the first time - the output is in [this file](CO2-quickstatements-2020-09-25T08_50Z.csv) - it specified 378 _individual_ edits to Wikidata (after I removed 6 of them that I had already manually edited into Wikidata). These were successfully executed (taking about 20 mins) against Wikidata by QuickStatements.\n",
    "\n",
    "### Using the uploaded dataset\n",
    "\n",
    "As an example use, let's display a grouped bar chart to visualise...\n",
    "\n",
    ">_for household waste, the tonnes of CO2e generated per citizen per year per Scottish council area_.\n",
    "\n",
    "To do so...\n",
    "* we run a SPARQL query against Wikidata \n",
    "* that uses the CO2e dataset that we've just uploaded\n",
    "* and uses the population dataset that we [previously](dataset-into-wikidata.ipynb) uploaded \n",
    "* to perform the required calculation \n",
    "* then, finally, we instruct Vega-Lite to render the chart. "
   ]
  },
  {
   "cell_type": "code",
   "execution_count": 8,
   "metadata": {
    "scrolled": false
   },
   "outputs": [
    {
     "name": "stdout",
     "output_type": "stream",
     "text": [
      "[W 07:33:49.588 Clojupyter] org.apache.http.client.protocol.ResponseProcessCookies:130 -- Invalid cookie header: \"Set-Cookie: WMF-Last-Access=28-Sep-2020;Path=/;HttpOnly;secure;Expires=Fri, 30 Oct 2020 00:00:00 GMT\". Invalid 'expires' attribute: Fri, 30 Oct 2020 00:00:00 GMT\n",
      "[W 07:33:49.590 Clojupyter] org.apache.http.client.protocol.ResponseProcessCookies:130 -- Invalid cookie header: \"Set-Cookie: WMF-Last-Access-Global=28-Sep-2020;Path=/;Domain=.wikidata.org;HttpOnly;secure;Expires=Fri, 30 Oct 2020 00:00:00 GMT\". Invalid 'expires' attribute: Fri, 30 Oct 2020 00:00:00 GMT\n"
     ]
    },
    {
     "data": {
      "text/html": [
       "\n",
       "  <div>\n",
       "    <div id='uuid-d34b89c4-5b63-41a6-aafe-346d11a2a80c'></div>\n",
       "    <script>\n",
       "    requirejs.config({\n",
       "      baseUrl: 'https://cdn.jsdelivr.net/npm/',\n",
       "      paths: {\n",
       "        'vega-embed':  'vega-embed@6.9.0?noext',\n",
       "        'vega-lib': 'vega-lib?noext',\n",
       "        'vega-lite': 'vega-lite@4.13.1?noext',\n",
       "        'vega': 'vega@5.13.0?noext'\n",
       "      }\n",
       "    });\n",
       "    require(['vega-embed'], function(vegaEmbed) {\n",
       "      let spec = {\"data\":{\"values\":[{\"qid\":\"Q47134\",\"year\":\"2017\",\"CO2ePerCitizen\":\"1.3854072790294627383\",\"council\":\"Shetland Islands\"},{\"qid\":\"Q47134\",\"year\":\"2018\",\"CO2ePerCitizen\":\"1.35055980861244019139\",\"council\":\"Shetland Islands\"},{\"qid\":\"Q80967\",\"year\":\"2017\",\"CO2ePerCitizen\":\"1.43422263450834879406\",\"council\":\"Outer Hebrides\"},{\"qid\":\"Q100166\",\"year\":\"2018\",\"CO2ePerCitizen\":\"1.22251599819738621\",\"council\":\"Orkney Islands\"},{\"qid\":\"Q100166\",\"year\":\"2017\",\"CO2ePerCitizen\":\"1.32149227272727272727\",\"council\":\"Orkney Islands\"},{\"qid\":\"Q80967\",\"year\":\"2018\",\"CO2ePerCitizen\":\"1.41248788669399925457\",\"council\":\"Outer Hebrides\"},{\"qid\":\"Q202174\",\"year\":\"2018\",\"CO2ePerCitizen\":\"1.38128077904011129144\",\"council\":\"Argyll and Bute\"},{\"qid\":\"Q202174\",\"year\":\"2017\",\"CO2ePerCitizen\":\"1.46296670890450408939\",\"council\":\"Argyll and Bute\"},{\"qid\":\"Q202177\",\"year\":\"2017\",\"CO2ePerCitizen\":\"0.99673073615411076711\",\"council\":\"Angus\"},{\"qid\":\"Q204940\",\"year\":\"2017\",\"CO2ePerCitizen\":\"0.80489129115878881474\",\"council\":\"West Lothian\"},{\"qid\":\"Q202177\",\"year\":\"2018\",\"CO2ePerCitizen\":\"0.9663427266459841434\",\"council\":\"Angus\"},{\"qid\":\"Q189912\",\"year\":\"2018\",\"CO2ePerCitizen\":\"1.17869334914139289402\",\"council\":\"Aberdeenshire\"},{\"qid\":\"Q201149\",\"year\":\"2018\",\"CO2ePerCitizen\":\"0.91384160146271947514\",\"council\":\"Fife\"},{\"qid\":\"Q126514\",\"year\":\"2017\",\"CO2ePerCitizen\":\"1.47467794906166219839\",\"council\":\"Dumfries and Galloway\"},{\"qid\":\"Q126514\",\"year\":\"2018\",\"CO2ePerCitizen\":\"1.52565004368573156798\",\"council\":\"Dumfries and Galloway\"},{\"qid\":\"Q189912\",\"year\":\"2017\",\"CO2ePerCitizen\":\"1.24248632543926661574\",\"council\":\"Aberdeenshire\"},{\"qid\":\"Q201149\",\"year\":\"2017\",\"CO2ePerCitizen\":\"0.94037023774265636359\",\"council\":\"Fife\"},{\"qid\":\"Q206934\",\"year\":\"2018\",\"CO2ePerCitizen\":\"1.00580063499014670462\",\"council\":\"Midlothian\"},{\"qid\":\"Q206934\",\"year\":\"2017\",\"CO2ePerCitizen\":\"1.09120124320124320124\",\"council\":\"Midlothian\"},{\"qid\":\"Q204940\",\"year\":\"2018\",\"CO2ePerCitizen\":\"0.834904304381245196\",\"council\":\"West Lothian\"},{\"qid\":\"Q206926\",\"year\":\"2017\",\"CO2ePerCitizen\":\"1.0126838500625966566\",\"council\":\"North Ayrshire\"},{\"qid\":\"Q206926\",\"year\":\"2018\",\"CO2ePerCitizen\":\"1.04270409520993494973\",\"council\":\"North Ayrshire\"},{\"qid\":\"Q207257\",\"year\":\"2017\",\"CO2ePerCitizen\":\"1.06924112933994658527\",\"council\":\"East Lothian\"},{\"qid\":\"Q207268\",\"year\":\"2018\",\"CO2ePerCitizen\":\"1.04223463035019455253\",\"council\":\"Clackmannanshire\"},{\"qid\":\"Q207111\",\"year\":\"2018\",\"CO2ePerCitizen\":\"1.04055738138632488682\",\"council\":\"North Lanarkshire\"},{\"qid\":\"Q207257\",\"year\":\"2018\",\"CO2ePerCitizen\":\"1.04627696379620001891\",\"council\":\"East Lothian\"},{\"qid\":\"Q207111\",\"year\":\"2017\",\"CO2ePerCitizen\":\"1.19642478526885515943\",\"council\":\"North Lanarkshire\"},{\"qid\":\"Q207679\",\"year\":\"2017\",\"CO2ePerCitizen\":\"0.9339756452680344143\",\"council\":\"Perth and Kinross\"},{\"qid\":\"Q208271\",\"year\":\"2018\",\"CO2ePerCitizen\":\"0.73645387076135636596\",\"council\":\"Inverclyde\"},{\"qid\":\"Q207679\",\"year\":\"2018\",\"CO2ePerCitizen\":\"0.92695782933439090488\",\"council\":\"Perth and Kinross\"},{\"qid\":\"Q207268\",\"year\":\"2017\",\"CO2ePerCitizen\":\"1.07577492711370262391\",\"council\":\"Clackmannanshire\"},{\"qid\":\"Q208121\",\"year\":\"2017\",\"CO2ePerCitizen\":\"1.17015679053677044973\",\"council\":\"West Dunbartonshire\"},{\"qid\":\"Q208121\",\"year\":\"2018\",\"CO2ePerCitizen\":\"1.15268977897453158308\",\"council\":\"West Dunbartonshire\"},{\"qid\":\"Q208279\",\"year\":\"2018\",\"CO2ePerCitizen\":\"1.34675163454190371062\",\"council\":\"Highland\"},{\"qid\":\"Q208271\",\"year\":\"2017\",\"CO2ePerCitizen\":\"0.72016874047739969528\",\"council\":\"Inverclyde\"},{\"qid\":\"Q209131\",\"year\":\"2017\",\"CO2ePerCitizen\":\"1.11895296414625488108\",\"council\":\"South Ayrshire\"},{\"qid\":\"Q208279\",\"year\":\"2017\",\"CO2ePerCitizen\":\"1.36575435836380644613\",\"council\":\"Highland\"},{\"qid\":\"Q209131\",\"year\":\"2018\",\"CO2ePerCitizen\":\"1.10858738338516215016\",\"council\":\"South Ayrshire\"},{\"qid\":\"Q216802\",\"year\":\"2018\",\"CO2ePerCitizen\":\"0.96641156292877635026\",\"council\":\"Falkirk\"},{\"qid\":\"Q216802\",\"year\":\"2017\",\"CO2ePerCitizen\":\"0.93592581027914819209\",\"council\":\"Falkirk\"},{\"qid\":\"Q211925\",\"year\":\"2017\",\"CO2ePerCitizen\":\"1.0128281975517095821\",\"council\":\"East Renfrewshire\"},{\"qid\":\"Q211889\",\"year\":\"2018\",\"CO2ePerCitizen\":\"1.02829373211483430259\",\"council\":\"East Dunbartonshire\"},{\"qid\":\"Q211925\",\"year\":\"2018\",\"CO2ePerCitizen\":\"0.93587832300094567616\",\"council\":\"East Renfrewshire\"},{\"qid\":\"Q211889\",\"year\":\"2017\",\"CO2ePerCitizen\":\"1.20923499491353001017\",\"council\":\"East Dunbartonshire\"},{\"qid\":\"Q2379199\",\"year\":\"2018\",\"CO2ePerCitizen\":\"0.95049481195756991321\",\"council\":\"City of Edinburgh\"},{\"qid\":\"Q2357511\",\"year\":\"2018\",\"CO2ePerCitizen\":\"0.99696591596638655462\",\"council\":\"Dundee City\"},{\"qid\":\"Q217838\",\"year\":\"2018\",\"CO2ePerCitizen\":\"0.93472606805894201209\",\"council\":\"Stirling\"},{\"qid\":\"Q2357511\",\"year\":\"2017\",\"CO2ePerCitizen\":\"1.03996631026830744402\",\"council\":\"Dundee City\"},{\"qid\":\"Q217838\",\"year\":\"2017\",\"CO2ePerCitizen\":\"0.90005553191489361702\",\"council\":\"Stirling\"},{\"qid\":\"Q211106\",\"year\":\"2017\",\"CO2ePerCitizen\":\"1.01833336813531008561\",\"council\":\"Moray\"},{\"qid\":\"Q211113\",\"year\":\"2017\",\"CO2ePerCitizen\":\"1.17081490175621631021\",\"council\":\"Scottish Borders\"},{\"qid\":\"Q211106\",\"year\":\"2018\",\"CO2ePerCitizen\":\"0.95960510887772194305\",\"council\":\"Moray\"},{\"qid\":\"Q211113\",\"year\":\"2018\",\"CO2ePerCitizen\":\"1.16370139672074260432\",\"council\":\"Scottish Borders\"},{\"qid\":\"Q211091\",\"year\":\"2017\",\"CO2ePerCitizen\":\"1.10578550019793021546\",\"council\":\"Renfrewshire\"},{\"qid\":\"Q209135\",\"year\":\"2018\",\"CO2ePerCitizen\":\"0.96919681549573210768\",\"council\":\"East Ayrshire\"},{\"qid\":\"Q209142\",\"year\":\"2017\",\"CO2ePerCitizen\":\"1.16548197504478737782\",\"council\":\"South Lanarkshire\"},{\"qid\":\"Q62274582\",\"year\":\"2018\",\"CO2ePerCitizen\":\"0.87237704341712075936\",\"council\":\"Aberdeen City\"},{\"qid\":\"Q211091\",\"year\":\"2018\",\"CO2ePerCitizen\":\"1.06589358231621576017\",\"council\":\"Renfrewshire\"},{\"qid\":\"Q55934339\",\"year\":\"2018\",\"CO2ePerCitizen\":\"1.17167728803818585272\",\"council\":\"Glasgow City\"},{\"qid\":\"Q209142\",\"year\":\"2018\",\"CO2ePerCitizen\":\"1.13233640524105071782\",\"council\":\"South Lanarkshire\"},{\"qid\":\"Q55934339\",\"year\":\"2017\",\"CO2ePerCitizen\":\"1.09508753341277253551\",\"council\":\"Glasgow City\"},{\"qid\":\"Q209135\",\"year\":\"2017\",\"CO2ePerCitizen\":\"0.98028497621781203871\",\"council\":\"East Ayrshire\"},{\"qid\":\"Q2379199\",\"year\":\"2017\",\"CO2ePerCitizen\":\"0.98897745562245474562\",\"council\":\"City of Edinburgh\"},{\"qid\":\"Q62274582\",\"year\":\"2017\",\"CO2ePerCitizen\":\"0.86791813811188811189\",\"council\":\"Aberdeen City\"}]},\"mark\":{\"type\":\"bar\",\"tooltip\":{\"content\":\"data\"}},\"width\":20,\"encoding\":{\"column\":{\"field\":\"council\",\"type\":\"nominal\",\"spacing\":0,\"sort\":{\"field\":\"CO2ePerCitizen\",\"op\":\"mean\"},\"header\":{\"labelAngle\":-90,\"labelAlign\":\"right\",\"labelOrient\":\"bottom\",\"labelBaseline\":\"middle\"},\"axis\":{\"title\":null}},\"x\":{\"field\":\"year\",\"type\":\"ordinal\",\"axis\":{\"title\":null,\"labels\":false,\"ticks\":false}},\"y\":{\"field\":\"CO2ePerCitizen\",\"type\":\"quantitative\",\"axis\":{\"grid\":true,\"labelAngle\":-45,\"title\":\"CO2e tonnes\"},\"scale\":{\"zero\":false}},\"color\":{\"field\":\"year\"}}};\n",
       "      vegaEmbed('#uuid-d34b89c4-5b63-41a6-aafe-346d11a2a80c', spec, {defaultStyle:true}).catch(console.warn);\n",
       "      }, function(err) {\n",
       "      console.log('Failed to load');\n",
       "    });\n",
       "    </script>\n",
       "  </div>\n",
       "    "
      ]
     },
     "execution_count": 8,
     "metadata": {},
     "output_type": "execute_result"
    }
   ],
   "source": [
    "(def sparql \"\n",
    "SELECT ?qid ?councilAreaLabel ?year ?CO2ePerCitizen\n",
    "WHERE {\n",
    "  ?councilArea wdt:P31 wd:Q15060255 . # Scottish council area\n",
    "  BIND(strafter(str(?councilArea), 'http://www.wikidata.org/entity/') as ?qid)\n",
    "  ?councilArea p:P5991 ?CO2e ;\n",
    "               p:P1082 ?population. \n",
    "  ?CO2e psv:P5991 ?CO2eQuantity ;\n",
    "        pq:P585 ?date ;\n",
    "        pq:P828 wd:Q180388 ; # 'has cause' 'waste management'\n",
    "        pq:P828 wd:Q259059 . # 'has cause' 'household'\n",
    "  ?population psv:P1082 ?populationQuantity ;\n",
    "              pq:P585 ?date .\n",
    "  ?CO2eQuantity wikibase:quantityAmount ?CO2eAmount.\n",
    "  ?populationQuantity wikibase:quantityAmount ?populationAmount .\n",
    "  BIND(YEAR(?date) as ?year)\n",
    "  BIND((xsd:decimal(?CO2eAmount)/xsd:integer(?populationAmount)) AS ?CO2ePerCitizen)\n",
    "  SERVICE wikibase:label { bd:serviceParam wikibase:language '[AUTO_LANGUAGE],en' . }\n",
    "}\")\n",
    "\n",
    "(def wikidata\n",
    "    (->> sparql\n",
    "        (exec-query :wikidata)\n",
    "        (map #(set/rename-keys % {:councilAreaLabel :council}))))\n",
    "\n",
    "(def chart-spec\n",
    "  {:data {:values wikidata}\n",
    "   :mark {:type \"bar\" \n",
    "          :tooltip {:content \"data\"}}\n",
    "   :width 20\n",
    "   :encoding {:column {:field \"council\"\n",
    "                       :type \"nominal\"\n",
    "                       :spacing 0\n",
    "                       :sort {:field \"CO2ePerCitizen\" :op \"mean\"}\n",
    "                       :header{:labelAngle -90\n",
    "                               :labelAlign \"right\"\n",
    "                               :labelOrient \"bottom\"\n",
    "                               :labelBaseline \"middle\"}\n",
    "                       :axis {:title nil}}\n",
    "              :x {:field \"year\"\n",
    "                  :type \"ordinal\"\n",
    "                  :axis {:title nil\n",
    "                         :labels false\n",
    "                         :ticks false}}\n",
    "              :y {:field \"CO2ePerCitizen\"\n",
    "                  :type \"quantitative\"\n",
    "                  :axis {:grid true\n",
    "                         :labelAngle -45\n",
    "                         :title \"CO2e tonnes\"}\n",
    "                  :scale {:zero false}}\n",
    "              :color {:field \"year\"}}})\n",
    "\n",
    "(oz/view! chart-spec)"
   ]
  },
  {
   "cell_type": "code",
   "execution_count": null,
   "metadata": {},
   "outputs": [],
   "source": []
  }
 ],
 "metadata": {
  "kernelspec": {
   "display_name": "Clojure (clojupyter=0.3.2=1)",
   "language": "clojure",
   "name": "conda-clojupyter"
  },
  "language_info": {
   "file_extension": ".clj",
   "mimetype": "text/x-clojure",
   "name": "clojure",
   "version": "1.10.1"
  },
  "toc": {
   "base_numbering": 1,
   "nav_menu": {},
   "number_sections": false,
   "sideBar": false,
   "skip_h1_title": false,
   "title_cell": "Table of Contents",
   "title_sidebar": "Contents",
   "toc_cell": false,
   "toc_position": {},
   "toc_section_display": false,
   "toc_window_display": false
  },
  "widgets": {
   "application/vnd.jupyter.widget-state+json": {
    "state": {},
    "version_major": 2,
    "version_minor": 0
   }
  }
 },
 "nbformat": 4,
 "nbformat_minor": 2
}
