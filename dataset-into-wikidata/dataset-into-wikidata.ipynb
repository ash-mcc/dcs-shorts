{
 "cells": [
  {
   "cell_type": "markdown",
   "metadata": {},
   "source": [
    "# An exploration of uploading a dataset into Wikidata \n",
    "\n",
    "This workbook explores the steps involved in, and the usefulness of, uploading a dataset into [Wikidata](https://www.wikipedia.org/wiki/Wikidata).\n",
    "\n",
    "Wikidata maintains [linked data](https://www.wikipedia.org/wiki/Linked_data) so uploading a dataset into it is a little more difficult than into a non-linked respository like [CKAN](https://en.wikipedia.org/wiki/CKAN). \n",
    "\n",
    "## 1. The dataset that is to be uploaded\n",
    "\n",
    "The dataset that is to be uploaded is a slice of [statistics.gov.scot](http://statistics.gov.scot)'s [Population Estimates](http://statistics.gov.scot/data/population-estimates-current-geographic-boundaries) data cube: _population per council area per year_.\n",
    "\n",
    "## 1.1 Prep tooling"
   ]
  },
  {
   "cell_type": "code",
   "execution_count": 129,
   "metadata": {},
   "outputs": [
    {
     "data": {
      "text/plain": [
       "nil"
      ]
     },
     "execution_count": 129,
     "metadata": {},
     "output_type": "execute_result"
    }
   ],
   "source": [
    "; Add code libraries\n",
    "\n",
    "(require '[clojupyter.misc.helper :as helper])\n",
    "\n",
    "(helper/add-dependencies '[org.clojure/data.csv \"1.0.0\"])\n",
    "(helper/add-dependencies '[clj-http/clj-http \"3.10.1\"])\n",
    "\n",
    "(require '[clojure.string :as str]\n",
    "         '[clojure.set :as set]\n",
    "         '[clojure.data :as data]\n",
    "         '[clojure.pprint :as pp]\n",
    "         '[clojure.java.io :as io]\n",
    "         '[clojure.data.csv :as csv]\n",
    "         '[clj-http.client :as http])"
   ]
  },
  {
   "cell_type": "code",
   "execution_count": 130,
   "metadata": {},
   "outputs": [
    {
     "data": {
      "text/plain": [
       "#'user/exec-query"
      ]
     },
     "execution_count": 130,
     "metadata": {},
     "output_type": "execute_result"
    }
   ],
   "source": [
    "; Define convenience functions\n",
    "\n",
    "; Convert the CSV structure to a list-of-maps structure.\n",
    "(defn to-maps [csv-data]\n",
    "    (map zipmap (->> (first csv-data)\n",
    "                    (map keyword)\n",
    "                    repeat)\n",
    "                (rest csv-data)))\n",
    "\n",
    "; Map the name of a SPARQL service to its URL.\n",
    "(def service-urls {:scotgov \"http://statistics.gov.scot/sparql\"\n",
    "                   :wikidata \"https://query.wikidata.org/sparql\"})\n",
    "                                \n",
    "; Ask the service to execute the given SPARQL query\n",
    "; and return its result as a list-of-maps.\n",
    "(defn exec-query [service-name sparql]\n",
    "  (->> (http/post (service-name service-urls) \n",
    "        {:body (str \"query=\" (URLEncoder/encode sparql)) \n",
    "         :headers {\"Accept\" \"text/csv\" \n",
    "                   \"Content-Type\" \"application/x-www-form-urlencoded\"} \n",
    "         :debug false})\n",
    "    :body\n",
    "    csv/read-csv\n",
    "    to-maps))"
   ]
  },
  {
   "cell_type": "markdown",
   "metadata": {},
   "source": [
    "## 2. Council areas\n",
    "\n",
    "Considering the _council area_ aspect of the dataset, \n",
    "how do `scotgov` (statistic.gov.scot) and `wikidata` (Wikidata) compare?\n",
    "\n",
    "`scotgov` identifies council areas by a 9 character codes (e.g. `S12000030` identifies the Stirling council area).   \n",
    "Happily, `wikidata` can also identify Scottish council areas using the same codes.\n",
    "\n",
    "### 2.1. Council area codes data from statistics.gov.scot "
   ]
  },
  {
   "cell_type": "code",
   "execution_count": 131,
   "metadata": {},
   "outputs": [
    {
     "name": "stdout",
     "output_type": "stream",
     "text": [
      "32 rows\n"
     ]
    },
    {
     "data": {
      "text/plain": [
       "nil"
      ]
     },
     "execution_count": 131,
     "metadata": {},
     "output_type": "execute_result"
    }
   ],
   "source": [
    "; Query statistics.gov.scot for council area codes\n",
    "\n",
    "(def sparql \"\n",
    "\n",
    "PREFIX rdfs: <http://www.w3.org/2000/01/rdf-schema#>\n",
    "PREFIX uent: <http://statistics.data.gov.uk/def/statistical-entity#>\n",
    "PREFIX ugeo: <http://statistics.data.gov.uk/def/statistical-geography#>\n",
    "\n",
    "SELECT \n",
    "  (strafter(str(?areaUri), 'http://statistics.gov.scot/id/statistical-geography/') as ?code) \n",
    "  ?label\n",
    "\n",
    "WHERE {\n",
    "  ?areaUri uent:code <http://statistics.gov.scot/id/statistical-entity/S12> ;\n",
    "           ugeo:status 'Live' ;\n",
    "           rdfs:label ?label .\n",
    "}\n",
    "\")\n",
    "\n",
    "(def area-codes-scotgov \n",
    "    (->> sparql\n",
    "        (exec-query :scotgov)))\n",
    "\n",
    "(println (count area-codes-scotgov ) \"rows\")"
   ]
  },
  {
   "cell_type": "code",
   "execution_count": 132,
   "metadata": {},
   "outputs": [
    {
     "name": "stdout",
     "output_type": "stream",
     "text": [
      "\n",
      "|     :code |             :label |\n",
      "|-----------+--------------------|\n",
      "| S12000013 | Na h-Eileanan Siar |\n",
      "| S12000030 |           Stirling |\n",
      "| S12000029 |  South Lanarkshire |\n",
      "| S12000021 |     North Ayrshire |\n",
      "| S12000030 |           Stirling |\n"
     ]
    },
    {
     "data": {
      "text/plain": [
       "nil"
      ]
     },
     "execution_count": 132,
     "metadata": {},
     "output_type": "execute_result"
    }
   ],
   "source": [
    "; Print a sample\n",
    "\n",
    "(def ks [:code :label])\n",
    "(pp/print-table ks (repeatedly 5 #(rand-nth area-codes-scotgov)))"
   ]
  },
  {
   "cell_type": "markdown",
   "metadata": {},
   "source": [
    "### 2.2. Council area codes from Wikidata"
   ]
  },
  {
   "cell_type": "code",
   "execution_count": 133,
   "metadata": {},
   "outputs": [
    {
     "name": "stdout",
     "output_type": "stream",
     "text": [
      "[W 18:57:25.201 Clojupyter] org.apache.http.client.protocol.ResponseProcessCookies:130 -- Invalid cookie header: \"Set-Cookie: WMF-Last-Access=10-Sep-2020;Path=/;HttpOnly;secure;Expires=Mon, 12 Oct 2020 12:00:00 GMT\". Invalid 'expires' attribute: Mon, 12 Oct 2020 12:00:00 GMT\n",
      "[W 18:57:25.203 Clojupyter] org.apache.http.client.protocol.ResponseProcessCookies:130 -- Invalid cookie header: \"Set-Cookie: WMF-Last-Access-Global=10-Sep-2020;Path=/;Domain=.wikidata.org;HttpOnly;secure;Expires=Mon, 12 Oct 2020 12:00:00 GMT\". Invalid 'expires' attribute: Mon, 12 Oct 2020 12:00:00 GMT\n",
      "32 rows\n"
     ]
    },
    {
     "data": {
      "text/plain": [
       "nil"
      ]
     },
     "execution_count": 133,
     "metadata": {},
     "output_type": "execute_result"
    }
   ],
   "source": [
    "; Query Wikidata for council area codes\n",
    "\n",
    "(def sparql \"\n",
    "\n",
    "SELECT DISTINCT\n",
    "  ?code\n",
    "  ?areaEntityLabel\n",
    "\n",
    "WHERE {\n",
    "  ?areaEntity wdt:P31 wd:Q15060255 ; # Scottish council area\n",
    "              wdt:P836 ?code . # nine-character UK Government Statistical Service code\n",
    "\n",
    "  SERVICE wikibase:label { bd:serviceParam wikibase:language '[AUTO_LANGUAGE],en' . }\n",
    "}\")\n",
    "\n",
    "(def area-codes-wikidata\n",
    "    (->> sparql\n",
    "        (exec-query :wikidata)\n",
    "        (map #(set/rename-keys % {:areaEntityLabel :label}))))\n",
    "\n",
    "(println (count area-codes-wikidata) \"rows\")"
   ]
  },
  {
   "cell_type": "code",
   "execution_count": 134,
   "metadata": {},
   "outputs": [
    {
     "name": "stdout",
     "output_type": "stream",
     "text": [
      "\n",
      "|     :code |              :label |\n",
      "|-----------+---------------------|\n",
      "| S12000045 | East Dunbartonshire |\n",
      "| S12000019 |          Midlothian |\n",
      "| S12000049 |        Glasgow City |\n",
      "| S12000027 |    Shetland Islands |\n",
      "| S12000018 |          Inverclyde |\n"
     ]
    },
    {
     "data": {
      "text/plain": [
       "nil"
      ]
     },
     "execution_count": 134,
     "metadata": {},
     "output_type": "execute_result"
    }
   ],
   "source": [
    "; Print a sample\n",
    "\n",
    "(def ks [:code :label])\n",
    "(pp/print-table ks (repeatedly 5 #(rand-nth area-codes-wikidata)))"
   ]
  },
  {
   "cell_type": "markdown",
   "metadata": {},
   "source": [
    "### 2.3. Compare Wikidata's council area codes against statistics.gov.scot's"
   ]
  },
  {
   "cell_type": "code",
   "execution_count": 135,
   "metadata": {},
   "outputs": [
    {
     "name": "stdout",
     "output_type": "stream",
     "text": [
      "1 in :scotgov only...\n",
      "#{{:code \"S12000013\", :label \"Na h-Eileanan Siar\"}}\n",
      "\n",
      "1 in :wikidata only...\n",
      "#{{:code \"S12000013\", :label \"Outer Hebrides\"}}\n",
      "\n",
      "31 in both\n"
     ]
    },
    {
     "data": {
      "text/plain": [
       "nil"
      ]
     },
     "execution_count": 135,
     "metadata": {},
     "output_type": "execute_result"
    }
   ],
   "source": [
    "; Check for differences\n",
    "\n",
    "(def diff (data/diff \n",
    "            (set area-codes-scotgov) \n",
    "            (set area-codes-wikidata)))\n",
    "\n",
    "(println (count (first diff)) \"in :scotgov only...\")\n",
    "(pp/pprint (first diff))\n",
    "(println)\n",
    "(println (count (second diff)) \"in :wikidata only...\")\n",
    "(pp/pprint (second diff))\n",
    "(println)\n",
    "(println (count (nth diff 2)) \"in both\")"
   ]
  },
  {
   "cell_type": "markdown",
   "metadata": {},
   "source": [
    "#### 2.3.1. When I first compared...\n",
    "\n",
    "When I ran the above comparison for the first time (at 2020-09-07T21:20GMT) it discovered the following differences...\n",
    "\n",
    "```\n",
    "2 in :scotgov only...\n",
    "#{{:code \"S12000050\", :label \"North Lanarkshire\"}\n",
    "  {:code \"S12000013\", :label \"Na h-Eileanan Siar\"}}\n",
    "\n",
    "2 in :wikidata only...\n",
    "#{{:code \"S12000044\", :label \"North Lanarkshire\"}\n",
    "  {:code \"S12000013\", :label \"Outer Hebrides\"}}\n",
    "\n",
    "30 in both\n",
    "```\n",
    "At that time, `wikidata`'s code value for North Lanarkshire was incorrect so I amended it directly via its web page:\n",
    "* North Lanarkshire [Q207111](https://www.wikidata.org/wiki/Q207111): `S12000044` -> `S12000050`\n",
    "\n",
    "I am using `code` values to identify council areas so it is important that they are correct.\n",
    "\n",
    "For my purpose, the `label` values are not significant so I didn't ponder if the Outer Hebrides' \"English\" `label` should be changed to be its Scottish Gaelic name. So the above live `diff` is probably still indicating this one difference.\n",
    "\n",
    "## 3. Population\n",
    "\n",
    "Now consider the _population_ aspect of the dataset, how do `scotgov` (statistic.gov.scot) and `wikidata` (Wikidata) compare?\n",
    "\n",
    "### 3.1. Population values from statistics.gov.scot"
   ]
  },
  {
   "cell_type": "code",
   "execution_count": 146,
   "metadata": {},
   "outputs": [
    {
     "name": "stdout",
     "output_type": "stream",
     "text": [
      "608 rows\n"
     ]
    },
    {
     "data": {
      "text/plain": [
       "nil"
      ]
     },
     "execution_count": 146,
     "metadata": {},
     "output_type": "execute_result"
    }
   ],
   "source": [
    "; Query statistics.gov.scot for population values\n",
    "\n",
    "(def sparql \"\n",
    "\n",
    "PREFIX qb: <http://purl.org/linked-data/cube#>\n",
    "PREFIX rdfs: <http://www.w3.org/2000/01/rdf-schema#>\n",
    "PREFIX pdmx: <http://purl.org/linked-data/sdmx/2009/dimension#>\n",
    "PREFIX sdmx: <http://statistics.gov.scot/def/dimension/>\n",
    "PREFIX snum: <http://statistics.gov.scot/def/measure-properties/>\n",
    "PREFIX uent: <http://statistics.data.gov.uk/def/statistical-entity#>\n",
    "PREFIX ugeo: <http://statistics.data.gov.uk/def/statistical-geography#>\n",
    "\n",
    "SELECT \n",
    "  (strafter(str(?areaUri), 'http://statistics.gov.scot/id/statistical-geography/') as ?code) \n",
    "  ?label\n",
    "  ?year\n",
    "  ?population\n",
    "\n",
    "WHERE {\n",
    "  ?areaUri uent:code <http://statistics.gov.scot/id/statistical-entity/S12> ;\n",
    "           ugeo:status 'Live' ;\n",
    "           rdfs:label ?label .\n",
    "           \n",
    "  ?populationUri qb:dataSet <http://statistics.gov.scot/data/population-estimates-current-geographic-boundaries> ;\n",
    "                 pdmx:refArea ?areaUri ;\n",
    "                 pdmx:refPeriod ?periodUri ;\n",
    "                 sdmx:age <http://statistics.gov.scot/def/concept/age/all> ;\n",
    "                 sdmx:sex <http://statistics.gov.scot/def/concept/sex/all> ;\n",
    "                 snum:count ?population .\n",
    "  \n",
    "  ?periodUri rdfs:label ?year .\n",
    "}\")\n",
    "\n",
    "(def population-values-scotgov \n",
    "    (->> sparql\n",
    "        (exec-query :scotgov)))\n",
    "\n",
    "(println (count population-values-scotgov ) \"rows\")"
   ]
  },
  {
   "cell_type": "code",
   "execution_count": 147,
   "metadata": {},
   "outputs": [
    {
     "name": "stdout",
     "output_type": "stream",
     "text": [
      "\n",
      "|     :code |             :label | :year | :population |\n",
      "|-----------+--------------------+-------+-------------|\n",
      "| S12000035 |    Argyll and Bute |  2013 |       88050 |\n",
      "| S12000040 |       West Lothian |  2016 |      180130 |\n",
      "| S12000013 | Na h-Eileanan Siar |  2013 |       27400 |\n",
      "| S12000026 |   Scottish Borders |  2009 |      113590 |\n",
      "| S12000030 |           Stirling |  2004 |       86920 |\n"
     ]
    },
    {
     "data": {
      "text/plain": [
       "nil"
      ]
     },
     "execution_count": 147,
     "metadata": {},
     "output_type": "execute_result"
    }
   ],
   "source": [
    "; Print a sample\n",
    "\n",
    "(def ks [:code :label :year :population])\n",
    "(pp/print-table ks (repeatedly 5 #(rand-nth population-values-scotgov)))"
   ]
  },
  {
   "cell_type": "markdown",
   "metadata": {},
   "source": [
    "### 3.2. Population values from Wikidata"
   ]
  },
  {
   "cell_type": "code",
   "execution_count": 151,
   "metadata": {},
   "outputs": [
    {
     "name": "stdout",
     "output_type": "stream",
     "text": [
      "[W 20:42:56.400 Clojupyter] org.apache.http.client.protocol.ResponseProcessCookies:130 -- Invalid cookie header: \"Set-Cookie: WMF-Last-Access=10-Sep-2020;Path=/;HttpOnly;secure;Expires=Mon, 12 Oct 2020 12:00:00 GMT\". Invalid 'expires' attribute: Mon, 12 Oct 2020 12:00:00 GMT\n",
      "[W 20:42:56.408 Clojupyter] org.apache.http.client.protocol.ResponseProcessCookies:130 -- Invalid cookie header: \"Set-Cookie: WMF-Last-Access-Global=10-Sep-2020;Path=/;Domain=.wikidata.org;HttpOnly;secure;Expires=Mon, 12 Oct 2020 12:00:00 GMT\". Invalid 'expires' attribute: Mon, 12 Oct 2020 12:00:00 GMT\n",
      "608 rows\n"
     ]
    },
    {
     "data": {
      "text/plain": [
       "nil"
      ]
     },
     "execution_count": 151,
     "metadata": {},
     "output_type": "execute_result"
    }
   ],
   "source": [
    "; Query Wikidata for population values\n",
    "\n",
    "(def sparql \"\n",
    "\n",
    "SELECT DISTINCT\n",
    "  ?code\n",
    "  ?areaEntityLabel\n",
    "  (YEAR(?populationWhen) as ?year )\n",
    "  ?population \n",
    "\n",
    "WHERE {\n",
    "  ?areaEntity wdt:P31 wd:Q15060255 ; # Scottish council area\n",
    "              wdt:P836 ?code ; # nine-character UK Government Statistical Service code\n",
    "              p:P1082 ?populationEntity .\n",
    "  ?populationEntity ps:P1082 ?population ;\n",
    "                    pq:P585 ?populationWhen .\n",
    "\n",
    "  SERVICE wikibase:label { bd:serviceParam wikibase:language '[AUTO_LANGUAGE],en' . }\n",
    "}\")\n",
    "\n",
    "(def population-values-wikidata\n",
    "    (->> sparql\n",
    "        (exec-query :wikidata)\n",
    "        (map #(set/rename-keys % {:areaEntityLabel :label}))\n",
    "        (map #(assoc % :population (str/replace (:population %) #\".0$\" \"\")))))\n",
    "\n",
    "(println (count population-values-wikidata) \"rows\")"
   ]
  },
  {
   "cell_type": "code",
   "execution_count": 152,
   "metadata": {},
   "outputs": [
    {
     "name": "stdout",
     "output_type": "stream",
     "text": [
      "\n",
      "|     :code |              :label | :year | :population |\n",
      "|-----------+---------------------+-------+-------------|\n",
      "| S12000038 |        Renfrewshire |  2009 |      173020 |\n",
      "| S12000008 |       East Ayrshire |  2008 |      121600 |\n",
      "| S12000039 | West Dunbartonshire |  2014 |       89710 |\n",
      "| S12000013 |      Outer Hebrides |  2003 |       26430 |\n",
      "| S12000030 |            Stirling |  2019 |       94210 |\n"
     ]
    },
    {
     "data": {
      "text/plain": [
       "nil"
      ]
     },
     "execution_count": 152,
     "metadata": {},
     "output_type": "execute_result"
    }
   ],
   "source": [
    "; Print a sample\n",
    "\n",
    "(def ks [:code :label :year :population])\n",
    "(pp/print-table ks (repeatedly 5 #(rand-nth population-values-wikidata)))"
   ]
  },
  {
   "cell_type": "markdown",
   "metadata": {},
   "source": [
    "### 3.3. Compare Wikidata's population values against those of statistics.gov.scot"
   ]
  },
  {
   "cell_type": "code",
   "execution_count": 153,
   "metadata": {},
   "outputs": [
    {
     "name": "stdout",
     "output_type": "stream",
     "text": [
      "0 in :scotgov only\n",
      "0 in :wikidata only\n",
      "608 in both\n"
     ]
    },
    {
     "data": {
      "text/plain": [
       "nil"
      ]
     },
     "execution_count": 153,
     "metadata": {},
     "output_type": "execute_result"
    }
   ],
   "source": [
    "; Check for differences\n",
    "\n",
    "; Make the label sets in both the same so that the diff \n",
    "; doesn't pick up on the 'Outer Hebrides' vs 'Na h-Eileanan Siar' label difference\n",
    "(def population-values-scotgov\n",
    "  (map #(if (= \"S12000013\" (:code %)) \n",
    "              (assoc % :label \"Outer Hebrides\") \n",
    "              %)\n",
    "       population-values-scotgov))\n",
    "\n",
    "(def diff (data/diff \n",
    "            (set population-values-scotgov) \n",
    "            (set population-values-wikidata)))\n",
    "\n",
    "(println (count (first diff)) \"in :scotgov only\")\n",
    "(println (count (second diff)) \"in :wikidata only\")\n",
    "(println (count (nth diff 2)) \"in both\")\n",
    "\n",
    "(with-open [wtr (io/writer \"population-values-diff.txt\")]\n",
    "  (binding [*out* wtr]\n",
    "    (do\n",
    "      (println \"population-values: scotgov versus wikidata\")\n",
    "      (println)\n",
    "      (println (count (first diff)) \"in :scotgov only...\")\n",
    "      (pp/pprint (first diff))\n",
    "      (println)\n",
    "      (println (count (second diff)) \"in :wikidata only...\")\n",
    "      (pp/pprint (second diff))\n",
    "      (println)\n",
    "      (println (count (nth diff 2)) \"in both...\")\n",
    "      (pp/pprint (nth diff 2)))))"
   ]
  },
  {
   "cell_type": "markdown",
   "metadata": {},
   "source": [
    "#### 3.3.1. When I first compared...\n",
    "\n",
    "When I ran the above comparison for the first time (at 2020-09-08T10:01GMT) it discovered the following differences...\n",
    "```\n",
    "574 in :scotgov only\n",
    "9 in :wikidata only\n",
    "34 in both\n",
    "```\n",
    "The details are in [this file](population-values-diff-2020-09-08T10_01GMT.txt). \n",
    "\n",
    "Then I manually edited Wikidata to fix a few of those differences. However this was labourious so I decided to introduce some automation by using [QuickSatements](https://quickstatements.toolforge.org/). QuickStatements accepts CSV input - representing edits to be applied to Wikidata. The quickStatements CSV input was generated as follows."
   ]
  },
  {
   "cell_type": "code",
   "execution_count": 126,
   "metadata": {},
   "outputs": [
    {
     "name": "stdout",
     "output_type": "stream",
     "text": [
      "[W 12:21:37.648 Clojupyter] org.apache.http.client.protocol.ResponseProcessCookies:130 -- Invalid cookie header: \"Set-Cookie: WMF-Last-Access=10-Sep-2020;Path=/;HttpOnly;secure;Expires=Mon, 12 Oct 2020 12:00:00 GMT\". Invalid 'expires' attribute: Mon, 12 Oct 2020 12:00:00 GMT\n",
      "[W 12:21:37.652 Clojupyter] org.apache.http.client.protocol.ResponseProcessCookies:130 -- Invalid cookie header: \"Set-Cookie: WMF-Last-Access-Global=10-Sep-2020;Path=/;Domain=.wikidata.org;HttpOnly;secure;Expires=Mon, 12 Oct 2020 12:00:00 GMT\". Invalid 'expires' attribute: Mon, 12 Oct 2020 12:00:00 GMT\n",
      "32 rows\n"
     ]
    },
    {
     "data": {
      "text/plain": [
       "#'user/code->qid"
      ]
     },
     "execution_count": 126,
     "metadata": {},
     "output_type": "execute_result"
    }
   ],
   "source": [
    "; Build the map code->qid from a SPARQL query against Wikidata\n",
    "\n",
    "(def sparql \"\n",
    "SELECT \n",
    "  (strafter(str(?areaEntity), 'http://www.wikidata.org/entity/') as ?qid) \n",
    "  ?code\n",
    "WHERE {\n",
    "  ?areaEntity wdt:P31 wd:Q15060255 ; # Scottish council area\n",
    "              wdt:P836 ?code . # nine-character UK Government Statistical Service code\n",
    "}\")\n",
    "\n",
    "(def code->qid\n",
    "    (->> sparql\n",
    "        (exec-query :wikidata)\n",
    "        (#(do (println (count %) \"rows\") %))\n",
    "        (map #(vector (:code %) (:qid %)))\n",
    "        (into {})))"
   ]
  },
  {
   "cell_type": "code",
   "execution_count": 125,
   "metadata": {},
   "outputs": [
    {
     "data": {
      "text/plain": [
       "nil"
      ]
     },
     "execution_count": 125,
     "metadata": {},
     "output_type": "execute_result"
    }
   ],
   "source": [
    "; Generate the CSV that is to be imported into QuickStatements\n",
    "\n",
    "(def TQD \"\\\"\\\"\\\"\") ; triple double-quote \n",
    "\n",
    "(with-open [wtr (io/writer \"population-values-quickstatements.csv\")]\n",
    "  (binding [*out* wtr]\n",
    "    ;; qid, population, point in time (qualifier), determination method (qualifier), editing comment\n",
    "    (println \"qid,P1082,qal585,qal459,S854,#\") \n",
    "    (doseq [m (first diff)]\n",
    "      (println (str (code->qid (:code m)) \",\"\n",
    "                    (:population m) \",\"\n",
    "                    \"+\" (:year m) \"-00-00T00:00:00Z/9,\"\n",
    "                    \"Q791801,\" ; estimation process\n",
    "                    TQD \"http://statistics.gov.scot/data/population-estimates-current-geographic-boundaries\" TQD \",\"\n",
    "                    TQD \"Set \" (:label m) \" council area's \" (:year m) \" population\" TQD)))))"
   ]
  },
  {
   "cell_type": "markdown",
   "metadata": {},
   "source": [
    "\n",
    "When I ran the above CSV generation for the first time - the output is in [this file](population-values-quickstatements-2020-09-09T11_20GMT.csv) - it specified 2232 _individual_ edits to Wikidata. These were successfully executed (taking about 30 mins) against Wikidata by QuickStatements.\n",
    "\n",
    "## 4. The usefulness of the uploaded dataset\n",
    "\n",
    "TODO\n",
    "\n",
    "show line graph plot\n",
    "\n",
    "mention how this now enables 'per citizen' statistics and visualizations\n",
    "\n",
    "...for example, waste, recycling and carbon impacts  amounts and trends ...per citizen\n",
    "\n",
    "...no exisiting appropriate Property so would have to get new ones ratified and then upload the waste and carbon impact datasets.\n",
    "\n",
    "\n"
   ]
  },
  {
   "cell_type": "code",
   "execution_count": null,
   "metadata": {},
   "outputs": [],
   "source": []
  },
  {
   "cell_type": "code",
   "execution_count": null,
   "metadata": {},
   "outputs": [],
   "source": []
  }
 ],
 "metadata": {
  "kernelspec": {
   "display_name": "Clojure (clojupyter=0.3.2=1)",
   "language": "clojure",
   "name": "conda-clojupyter"
  },
  "language_info": {
   "file_extension": ".clj",
   "mimetype": "text/x-clojure",
   "name": "clojure",
   "version": "1.10.1"
  },
  "toc": {
   "base_numbering": 1,
   "nav_menu": {},
   "number_sections": false,
   "sideBar": false,
   "skip_h1_title": false,
   "title_cell": "Table of Contents",
   "title_sidebar": "Contents",
   "toc_cell": false,
   "toc_position": {},
   "toc_section_display": false,
   "toc_window_display": false
  },
  "widgets": {
   "application/vnd.jupyter.widget-state+json": {
    "state": {},
    "version_major": 2,
    "version_minor": 0
   }
  }
 },
 "nbformat": 4,
 "nbformat_minor": 2
}
