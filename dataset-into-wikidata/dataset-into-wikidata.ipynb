{
 "cells": [
  {
   "cell_type": "markdown",
   "metadata": {},
   "source": [
    "# An exploration of uploading a dataset into Wikidata \n",
    "\n",
    "This workbook explores the steps involved in, and the usefulness of, uploading a dataset into [Wikidata](https://www.wikipedia.org/wiki/Wikidata).\n",
    "\n",
    "Wikidata maintains [linked data](https://www.wikipedia.org/wiki/Linked_data) so uploading a dataset into it is a little more difficult than into a non-linked respository like [CKAN](https://en.wikipedia.org/wiki/CKAN). \n",
    "\n",
    "## 1. The dataset that is to be uploaded\n",
    "\n",
    "The dataset that is to be uploaded is a slice of [statistics.gov.scot](http://statistics.gov.scot)'s [Population Estimates](http://statistics.gov.scot/data/population-estimates-current-geographic-boundaries) data cube: _population per council area per year_.\n",
    "\n",
    "## 1.1 Prep tooling"
   ]
  },
  {
   "cell_type": "code",
   "execution_count": 15,
   "metadata": {},
   "outputs": [
    {
     "data": {
      "text/plain": [
       "java.net.URLEncoder"
      ]
     },
     "execution_count": 15,
     "metadata": {},
     "output_type": "execute_result"
    }
   ],
   "source": [
    "; Add code libraries\n",
    "\n",
    "(require '[clojupyter.misc.helper :as helper])\n",
    "\n",
    "(helper/add-dependencies '[org.clojure/data.csv \"1.0.0\"])\n",
    "(helper/add-dependencies '[clj-http/clj-http \"3.10.1\"])\n",
    "\n",
    "(require '[clojure.string :as str]\n",
    "         '[clojure.set :as set]\n",
    "         '[clojure.data :as data]\n",
    "         '[clojure.pprint :as pp]\n",
    "         '[clojure.java.io :as io]\n",
    "         '[clojure.data.csv :as csv]\n",
    "         '[clj-http.client :as http])\n",
    "\n",
    "(import 'java.net.URLEncoder)"
   ]
  },
  {
   "cell_type": "code",
   "execution_count": 16,
   "metadata": {},
   "outputs": [
    {
     "data": {
      "text/plain": [
       "#'user/exec-query"
      ]
     },
     "execution_count": 16,
     "metadata": {},
     "output_type": "execute_result"
    }
   ],
   "source": [
    "; Define convenience functions\n",
    "\n",
    "; Convert the CSV structure to a list-of-maps structure.\n",
    "(defn to-maps [csv-data]\n",
    "    (map zipmap (->> (first csv-data)\n",
    "                    (map keyword)\n",
    "                    repeat)\n",
    "                (rest csv-data)))\n",
    "\n",
    "; Map the name of a SPARQL service to its URL.\n",
    "(def service-urls {:scotgov \"http://statistics.gov.scot/sparql\"\n",
    "                   :wikidata \"https://query.wikidata.org/sparql\"})\n",
    "                                \n",
    "; Ask the service to execute the given SPARQL query\n",
    "; and return its result as a list-of-maps.\n",
    "(defn exec-query [service-name sparql]\n",
    "  (->> (http/post (service-name service-urls) \n",
    "        {:body (str \"query=\" (URLEncoder/encode sparql)) \n",
    "         :headers {\"Accept\" \"text/csv\" \n",
    "                   \"Content-Type\" \"application/x-www-form-urlencoded\"} \n",
    "         :debug false})\n",
    "    :body\n",
    "    csv/read-csv\n",
    "    to-maps))"
   ]
  },
  {
   "cell_type": "markdown",
   "metadata": {},
   "source": [
    "## 2. Council areas\n",
    "\n",
    "Considering the _council area_ aspect of the dataset, \n",
    "how do `scotgov` (statistic.gov.scot) and `wikidata` (Wikidata) compare?\n",
    "\n",
    "`scotgov` identifies council areas by a 9 character codes (e.g. `S12000030` identifies the Stirling council area).   \n",
    "Happily, `wikidata` can also identify Scottish council areas using the same codes.\n",
    "\n",
    "### 2.1. Council area codes data from statistics.gov.scot "
   ]
  },
  {
   "cell_type": "code",
   "execution_count": 17,
   "metadata": {},
   "outputs": [
    {
     "name": "stdout",
     "output_type": "stream",
     "text": [
      "32 rows\n"
     ]
    },
    {
     "data": {
      "text/plain": [
       "nil"
      ]
     },
     "execution_count": 17,
     "metadata": {},
     "output_type": "execute_result"
    }
   ],
   "source": [
    "; Query statistics.gov.scot for council area codes\n",
    "\n",
    "(def sparql \"\n",
    "\n",
    "PREFIX rdfs: <http://www.w3.org/2000/01/rdf-schema#>\n",
    "PREFIX uent: <http://statistics.data.gov.uk/def/statistical-entity#>\n",
    "PREFIX ugeo: <http://statistics.data.gov.uk/def/statistical-geography#>\n",
    "\n",
    "SELECT \n",
    "  (strafter(str(?areaUri), 'http://statistics.gov.scot/id/statistical-geography/') as ?code) \n",
    "  ?label\n",
    "\n",
    "WHERE {\n",
    "  ?areaUri uent:code <http://statistics.gov.scot/id/statistical-entity/S12> ;\n",
    "           ugeo:status 'Live' ;\n",
    "           rdfs:label ?label .\n",
    "}\n",
    "\")\n",
    "\n",
    "(def area-codes-scotgov \n",
    "    (->> sparql\n",
    "        (exec-query :scotgov)))\n",
    "\n",
    "(println (count area-codes-scotgov ) \"rows\")"
   ]
  },
  {
   "cell_type": "code",
   "execution_count": 18,
   "metadata": {},
   "outputs": [
    {
     "name": "stdout",
     "output_type": "stream",
     "text": [
      "\n",
      "|     :code |            :label |\n",
      "|-----------+-------------------|\n",
      "| S12000047 |              Fife |\n",
      "| S12000021 |    North Ayrshire |\n",
      "| S12000050 | North Lanarkshire |\n",
      "| S12000047 |              Fife |\n",
      "| S12000008 |     East Ayrshire |\n"
     ]
    },
    {
     "data": {
      "text/plain": [
       "nil"
      ]
     },
     "execution_count": 18,
     "metadata": {},
     "output_type": "execute_result"
    }
   ],
   "source": [
    "; Print a sample\n",
    "\n",
    "(def ks [:code :label])\n",
    "(pp/print-table ks (repeatedly 5 #(rand-nth area-codes-scotgov)))"
   ]
  },
  {
   "cell_type": "markdown",
   "metadata": {},
   "source": [
    "### 2.2. Council area codes from Wikidata"
   ]
  },
  {
   "cell_type": "code",
   "execution_count": 19,
   "metadata": {},
   "outputs": [
    {
     "name": "stdout",
     "output_type": "stream",
     "text": [
      "32 rows\n"
     ]
    },
    {
     "data": {
      "text/plain": [
       "nil"
      ]
     },
     "execution_count": 19,
     "metadata": {},
     "output_type": "execute_result"
    }
   ],
   "source": [
    "; Query Wikidata for council area codes\n",
    "\n",
    "(def sparql \"\n",
    "\n",
    "SELECT DISTINCT\n",
    "  ?code\n",
    "  ?areaEntityLabel\n",
    "\n",
    "WHERE {\n",
    "  ?areaEntity wdt:P31 wd:Q15060255 ; # Scottish council area\n",
    "              wdt:P836 ?code . # nine-character UK Government Statistical Service code\n",
    "\n",
    "  SERVICE wikibase:label { bd:serviceParam wikibase:language '[AUTO_LANGUAGE],en' . }\n",
    "}\")\n",
    "\n",
    "(def area-codes-wikidata\n",
    "    (->> sparql\n",
    "        (exec-query :wikidata)\n",
    "        (map #(set/rename-keys % {:areaEntityLabel :label}))))\n",
    "\n",
    "(println (count area-codes-wikidata) \"rows\")"
   ]
  },
  {
   "cell_type": "markdown",
   "metadata": {},
   "source": [
    "Hyperlink to try out the above SPARQL: [https://w.wiki/boe](https://w.wiki/boe)"
   ]
  },
  {
   "cell_type": "code",
   "execution_count": 20,
   "metadata": {},
   "outputs": [
    {
     "name": "stdout",
     "output_type": "stream",
     "text": [
      "\n",
      "|     :code |         :label |\n",
      "|-----------+----------------|\n",
      "| S12000047 |           Fife |\n",
      "| S12000021 | North Ayrshire |\n",
      "| S12000030 |       Stirling |\n",
      "| S12000028 | South Ayrshire |\n",
      "| S12000010 |   East Lothian |\n"
     ]
    },
    {
     "data": {
      "text/plain": [
       "nil"
      ]
     },
     "execution_count": 20,
     "metadata": {},
     "output_type": "execute_result"
    }
   ],
   "source": [
    "; Print a sample\n",
    "\n",
    "(def ks [:code :label])\n",
    "(pp/print-table ks (repeatedly 5 #(rand-nth area-codes-wikidata)))"
   ]
  },
  {
   "cell_type": "markdown",
   "metadata": {},
   "source": [
    "### 2.3. Compare Wikidata's council area codes against statistics.gov.scot's"
   ]
  },
  {
   "cell_type": "code",
   "execution_count": 21,
   "metadata": {},
   "outputs": [
    {
     "name": "stdout",
     "output_type": "stream",
     "text": [
      "1 in :scotgov only...\n",
      "#{{:code \"S12000013\", :label \"Na h-Eileanan Siar\"}}\n",
      "\n",
      "1 in :wikidata only...\n",
      "#{{:code \"S12000013\", :label \"Outer Hebrides\"}}\n",
      "\n",
      "31 in both\n"
     ]
    },
    {
     "data": {
      "text/plain": [
       "nil"
      ]
     },
     "execution_count": 21,
     "metadata": {},
     "output_type": "execute_result"
    }
   ],
   "source": [
    "; Check for differences\n",
    "\n",
    "(def diff (data/diff \n",
    "            (set area-codes-scotgov) \n",
    "            (set area-codes-wikidata)))\n",
    "\n",
    "(println (count (first diff)) \"in :scotgov only...\")\n",
    "(pp/pprint (first diff))\n",
    "(println)\n",
    "(println (count (second diff)) \"in :wikidata only...\")\n",
    "(pp/pprint (second diff))\n",
    "(println)\n",
    "(println (count (nth diff 2)) \"in both\")"
   ]
  },
  {
   "cell_type": "markdown",
   "metadata": {},
   "source": [
    "#### 2.3.1. When I first compared...\n",
    "\n",
    "When I ran the above comparison for the first time (at 2020-09-07T21:20GMT) it discovered the following differences...\n",
    "\n",
    "```\n",
    "2 in :scotgov only...\n",
    "#{{:code \"S12000050\", :label \"North Lanarkshire\"}\n",
    "  {:code \"S12000013\", :label \"Na h-Eileanan Siar\"}}\n",
    "\n",
    "2 in :wikidata only...\n",
    "#{{:code \"S12000044\", :label \"North Lanarkshire\"}\n",
    "  {:code \"S12000013\", :label \"Outer Hebrides\"}}\n",
    "\n",
    "30 in both\n",
    "```\n",
    "At that time, `wikidata`'s code value for North Lanarkshire was incorrect so I amended it directly via its web page:\n",
    "* North Lanarkshire [Q207111](https://www.wikidata.org/wiki/Q207111): `S12000044` -> `S12000050`\n",
    "\n",
    "I am using `code` values to identify council areas so it is important that they are correct.\n",
    "\n",
    "For my purpose, the `label` values are not significant so I didn't ponder if the Outer Hebrides' \"English\" `label` should be changed to be its Scottish Gaelic name. So the above live `diff` is probably still indicating this one difference.\n",
    "\n",
    "## 3. Population\n",
    "\n",
    "Now consider the _population_ aspect of the dataset, how do `scotgov` (statistic.gov.scot) and `wikidata` (Wikidata) compare?\n",
    "\n",
    "### 3.1. Population values from statistics.gov.scot"
   ]
  },
  {
   "cell_type": "code",
   "execution_count": 22,
   "metadata": {},
   "outputs": [
    {
     "name": "stdout",
     "output_type": "stream",
     "text": [
      "608 rows\n"
     ]
    },
    {
     "data": {
      "text/plain": [
       "nil"
      ]
     },
     "execution_count": 22,
     "metadata": {},
     "output_type": "execute_result"
    }
   ],
   "source": [
    "; Query statistics.gov.scot for population values\n",
    "\n",
    "(def sparql \"\n",
    "\n",
    "PREFIX qb: <http://purl.org/linked-data/cube#>\n",
    "PREFIX rdfs: <http://www.w3.org/2000/01/rdf-schema#>\n",
    "PREFIX pdmx: <http://purl.org/linked-data/sdmx/2009/dimension#>\n",
    "PREFIX sdmx: <http://statistics.gov.scot/def/dimension/>\n",
    "PREFIX snum: <http://statistics.gov.scot/def/measure-properties/>\n",
    "PREFIX uent: <http://statistics.data.gov.uk/def/statistical-entity#>\n",
    "PREFIX ugeo: <http://statistics.data.gov.uk/def/statistical-geography#>\n",
    "\n",
    "SELECT \n",
    "  (strafter(str(?areaUri), 'http://statistics.gov.scot/id/statistical-geography/') as ?code) \n",
    "  ?label\n",
    "  ?year\n",
    "  ?population\n",
    "\n",
    "WHERE {\n",
    "  ?areaUri uent:code <http://statistics.gov.scot/id/statistical-entity/S12> ;\n",
    "           ugeo:status 'Live' ;\n",
    "           rdfs:label ?label .\n",
    "           \n",
    "  ?populationUri qb:dataSet <http://statistics.gov.scot/data/population-estimates-current-geographic-boundaries> ;\n",
    "                 pdmx:refArea ?areaUri ;\n",
    "                 pdmx:refPeriod ?periodUri ;\n",
    "                 sdmx:age <http://statistics.gov.scot/def/concept/age/all> ;\n",
    "                 sdmx:sex <http://statistics.gov.scot/def/concept/sex/all> ;\n",
    "                 snum:count ?population .\n",
    "  \n",
    "  ?periodUri rdfs:label ?year .\n",
    "}\")\n",
    "\n",
    "(def population-values-scotgov \n",
    "    (->> sparql\n",
    "        (exec-query :scotgov)))\n",
    "\n",
    "(println (count population-values-scotgov ) \"rows\")"
   ]
  },
  {
   "cell_type": "code",
   "execution_count": 23,
   "metadata": {},
   "outputs": [
    {
     "name": "stdout",
     "output_type": "stream",
     "text": [
      "\n",
      "|     :code |            :label | :year | :population |\n",
      "|-----------+-------------------+-------+-------------|\n",
      "| S12000023 |    Orkney Islands |  2011 |       21420 |\n",
      "| S12000023 |    Orkney Islands |  2018 |       22190 |\n",
      "| S12000050 | North Lanarkshire |  2008 |      333280 |\n",
      "| S12000048 | Perth and Kinross |  2002 |      135130 |\n",
      "| S12000018 |        Inverclyde |  2001 |       84150 |\n"
     ]
    },
    {
     "data": {
      "text/plain": [
       "nil"
      ]
     },
     "execution_count": 23,
     "metadata": {},
     "output_type": "execute_result"
    }
   ],
   "source": [
    "; Print a sample\n",
    "\n",
    "(def ks [:code :label :year :population])\n",
    "(pp/print-table ks (repeatedly 5 #(rand-nth population-values-scotgov)))"
   ]
  },
  {
   "cell_type": "markdown",
   "metadata": {},
   "source": [
    "### 3.2. Population values from Wikidata"
   ]
  },
  {
   "cell_type": "code",
   "execution_count": 24,
   "metadata": {},
   "outputs": [
    {
     "name": "stdout",
     "output_type": "stream",
     "text": [
      "608 rows\n"
     ]
    },
    {
     "data": {
      "text/plain": [
       "nil"
      ]
     },
     "execution_count": 24,
     "metadata": {},
     "output_type": "execute_result"
    }
   ],
   "source": [
    "; Query Wikidata for population values\n",
    "\n",
    "(def sparql \"\n",
    "\n",
    "SELECT DISTINCT\n",
    "  ?code\n",
    "  ?areaEntityLabel\n",
    "  (YEAR(?populationWhen) as ?year )\n",
    "  ?population \n",
    "\n",
    "WHERE {\n",
    "  ?areaEntity wdt:P31 wd:Q15060255 ; # Scottish council area\n",
    "              wdt:P836 ?code ; # nine-character UK Government Statistical Service code\n",
    "              p:P1082 ?populationEntity .\n",
    "  ?populationEntity ps:P1082 ?population ;\n",
    "                    pq:P585 ?populationWhen .\n",
    "\n",
    "  SERVICE wikibase:label { bd:serviceParam wikibase:language '[AUTO_LANGUAGE],en' . }\n",
    "}\")\n",
    "\n",
    "(def population-values-wikidata\n",
    "    (->> sparql\n",
    "        (exec-query :wikidata)\n",
    "        (map #(set/rename-keys % {:areaEntityLabel :label}))\n",
    "        (map #(assoc % :population (str/replace (:population %) #\".0$\" \"\")))))\n",
    "\n",
    "(println (count population-values-wikidata) \"rows\")"
   ]
  },
  {
   "cell_type": "markdown",
   "metadata": {},
   "source": [
    "Hyperlink to try out the above SPARQL: [https://w.wiki/boc](https://w.wiki/boc)"
   ]
  },
  {
   "cell_type": "code",
   "execution_count": 25,
   "metadata": {},
   "outputs": [
    {
     "name": "stdout",
     "output_type": "stream",
     "text": [
      "\n",
      "|     :code |            :label | :year | :population |\n",
      "|-----------+-------------------+-------+-------------|\n",
      "| S12000023 |    Orkney Islands |  2017 |       22000 |\n",
      "| S12000023 |    Orkney Islands |  2001 |       19220 |\n",
      "| S12000050 | North Lanarkshire |  2019 |      341370 |\n",
      "| S12000048 | Perth and Kinross |  2012 |      147740 |\n",
      "| S12000027 |  Shetland Islands |  2011 |       23240 |\n"
     ]
    },
    {
     "data": {
      "text/plain": [
       "nil"
      ]
     },
     "execution_count": 25,
     "metadata": {},
     "output_type": "execute_result"
    }
   ],
   "source": [
    "; Print a sample\n",
    "\n",
    "(def ks [:code :label :year :population])\n",
    "(pp/print-table ks (repeatedly 5 #(rand-nth population-values-wikidata)))"
   ]
  },
  {
   "cell_type": "markdown",
   "metadata": {},
   "source": [
    "### 3.3. Compare Wikidata's population values against those of statistics.gov.scot"
   ]
  },
  {
   "cell_type": "code",
   "execution_count": 26,
   "metadata": {},
   "outputs": [
    {
     "name": "stdout",
     "output_type": "stream",
     "text": [
      "0 in :scotgov only\n",
      "0 in :wikidata only\n",
      "608 in both\n"
     ]
    },
    {
     "data": {
      "text/plain": [
       "nil"
      ]
     },
     "execution_count": 26,
     "metadata": {},
     "output_type": "execute_result"
    }
   ],
   "source": [
    "; Check for differences\n",
    "\n",
    "; Make the label sets in both the same so that the diff \n",
    "; doesn't pick up on the 'Outer Hebrides' vs 'Na h-Eileanan Siar' label difference\n",
    "(def population-values-scotgov\n",
    "  (map #(if (= \"S12000013\" (:code %)) \n",
    "              (assoc % :label \"Outer Hebrides\") \n",
    "              %)\n",
    "       population-values-scotgov))\n",
    "\n",
    "(def diff (data/diff \n",
    "            (set population-values-scotgov) \n",
    "            (set population-values-wikidata)))\n",
    "\n",
    "(println (count (first diff)) \"in :scotgov only\")\n",
    "(println (count (second diff)) \"in :wikidata only\")\n",
    "(println (count (nth diff 2)) \"in both\")\n",
    "\n",
    "(with-open [wtr (io/writer \"population-values-diff.txt\")]\n",
    "  (binding [*out* wtr]\n",
    "    (do\n",
    "      (println \"population-values: scotgov versus wikidata\")\n",
    "      (println)\n",
    "      (println (count (first diff)) \"in :scotgov only...\")\n",
    "      (pp/pprint (first diff))\n",
    "      (println)\n",
    "      (println (count (second diff)) \"in :wikidata only...\")\n",
    "      (pp/pprint (second diff))\n",
    "      (println)\n",
    "      (println (count (nth diff 2)) \"in both...\")\n",
    "      (pp/pprint (nth diff 2)))))"
   ]
  },
  {
   "cell_type": "markdown",
   "metadata": {},
   "source": [
    "#### 3.3.1. When I first compared...\n",
    "\n",
    "When I ran the above comparison for the first time (at 2020-09-08T10:01GMT) it discovered the following differences...\n",
    "```\n",
    "574 in :scotgov only\n",
    "9 in :wikidata only\n",
    "34 in both\n",
    "```\n",
    "The details are in [this file](population-values-diff-2020-09-08T10_01GMT.txt). \n",
    "\n",
    "Then I manually edited Wikidata to fix a few of those differences. However this was labourious so I decided to introduce some automation by using [QuickSatements](https://quickstatements.toolforge.org/). QuickStatements accepts CSV input - representing edits to be applied to Wikidata. The quickStatements CSV input was generated as follows."
   ]
  },
  {
   "cell_type": "code",
   "execution_count": 27,
   "metadata": {},
   "outputs": [
    {
     "name": "stdout",
     "output_type": "stream",
     "text": [
      "32 rows\n"
     ]
    },
    {
     "data": {
      "text/plain": [
       "#'user/code->qid"
      ]
     },
     "execution_count": 27,
     "metadata": {},
     "output_type": "execute_result"
    }
   ],
   "source": [
    "; Build the map code->qid from a SPARQL query against Wikidata\n",
    "\n",
    "(def sparql \"\n",
    "SELECT \n",
    "  (strafter(str(?areaEntity), 'http://www.wikidata.org/entity/') as ?qid) \n",
    "  ?code\n",
    "WHERE {\n",
    "  ?areaEntity wdt:P31 wd:Q15060255 ; # Scottish council area\n",
    "              wdt:P836 ?code . # nine-character UK Government Statistical Service code\n",
    "}\")\n",
    "\n",
    "(def code->qid\n",
    "    (->> sparql\n",
    "        (exec-query :wikidata)\n",
    "        (#(do (println (count %) \"rows\") %))\n",
    "        (map #(vector (:code %) (:qid %)))\n",
    "        (into {})))"
   ]
  },
  {
   "cell_type": "code",
   "execution_count": 28,
   "metadata": {},
   "outputs": [
    {
     "data": {
      "text/plain": [
       "nil"
      ]
     },
     "execution_count": 28,
     "metadata": {},
     "output_type": "execute_result"
    }
   ],
   "source": [
    "; Generate the CSV that is to be imported into QuickStatements\n",
    "\n",
    "(def TQD \"\\\"\\\"\\\"\") ; triple double-quote \n",
    "\n",
    "(with-open [wtr (io/writer \"population-values-quickstatements.csv\")]\n",
    "  (binding [*out* wtr]\n",
    "    ;; qid, population, point in time (qualifier), determination method (qualifier), editing comment\n",
    "    (println \"qid,P1082,qal585,qal459,S854,#\") \n",
    "    (doseq [m (first diff)]\n",
    "      (println (str (code->qid (:code m)) \",\"\n",
    "                    (:population m) \",\"\n",
    "                    \"+\" (:year m) \"-00-00T00:00:00Z/9,\"\n",
    "                    \"Q791801,\" ; estimation process\n",
    "                    TQD \"http://statistics.gov.scot/data/population-estimates-current-geographic-boundaries\" TQD \",\"\n",
    "                    TQD \"Set \" (:label m) \" council area's \" (:year m) \" population\" TQD)))))"
   ]
  },
  {
   "cell_type": "markdown",
   "metadata": {},
   "source": [
    "\n",
    "When I ran the above CSV generation for the first time - the output is in [this file](population-values-quickstatements-2020-09-09T11_20GMT.csv) - it specified 2232 _individual_ edits to Wikidata. These were successfully executed (taking about 30 mins) against Wikidata by QuickStatements. (Unfortunately QuickStatements does not yet support a means to set the `rank` of a triple so I had to individually edit the 32 council area pages to mark, in each, its 2019 population value  as the `Preferred rank` population value - indicating that it is the most up-to-date population value.) \n",
    "\n",
    "## 4. The usefulness of the uploaded dataset\n",
    "\n",
    "The uploaded dataset can be pulled (dynamically _de-referenced_) into Wikipedia articles and other web pages. \n",
    "\n",
    "### 4.1. Embedding dataset values into Wikipedia articles\n",
    "\n",
    "For example, I edited the Wikipedia article [Council areas of Scotland](https://simple.wikipedia.org/wiki/Council_areas_of_Scotland) to its main table, the new column \"_Number of people (latest estimate)_\" whose values are pulled (each time the page is rendered) directly from the data that we have uploaded into Wikidata.\n",
    "\n",
    "![Screenshot of Wikipedia article](screenshot-wikipedia-council-areas-article.png)\n",
    "\n",
    "### 4.2. Embedding dataset based graphs into web pages\n",
    "\n",
    "And >><a href=\"(https://query.wikidata.org/embed.html#%23defaultView%3ALineChart%0ASELECT%20%0A%20%20%3FcouncilArea%0A%20%20(str(YEAR(%3FpopulationWhen))%20as%20%3Fyear%20)%0A%20%20%3Fpopulation%0A%20%20%3FcouncilAreaLabel%0AWHERE%20%7B%0A%20%20%3FcouncilArea%20wdt%3AP31%20wd%3AQ15060255%20%3B%0A%20%20%20%20%20%20%20%20%20%20%20%20%20%20p%3AP1082%20%3FpopulationEntity%20.%0A%20%20%3FpopulationEntity%20ps%3AP1082%20%3Fpopulation%20%3B%0A%20%20%20%20%20%20%20%20%20%20%20%20%20%20%20%20%20%20%20%20pq%3AP585%20%3FpopulationWhen%20.%0A%20%20SERVICE%20wikibase%3Alabel%20%7B%20bd%3AserviceParam%20wikibase%3Alanguage%20%27%5BAUTO_LANGUAGE%5D%2Cen%27%20.%20%7D%0A%7D\">here</a><< is a line graph, dynamically generated from the new Wikidata data, that can be embedded in any web page.\n",
    "\n",
    "### 4.3. Concerns, next steps, alternative approaches\n",
    "\n",
    "Interestingly, there is [some discussion](https://en.wikipedia.org/wiki/Wikipedia:Requests_for_comment/Wikidata_Phase_2) about the pros & cons of inserting Wikidata values into Wikipedia articles. The main argument (by some) against is the immaturity of Wikidata's structure: therefore a concern about the permanence of references to data within its structure. But those for it, point out that early use & evolution might be the best path to a maturity. \n",
    "\n",
    "The case study for our Data Commons Scotland project, is _open data about waste in Scotland_. So a next step for the project might be to upload into Wikidata, datasets that describe the amounts of household waste generated & recycled, and 'carbon impact' figures. These could also be linked to [council areas](https://www.wikidata.org/wiki/Q15060255) - as we have done the population dataset - to support _per council area_/_per citizen_ statistics and visualisations. Appropriate [properties](https://www.wikidata.org/wiki/Q18616576) do not yet exist in Wikidata for the description of such data about waste, so new ones would need to be ratified by the Wikidata community.\n",
    "\n",
    "Should should datasets actually be uploaded into Wikidata? These are small datasets and they seem to fit well enough into Wikidata's information graph. Uploading them into Wikidata may make them easier to access and help enrich Wikidata's information graph. But then, of course, there is the _keeping it up-to-date_ issue to deal with. \n",
    "Alternatively, those datasets could be pulled directly from statistics.gov.scot, into Wikipedia  articles with the help of some new MediaWiki [extensions](https://www.mediawiki.org/wiki/Category:Extensions).\n",
    "\n",
    "\n",
    "\n",
    "\n"
   ]
  },
  {
   "cell_type": "code",
   "execution_count": null,
   "metadata": {},
   "outputs": [],
   "source": []
  }
 ],
 "metadata": {
  "kernelspec": {
   "display_name": "Clojure (clojupyter=0.3.2=1)",
   "language": "clojure",
   "name": "conda-clojupyter"
  },
  "language_info": {
   "file_extension": ".clj",
   "mimetype": "text/x-clojure",
   "name": "clojure",
   "version": "1.10.1"
  },
  "toc": {
   "base_numbering": 1,
   "nav_menu": {},
   "number_sections": false,
   "sideBar": false,
   "skip_h1_title": false,
   "title_cell": "Table of Contents",
   "title_sidebar": "Contents",
   "toc_cell": false,
   "toc_position": {},
   "toc_section_display": false,
   "toc_window_display": false
  },
  "widgets": {
   "application/vnd.jupyter.widget-state+json": {
    "state": {},
    "version_major": 2,
    "version_minor": 0
   }
  }
 },
 "nbformat": 4,
 "nbformat_minor": 2
}
