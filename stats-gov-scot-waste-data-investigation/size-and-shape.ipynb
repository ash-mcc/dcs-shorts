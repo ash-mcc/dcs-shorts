{
 "cells": [
  {
   "cell_type": "markdown",
   "metadata": {},
   "source": [
    "# What size and shape are the statistics.gov.scot datasets?\n"
   ]
  },
  {
   "cell_type": "code",
   "execution_count": 3,
   "metadata": {
    "init_cell": true
   },
   "outputs": [
    {
     "data": {
      "application/vnd.jupyter.widget-view+json": {
       "model_id": "",
       "version_major": 2,
       "version_minor": 0
      },
      "method": "display_data"
     },
     "metadata": {},
     "output_type": "display_data"
    },
    {
     "data": {
      "application/vnd.jupyter.widget-view+json": {
       "model_id": "",
       "version_major": 2,
       "version_minor": 0
      },
      "method": "display_data"
     },
     "metadata": {},
     "output_type": "display_data"
    },
    {
     "data": {
      "text/plain": [
       "class com.twosigma.beakerx.chart.xychart.plotitem.Line"
      ]
     },
     "execution_count": 3,
     "metadata": {},
     "output_type": "execute_result"
    }
   ],
   "source": [
    "; Add code libraries. \n",
    "\n",
    "%classpath add mvn org.clojure data.csv 1.0.0\n",
    "(require '[clojure.data.csv :as csv])\n",
    "\n",
    "%classpath add mvn clj-http clj-http 3.10.1\n",
    "(require '[clj-http.client :as http])\n",
    "\n",
    "(require '[clojure.string :as str])\n",
    "\n",
    "(import 'java.net.URLEncoder)\n",
    "(import 'java.time.LocalDate)\n",
    "(import 'com.twosigma.beakerx.chart.xychart.TimePlot\n",
    "        'com.twosigma.beakerx.chart.xychart.plotitem.Line)"
   ]
  },
  {
   "cell_type": "code",
   "execution_count": 4,
   "metadata": {
    "init_cell": true
   },
   "outputs": [
    {
     "data": {
      "text/plain": [
       "#'beaker_clojure_shell_8e6f19ea-d4d9-4642-b450-d99bf934d4bf/exec-query"
      ]
     },
     "execution_count": 4,
     "metadata": {},
     "output_type": "execute_result"
    }
   ],
   "source": [
    "; Define convenience functions.\n",
    "\n",
    "; Convert the CSV structure to a list-of-maps structure.\n",
    "(defn to-maps [csv-data]\n",
    "    (map zipmap (->> (first csv-data)\n",
    "                    (map keyword)\n",
    "                    repeat)\n",
    "                (rest csv-data)))\n",
    "\n",
    "; Ask statistic.gov.scot to execute the given SPARQL query.\n",
    "(defn exec-query [sparql]\n",
    "    (->> (http/post \"http://statistics.gov.scot/sparql\" \n",
    "                    {:body (str \"query=\" (URLEncoder/encode sparql)) \n",
    "                    :headers {\"Accept\" \"text/csv\" \n",
    "                              \"Content-Type\" \"application/x-www-form-urlencoded\"} \n",
    "                    :debug false})\n",
    "        :body\n",
    "        csv/read-csv\n",
    "        to-maps))"
   ]
  },
  {
   "cell_type": "code",
   "execution_count": 5,
   "metadata": {
    "scrolled": false
   },
   "outputs": [
    {
     "name": "stdout",
     "output_type": "stream",
     "text": [
      "37752 household-waste observations\n"
     ]
    },
    {
     "data": {
      "text/plain": [
       "null"
      ]
     },
     "execution_count": 5,
     "metadata": {},
     "output_type": "execute_result"
    }
   ],
   "source": [
    "; Query for the size (i.e. number of observations) per datset of interest.\n",
    "\n",
    "(def sparql \"\n",
    "\n",
    "PREFIX qb: <http://purl.org/linked-data/cube#>\n",
    "\n",
    "SELECT (COUNT(DISTINCT ?obs) AS ?obs_count) WHERE {\n",
    "  \n",
    "    BIND(<http://statistics.gov.scot/data/dataset-name> AS ?dataset)\n",
    "  \n",
    "    ?obs qb:dataSet ?dataset .\n",
    "}\n",
    "\")\n",
    "\n",
    "(doseq [dataset-name [\"household-waste\" \n",
    "                      #_\"population-estimates-current-geographic-boundaries\"]] ; commented-out to reduce the number of times we count its ~11 million observations\n",
    "    (as-> dataset-name v\n",
    "         (str/replace sparql \"dataset-name\" v) \n",
    "         (exec-query v) \n",
    "         (first v)\n",
    "         (:obs_count v)\n",
    "         (println v dataset-name \"observations\")))"
   ]
  },
  {
   "cell_type": "code",
   "execution_count": 10,
   "metadata": {
    "scrolled": false
   },
   "outputs": [
    {
     "data": {
      "application/vnd.jupyter.widget-view+json": {
       "model_id": "10637318-77db-49c8-9cb8-5b09ae460fb9",
       "version_major": 2,
       "version_minor": 0
      },
      "method": "display_data"
     },
     "metadata": {},
     "output_type": "display_data"
    }
   ],
   "source": [
    "; Query for the shape (i.e. dimensions with their cardinalities, and measures) of the household-waste dataset.\n",
    "\n",
    "(def sparql \"\n",
    "\n",
    "PREFIX qb: <http://purl.org/linked-data/cube#>\n",
    "PREFIX skos: <http://www.w3.org/2004/02/skos/core#>\n",
    "PREFIX rdfs: <http://www.w3.org/2000/01/rdf-schema#>\n",
    "\n",
    "SELECT ?label ?type_label ?component (COUNT(?compvalue) AS ?cardinality) WHERE {\n",
    "  \n",
    "    BIND(<http://statistics.gov.scot/data/household-waste> AS ?dataset)\n",
    "  \n",
    "    ?dataset qb:structure/qb:component ?compspec .\n",
    "\n",
    "    VALUES ?comptype { qb:dimension qb:measure }\n",
    "    ?compspec ?comptype ?component .\n",
    "    OPTIONAL { ?compspec qb:codeList/skos:member ?compvalue }\n",
    "  \n",
    "    ?component rdfs:label ?label .\n",
    "    ?comptype rdfs:label ?type_label .\n",
    "} GROUP BY ?label ?type_label ?component ORDER BY DESC(?cardinality)\n",
    "\")\n",
    "\n",
    "(exec-query sparql)"
   ]
  },
  {
   "cell_type": "code",
   "execution_count": null,
   "metadata": {},
   "outputs": [],
   "source": []
  }
 ],
 "metadata": {
  "kernelspec": {
   "display_name": "Clojure",
   "language": "clojure",
   "name": "clojure"
  },
  "language_info": {
   "codemirror_mode": "Clojure",
   "file_extension": ".clj",
   "mimetype": "text/x-clojure",
   "name": "Clojure",
   "nbconverter_exporter": "",
   "version": "1.9.0"
  },
  "toc": {
   "base_numbering": 1,
   "nav_menu": {},
   "number_sections": false,
   "sideBar": false,
   "skip_h1_title": false,
   "title_cell": "Table of Contents",
   "title_sidebar": "Contents",
   "toc_cell": false,
   "toc_position": {},
   "toc_section_display": true,
   "toc_window_display": false
  },
  "widgets": {
   "application/vnd.jupyter.widget-state+json": {
    "state": {
     "057d9d13-e557-4d71-9e09-4d84dce08366": {
      "model_module": "beakerx",
      "model_module_version": "*",
      "model_name": "BxHTMLModel",
      "state": {
       "background_color": null,
       "color": null,
       "font_family": "",
       "font_size": "",
       "font_style": "",
       "font_weight": "",
       "layout": "IPY_MODEL_4419d2ed-38e6-45fd-964d-92505a64dca7",
       "msg_throttle": 3,
       "placeholder": "",
       "value": "data.csv-1.0.0.jar, clojure-1.4.0.jar",
       "visible": true
      }
     },
     "05f8f64b-e2d5-472a-8e1b-00085354f017": {
      "model_module": "beakerx",
      "model_module_version": "*",
      "model_name": "FoldoutModel",
      "state": {
       "background_color": null,
       "children": [
        "IPY_MODEL_5993ccf4-b03d-4108-9d16-1c0821e76501"
       ],
       "color": null,
       "description": "",
       "disabled": false,
       "font_family": "",
       "font_size": "",
       "font_style": "",
       "font_weight": "",
       "headerLabel": "Added jars: ",
       "hidePreview": false,
       "layout": "IPY_MODEL_08de111a-5e89-498b-aa14-deb8fa9abd32",
       "msg_throttle": 3,
       "visible": true
      }
     },
     "08249871-cc1c-40ff-932b-2eef15c66474": {
      "model_module": "@jupyter-widgets/base",
      "model_module_version": "*",
      "model_name": "LayoutModel",
      "state": {
       "_model_module_version": "*",
       "_view_module_version": "*",
       "align_content": "",
       "align_self": "",
       "border": "",
       "bottom": "",
       "flex": "",
       "height": "",
       "justify_content": "",
       "left": "",
       "margin": "",
       "max_height": "",
       "max_width": "",
       "min_height": "",
       "min_width": "",
       "msg_throttle": 3,
       "overflow": "",
       "overflow_x": "",
       "overflow_y": "",
       "padding": "",
       "right": "",
       "top": ""
      }
     },
     "08de111a-5e89-498b-aa14-deb8fa9abd32": {
      "model_module": "@jupyter-widgets/base",
      "model_module_version": "*",
      "model_name": "LayoutModel",
      "state": {
       "_model_module_version": "*",
       "_view_module_version": "*",
       "align_content": "",
       "align_self": "",
       "border": "",
       "bottom": "",
       "flex": "",
       "height": "",
       "justify_content": "",
       "left": "",
       "margin": "",
       "max_height": "",
       "max_width": "",
       "min_height": "",
       "min_width": "",
       "msg_throttle": 3,
       "overflow": "",
       "overflow_x": "",
       "overflow_y": "",
       "padding": "",
       "right": "",
       "top": ""
      }
     },
     "09a77216-14ff-4988-9345-20ea171576dd": {
      "model_module": "@jupyter-widgets/base",
      "model_module_version": "*",
      "model_name": "LayoutModel",
      "state": {
       "_model_module_version": "*",
       "_view_module_version": "*",
       "align_content": "",
       "align_self": "",
       "border": "",
       "bottom": "",
       "flex": "",
       "height": "",
       "justify_content": "",
       "left": "",
       "margin": "",
       "max_height": "",
       "max_width": "",
       "min_height": "",
       "min_width": "",
       "msg_throttle": 3,
       "overflow": "",
       "overflow_x": "",
       "overflow_y": "",
       "padding": "",
       "right": "",
       "top": ""
      }
     },
     "0c8afdc0-4e91-453d-a5c1-4d8778dad86d": {
      "model_module": "@jupyter-widgets/base",
      "model_module_version": "*",
      "model_name": "LayoutModel",
      "state": {
       "_model_module_version": "*",
       "_view_module_version": "*",
       "align_content": "",
       "align_self": "",
       "border": "",
       "bottom": "",
       "flex": "",
       "height": "",
       "justify_content": "",
       "left": "",
       "margin": "",
       "max_height": "",
       "max_width": "",
       "min_height": "",
       "min_width": "",
       "msg_throttle": 3,
       "overflow": "",
       "overflow_x": "",
       "overflow_y": "",
       "padding": "",
       "right": "",
       "top": ""
      }
     },
     "0f2ab759-d4a8-4b6e-a81f-954e243ae6a5": {
      "model_module": "@jupyter-widgets/base",
      "model_module_version": "*",
      "model_name": "LayoutModel",
      "state": {
       "_model_module_version": "*",
       "_view_module_version": "*",
       "align_content": "",
       "align_self": "",
       "border": "",
       "bottom": "",
       "flex": "",
       "height": "",
       "justify_content": "",
       "left": "",
       "margin": "",
       "max_height": "",
       "max_width": "",
       "min_height": "",
       "min_width": "",
       "msg_throttle": 3,
       "overflow": "",
       "overflow_x": "",
       "overflow_y": "",
       "padding": "",
       "right": "",
       "top": ""
      }
     },
     "10637318-77db-49c8-9cb8-5b09ae460fb9": {
      "model_module": "beakerx",
      "model_module_version": "*",
      "model_name": "TableDisplayModel",
      "state": {
       "model": {
        "alignmentForColumn": {},
        "alignmentForType": {},
        "cellHighlighters": [],
        "columnNames": [
         ":label",
         ":type_label",
         ":component",
         ":cardinality"
        ],
        "columnOrder": [],
        "columnsFrozen": {},
        "columnsFrozenRight": {},
        "columnsVisible": {},
        "contextMenuItems": [],
        "contextMenuTags": {},
        "dataFontSize": null,
        "doubleClickTag": null,
        "fontColor": [],
        "hasDoubleClickAction": false,
        "hasIndex": null,
        "headerFontSize": null,
        "headersVertical": false,
        "rendererForColumn": {},
        "rendererForType": {},
        "stringFormatForColumn": {},
        "stringFormatForTimes": null,
        "stringFormatForType": {},
        "subtype": "ListOfMaps",
        "timeZone": null,
        "tooManyRows": false,
        "tooltips": [],
        "type": "TableDisplay",
        "types": [
         "string",
         "string",
         "string",
         "string"
        ],
        "values": [
         [
          "Reference Area",
          "dimension",
          "http://purl.org/linked-data/sdmx/2009/dimension#refArea",
          "33"
         ],
         [
          "Waste Category",
          "dimension",
          "http://statistics.gov.scot/def/dimension/wasteCategory",
          "23"
         ],
         [
          "Reference Period",
          "dimension",
          "http://purl.org/linked-data/sdmx/2009/dimension#refPeriod",
          "8"
         ],
         [
          "Waste Management",
          "dimension",
          "http://statistics.gov.scot/def/dimension/wasteManagement",
          "6"
         ],
         [
          "measure type",
          "dimension",
          "http://purl.org/linked-data/cube#measureType",
          "2"
         ],
         [
          "Count",
          "measure",
          "http://statistics.gov.scot/def/measure-properties/count",
          "0"
         ],
         [
          "Ratio",
          "measure",
          "http://statistics.gov.scot/def/measure-properties/ratio",
          "0"
         ]
        ]
       }
      }
     },
     "11cd1078-a627-4d54-bebf-9685b3480fa0": {
      "model_module": "beakerx",
      "model_module_version": "*",
      "model_name": "BxHTMLModel",
      "state": {
       "background_color": null,
       "color": null,
       "font_family": "",
       "font_size": "",
       "font_style": "",
       "font_weight": "",
       "layout": "IPY_MODEL_bf1f3e9d-ee56-4e0d-9d7c-bd1eb3bf1cbe",
       "msg_throttle": 3,
       "placeholder": "",
       "value": "httpclient-4.5.10.jar, httpmime-4.5.10.jar, clj-http-3.10.1.jar, commons-codec-1.12.jar, potemkin-0.4.5.jar, riddley-0.1.12.jar, slingshot-0.12.2.jar, commons-logging-1.2.jar, clj-tuple-0.2.2.jar, commons-io-2.6.jar, httpasyncclient-4.1.4.jar, httpcore-4.4.12.jar, httpclient-cache-4.5.10.jar, httpcore-nio-4.4.10.jar",
       "visible": true
      }
     },
     "1d941f24-000f-4272-99b8-f1c1c2b832e4": {
      "model_module": "beakerx",
      "model_module_version": "*",
      "model_name": "FoldoutModel",
      "state": {
       "background_color": null,
       "children": [
        "IPY_MODEL_8ff8b4b0-b2ad-4696-8f7d-db03d50e6db1"
       ],
       "color": null,
       "description": "",
       "disabled": false,
       "font_family": "",
       "font_size": "",
       "font_style": "",
       "font_weight": "",
       "headerLabel": "Added jars: ",
       "hidePreview": false,
       "layout": "IPY_MODEL_3e6a8f8d-96be-4cf4-8f47-70c635dbf40e",
       "msg_throttle": 3,
       "visible": true
      }
     },
     "237910f1-414a-4531-9d2e-e26739ab8555": {
      "model_module": "@jupyter-widgets/base",
      "model_module_version": "*",
      "model_name": "LayoutModel",
      "state": {
       "_model_module_version": "*",
       "_view_module_version": "*",
       "align_content": "",
       "align_self": "",
       "border": "",
       "bottom": "",
       "flex": "",
       "height": "",
       "justify_content": "",
       "left": "",
       "margin": "",
       "max_height": "",
       "max_width": "",
       "min_height": "",
       "min_width": "",
       "msg_throttle": 3,
       "overflow": "",
       "overflow_x": "",
       "overflow_y": "",
       "padding": "",
       "right": "",
       "top": ""
      }
     },
     "250dcdbd-7d62-49b0-87cb-3936e4935762": {
      "model_module": "beakerx",
      "model_module_version": "*",
      "model_name": "BxHTMLModel",
      "state": {
       "background_color": null,
       "color": null,
       "font_family": "",
       "font_size": "",
       "font_style": "",
       "font_weight": "",
       "layout": "IPY_MODEL_751f9ddf-cb47-48ed-b323-2d68f1fa9e06",
       "msg_throttle": 3,
       "placeholder": "",
       "value": "clojure-1.4.0.jar, data.csv-1.0.0.jar",
       "visible": true
      }
     },
     "25badb6e-bf8c-4c2c-b195-2bdcd80e62a7": {
      "model_module": "@jupyter-widgets/base",
      "model_module_version": "*",
      "model_name": "LayoutModel",
      "state": {
       "_model_module_version": "*",
       "_view_module_version": "*",
       "align_content": "",
       "align_self": "",
       "border": "",
       "bottom": "",
       "flex": "",
       "height": "",
       "justify_content": "",
       "left": "",
       "margin": "",
       "max_height": "",
       "max_width": "",
       "min_height": "",
       "min_width": "",
       "msg_throttle": 3,
       "overflow": "",
       "overflow_x": "",
       "overflow_y": "",
       "padding": "",
       "right": "",
       "top": ""
      }
     },
     "2c2bee21-ef91-40b6-ae2f-bb85c422de0b": {
      "model_module": "beakerx",
      "model_module_version": "*",
      "model_name": "FoldoutModel",
      "state": {
       "background_color": null,
       "children": [
        "IPY_MODEL_250dcdbd-7d62-49b0-87cb-3936e4935762"
       ],
       "color": null,
       "description": "",
       "disabled": false,
       "font_family": "",
       "font_size": "",
       "font_style": "",
       "font_weight": "",
       "headerLabel": "Added jars: ",
       "hidePreview": false,
       "layout": "IPY_MODEL_09a77216-14ff-4988-9345-20ea171576dd",
       "msg_throttle": 3,
       "visible": true
      }
     },
     "37c5f456-c581-4fde-8a7b-41083fddbbfe": {
      "model_module": "@jupyter-widgets/base",
      "model_module_version": "*",
      "model_name": "LayoutModel",
      "state": {
       "_model_module_version": "*",
       "_view_module_version": "*",
       "align_content": "",
       "align_self": "",
       "border": "",
       "bottom": "",
       "flex": "",
       "height": "",
       "justify_content": "",
       "left": "",
       "margin": "",
       "max_height": "",
       "max_width": "",
       "min_height": "",
       "min_width": "",
       "msg_throttle": 3,
       "overflow": "",
       "overflow_x": "",
       "overflow_y": "",
       "padding": "",
       "right": "",
       "top": ""
      }
     },
     "3e6a8f8d-96be-4cf4-8f47-70c635dbf40e": {
      "model_module": "@jupyter-widgets/base",
      "model_module_version": "*",
      "model_name": "LayoutModel",
      "state": {
       "_model_module_version": "*",
       "_view_module_version": "*",
       "align_content": "",
       "align_self": "",
       "border": "",
       "bottom": "",
       "flex": "",
       "height": "",
       "justify_content": "",
       "left": "",
       "margin": "",
       "max_height": "",
       "max_width": "",
       "min_height": "",
       "min_width": "",
       "msg_throttle": 3,
       "overflow": "",
       "overflow_x": "",
       "overflow_y": "",
       "padding": "",
       "right": "",
       "top": ""
      }
     },
     "4419d2ed-38e6-45fd-964d-92505a64dca7": {
      "model_module": "@jupyter-widgets/base",
      "model_module_version": "*",
      "model_name": "LayoutModel",
      "state": {
       "_model_module_version": "*",
       "_view_module_version": "*",
       "align_content": "",
       "align_self": "",
       "border": "",
       "bottom": "",
       "flex": "",
       "height": "",
       "justify_content": "",
       "left": "",
       "margin": "",
       "max_height": "",
       "max_width": "",
       "min_height": "",
       "min_width": "",
       "msg_throttle": 3,
       "overflow": "",
       "overflow_x": "",
       "overflow_y": "",
       "padding": "",
       "right": "",
       "top": ""
      }
     },
     "48b6f194-7df0-43bf-b5dc-77d1a5b05dbf": {
      "model_module": "@jupyter-widgets/base",
      "model_module_version": "*",
      "model_name": "LayoutModel",
      "state": {
       "_model_module_version": "*",
       "_view_module_version": "*",
       "align_content": "",
       "align_self": "",
       "border": "",
       "bottom": "",
       "flex": "",
       "height": "",
       "justify_content": "",
       "left": "",
       "margin": "",
       "max_height": "",
       "max_width": "",
       "min_height": "",
       "min_width": "",
       "msg_throttle": 3,
       "overflow": "",
       "overflow_x": "",
       "overflow_y": "",
       "padding": "",
       "right": "",
       "top": ""
      }
     },
     "50e15a60-a915-429d-a65a-29164e32aca1": {
      "model_module": "@jupyter-widgets/base",
      "model_module_version": "*",
      "model_name": "LayoutModel",
      "state": {
       "_model_module_version": "*",
       "_view_module_version": "*",
       "align_content": "",
       "align_self": "",
       "border": "",
       "bottom": "",
       "flex": "",
       "height": "",
       "justify_content": "",
       "left": "",
       "margin": "",
       "max_height": "",
       "max_width": "",
       "min_height": "",
       "min_width": "",
       "msg_throttle": 3,
       "overflow": "",
       "overflow_x": "",
       "overflow_y": "",
       "padding": "",
       "right": "",
       "top": ""
      }
     },
     "567b9267-e7ea-4738-8329-b6ec6e831af2": {
      "model_module": "@jupyter-widgets/base",
      "model_module_version": "*",
      "model_name": "LayoutModel",
      "state": {
       "_model_module_version": "*",
       "_view_module_version": "*",
       "align_content": "",
       "align_self": "",
       "border": "",
       "bottom": "",
       "flex": "",
       "height": "",
       "justify_content": "",
       "left": "",
       "margin": "",
       "max_height": "",
       "max_width": "",
       "min_height": "",
       "min_width": "",
       "msg_throttle": 3,
       "overflow": "",
       "overflow_x": "",
       "overflow_y": "",
       "padding": "",
       "right": "",
       "top": ""
      }
     },
     "5993ccf4-b03d-4108-9d16-1c0821e76501": {
      "model_module": "beakerx",
      "model_module_version": "*",
      "model_name": "BxHTMLModel",
      "state": {
       "background_color": null,
       "color": null,
       "font_family": "",
       "font_size": "",
       "font_style": "",
       "font_weight": "",
       "layout": "IPY_MODEL_a07f13ea-8e60-4df2-b826-0201cb01d496",
       "msg_throttle": 3,
       "placeholder": "",
       "value": "clj-tuple-0.2.2.jar, httpclient-cache-4.5.10.jar, commons-logging-1.2.jar, commons-io-2.6.jar, httpcore-nio-4.4.10.jar, potemkin-0.4.5.jar, riddley-0.1.12.jar, commons-codec-1.12.jar, httpclient-4.5.10.jar, clj-http-3.10.1.jar, httpasyncclient-4.1.4.jar, httpmime-4.5.10.jar, httpcore-4.4.12.jar, slingshot-0.12.2.jar",
       "visible": true
      }
     },
     "6b89bd3e-eb9d-4675-bfcd-9b5fe52ec789": {
      "model_module": "@jupyter-widgets/base",
      "model_module_version": "*",
      "model_name": "LayoutModel",
      "state": {
       "_model_module_version": "*",
       "_view_module_version": "*",
       "align_content": "",
       "align_self": "",
       "border": "",
       "bottom": "",
       "flex": "",
       "height": "",
       "justify_content": "",
       "left": "",
       "margin": "",
       "max_height": "",
       "max_width": "",
       "min_height": "",
       "min_width": "",
       "msg_throttle": 3,
       "overflow": "",
       "overflow_x": "",
       "overflow_y": "",
       "padding": "",
       "right": "",
       "top": ""
      }
     },
     "6f63fed2-c960-46aa-831d-cb02976ca84e": {
      "model_module": "@jupyter-widgets/base",
      "model_module_version": "*",
      "model_name": "LayoutModel",
      "state": {
       "_model_module_version": "*",
       "_view_module_version": "*",
       "align_content": "",
       "align_self": "",
       "border": "",
       "bottom": "",
       "flex": "",
       "height": "",
       "justify_content": "",
       "left": "",
       "margin": "",
       "max_height": "",
       "max_width": "",
       "min_height": "",
       "min_width": "",
       "msg_throttle": 3,
       "overflow": "",
       "overflow_x": "",
       "overflow_y": "",
       "padding": "",
       "right": "",
       "top": ""
      }
     },
     "751f9ddf-cb47-48ed-b323-2d68f1fa9e06": {
      "model_module": "@jupyter-widgets/base",
      "model_module_version": "*",
      "model_name": "LayoutModel",
      "state": {
       "_model_module_version": "*",
       "_view_module_version": "*",
       "align_content": "",
       "align_self": "",
       "border": "",
       "bottom": "",
       "flex": "",
       "height": "",
       "justify_content": "",
       "left": "",
       "margin": "",
       "max_height": "",
       "max_width": "",
       "min_height": "",
       "min_width": "",
       "msg_throttle": 3,
       "overflow": "",
       "overflow_x": "",
       "overflow_y": "",
       "padding": "",
       "right": "",
       "top": ""
      }
     },
     "760d790f-d54e-4dc0-a24e-f7fcf1bbca8e": {
      "model_module": "@jupyter-widgets/base",
      "model_module_version": "*",
      "model_name": "LayoutModel",
      "state": {
       "_model_module_version": "*",
       "_view_module_version": "*",
       "align_content": "",
       "align_self": "",
       "border": "",
       "bottom": "",
       "flex": "",
       "height": "",
       "justify_content": "",
       "left": "",
       "margin": "",
       "max_height": "",
       "max_width": "",
       "min_height": "",
       "min_width": "",
       "msg_throttle": 3,
       "overflow": "",
       "overflow_x": "",
       "overflow_y": "",
       "padding": "",
       "right": "",
       "top": ""
      }
     },
     "84b0defe-7b4b-44f8-b959-0c2014335826": {
      "model_module": "beakerx",
      "model_module_version": "*",
      "model_name": "BxHTMLModel",
      "state": {
       "background_color": null,
       "color": null,
       "font_family": "",
       "font_size": "",
       "font_style": "",
       "font_weight": "",
       "layout": "IPY_MODEL_08249871-cc1c-40ff-932b-2eef15c66474",
       "msg_throttle": 3,
       "placeholder": "",
       "value": "data.csv-1.0.0.jar, clojure-1.4.0.jar",
       "visible": true
      }
     },
     "87e9821d-211c-474e-a0c8-93ce7ab1a69c": {
      "model_module": "@jupyter-widgets/base",
      "model_module_version": "*",
      "model_name": "LayoutModel",
      "state": {
       "_model_module_version": "*",
       "_view_module_version": "*",
       "align_content": "",
       "align_self": "",
       "border": "",
       "bottom": "",
       "flex": "",
       "height": "",
       "justify_content": "",
       "left": "",
       "margin": "",
       "max_height": "",
       "max_width": "",
       "min_height": "",
       "min_width": "",
       "msg_throttle": 3,
       "overflow": "",
       "overflow_x": "",
       "overflow_y": "",
       "padding": "",
       "right": "",
       "top": ""
      }
     },
     "8ff8b4b0-b2ad-4696-8f7d-db03d50e6db1": {
      "model_module": "beakerx",
      "model_module_version": "*",
      "model_name": "BxHTMLModel",
      "state": {
       "background_color": null,
       "color": null,
       "font_family": "",
       "font_size": "",
       "font_style": "",
       "font_weight": "",
       "layout": "IPY_MODEL_87e9821d-211c-474e-a0c8-93ce7ab1a69c",
       "msg_throttle": 3,
       "placeholder": "",
       "value": "data.csv-1.0.0.jar, clojure-1.4.0.jar",
       "visible": true
      }
     },
     "93ed3559-77a4-4296-914e-7a913d1c67b5": {
      "model_module": "beakerx",
      "model_module_version": "*",
      "model_name": "FoldoutModel",
      "state": {
       "background_color": null,
       "children": [
        "IPY_MODEL_c094ac60-e4e4-49e4-846d-bd8cbc93726e"
       ],
       "color": null,
       "description": "",
       "disabled": false,
       "font_family": "",
       "font_size": "",
       "font_style": "",
       "font_weight": "",
       "headerLabel": "Added jars: ",
       "hidePreview": false,
       "layout": "IPY_MODEL_567b9267-e7ea-4738-8329-b6ec6e831af2",
       "msg_throttle": 3,
       "visible": true
      }
     },
     "97e6caa0-cefb-4833-a70f-51f5bdf4523c": {
      "model_module": "beakerx",
      "model_module_version": "*",
      "model_name": "BxHTMLModel",
      "state": {
       "background_color": null,
       "color": null,
       "font_family": "",
       "font_size": "",
       "font_style": "",
       "font_weight": "",
       "layout": "IPY_MODEL_6f63fed2-c960-46aa-831d-cb02976ca84e",
       "msg_throttle": 3,
       "placeholder": "",
       "value": "httpmime-4.5.10.jar, httpclient-cache-4.5.10.jar, commons-io-2.6.jar, potemkin-0.4.5.jar, slingshot-0.12.2.jar, clj-tuple-0.2.2.jar, httpcore-4.4.12.jar, commons-codec-1.12.jar, httpasyncclient-4.1.4.jar, httpcore-nio-4.4.10.jar, riddley-0.1.12.jar, commons-logging-1.2.jar, clj-http-3.10.1.jar, httpclient-4.5.10.jar",
       "visible": true
      }
     },
     "98e879fa-c0fe-4ff7-8b9d-82ab9c8d379c": {
      "model_module": "@jupyter-widgets/base",
      "model_module_version": "*",
      "model_name": "LayoutModel",
      "state": {
       "_model_module_version": "*",
       "_view_module_version": "*",
       "align_content": "",
       "align_self": "",
       "border": "",
       "bottom": "",
       "flex": "",
       "height": "",
       "justify_content": "",
       "left": "",
       "margin": "",
       "max_height": "",
       "max_width": "",
       "min_height": "",
       "min_width": "",
       "msg_throttle": 3,
       "overflow": "",
       "overflow_x": "",
       "overflow_y": "",
       "padding": "",
       "right": "",
       "top": ""
      }
     },
     "a07f13ea-8e60-4df2-b826-0201cb01d496": {
      "model_module": "@jupyter-widgets/base",
      "model_module_version": "*",
      "model_name": "LayoutModel",
      "state": {
       "_model_module_version": "*",
       "_view_module_version": "*",
       "align_content": "",
       "align_self": "",
       "border": "",
       "bottom": "",
       "flex": "",
       "height": "",
       "justify_content": "",
       "left": "",
       "margin": "",
       "max_height": "",
       "max_width": "",
       "min_height": "",
       "min_width": "",
       "msg_throttle": 3,
       "overflow": "",
       "overflow_x": "",
       "overflow_y": "",
       "padding": "",
       "right": "",
       "top": ""
      }
     },
     "a9c7256e-03d8-4929-a9ac-9be18c794f12": {
      "model_module": "@jupyter-widgets/base",
      "model_module_version": "*",
      "model_name": "LayoutModel",
      "state": {
       "_model_module_version": "*",
       "_view_module_version": "*",
       "align_content": "",
       "align_self": "",
       "border": "",
       "bottom": "",
       "flex": "",
       "height": "",
       "justify_content": "",
       "left": "",
       "margin": "",
       "max_height": "",
       "max_width": "",
       "min_height": "",
       "min_width": "",
       "msg_throttle": 3,
       "overflow": "",
       "overflow_x": "",
       "overflow_y": "",
       "padding": "",
       "right": "",
       "top": ""
      }
     },
     "ab5ff192-3b35-44fb-8b67-c8b71e3eb5a1": {
      "model_module": "@jupyter-widgets/base",
      "model_module_version": "*",
      "model_name": "LayoutModel",
      "state": {
       "_model_module_version": "*",
       "_view_module_version": "*",
       "align_content": "",
       "align_self": "",
       "border": "",
       "bottom": "",
       "flex": "",
       "height": "",
       "justify_content": "",
       "left": "",
       "margin": "",
       "max_height": "",
       "max_width": "",
       "min_height": "",
       "min_width": "",
       "msg_throttle": 3,
       "overflow": "",
       "overflow_x": "",
       "overflow_y": "",
       "padding": "",
       "right": "",
       "top": ""
      }
     },
     "b54b0ff1-2e70-431e-a721-f60383474281": {
      "model_module": "@jupyter-widgets/base",
      "model_module_version": "*",
      "model_name": "LayoutModel",
      "state": {
       "_model_module_version": "*",
       "_view_module_version": "*",
       "align_content": "",
       "align_self": "",
       "border": "",
       "bottom": "",
       "flex": "",
       "height": "",
       "justify_content": "",
       "left": "",
       "margin": "",
       "max_height": "",
       "max_width": "",
       "min_height": "",
       "min_width": "",
       "msg_throttle": 3,
       "overflow": "",
       "overflow_x": "",
       "overflow_y": "",
       "padding": "",
       "right": "",
       "top": ""
      }
     },
     "bf1f3e9d-ee56-4e0d-9d7c-bd1eb3bf1cbe": {
      "model_module": "@jupyter-widgets/base",
      "model_module_version": "*",
      "model_name": "LayoutModel",
      "state": {
       "_model_module_version": "*",
       "_view_module_version": "*",
       "align_content": "",
       "align_self": "",
       "border": "",
       "bottom": "",
       "flex": "",
       "height": "",
       "justify_content": "",
       "left": "",
       "margin": "",
       "max_height": "",
       "max_width": "",
       "min_height": "",
       "min_width": "",
       "msg_throttle": 3,
       "overflow": "",
       "overflow_x": "",
       "overflow_y": "",
       "padding": "",
       "right": "",
       "top": ""
      }
     },
     "c094ac60-e4e4-49e4-846d-bd8cbc93726e": {
      "model_module": "beakerx",
      "model_module_version": "*",
      "model_name": "BxHTMLModel",
      "state": {
       "background_color": null,
       "color": null,
       "font_family": "",
       "font_size": "",
       "font_style": "",
       "font_weight": "",
       "layout": "IPY_MODEL_f9a952ac-98f4-422d-b34d-996171357d21",
       "msg_throttle": 3,
       "placeholder": "",
       "value": "httpclient-cache-4.5.10.jar, httpmime-4.5.10.jar, clj-http-3.10.1.jar, potemkin-0.4.5.jar, slingshot-0.12.2.jar, commons-io-2.6.jar, commons-codec-1.12.jar, httpclient-4.5.10.jar, clj-tuple-0.2.2.jar, httpcore-nio-4.4.10.jar, commons-logging-1.2.jar, httpasyncclient-4.1.4.jar, httpcore-4.4.12.jar, riddley-0.1.12.jar",
       "visible": true
      }
     },
     "c1b1b31c-30fc-4e7f-9dda-664a96c5061b": {
      "model_module": "beakerx",
      "model_module_version": "*",
      "model_name": "PlotModel",
      "state": {
       "model": {
        "auto_zoom": false,
        "chart_title": "Waste generated per council-citizen per year",
        "constant_bands": [],
        "constant_lines": [],
        "crosshair": null,
        "custom_styles": [],
        "domain_axis_label": "Year",
        "element_styles": {},
        "graphics_list": [
         {
          "display_name": "Falkirk",
          "hasClickAction": false,
          "type": "Line",
          "uid": "15fda393-3d07-460a-90fe-8ea70a192497",
          "visible": true,
          "width": 1.5,
          "x": [
           1325289600000,
           1356912000000,
           1388448000000,
           1419984000000,
           1451520000000,
           1483142400000,
           1514678400000,
           1546214400000
          ],
          "y": [
           "0.5003328",
           "0.485401785714285714285714",
           "0.457813693051667090862815",
           "0.466865368761494070644936",
           "0.456449577180360974378392",
           "0.450389007403689296022086",
           "0.466189970648847811153438",
           "0.427659972558313583634776"
          ],
          "yAxis": null
         },
         {
          "display_name": "South Ayrshire",
          "hasClickAction": false,
          "type": "Line",
          "uid": "069c2d4d-8f38-462b-a43b-655157ccab23",
          "visible": true,
          "width": 1.5,
          "x": [
           1325289600000,
           1356912000000,
           1388448000000,
           1419984000000,
           1451520000000,
           1483142400000,
           1514678400000,
           1546214400000
          ],
          "y": [
           "0.517622588068684722959816",
           "0.51033475026567481402763",
           "0.491033932843093824754142",
           "0.492997422909446369856927",
           "0.49513345195729537366548",
           "0.502222814972881657330844",
           "0.503833865814696485623003",
           "0.495904042647712127943136"
          ],
          "yAxis": null
         },
         {
          "display_name": "Aberdeenshire",
          "hasClickAction": false,
          "type": "Line",
          "uid": "44e66ce6-adf1-408e-a395-fa7c78772335",
          "visible": true,
          "width": 1.5,
          "x": [
           1325289600000,
           1356912000000,
           1388448000000,
           1419984000000,
           1451520000000,
           1483142400000,
           1514678400000,
           1546214400000
          ],
          "y": [
           "0.583686181746501084171102",
           "0.527109093754891219283143",
           "0.511343445707413585754743",
           "0.5043142824242889494492",
           "0.497209497633226446785769",
           "0.502929173500133490979824",
           "0.487517188693659281894576",
           "0.46092859601483917849084"
          ],
          "yAxis": null
         },
         {
          "display_name": "Aberdeen City",
          "hasClickAction": false,
          "type": "Line",
          "uid": "e1ebecca-6d91-4f53-8ab3-d562f21294c7",
          "visible": true,
          "width": 1.5,
          "x": [
           1325289600000,
           1356912000000,
           1388448000000,
           1419984000000,
           1451520000000,
           1483142400000,
           1514678400000,
           1546214400000
          ],
          "y": [
           "0.436860559201654229973928",
           "0.432306255835667600373483",
           "0.414484520192011274056458",
           "0.419928359252140485759217",
           "0.413462122856522682873888",
           "0.418217020536025060911939",
           "0.38368006993006993006993",
           "0.375900861311302513622781"
          ],
          "yAxis": null
         },
         {
          "display_name": "Renfrewshire",
          "hasClickAction": false,
          "type": "Line",
          "uid": "f6acdc92-7821-4387-b837-abfb0ec35c7e",
          "visible": true,
          "width": 1.5,
          "x": [
           1325289600000,
           1356912000000,
           1388448000000,
           1419984000000,
           1451520000000,
           1483142400000,
           1514678400000,
           1546214400000
          ],
          "y": [
           "0.472644533485975958786491",
           "0.471176133103843947217441",
           "0.45095750186899764218759",
           "0.464087700166446650978592",
           "0.475819202566452795600367",
           "0.475535724435855169669755",
           "0.472351976474580105185772",
           "0.457027954328139940379099"
          ],
          "yAxis": null
         },
         {
          "display_name": "Glasgow City",
          "hasClickAction": false,
          "type": "Line",
          "uid": "a5d5e2ad-9b89-4315-a846-38e7726669ea",
          "visible": true,
          "width": 1.5,
          "x": [
           1325289600000,
           1356912000000,
           1388448000000,
           1419984000000,
           1451520000000,
           1483142400000,
           1514678400000,
           1546214400000
          ],
          "y": [
           "0.422738002900212457424207",
           "0.393582267632379383938024",
           "0.382116274391470529068598",
           "0.374371289440330865185778",
           "0.365969588019922815582017",
           "0.352598891183117368754776",
           "0.361540691121058903094908",
           "0.391625293338228955476445"
          ],
          "yAxis": null
         },
         {
          "display_name": "Orkney Islands",
          "hasClickAction": false,
          "type": "Line",
          "uid": "d2a18133-ff52-4082-a1e7-6039371d0ea4",
          "visible": true,
          "width": 1.5,
          "x": [
           1325289600000,
           1356912000000,
           1388448000000,
           1419984000000,
           1451520000000,
           1483142400000,
           1514678400000,
           1546214400000
          ],
          "y": [
           "0.478758169934640522875817",
           "0.475290292614955875522527",
           "0.460250463821892393320965",
           "0.489712696941612604263207",
           "0.432441162898015689893862",
           "0.473638443935926773455378",
           "0.490818181818181818181818",
           "0.460612888688598467778279"
          ],
          "yAxis": null
         },
         {
          "display_name": "East Renfrewshire",
          "hasClickAction": false,
          "type": "Line",
          "uid": "89c48a24-a773-4f5e-b4c1-d671ad444453",
          "visible": true,
          "width": 1.5,
          "x": [
           1325289600000,
           1356912000000,
           1388448000000,
           1419984000000,
           1451520000000,
           1483142400000,
           1514678400000,
           1546214400000
          ],
          "y": [
           "0.497643431340160775245017",
           "0.483150263620386643233743",
           "0.481339451545941221457446",
           "0.500205605453955199653717",
           "0.5044114482461803313966",
           "0.508730412535976974736169",
           "0.501941747572815533980583",
           "0.461563517915309446254072"
          ],
          "yAxis": null
         },
         {
          "display_name": "City of Edinburgh",
          "hasClickAction": false,
          "type": "Line",
          "uid": "b4fd0f92-a4a1-43c6-88a5-620507030765",
          "visible": true,
          "width": 1.5,
          "x": [
           1325289600000,
           1356912000000,
           1388448000000,
           1419984000000,
           1451520000000,
           1483142400000,
           1514678400000,
           1546214400000
          ],
          "y": [
           "0.396905469305770598819936",
           "0.388943911484988500507635",
           "0.378205391211586591720346",
           "0.38473640405188688820771",
           "0.380052525009522663940178",
           "0.381199597768006782735572",
           "0.39110695426823327682625",
           "0.372885245901639344262295"
          ],
          "yAxis": null
         },
         {
          "display_name": "Fife",
          "hasClickAction": false,
          "type": "Line",
          "uid": "b0dec30c-788f-4d5c-9390-9477b0ba44d7",
          "visible": true,
          "width": 1.5,
          "x": [
           1325289600000,
           1356912000000,
           1388448000000,
           1419984000000,
           1451520000000,
           1483142400000,
           1514678400000,
           1546214400000
          ],
          "y": [
           "0.587330960854092526690391",
           "0.534106113978318451161902",
           "0.519989097846824747887708",
           "0.512490129339686861810756",
           "0.519324603347098456857205",
           "0.506969459671104150352388",
           "0.480541719393661990791847",
           "0.449982522653330106746256"
          ],
          "yAxis": null
         },
         {
          "display_name": "East Dunbartonshire",
          "hasClickAction": false,
          "type": "Line",
          "uid": "44569f0d-6849-4061-b54a-1dc3bb1ebabe",
          "visible": true,
          "width": 1.5,
          "x": [
           1325289600000,
           1356912000000,
           1388448000000,
           1419984000000,
           1451520000000,
           1483142400000,
           1514678400000,
           1546214400000
          ],
          "y": [
           "0.561885714285714285714286",
           "0.52166603702304495655459",
           "0.491288737717309145880574",
           "0.495707993627588792053228",
           "0.506647344801795063575168",
           "0.519360238050957783150456",
           "0.522010542865069823360769",
           "0.476719283670266777439306"
          ],
          "yAxis": null
         },
         {
          "display_name": "North Ayrshire",
          "hasClickAction": false,
          "type": "Line",
          "uid": "dbc7bd21-d9da-4612-8c73-fd028b96588e",
          "visible": true,
          "width": 1.5,
          "x": [
           1325289600000,
           1356912000000,
           1388448000000,
           1419984000000,
           1451520000000,
           1483142400000,
           1514678400000,
           1546214400000
          ],
          "y": [
           "0.494691867622564993844594",
           "0.456022388602166169949844",
           "0.452095808383233532934132",
           "0.47673651817116060961313",
           "0.471556600308528612355836",
           "0.469777025535359481933917",
           "0.463612931732822740997128",
           "0.454028681253696037847428"
          ],
          "yAxis": null
         },
         {
          "display_name": "North Lanarkshire",
          "hasClickAction": false,
          "type": "Line",
          "uid": "38c2ba91-3764-4e52-9028-c479d972390f",
          "visible": true,
          "width": 1.5,
          "x": [
           1325289600000,
           1356912000000,
           1388448000000,
           1419984000000,
           1451520000000,
           1483142400000,
           1514678400000,
           1546214400000
          ],
          "y": [
           "0.474493663389790358877176",
           "0.461206309745775252301045",
           "0.452143406951270057433833",
           "0.444701183431952662721893",
           "0.460997457577011766097085",
           "0.474127110403960045964819",
           "0.461268972820331803741617",
           "0.429698982891410429772473"
          ],
          "yAxis": null
         },
         {
          "display_name": "East Lothian",
          "hasClickAction": false,
          "type": "Line",
          "uid": "c08aca69-4563-4341-97f3-0c547f5036b9",
          "visible": true,
          "width": 1.5,
          "x": [
           1325289600000,
           1356912000000,
           1388448000000,
           1419984000000,
           1451520000000,
           1483142400000,
           1514678400000,
           1546214400000
          ],
          "y": [
           "0.532055644515612489991994",
           "0.519066032123735871505057",
           "0.48658644836768912121511",
           "0.51581937506122049172299",
           "0.493993207180980106744299",
           "0.488750120088385051397829",
           "0.482754673788630293781",
           "0.473901124870025522261083"
          ],
          "yAxis": null
         },
         {
          "display_name": "Argyll and Bute",
          "hasClickAction": false,
          "type": "Line",
          "uid": "e5b95979-cd0c-4983-9d04-d9a984e5dd5e",
          "visible": true,
          "width": 1.5,
          "x": [
           1325289600000,
           1356912000000,
           1388448000000,
           1419984000000,
           1451520000000,
           1483142400000,
           1514678400000,
           1546214400000
          ],
          "y": [
           "0.520645451478691105363769",
           "0.558152111379588079622598",
           "0.559273140261215218625781",
           "0.597364517969195664575014",
           "0.596696973184486131890897",
           "0.616194192585791346264203",
           "0.581004492569980417002649",
           "0.55613262230466032923719"
          ],
          "yAxis": null
         },
         {
          "display_name": "Angus",
          "hasClickAction": false,
          "type": "Line",
          "uid": "7ad94703-454c-4a32-986e-3ff15fb95064",
          "visible": true,
          "width": 1.5,
          "x": [
           1325289600000,
           1356912000000,
           1388448000000,
           1419984000000,
           1451520000000,
           1483142400000,
           1514678400000,
           1546214400000
          ],
          "y": [
           "0.535283993115318416523236",
           "0.523171571158148339356393",
           "0.466574941955456187118411",
           "0.504471475072811375706699",
           "0.492805816937553464499572",
           "0.505037761757638173704085",
           "0.483986928104575163398693",
           "0.470691140985866942433644"
          ],
          "yAxis": null
         },
         {
          "display_name": "Dumfries and Galloway",
          "hasClickAction": false,
          "type": "Line",
          "uid": "01553105-eadd-44a0-b11f-222a5ec5e0d5",
          "visible": true,
          "width": 1.5,
          "x": [
           1325289600000,
           1356912000000,
           1388448000000,
           1419984000000,
           1451520000000,
           1483142400000,
           1514678400000,
           1546214400000
          ],
          "y": [
           "0.539066111881645862228387",
           "0.515175019888623707239459",
           "0.502402182592494011179132",
           "0.509829287810082688716991",
           "0.495035745306340616021915",
           "0.533754681647940074906367",
           "0.511320375335120643431635",
           "0.533133947173869211640567"
          ],
          "yAxis": null
         },
         {
          "display_name": "Shetland Islands",
          "hasClickAction": false,
          "type": "Line",
          "uid": "ba6fc8bc-c142-4993-a543-e31179fbccb1",
          "visible": true,
          "width": 1.5,
          "x": [
           1325289600000,
           1356912000000,
           1388448000000,
           1419984000000,
           1451520000000,
           1483142400000,
           1514678400000,
           1546214400000
          ],
          "y": [
           "0.50740103270223752151463",
           "0.467858681602757432141318",
           "0.437068965517241379310345",
           "0.428165374677002583979328",
           "0.441810344827586206896552",
           "0.43086206896551724137931",
           "0.42261698440207972270364",
           "0.419704219225750326228795"
          ],
          "yAxis": null
         },
         {
          "display_name": "Stirling",
          "hasClickAction": false,
          "type": "Line",
          "uid": "a21ef795-bb94-42f6-a787-d7c25f4889b1",
          "visible": true,
          "width": 1.5,
          "x": [
           1325289600000,
           1356912000000,
           1388448000000,
           1419984000000,
           1451520000000,
           1483142400000,
           1514678400000,
           1546214400000
          ],
          "y": [
           "0.48736853758441270895605",
           "0.474563234809361608614438",
           "0.437608242902553984434945",
           "0.443127185314685314685315",
           "0.451675105030701281913175",
           "0.472224",
           "0.433765957446808510638298",
           "0.444450333934061274249973"
          ],
          "yAxis": null
         },
         {
          "display_name": "South Lanarkshire",
          "hasClickAction": false,
          "type": "Line",
          "uid": "d88f9642-e535-455d-8fb3-8befaa4af003",
          "visible": true,
          "width": 1.5,
          "x": [
           1325289600000,
           1356912000000,
           1388448000000,
           1419984000000,
           1451520000000,
           1483142400000,
           1514678400000,
           1546214400000
          ],
          "y": [
           "0.519955399808856323669959",
           "0.483323258995323386250119",
           "0.459750325593214955052254",
           "0.486812559467174119885823",
           "0.479574992884925528887202",
           "0.48103122043519394512772",
           "0.476914856837539680045259",
           "0.471663218606983888157482"
          ],
          "yAxis": null
         },
         {
          "display_name": "Na h-Eileanan Siar",
          "hasClickAction": false,
          "type": "Line",
          "uid": "e9bd3df2-7d69-43f8-93a4-5669526c1d8e",
          "visible": true,
          "width": 1.5,
          "x": [
           1325289600000,
           1356912000000,
           1388448000000,
           1419984000000,
           1451520000000,
           1483142400000,
           1514678400000,
           1546214400000
          ],
          "y": [
           "0.59620801733477789815818",
           "0.518904208998548621190131",
           "0.464890510948905109489051",
           "0.494642201834862385321101",
           "0.517657923900997414111563",
           "0.556096654275092936802974",
           "0.536289424860853432282004",
           "0.533917256802087215803205"
          ],
          "yAxis": null
         },
         {
          "display_name": "Dundee City",
          "hasClickAction": false,
          "type": "Line",
          "uid": "82099017-1e8c-40c5-9d4b-6526301f7027",
          "visible": true,
          "width": 1.5,
          "x": [
           1325289600000,
           1356912000000,
           1388448000000,
           1419984000000,
           1451520000000,
           1483142400000,
           1514678400000,
           1546214400000
          ],
          "y": [
           "0.464456521739130434782609",
           "0.474374069562863716335093",
           "0.415158676569885212694126",
           "0.430284209815702423546884",
           "0.453289251737399635652115",
           "0.458609293855803601537735",
           "0.432701230583013919709502",
           "0.40855798319327731092437"
          ],
          "yAxis": null
         },
         {
          "display_name": "Perth and Kinross",
          "hasClickAction": false,
          "type": "Line",
          "uid": "c7c6b298-e8ce-4a74-9888-d7858950c9ad",
          "visible": true,
          "width": 1.5,
          "x": [
           1325289600000,
           1356912000000,
           1388448000000,
           1419984000000,
           1451520000000,
           1483142400000,
           1514678400000,
           1546214400000
          ],
          "y": [
           "0.544215185563500170241743",
           "0.507743332882090158386354",
           "0.502585098463828923326792",
           "0.503249848922312495803398",
           "0.508150470219435736677116",
           "0.522498009025749933634192",
           "0.494963600264725347452019",
           "0.474684380990151364928283"
          ],
          "yAxis": null
         },
         {
          "display_name": "East Ayrshire",
          "hasClickAction": false,
          "type": "Line",
          "uid": "c5934a01-0fc7-4dcb-80f6-34c2d197f4a2",
          "visible": true,
          "width": 1.5,
          "x": [
           1325289600000,
           1356912000000,
           1388448000000,
           1419984000000,
           1451520000000,
           1483142400000,
           1514678400000,
           1546214400000
          ],
          "y": [
           "0.497897139131143532480235",
           "0.479043428664548195225291",
           "0.476043453401943967981704",
           "0.461737492835503152378613",
           "0.461854825495657873177126",
           "0.461816693944353518821604",
           "0.457946531080859439068394",
           "0.436211424819435325016415"
          ],
          "yAxis": null
         },
         {
          "display_name": "Scotland",
          "hasClickAction": false,
          "type": "Line",
          "uid": "9dbc1184-e925-4c07-82e2-72f143fe0a31",
          "visible": true,
          "width": 1.5,
          "x": [
           1325289600000,
           1356912000000,
           1388448000000,
           1419984000000,
           1451520000000,
           1483142400000,
           1514678400000,
           1546214400000
          ],
          "y": [
           "0.491850600954734994999906",
           "0.470678071364046973803071",
           "0.4528464440565347147925",
           "0.45993660707607150871419",
           "0.459479061976549413735343",
           "0.462371269450663311562159",
           "0.453624096740893673499484",
           "0.44229528695684154392159"
          ],
          "yAxis": null
         },
         {
          "display_name": "Inverclyde",
          "hasClickAction": false,
          "type": "Line",
          "uid": "578fd101-4d78-4439-8eb8-bfa2bf1dd634",
          "visible": true,
          "width": 1.5,
          "x": [
           1325289600000,
           1356912000000,
           1388448000000,
           1419984000000,
           1451520000000,
           1483142400000,
           1514678400000,
           1546214400000
          ],
          "y": [
           "0.417840433390790445703029",
           "0.412046102367083901350849",
           "0.363243714214588000995768",
           "0.356189760921266741769934",
           "0.358402515723270440251572",
           "0.370932289034866093986862",
           "0.349987303199593702386998",
           "0.358630838131797824696097"
          ],
          "yAxis": null
         },
         {
          "display_name": "Highland",
          "hasClickAction": false,
          "type": "Line",
          "uid": "82bdec64-0cc2-4158-8f0b-0f822b42d105",
          "visible": true,
          "width": 1.5,
          "x": [
           1325289600000,
           1356912000000,
           1388448000000,
           1419984000000,
           1451520000000,
           1483142400000,
           1514678400000,
           1546214400000
          ],
          "y": [
           "0.539053839212821724745413",
           "0.541813731804714672162824",
           "0.539556948439445326922251",
           "0.563016989874721125793719",
           "0.558626286788261928153432",
           "0.557818290241512970140989",
           "0.553575984352410919295858",
           "0.542922645835102318077609"
          ],
          "yAxis": null
         },
         {
          "display_name": "Midlothian",
          "hasClickAction": false,
          "type": "Line",
          "uid": "789dd8df-afe9-4525-830a-0552ffae3f33",
          "visible": true,
          "width": 1.5,
          "x": [
           1325289600000,
           1356912000000,
           1388448000000,
           1419984000000,
           1451520000000,
           1483142400000,
           1514678400000,
           1546214400000
          ],
          "y": [
           "0.525452366686638705811863",
           "0.506896961063627730294397",
           "0.47428874985243772872152",
           "0.472349802829969844583623",
           "0.481485295800434832360682",
           "0.481175939510213294210586",
           "0.474247974247974247974248",
           "0.458616159404423034814977"
          ],
          "yAxis": null
         },
         {
          "display_name": "Scottish Borders",
          "hasClickAction": false,
          "type": "Line",
          "uid": "a12605c9-8123-4926-b06c-c7bb2d925355",
          "visible": true,
          "width": 1.5,
          "x": [
           1325289600000,
           1356912000000,
           1388448000000,
           1419984000000,
           1451520000000,
           1483142400000,
           1514678400000,
           1546214400000
          ],
          "y": [
           "0.472620302072356866877415",
           "0.464834681674287724234963",
           "0.449964875307341060765718",
           "0.438021746755524377411435",
           "0.43714811891607471717969",
           "0.453339736313629616694316",
           "0.464884367936011128499391",
           "0.455374338509586188947688"
          ],
          "yAxis": null
         },
         {
          "display_name": "West Dunbartonshire",
          "hasClickAction": false,
          "type": "Line",
          "uid": "5da06ae6-30cf-42ab-8a94-e34c2336215c",
          "visible": true,
          "width": 1.5,
          "x": [
           1325289600000,
           1356912000000,
           1388448000000,
           1419984000000,
           1451520000000,
           1483142400000,
           1514678400000,
           1546214400000
          ],
          "y": [
           "0.454342787771769120406136",
           "0.431082576931591764445428",
           "0.403184855233853006681514",
           "0.449648868576524356259057",
           "0.503270454291773635450385",
           "0.500066770531938571110617",
           "0.486006026113157013726147",
           "0.469729608437114327386963"
          ],
          "yAxis": null
         },
         {
          "display_name": "Clackmannanshire",
          "hasClickAction": false,
          "type": "Line",
          "uid": "b825c713-ed64-4b2f-9f2d-804fc8c6e2f8",
          "visible": true,
          "width": 1.5,
          "x": [
           1325289600000,
           1356912000000,
           1388448000000,
           1419984000000,
           1451520000000,
           1483142400000,
           1514678400000,
           1546214400000
          ],
          "y": [
           "0.594135922330097087378641",
           "0.540873634945397815912637",
           "0.522952418096723868954758",
           "0.523266262941980855635866",
           "0.518321651090342679127726",
           "0.527575462512171372930867",
           "0.528688046647230320699708",
           "0.508210116731517509727626"
          ],
          "yAxis": null
         },
         {
          "display_name": "Moray",
          "hasClickAction": false,
          "type": "Line",
          "uid": "53859a12-1be6-47eb-a193-7ad41122607e",
          "visible": true,
          "width": 1.5,
          "x": [
           1325289600000,
           1356912000000,
           1388448000000,
           1419984000000,
           1451520000000,
           1483142400000,
           1514678400000,
           1546214400000
          ],
          "y": [
           "0.559901572697122071252808",
           "0.536791133110943721080383",
           "0.503740991945739720220432",
           "0.537110900073863036826",
           "0.524719924615223536802429",
           "0.540751535338815447069845",
           "0.533409897682188348298183",
           "0.497508375209380234505863"
          ],
          "yAxis": null
         },
         {
          "display_name": "West Lothian",
          "hasClickAction": false,
          "type": "Line",
          "uid": "947721bc-514b-40d6-b1d6-7dbf3673c18e",
          "visible": true,
          "width": 1.5,
          "x": [
           1325289600000,
           1356912000000,
           1388448000000,
           1419984000000,
           1451520000000,
           1483142400000,
           1514678400000,
           1546214400000
          ],
          "y": [
           "0.4277010838562464346834",
           "0.412090222146468950627805",
           "0.400051089918256130790191",
           "0.41477426636568848758465",
           "0.414348921870624474936992",
           "0.418797535113529117859324",
           "0.391875792840990568639347",
           "0.407345997584275831777753"
          ],
          "yAxis": null
         }
        ],
        "init_height": 480,
        "init_width": 640,
        "legend_layout": "VERTICAL",
        "legend_position": {
         "position": "TOP_RIGHT",
         "type": "LegendPosition"
        },
        "log_x": false,
        "log_y": false,
        "numberOfPoints": 8,
        "omit_checkboxes": false,
        "outputPointsLimit": 1000000,
        "outputPointsPreviewNumber": 10000,
        "rangeAxes": [
         {
          "auto_range": true,
          "auto_range_includes_zero": false,
          "label": "Tonnage",
          "log_base": 10,
          "lower_bound": 0,
          "lower_margin": 0,
          "type": "YAxis",
          "upper_bound": 0,
          "upper_margin": 0,
          "use_log": false
         }
        ],
        "rasters": [],
        "show_legend": null,
        "texts": [],
        "timezone": null,
        "tips": {},
        "type": "TimePlot",
        "use_tool_tip": true,
        "x_auto_range": true,
        "x_log_base": 10,
        "x_lower_bound": 0,
        "x_lower_margin": 0.05,
        "x_tickLabels_visible": true,
        "x_upper_bound": 0,
        "x_upper_margin": 0.05,
        "y_auto_range": true,
        "y_auto_range_includes_zero": false,
        "y_label": "Tonnage",
        "y_lower_bound": 0,
        "y_lower_margin": 0,
        "y_tickLabels_visible": true,
        "y_upper_bound": 0,
        "y_upper_margin": 0
       }
      }
     },
     "c2f6ecf0-f289-41c4-9d76-f345db7cfe47": {
      "model_module": "@jupyter-widgets/base",
      "model_module_version": "*",
      "model_name": "LayoutModel",
      "state": {
       "_model_module_version": "*",
       "_view_module_version": "*",
       "align_content": "",
       "align_self": "",
       "border": "",
       "bottom": "",
       "flex": "",
       "height": "",
       "justify_content": "",
       "left": "",
       "margin": "",
       "max_height": "",
       "max_width": "",
       "min_height": "",
       "min_width": "",
       "msg_throttle": 3,
       "overflow": "",
       "overflow_x": "",
       "overflow_y": "",
       "padding": "",
       "right": "",
       "top": ""
      }
     },
     "ca8a148e-10a4-40e0-8443-fe5baf0a145a": {
      "model_module": "beakerx",
      "model_module_version": "*",
      "model_name": "FoldoutModel",
      "state": {
       "background_color": null,
       "children": [
        "IPY_MODEL_97e6caa0-cefb-4833-a70f-51f5bdf4523c"
       ],
       "color": null,
       "description": "",
       "disabled": false,
       "font_family": "",
       "font_size": "",
       "font_style": "",
       "font_weight": "",
       "headerLabel": "Added jars: ",
       "hidePreview": false,
       "layout": "IPY_MODEL_98e879fa-c0fe-4ff7-8b9d-82ab9c8d379c",
       "msg_throttle": 3,
       "visible": true
      }
     },
     "cd8dde73-9af1-48f3-a33d-b9c145f81f48": {
      "model_module": "beakerx",
      "model_module_version": "*",
      "model_name": "TableDisplayModel",
      "state": {
       "model": {
        "alignmentForColumn": {},
        "alignmentForType": {},
        "cellHighlighters": [],
        "columnNames": [
         ":dataset",
         ":name",
         ":publisherLabel"
        ],
        "columnOrder": [],
        "columnsFrozen": {},
        "columnsFrozenRight": {},
        "columnsVisible": {},
        "contextMenuItems": [],
        "contextMenuTags": {},
        "dataFontSize": null,
        "doubleClickTag": null,
        "fontColor": [],
        "hasDoubleClickAction": false,
        "hasIndex": null,
        "headerFontSize": null,
        "headersVertical": false,
        "rendererForColumn": {},
        "rendererForType": {},
        "stringFormatForColumn": {},
        "stringFormatForTimes": null,
        "stringFormatForType": {},
        "subtype": "ListOfMaps",
        "timeZone": null,
        "tooManyRows": false,
        "tooltips": [],
        "type": "TableDisplay",
        "types": [
         "string",
         "string",
         "string"
        ],
        "values": [
         [
          "http://statistics.gov.scot/data/household-waste",
          "Generation and Management of Household Waste",
          "SEPA"
         ],
         [
          "http://statistics.gov.scot/data/population-estimates-current-geographic-boundaries",
          "Population Estimates (Current Geographic Boundaries)",
          "National Records of Scotland"
         ]
        ]
       }
      }
     },
     "d3af150c-d2b9-459c-9686-8b422542bf55": {
      "model_module": "@jupyter-widgets/base",
      "model_module_version": "*",
      "model_name": "LayoutModel",
      "state": {
       "_model_module_version": "*",
       "_view_module_version": "*",
       "align_content": "",
       "align_self": "",
       "border": "",
       "bottom": "",
       "flex": "",
       "height": "",
       "justify_content": "",
       "left": "",
       "margin": "",
       "max_height": "",
       "max_width": "",
       "min_height": "",
       "min_width": "",
       "msg_throttle": 3,
       "overflow": "",
       "overflow_x": "",
       "overflow_y": "",
       "padding": "",
       "right": "",
       "top": ""
      }
     },
     "d3bff448-5428-406a-afcb-21a1f69869c4": {
      "model_module": "beakerx",
      "model_module_version": "*",
      "model_name": "FoldoutModel",
      "state": {
       "background_color": null,
       "children": [
        "IPY_MODEL_057d9d13-e557-4d71-9e09-4d84dce08366"
       ],
       "color": null,
       "description": "",
       "disabled": false,
       "font_family": "",
       "font_size": "",
       "font_style": "",
       "font_weight": "",
       "headerLabel": "Added jars: ",
       "hidePreview": false,
       "layout": "IPY_MODEL_0c8afdc0-4e91-453d-a5c1-4d8778dad86d",
       "msg_throttle": 3,
       "visible": true
      }
     },
     "dda9c505-186a-4c91-af7b-115ca84ce4b8": {
      "model_module": "beakerx",
      "model_module_version": "*",
      "model_name": "TableDisplayModel",
      "state": {
       "model": {
        "alignmentForColumn": {},
        "alignmentForType": {},
        "cellHighlighters": [],
        "columnNames": [
         ":label",
         ":type_label",
         ":component",
         ":cardinality"
        ],
        "columnOrder": [],
        "columnsFrozen": {},
        "columnsFrozenRight": {},
        "columnsVisible": {},
        "contextMenuItems": [],
        "contextMenuTags": {},
        "dataFontSize": null,
        "doubleClickTag": null,
        "fontColor": [],
        "hasDoubleClickAction": false,
        "hasIndex": null,
        "headerFontSize": null,
        "headersVertical": false,
        "rendererForColumn": {},
        "rendererForType": {},
        "stringFormatForColumn": {},
        "stringFormatForTimes": null,
        "stringFormatForType": {},
        "subtype": "ListOfMaps",
        "timeZone": null,
        "tooManyRows": false,
        "tooltips": [],
        "type": "TableDisplay",
        "types": [
         "string",
         "string",
         "string",
         "string"
        ],
        "values": [
         [
          "Reference Area",
          "dimension",
          "http://purl.org/linked-data/sdmx/2009/dimension#refArea",
          "33"
         ],
         [
          "Waste Category",
          "dimension",
          "http://statistics.gov.scot/def/dimension/wasteCategory",
          "23"
         ],
         [
          "Reference Period",
          "dimension",
          "http://purl.org/linked-data/sdmx/2009/dimension#refPeriod",
          "8"
         ],
         [
          "Waste Management",
          "dimension",
          "http://statistics.gov.scot/def/dimension/wasteManagement",
          "6"
         ],
         [
          "measure type",
          "dimension",
          "http://purl.org/linked-data/cube#measureType",
          "2"
         ],
         [
          "Count",
          "measure",
          "http://statistics.gov.scot/def/measure-properties/count",
          "0"
         ],
         [
          "Ratio",
          "measure",
          "http://statistics.gov.scot/def/measure-properties/ratio",
          "0"
         ]
        ]
       }
      }
     },
     "e58e80c5-c711-4c40-aec4-93bf4c0e685f": {
      "model_module": "@jupyter-widgets/base",
      "model_module_version": "*",
      "model_name": "LayoutModel",
      "state": {
       "_model_module_version": "*",
       "_view_module_version": "*",
       "align_content": "",
       "align_self": "",
       "border": "",
       "bottom": "",
       "flex": "",
       "height": "",
       "justify_content": "",
       "left": "",
       "margin": "",
       "max_height": "",
       "max_width": "",
       "min_height": "",
       "min_width": "",
       "msg_throttle": 3,
       "overflow": "",
       "overflow_x": "",
       "overflow_y": "",
       "padding": "",
       "right": "",
       "top": ""
      }
     },
     "e65dcc41-e98a-4d62-b00f-55ebbe4ffb23": {
      "model_module": "beakerx",
      "model_module_version": "*",
      "model_name": "TableDisplayModel",
      "state": {
       "model": {
        "alignmentForColumn": {},
        "alignmentForType": {},
        "cellHighlighters": [],
        "columnNames": [
         ":c",
         ":y",
         ":t"
        ],
        "columnOrder": [],
        "columnsFrozen": {},
        "columnsFrozenRight": {},
        "columnsVisible": {},
        "contextMenuItems": [],
        "contextMenuTags": {},
        "dataFontSize": null,
        "doubleClickTag": null,
        "fontColor": [],
        "hasDoubleClickAction": false,
        "hasIndex": null,
        "headerFontSize": null,
        "headersVertical": false,
        "rendererForColumn": {},
        "rendererForType": {},
        "stringFormatForColumn": {},
        "stringFormatForTimes": null,
        "stringFormatForType": {},
        "subtype": "ListOfMaps",
        "timeZone": null,
        "tooManyRows": false,
        "tooltips": [],
        "type": "TableDisplay",
        "types": [
         "string",
         "string",
         "string"
        ],
        "values": [
         [
          "Aberdeen City",
          "2011",
          "97184"
         ],
         [
          "Aberdeen City",
          "2012",
          "97230"
         ],
         [
          "Aberdeen City",
          "2013",
          "94117"
         ],
         [
          "Aberdeen City",
          "2014",
          "96130"
         ],
         [
          "Aberdeen City",
          "2015",
          "95241"
         ],
         [
          "Aberdeen City",
          "2016",
          "96123"
         ],
         [
          "Aberdeen City",
          "2017",
          "87786"
         ],
         [
          "Aberdeen City",
          "2018",
          "85540"
         ],
         [
          "Aberdeenshire",
          "2011",
          "148052"
         ],
         [
          "Aberdeenshire",
          "2012",
          "134708"
         ],
         [
          "Aberdeenshire",
          "2013",
          "131809"
         ],
         [
          "Aberdeenshire",
          "2014",
          "131389"
         ],
         [
          "Aberdeenshire",
          "2015",
          "130249"
         ],
         [
          "Aberdeenshire",
          "2016",
          "131863"
         ],
         [
          "Aberdeenshire",
          "2017",
          "127632"
         ],
         [
          "Aberdeenshire",
          "2018",
          "120519"
         ],
         [
          "Angus",
          "2011",
          "62200"
         ],
         [
          "Angus",
          "2012",
          "60803"
         ],
         [
          "Angus",
          "2013",
          "54258"
         ],
         [
          "Angus",
          "2014",
          "58892"
         ],
         [
          "Angus",
          "2015",
          "57609"
         ],
         [
          "Angus",
          "2016",
          "58847"
         ],
         [
          "Angus",
          "2017",
          "56278"
         ],
         [
          "Angus",
          "2018",
          "54619"
         ],
         [
          "Argyll and Bute",
          "2011",
          "46301"
         ],
         [
          "Argyll and Bute",
          "2012",
          "48509"
         ],
         [
          "Argyll and Bute",
          "2013",
          "49244"
         ],
         [
          "Argyll and Bute",
          "2014",
          "52359"
         ],
         [
          "Argyll and Bute",
          "2015",
          "51847"
         ],
         [
          "Argyll and Bute",
          "2016",
          "53689"
         ],
         [
          "Argyll and Bute",
          "2017",
          "50437"
         ],
         [
          "Argyll and Bute",
          "2018",
          "47972"
         ],
         [
          "City of Edinburgh",
          "2011",
          "189697"
         ],
         [
          "City of Edinburgh",
          "2012",
          "187716"
         ],
         [
          "City of Edinburgh",
          "2013",
          "184360"
         ],
         [
          "City of Edinburgh",
          "2014",
          "189525"
         ],
         [
          "City of Edinburgh",
          "2015",
          "189574"
         ],
         [
          "City of Edinburgh",
          "2016",
          "193333"
         ],
         [
          "City of Edinburgh",
          "2017",
          "200720"
         ],
         [
          "City of Edinburgh",
          "2018",
          "193341"
         ],
         [
          "Clackmannanshire",
          "2011",
          "30598"
         ],
         [
          "Clackmannanshire",
          "2012",
          "27736"
         ],
         [
          "Clackmannanshire",
          "2013",
          "26817"
         ],
         [
          "Clackmannanshire",
          "2014",
          "26786"
         ],
         [
          "Clackmannanshire",
          "2015",
          "26621"
         ],
         [
          "Clackmannanshire",
          "2016",
          "27091"
         ],
         [
          "Clackmannanshire",
          "2017",
          "27201"
         ],
         [
          "Clackmannanshire",
          "2018",
          "26122"
         ],
         [
          "Dumfries and Galloway",
          "2011",
          "81620"
         ],
         [
          "Dumfries and Galloway",
          "2012",
          "77709"
         ],
         [
          "Dumfries and Galloway",
          "2013",
          "75501"
         ],
         [
          "Dumfries and Galloway",
          "2014",
          "76454"
         ],
         [
          "Dumfries and Galloway",
          "2015",
          "74092"
         ],
         [
          "Dumfries and Galloway",
          "2016",
          "79807"
         ],
         [
          "Dumfries and Galloway",
          "2017",
          "76289"
         ],
         [
          "Dumfries and Galloway",
          "2018",
          "79325"
         ],
         [
          "Dundee City",
          "2011",
          "68368"
         ],
         [
          "Dundee City",
          "2012",
          "70103"
         ],
         [
          "Dundee City",
          "2013",
          "61485"
         ],
         [
          "Dundee City",
          "2014",
          "63738"
         ],
         [
          "Dundee City",
          "2015",
          "67182"
         ],
         [
          "Dundee City",
          "2016",
          "67998"
         ],
         [
          "Dundee City",
          "2017",
          "64347"
         ],
         [
          "Dundee City",
          "2018",
          "60773"
         ],
         [
          "East Ayrshire",
          "2011",
          "61087"
         ],
         [
          "East Ayrshire",
          "2012",
          "58793"
         ],
         [
          "East Ayrshire",
          "2013",
          "58282"
         ],
         [
          "East Ayrshire",
          "2014",
          "56392"
         ],
         [
          "East Ayrshire",
          "2015",
          "56374"
         ],
         [
          "East Ayrshire",
          "2016",
          "56434"
         ],
         [
          "East Ayrshire",
          "2017",
          "55842"
         ],
         [
          "East Ayrshire",
          "2018",
          "53148"
         ],
         [
          "East Dunbartonshire",
          "2011",
          "58998"
         ],
         [
          "East Dunbartonshire",
          "2012",
          "55234"
         ],
         [
          "East Dunbartonshire",
          "2013",
          "51998"
         ],
         [
          "East Dunbartonshire",
          "2014",
          "52897"
         ],
         [
          "East Dunbartonshire",
          "2015",
          "54191"
         ],
         [
          "East Dunbartonshire",
          "2016",
          "55852"
         ],
         [
          "East Dunbartonshire",
          "2017",
          "56445"
         ],
         [
          "East Dunbartonshire",
          "2018",
          "51643"
         ],
         [
          "East Lothian",
          "2011",
          "53163"
         ],
         [
          "East Lothian",
          "2012",
          "52353"
         ],
         [
          "East Lothian",
          "2013",
          "49335"
         ],
         [
          "East Lothian",
          "2014",
          "52660"
         ],
         [
          "East Lothian",
          "2015",
          "50906"
         ],
         [
          "East Lothian",
          "2016",
          "50874"
         ],
         [
          "East Lothian",
          "2017",
          "50612"
         ],
         [
          "East Lothian",
          "2018",
          "50134"
         ],
         [
          "East Renfrewshire",
          "2011",
          "45191"
         ],
         [
          "East Renfrewshire",
          "2012",
          "43986"
         ],
         [
          "East Renfrewshire",
          "2013",
          "44057"
         ],
         [
          "East Renfrewshire",
          "2014",
          "46224"
         ],
         [
          "East Renfrewshire",
          "2015",
          "46880"
         ],
         [
          "East Renfrewshire",
          "2016",
          "47724"
         ],
         [
          "East Renfrewshire",
          "2017",
          "47564"
         ],
         [
          "East Renfrewshire",
          "2018",
          "43927"
         ],
         [
          "Falkirk",
          "2011",
          "78177"
         ],
         [
          "Falkirk",
          "2012",
          "76111"
         ],
         [
          "Falkirk",
          "2013",
          "71950"
         ],
         [
          "Falkirk",
          "2014",
          "73620"
         ],
         [
          "Falkirk",
          "2015",
          "72329"
         ],
         [
          "Falkirk",
          "2016",
          "71783"
         ],
         [
          "Falkirk",
          "2017",
          "74651"
         ],
         [
          "Falkirk",
          "2018",
          "68571"
         ],
         [
          "Fife",
          "2011",
          "214552"
         ],
         [
          "Fife",
          "2012",
          "195595"
         ],
         [
          "Fife",
          "2013",
          "190784"
         ],
         [
          "Fife",
          "2014",
          "188212"
         ],
         [
          "Fife",
          "2015",
          "191153"
         ],
         [
          "Fife",
          "2016",
          "187746"
         ],
         [
          "Fife",
          "2017",
          "178478"
         ],
         [
          "Fife",
          "2018",
          "167353"
         ],
         [
          "Glasgow City",
          "2011",
          "250709"
         ],
         [
          "Glasgow City",
          "2012",
          "234209"
         ],
         [
          "Glasgow City",
          "2013",
          "227940"
         ],
         [
          "Glasgow City",
          "2014",
          "224488"
         ],
         [
          "Glasgow City",
          "2015",
          "221902"
         ],
         [
          "Glasgow City",
          "2016",
          "216873"
         ],
         [
          "Glasgow City",
          "2017",
          "224524"
         ],
         [
          "Glasgow City",
          "2018",
          "245318"
         ],
         [
          "Highland",
          "2011",
          "125454"
         ],
         [
          "Highland",
          "2012",
          "126183"
         ],
         [
          "Highland",
          "2013",
          "125679"
         ],
         [
          "Highland",
          "2014",
          "131228"
         ],
         [
          "Highland",
          "2015",
          "130780"
         ],
         [
          "Highland",
          "2016",
          "130959"
         ],
         [
          "Highland",
          "2017",
          "130190"
         ],
         [
          "Highland",
          "2018",
          "127880"
         ],
         [
          "Inverclyde",
          "2011",
          "33937"
         ],
         [
          "Inverclyde",
          "2012",
          "33248"
         ],
         [
          "Inverclyde",
          "2013",
          "29183"
         ],
         [
          "Inverclyde",
          "2014",
          "28456"
         ],
         [
          "Inverclyde",
          "2015",
          "28493"
         ],
         [
          "Inverclyde",
          "2016",
          "29363"
         ],
         [
          "Inverclyde",
          "2017",
          "27565"
         ],
         [
          "Inverclyde",
          "2018",
          "28027"
         ],
         [
          "Midlothian",
          "2011",
          "43849"
         ],
         [
          "Midlothian",
          "2012",
          "42701"
         ],
         [
          "Midlothian",
          "2013",
          "40177"
         ],
         [
          "Midlothian",
          "2014",
          "40726"
         ],
         [
          "Midlothian",
          "2015",
          "42077"
         ],
         [
          "Midlothian",
          "2016",
          "42637"
         ],
         [
          "Midlothian",
          "2017",
          "42725"
         ],
         [
          "Midlothian",
          "2018",
          "41890"
         ],
         [
          "Moray",
          "2011",
          "52334"
         ],
         [
          "Moray",
          "2012",
          "49884"
         ],
         [
          "Moray",
          "2013",
          "47533"
         ],
         [
          "Moray",
          "2014",
          "50902"
         ],
         [
          "Moray",
          "2015",
          "50116"
         ],
         [
          "Moray",
          "2016",
          "51950"
         ],
         [
          "Moray",
          "2017",
          "51090"
         ],
         [
          "Moray",
          "2018",
          "47522"
         ],
         [
          "Na h-Eileanan Siar",
          "2011",
          "16509"
         ],
         [
          "Na h-Eileanan Siar",
          "2012",
          "14301"
         ],
         [
          "Na h-Eileanan Siar",
          "2013",
          "12738"
         ],
         [
          "Na h-Eileanan Siar",
          "2014",
          "13479"
         ],
         [
          "Na h-Eileanan Siar",
          "2015",
          "14013"
         ],
         [
          "Na h-Eileanan Siar",
          "2016",
          "14959"
         ],
         [
          "Na h-Eileanan Siar",
          "2017",
          "14453"
         ],
         [
          "Na h-Eileanan Siar",
          "2018",
          "14325"
         ],
         [
          "North Ayrshire",
          "2011",
          "68312"
         ],
         [
          "North Ayrshire",
          "2012",
          "62735"
         ],
         [
          "North Ayrshire",
          "2013",
          "61910"
         ],
         [
          "North Ayrshire",
          "2014",
          "65065"
         ],
         [
          "North Ayrshire",
          "2015",
          "64193"
         ],
         [
          "North Ayrshire",
          "2016",
          "63838"
         ],
         [
          "North Ayrshire",
          "2017",
          "62954"
         ],
         [
          "North Ayrshire",
          "2018",
          "61421"
         ],
         [
          "North Lanarkshire",
          "2011",
          "160246"
         ],
         [
          "North Lanarkshire",
          "2012",
          "155837"
         ],
         [
          "North Lanarkshire",
          "2013",
          "152725"
         ],
         [
          "North Lanarkshire",
          "2014",
          "150309"
         ],
         [
          "North Lanarkshire",
          "2015",
          "155937"
         ],
         [
          "North Lanarkshire",
          "2016",
          "160914"
         ],
         [
          "North Lanarkshire",
          "2017",
          "156813"
         ],
         [
          "North Lanarkshire",
          "2018",
          "146175"
         ],
         [
          "Orkney Islands",
          "2011",
          "10255"
         ],
         [
          "Orkney Islands",
          "2012",
          "10233"
         ],
         [
          "Orkney Islands",
          "2013",
          "9923"
         ],
         [
          "Orkney Islands",
          "2014",
          "10568"
         ],
         [
          "Orkney Islands",
          "2015",
          "9371"
         ],
         [
          "Orkney Islands",
          "2016",
          "10349"
         ],
         [
          "Orkney Islands",
          "2017",
          "10798"
         ],
         [
          "Orkney Islands",
          "2018",
          "10221"
         ],
         [
          "Perth and Kinross",
          "2011",
          "79918"
         ],
         [
          "Perth and Kinross",
          "2012",
          "75014"
         ],
         [
          "Perth and Kinross",
          "2013",
          "74267"
         ],
         [
          "Perth and Kinross",
          "2014",
          "74949"
         ],
         [
          "Perth and Kinross",
          "2015",
          "76187"
         ],
         [
          "Perth and Kinross",
          "2016",
          "78730"
         ],
         [
          "Perth and Kinross",
          "2017",
          "74789"
         ],
         [
          "Perth and Kinross",
          "2018",
          "71815"
         ],
         [
          "Renfrewshire",
          "2011",
          "82571"
         ],
         [
          "Renfrewshire",
          "2012",
          "82126"
         ],
         [
          "Renfrewshire",
          "2013",
          "78417"
         ],
         [
          "Renfrewshire",
          "2014",
          "80858"
         ],
         [
          "Renfrewshire",
          "2015",
          "83059"
         ],
         [
          "Renfrewshire",
          "2016",
          "83661"
         ],
         [
          "Renfrewshire",
          "2017",
          "83526"
         ],
         [
          "Renfrewshire",
          "2018",
          "81255"
         ],
         [
          "Scotland",
          "2011",
          "2606759"
         ],
         [
          "Scotland",
          "2012",
          "2500995"
         ],
         [
          "Scotland",
          "2013",
          "2412630"
         ],
         [
          "Scotland",
          "2014",
          "2459557"
         ],
         [
          "Scotland",
          "2015",
          "2468781"
         ],
         [
          "Scotland",
          "2016",
          "2498978"
         ],
         [
          "Scotland",
          "2017",
          "2460820"
         ],
         [
          "Scotland",
          "2018",
          "2405246"
         ],
         [
          "Scottish Borders",
          "2011",
          "53822"
         ],
         [
          "Scottish Borders",
          "2012",
          "52861"
         ],
         [
          "Scottish Borders",
          "2013",
          "51242"
         ],
         [
          "Scottish Borders",
          "2014",
          "49952"
         ],
         [
          "Scottish Borders",
          "2015",
          "49848"
         ],
         [
          "Scottish Borders",
          "2016",
          "51921"
         ],
         [
          "Scottish Borders",
          "2017",
          "53471"
         ],
         [
          "Scottish Borders",
          "2018",
          "52491"
         ],
         [
          "Shetland Islands",
          "2011",
          "11792"
         ],
         [
          "Shetland Islands",
          "2012",
          "10859"
         ],
         [
          "Shetland Islands",
          "2013",
          "10140"
         ],
         [
          "Shetland Islands",
          "2014",
          "9942"
         ],
         [
          "Shetland Islands",
          "2015",
          "10250"
         ],
         [
          "Shetland Islands",
          "2016",
          "9996"
         ],
         [
          "Shetland Islands",
          "2017",
          "9754"
         ],
         [
          "Shetland Islands",
          "2018",
          "9649"
         ],
         [
          "South Ayrshire",
          "2011",
          "58481"
         ],
         [
          "South Ayrshire",
          "2012",
          "57627"
         ],
         [
          "South Ayrshire",
          "2013",
          "55423"
         ],
         [
          "South Ayrshire",
          "2014",
          "55477"
         ],
         [
          "South Ayrshire",
          "2015",
          "55653"
         ],
         [
          "South Ayrshire",
          "2016",
          "56485"
         ],
         [
          "South Ayrshire",
          "2017",
          "56772"
         ],
         [
          "South Ayrshire",
          "2018",
          "55814"
         ],
         [
          "South Lanarkshire",
          "2011",
          "163214"
         ],
         [
          "South Lanarkshire",
          "2012",
          "151923"
         ],
         [
          "South Lanarkshire",
          "2013",
          "144734"
         ],
         [
          "South Lanarkshire",
          "2014",
          "153492"
         ],
         [
          "South Lanarkshire",
          "2015",
          "151656"
         ],
         [
          "South Lanarkshire",
          "2016",
          "152535"
         ],
         [
          "South Lanarkshire",
          "2017",
          "151740"
         ],
         [
          "South Lanarkshire",
          "2018",
          "150470"
         ],
         [
          "Stirling",
          "2011",
          "44024"
         ],
         [
          "Stirling",
          "2012",
          "43190"
         ],
         [
          "Stirling",
          "2013",
          "39923"
         ],
         [
          "Stirling",
          "2014",
          "40555"
         ],
         [
          "Stirling",
          "2015",
          "41929"
         ],
         [
          "Stirling",
          "2016",
          "44271"
         ],
         [
          "Stirling",
          "2017",
          "40774"
         ],
         [
          "Stirling",
          "2018",
          "41925"
         ],
         [
          "West Dunbartonshire",
          "2011",
          "41168"
         ],
         [
          "West Dunbartonshire",
          "2012",
          "38944"
         ],
         [
          "West Dunbartonshire",
          "2013",
          "36206"
         ],
         [
          "West Dunbartonshire",
          "2014",
          "40338"
         ],
         [
          "West Dunbartonshire",
          "2015",
          "45088"
         ],
         [
          "West Dunbartonshire",
          "2016",
          "44936"
         ],
         [
          "West Dunbartonshire",
          "2017",
          "43551"
         ],
         [
          "West Dunbartonshire",
          "2018",
          "41867"
         ],
         [
          "West Lothian",
          "2011",
          "74976"
         ],
         [
          "West Lothian",
          "2012",
          "72532"
         ],
         [
          "West Lothian",
          "2013",
          "70473"
         ],
         [
          "West Lothian",
          "2014",
          "73498"
         ],
         [
          "West Lothian",
          "2015",
          "73982"
         ],
         [
          "West Lothian",
          "2016",
          "75438"
         ],
         [
          "West Lothian",
          "2017",
          "71051"
         ],
         [
          "West Lothian",
          "2018",
          "74194"
         ]
        ]
       }
      }
     },
     "e6e6e4e9-d226-4f53-b5c6-99af482d79bb": {
      "model_module": "@jupyter-widgets/base",
      "model_module_version": "*",
      "model_name": "LayoutModel",
      "state": {
       "_model_module_version": "*",
       "_view_module_version": "*",
       "align_content": "",
       "align_self": "",
       "border": "",
       "bottom": "",
       "flex": "",
       "height": "",
       "justify_content": "",
       "left": "",
       "margin": "",
       "max_height": "",
       "max_width": "",
       "min_height": "",
       "min_width": "",
       "msg_throttle": 3,
       "overflow": "",
       "overflow_x": "",
       "overflow_y": "",
       "padding": "",
       "right": "",
       "top": ""
      }
     },
     "ec208e11-2b9f-432b-b107-5b1d814f815a": {
      "model_module": "beakerx",
      "model_module_version": "*",
      "model_name": "TableDisplayModel",
      "state": {
       "model": {
        "alignmentForColumn": {},
        "alignmentForType": {},
        "cellHighlighters": [],
        "columnNames": [
         ":c",
         ":y",
         ":t2"
        ],
        "columnOrder": [],
        "columnsFrozen": {},
        "columnsFrozenRight": {},
        "columnsVisible": {},
        "contextMenuItems": [],
        "contextMenuTags": {},
        "dataFontSize": null,
        "doubleClickTag": null,
        "fontColor": [],
        "hasDoubleClickAction": false,
        "hasIndex": null,
        "headerFontSize": null,
        "headersVertical": false,
        "rendererForColumn": {},
        "rendererForType": {},
        "stringFormatForColumn": {},
        "stringFormatForTimes": null,
        "stringFormatForType": {},
        "subtype": "ListOfMaps",
        "timeZone": null,
        "tooManyRows": false,
        "tooltips": [],
        "type": "TableDisplay",
        "types": [
         "string",
         "string",
         "string"
        ],
        "values": [
         [
          "Aberdeen City",
          "2011",
          "0.436860559201654229973928"
         ],
         [
          "Aberdeen City",
          "2012",
          "0.432306255835667600373483"
         ],
         [
          "Aberdeen City",
          "2013",
          "0.414484520192011274056458"
         ],
         [
          "Aberdeen City",
          "2014",
          "0.419928359252140485759217"
         ],
         [
          "Aberdeen City",
          "2015",
          "0.413462122856522682873888"
         ],
         [
          "Aberdeen City",
          "2016",
          "0.418217020536025060911939"
         ],
         [
          "Aberdeen City",
          "2017",
          "0.38368006993006993006993"
         ],
         [
          "Aberdeen City",
          "2018",
          "0.375900861311302513622781"
         ],
         [
          "Aberdeenshire",
          "2011",
          "0.583686181746501084171102"
         ],
         [
          "Aberdeenshire",
          "2012",
          "0.527109093754891219283143"
         ],
         [
          "Aberdeenshire",
          "2013",
          "0.511343445707413585754743"
         ],
         [
          "Aberdeenshire",
          "2014",
          "0.5043142824242889494492"
         ],
         [
          "Aberdeenshire",
          "2015",
          "0.497209497633226446785769"
         ],
         [
          "Aberdeenshire",
          "2016",
          "0.502929173500133490979824"
         ],
         [
          "Aberdeenshire",
          "2017",
          "0.487517188693659281894576"
         ],
         [
          "Aberdeenshire",
          "2018",
          "0.46092859601483917849084"
         ],
         [
          "Angus",
          "2011",
          "0.535283993115318416523236"
         ],
         [
          "Angus",
          "2012",
          "0.523171571158148339356393"
         ],
         [
          "Angus",
          "2013",
          "0.466574941955456187118411"
         ],
         [
          "Angus",
          "2014",
          "0.504471475072811375706699"
         ],
         [
          "Angus",
          "2015",
          "0.492805816937553464499572"
         ],
         [
          "Angus",
          "2016",
          "0.505037761757638173704085"
         ],
         [
          "Angus",
          "2017",
          "0.483986928104575163398693"
         ],
         [
          "Angus",
          "2018",
          "0.470691140985866942433644"
         ],
         [
          "Argyll and Bute",
          "2011",
          "0.520645451478691105363769"
         ],
         [
          "Argyll and Bute",
          "2012",
          "0.558152111379588079622598"
         ],
         [
          "Argyll and Bute",
          "2013",
          "0.559273140261215218625781"
         ],
         [
          "Argyll and Bute",
          "2014",
          "0.597364517969195664575014"
         ],
         [
          "Argyll and Bute",
          "2015",
          "0.596696973184486131890897"
         ],
         [
          "Argyll and Bute",
          "2016",
          "0.616194192585791346264203"
         ],
         [
          "Argyll and Bute",
          "2017",
          "0.581004492569980417002649"
         ],
         [
          "Argyll and Bute",
          "2018",
          "0.55613262230466032923719"
         ],
         [
          "City of Edinburgh",
          "2011",
          "0.396905469305770598819936"
         ],
         [
          "City of Edinburgh",
          "2012",
          "0.388943911484988500507635"
         ],
         [
          "City of Edinburgh",
          "2013",
          "0.378205391211586591720346"
         ],
         [
          "City of Edinburgh",
          "2014",
          "0.38473640405188688820771"
         ],
         [
          "City of Edinburgh",
          "2015",
          "0.380052525009522663940178"
         ],
         [
          "City of Edinburgh",
          "2016",
          "0.381199597768006782735572"
         ],
         [
          "City of Edinburgh",
          "2017",
          "0.39110695426823327682625"
         ],
         [
          "City of Edinburgh",
          "2018",
          "0.372885245901639344262295"
         ],
         [
          "Clackmannanshire",
          "2011",
          "0.594135922330097087378641"
         ],
         [
          "Clackmannanshire",
          "2012",
          "0.540873634945397815912637"
         ],
         [
          "Clackmannanshire",
          "2013",
          "0.522952418096723868954758"
         ],
         [
          "Clackmannanshire",
          "2014",
          "0.523266262941980855635866"
         ],
         [
          "Clackmannanshire",
          "2015",
          "0.518321651090342679127726"
         ],
         [
          "Clackmannanshire",
          "2016",
          "0.527575462512171372930867"
         ],
         [
          "Clackmannanshire",
          "2017",
          "0.528688046647230320699708"
         ],
         [
          "Clackmannanshire",
          "2018",
          "0.508210116731517509727626"
         ],
         [
          "Dumfries and Galloway",
          "2011",
          "0.539066111881645862228387"
         ],
         [
          "Dumfries and Galloway",
          "2012",
          "0.515175019888623707239459"
         ],
         [
          "Dumfries and Galloway",
          "2013",
          "0.502402182592494011179132"
         ],
         [
          "Dumfries and Galloway",
          "2014",
          "0.509829287810082688716991"
         ],
         [
          "Dumfries and Galloway",
          "2015",
          "0.495035745306340616021915"
         ],
         [
          "Dumfries and Galloway",
          "2016",
          "0.533754681647940074906367"
         ],
         [
          "Dumfries and Galloway",
          "2017",
          "0.511320375335120643431635"
         ],
         [
          "Dumfries and Galloway",
          "2018",
          "0.533133947173869211640567"
         ],
         [
          "Dundee City",
          "2011",
          "0.464456521739130434782609"
         ],
         [
          "Dundee City",
          "2012",
          "0.474374069562863716335093"
         ],
         [
          "Dundee City",
          "2013",
          "0.415158676569885212694126"
         ],
         [
          "Dundee City",
          "2014",
          "0.430284209815702423546884"
         ],
         [
          "Dundee City",
          "2015",
          "0.453289251737399635652115"
         ],
         [
          "Dundee City",
          "2016",
          "0.458609293855803601537735"
         ],
         [
          "Dundee City",
          "2017",
          "0.432701230583013919709502"
         ],
         [
          "Dundee City",
          "2018",
          "0.40855798319327731092437"
         ],
         [
          "East Ayrshire",
          "2011",
          "0.497897139131143532480235"
         ],
         [
          "East Ayrshire",
          "2012",
          "0.479043428664548195225291"
         ],
         [
          "East Ayrshire",
          "2013",
          "0.476043453401943967981704"
         ],
         [
          "East Ayrshire",
          "2014",
          "0.461737492835503152378613"
         ],
         [
          "East Ayrshire",
          "2015",
          "0.461854825495657873177126"
         ],
         [
          "East Ayrshire",
          "2016",
          "0.461816693944353518821604"
         ],
         [
          "East Ayrshire",
          "2017",
          "0.457946531080859439068394"
         ],
         [
          "East Ayrshire",
          "2018",
          "0.436211424819435325016415"
         ],
         [
          "East Dunbartonshire",
          "2011",
          "0.561885714285714285714286"
         ],
         [
          "East Dunbartonshire",
          "2012",
          "0.52166603702304495655459"
         ],
         [
          "East Dunbartonshire",
          "2013",
          "0.491288737717309145880574"
         ],
         [
          "East Dunbartonshire",
          "2014",
          "0.495707993627588792053228"
         ],
         [
          "East Dunbartonshire",
          "2015",
          "0.506647344801795063575168"
         ],
         [
          "East Dunbartonshire",
          "2016",
          "0.519360238050957783150456"
         ],
         [
          "East Dunbartonshire",
          "2017",
          "0.522010542865069823360769"
         ],
         [
          "East Dunbartonshire",
          "2018",
          "0.476719283670266777439306"
         ],
         [
          "East Lothian",
          "2011",
          "0.532055644515612489991994"
         ],
         [
          "East Lothian",
          "2012",
          "0.519066032123735871505057"
         ],
         [
          "East Lothian",
          "2013",
          "0.48658644836768912121511"
         ],
         [
          "East Lothian",
          "2014",
          "0.51581937506122049172299"
         ],
         [
          "East Lothian",
          "2015",
          "0.493993207180980106744299"
         ],
         [
          "East Lothian",
          "2016",
          "0.488750120088385051397829"
         ],
         [
          "East Lothian",
          "2017",
          "0.482754673788630293781"
         ],
         [
          "East Lothian",
          "2018",
          "0.473901124870025522261083"
         ],
         [
          "East Renfrewshire",
          "2011",
          "0.497643431340160775245017"
         ],
         [
          "East Renfrewshire",
          "2012",
          "0.483150263620386643233743"
         ],
         [
          "East Renfrewshire",
          "2013",
          "0.481339451545941221457446"
         ],
         [
          "East Renfrewshire",
          "2014",
          "0.500205605453955199653717"
         ],
         [
          "East Renfrewshire",
          "2015",
          "0.5044114482461803313966"
         ],
         [
          "East Renfrewshire",
          "2016",
          "0.508730412535976974736169"
         ],
         [
          "East Renfrewshire",
          "2017",
          "0.501941747572815533980583"
         ],
         [
          "East Renfrewshire",
          "2018",
          "0.461563517915309446254072"
         ],
         [
          "Falkirk",
          "2011",
          "0.5003328"
         ],
         [
          "Falkirk",
          "2012",
          "0.485401785714285714285714"
         ],
         [
          "Falkirk",
          "2013",
          "0.457813693051667090862815"
         ],
         [
          "Falkirk",
          "2014",
          "0.466865368761494070644936"
         ],
         [
          "Falkirk",
          "2015",
          "0.456449577180360974378392"
         ],
         [
          "Falkirk",
          "2016",
          "0.450389007403689296022086"
         ],
         [
          "Falkirk",
          "2017",
          "0.466189970648847811153438"
         ],
         [
          "Falkirk",
          "2018",
          "0.427659972558313583634776"
         ],
         [
          "Fife",
          "2011",
          "0.587330960854092526690391"
         ],
         [
          "Fife",
          "2012",
          "0.534106113978318451161902"
         ],
         [
          "Fife",
          "2013",
          "0.519989097846824747887708"
         ],
         [
          "Fife",
          "2014",
          "0.512490129339686861810756"
         ],
         [
          "Fife",
          "2015",
          "0.519324603347098456857205"
         ],
         [
          "Fife",
          "2016",
          "0.506969459671104150352388"
         ],
         [
          "Fife",
          "2017",
          "0.480541719393661990791847"
         ],
         [
          "Fife",
          "2018",
          "0.449982522653330106746256"
         ],
         [
          "Glasgow City",
          "2011",
          "0.422738002900212457424207"
         ],
         [
          "Glasgow City",
          "2012",
          "0.393582267632379383938024"
         ],
         [
          "Glasgow City",
          "2013",
          "0.382116274391470529068598"
         ],
         [
          "Glasgow City",
          "2014",
          "0.374371289440330865185778"
         ],
         [
          "Glasgow City",
          "2015",
          "0.365969588019922815582017"
         ],
         [
          "Glasgow City",
          "2016",
          "0.352598891183117368754776"
         ],
         [
          "Glasgow City",
          "2017",
          "0.361540691121058903094908"
         ],
         [
          "Glasgow City",
          "2018",
          "0.391625293338228955476445"
         ],
         [
          "Highland",
          "2011",
          "0.539053839212821724745413"
         ],
         [
          "Highland",
          "2012",
          "0.541813731804714672162824"
         ],
         [
          "Highland",
          "2013",
          "0.539556948439445326922251"
         ],
         [
          "Highland",
          "2014",
          "0.563016989874721125793719"
         ],
         [
          "Highland",
          "2015",
          "0.558626286788261928153432"
         ],
         [
          "Highland",
          "2016",
          "0.557818290241512970140989"
         ],
         [
          "Highland",
          "2017",
          "0.553575984352410919295858"
         ],
         [
          "Highland",
          "2018",
          "0.542922645835102318077609"
         ],
         [
          "Inverclyde",
          "2011",
          "0.417840433390790445703029"
         ],
         [
          "Inverclyde",
          "2012",
          "0.412046102367083901350849"
         ],
         [
          "Inverclyde",
          "2013",
          "0.363243714214588000995768"
         ],
         [
          "Inverclyde",
          "2014",
          "0.356189760921266741769934"
         ],
         [
          "Inverclyde",
          "2015",
          "0.358402515723270440251572"
         ],
         [
          "Inverclyde",
          "2016",
          "0.370932289034866093986862"
         ],
         [
          "Inverclyde",
          "2017",
          "0.349987303199593702386998"
         ],
         [
          "Inverclyde",
          "2018",
          "0.358630838131797824696097"
         ],
         [
          "Midlothian",
          "2011",
          "0.525452366686638705811863"
         ],
         [
          "Midlothian",
          "2012",
          "0.506896961063627730294397"
         ],
         [
          "Midlothian",
          "2013",
          "0.47428874985243772872152"
         ],
         [
          "Midlothian",
          "2014",
          "0.472349802829969844583623"
         ],
         [
          "Midlothian",
          "2015",
          "0.481485295800434832360682"
         ],
         [
          "Midlothian",
          "2016",
          "0.481175939510213294210586"
         ],
         [
          "Midlothian",
          "2017",
          "0.474247974247974247974248"
         ],
         [
          "Midlothian",
          "2018",
          "0.458616159404423034814977"
         ],
         [
          "Moray",
          "2011",
          "0.559901572697122071252808"
         ],
         [
          "Moray",
          "2012",
          "0.536791133110943721080383"
         ],
         [
          "Moray",
          "2013",
          "0.503740991945739720220432"
         ],
         [
          "Moray",
          "2014",
          "0.537110900073863036826"
         ],
         [
          "Moray",
          "2015",
          "0.524719924615223536802429"
         ],
         [
          "Moray",
          "2016",
          "0.540751535338815447069845"
         ],
         [
          "Moray",
          "2017",
          "0.533409897682188348298183"
         ],
         [
          "Moray",
          "2018",
          "0.497508375209380234505863"
         ],
         [
          "Na h-Eileanan Siar",
          "2011",
          "0.59620801733477789815818"
         ],
         [
          "Na h-Eileanan Siar",
          "2012",
          "0.518904208998548621190131"
         ],
         [
          "Na h-Eileanan Siar",
          "2013",
          "0.464890510948905109489051"
         ],
         [
          "Na h-Eileanan Siar",
          "2014",
          "0.494642201834862385321101"
         ],
         [
          "Na h-Eileanan Siar",
          "2015",
          "0.517657923900997414111563"
         ],
         [
          "Na h-Eileanan Siar",
          "2016",
          "0.556096654275092936802974"
         ],
         [
          "Na h-Eileanan Siar",
          "2017",
          "0.536289424860853432282004"
         ],
         [
          "Na h-Eileanan Siar",
          "2018",
          "0.533917256802087215803205"
         ],
         [
          "North Ayrshire",
          "2011",
          "0.494691867622564993844594"
         ],
         [
          "North Ayrshire",
          "2012",
          "0.456022388602166169949844"
         ],
         [
          "North Ayrshire",
          "2013",
          "0.452095808383233532934132"
         ],
         [
          "North Ayrshire",
          "2014",
          "0.47673651817116060961313"
         ],
         [
          "North Ayrshire",
          "2015",
          "0.471556600308528612355836"
         ],
         [
          "North Ayrshire",
          "2016",
          "0.469777025535359481933917"
         ],
         [
          "North Ayrshire",
          "2017",
          "0.463612931732822740997128"
         ],
         [
          "North Ayrshire",
          "2018",
          "0.454028681253696037847428"
         ],
         [
          "North Lanarkshire",
          "2011",
          "0.474493663389790358877176"
         ],
         [
          "North Lanarkshire",
          "2012",
          "0.461206309745775252301045"
         ],
         [
          "North Lanarkshire",
          "2013",
          "0.452143406951270057433833"
         ],
         [
          "North Lanarkshire",
          "2014",
          "0.444701183431952662721893"
         ],
         [
          "North Lanarkshire",
          "2015",
          "0.460997457577011766097085"
         ],
         [
          "North Lanarkshire",
          "2016",
          "0.474127110403960045964819"
         ],
         [
          "North Lanarkshire",
          "2017",
          "0.461268972820331803741617"
         ],
         [
          "North Lanarkshire",
          "2018",
          "0.429698982891410429772473"
         ],
         [
          "Orkney Islands",
          "2011",
          "0.478758169934640522875817"
         ],
         [
          "Orkney Islands",
          "2012",
          "0.475290292614955875522527"
         ],
         [
          "Orkney Islands",
          "2013",
          "0.460250463821892393320965"
         ],
         [
          "Orkney Islands",
          "2014",
          "0.489712696941612604263207"
         ],
         [
          "Orkney Islands",
          "2015",
          "0.432441162898015689893862"
         ],
         [
          "Orkney Islands",
          "2016",
          "0.473638443935926773455378"
         ],
         [
          "Orkney Islands",
          "2017",
          "0.490818181818181818181818"
         ],
         [
          "Orkney Islands",
          "2018",
          "0.460612888688598467778279"
         ],
         [
          "Perth and Kinross",
          "2011",
          "0.544215185563500170241743"
         ],
         [
          "Perth and Kinross",
          "2012",
          "0.507743332882090158386354"
         ],
         [
          "Perth and Kinross",
          "2013",
          "0.502585098463828923326792"
         ],
         [
          "Perth and Kinross",
          "2014",
          "0.503249848922312495803398"
         ],
         [
          "Perth and Kinross",
          "2015",
          "0.508150470219435736677116"
         ],
         [
          "Perth and Kinross",
          "2016",
          "0.522498009025749933634192"
         ],
         [
          "Perth and Kinross",
          "2017",
          "0.494963600264725347452019"
         ],
         [
          "Perth and Kinross",
          "2018",
          "0.474684380990151364928283"
         ],
         [
          "Renfrewshire",
          "2011",
          "0.472644533485975958786491"
         ],
         [
          "Renfrewshire",
          "2012",
          "0.471176133103843947217441"
         ],
         [
          "Renfrewshire",
          "2013",
          "0.45095750186899764218759"
         ],
         [
          "Renfrewshire",
          "2014",
          "0.464087700166446650978592"
         ],
         [
          "Renfrewshire",
          "2015",
          "0.475819202566452795600367"
         ],
         [
          "Renfrewshire",
          "2016",
          "0.475535724435855169669755"
         ],
         [
          "Renfrewshire",
          "2017",
          "0.472351976474580105185772"
         ],
         [
          "Renfrewshire",
          "2018",
          "0.457027954328139940379099"
         ],
         [
          "Scotland",
          "2011",
          "0.491850600954734994999906"
         ],
         [
          "Scotland",
          "2012",
          "0.470678071364046973803071"
         ],
         [
          "Scotland",
          "2013",
          "0.4528464440565347147925"
         ],
         [
          "Scotland",
          "2014",
          "0.45993660707607150871419"
         ],
         [
          "Scotland",
          "2015",
          "0.459479061976549413735343"
         ],
         [
          "Scotland",
          "2016",
          "0.462371269450663311562159"
         ],
         [
          "Scotland",
          "2017",
          "0.453624096740893673499484"
         ],
         [
          "Scotland",
          "2018",
          "0.44229528695684154392159"
         ],
         [
          "Scottish Borders",
          "2011",
          "0.472620302072356866877415"
         ],
         [
          "Scottish Borders",
          "2012",
          "0.464834681674287724234963"
         ],
         [
          "Scottish Borders",
          "2013",
          "0.449964875307341060765718"
         ],
         [
          "Scottish Borders",
          "2014",
          "0.438021746755524377411435"
         ],
         [
          "Scottish Borders",
          "2015",
          "0.43714811891607471717969"
         ],
         [
          "Scottish Borders",
          "2016",
          "0.453339736313629616694316"
         ],
         [
          "Scottish Borders",
          "2017",
          "0.464884367936011128499391"
         ],
         [
          "Scottish Borders",
          "2018",
          "0.455374338509586188947688"
         ],
         [
          "Shetland Islands",
          "2011",
          "0.50740103270223752151463"
         ],
         [
          "Shetland Islands",
          "2012",
          "0.467858681602757432141318"
         ],
         [
          "Shetland Islands",
          "2013",
          "0.437068965517241379310345"
         ],
         [
          "Shetland Islands",
          "2014",
          "0.428165374677002583979328"
         ],
         [
          "Shetland Islands",
          "2015",
          "0.441810344827586206896552"
         ],
         [
          "Shetland Islands",
          "2016",
          "0.43086206896551724137931"
         ],
         [
          "Shetland Islands",
          "2017",
          "0.42261698440207972270364"
         ],
         [
          "Shetland Islands",
          "2018",
          "0.419704219225750326228795"
         ],
         [
          "South Ayrshire",
          "2011",
          "0.517622588068684722959816"
         ],
         [
          "South Ayrshire",
          "2012",
          "0.51033475026567481402763"
         ],
         [
          "South Ayrshire",
          "2013",
          "0.491033932843093824754142"
         ],
         [
          "South Ayrshire",
          "2014",
          "0.492997422909446369856927"
         ],
         [
          "South Ayrshire",
          "2015",
          "0.49513345195729537366548"
         ],
         [
          "South Ayrshire",
          "2016",
          "0.502222814972881657330844"
         ],
         [
          "South Ayrshire",
          "2017",
          "0.503833865814696485623003"
         ],
         [
          "South Ayrshire",
          "2018",
          "0.495904042647712127943136"
         ],
         [
          "South Lanarkshire",
          "2011",
          "0.519955399808856323669959"
         ],
         [
          "South Lanarkshire",
          "2012",
          "0.483323258995323386250119"
         ],
         [
          "South Lanarkshire",
          "2013",
          "0.459750325593214955052254"
         ],
         [
          "South Lanarkshire",
          "2014",
          "0.486812559467174119885823"
         ],
         [
          "South Lanarkshire",
          "2015",
          "0.479574992884925528887202"
         ],
         [
          "South Lanarkshire",
          "2016",
          "0.48103122043519394512772"
         ],
         [
          "South Lanarkshire",
          "2017",
          "0.476914856837539680045259"
         ],
         [
          "South Lanarkshire",
          "2018",
          "0.471663218606983888157482"
         ],
         [
          "Stirling",
          "2011",
          "0.48736853758441270895605"
         ],
         [
          "Stirling",
          "2012",
          "0.474563234809361608614438"
         ],
         [
          "Stirling",
          "2013",
          "0.437608242902553984434945"
         ],
         [
          "Stirling",
          "2014",
          "0.443127185314685314685315"
         ],
         [
          "Stirling",
          "2015",
          "0.451675105030701281913175"
         ],
         [
          "Stirling",
          "2016",
          "0.472224"
         ],
         [
          "Stirling",
          "2017",
          "0.433765957446808510638298"
         ],
         [
          "Stirling",
          "2018",
          "0.444450333934061274249973"
         ],
         [
          "West Dunbartonshire",
          "2011",
          "0.454342787771769120406136"
         ],
         [
          "West Dunbartonshire",
          "2012",
          "0.431082576931591764445428"
         ],
         [
          "West Dunbartonshire",
          "2013",
          "0.403184855233853006681514"
         ],
         [
          "West Dunbartonshire",
          "2014",
          "0.449648868576524356259057"
         ],
         [
          "West Dunbartonshire",
          "2015",
          "0.503270454291773635450385"
         ],
         [
          "West Dunbartonshire",
          "2016",
          "0.500066770531938571110617"
         ],
         [
          "West Dunbartonshire",
          "2017",
          "0.486006026113157013726147"
         ],
         [
          "West Dunbartonshire",
          "2018",
          "0.469729608437114327386963"
         ],
         [
          "West Lothian",
          "2011",
          "0.4277010838562464346834"
         ],
         [
          "West Lothian",
          "2012",
          "0.412090222146468950627805"
         ],
         [
          "West Lothian",
          "2013",
          "0.400051089918256130790191"
         ],
         [
          "West Lothian",
          "2014",
          "0.41477426636568848758465"
         ],
         [
          "West Lothian",
          "2015",
          "0.414348921870624474936992"
         ],
         [
          "West Lothian",
          "2016",
          "0.418797535113529117859324"
         ],
         [
          "West Lothian",
          "2017",
          "0.391875792840990568639347"
         ],
         [
          "West Lothian",
          "2018",
          "0.407345997584275831777753"
         ]
        ]
       }
      }
     },
     "f4aaa03b-e9ec-4ff2-bc10-07617ba7a88d": {
      "model_module": "beakerx",
      "model_module_version": "*",
      "model_name": "FoldoutModel",
      "state": {
       "background_color": null,
       "children": [
        "IPY_MODEL_11cd1078-a627-4d54-bebf-9685b3480fa0"
       ],
       "color": null,
       "description": "",
       "disabled": false,
       "font_family": "",
       "font_size": "",
       "font_style": "",
       "font_weight": "",
       "headerLabel": "Added jars: ",
       "hidePreview": false,
       "layout": "IPY_MODEL_ff312778-8d76-441a-bb28-37d492d40796",
       "msg_throttle": 3,
       "visible": true
      }
     },
     "f4ca1130-43fd-4633-aafd-e81999dd604b": {
      "model_module": "beakerx",
      "model_module_version": "*",
      "model_name": "TableDisplayModel",
      "state": {
       "model": {
        "alignmentForColumn": {},
        "alignmentForType": {},
        "cellHighlighters": [],
        "columnNames": [
         ":c",
         ":y",
         ":p"
        ],
        "columnOrder": [],
        "columnsFrozen": {},
        "columnsFrozenRight": {},
        "columnsVisible": {},
        "contextMenuItems": [],
        "contextMenuTags": {},
        "dataFontSize": null,
        "doubleClickTag": null,
        "fontColor": [],
        "hasDoubleClickAction": false,
        "hasIndex": null,
        "headerFontSize": null,
        "headersVertical": false,
        "rendererForColumn": {},
        "rendererForType": {},
        "stringFormatForColumn": {},
        "stringFormatForTimes": null,
        "stringFormatForType": {},
        "subtype": "ListOfMaps",
        "timeZone": null,
        "tooManyRows": false,
        "tooltips": [],
        "type": "TableDisplay",
        "types": [
         "string",
         "string",
         "string"
        ],
        "values": [
         [
          "Aberdeen City",
          "2011",
          "222460"
         ],
         [
          "Aberdeen City",
          "2012",
          "224910"
         ],
         [
          "Aberdeen City",
          "2013",
          "227070"
         ],
         [
          "Aberdeen City",
          "2014",
          "228920"
         ],
         [
          "Aberdeen City",
          "2015",
          "230350"
         ],
         [
          "Aberdeen City",
          "2016",
          "229840"
         ],
         [
          "Aberdeen City",
          "2017",
          "228800"
         ],
         [
          "Aberdeen City",
          "2018",
          "227560"
         ],
         [
          "Aberdeenshire",
          "2011",
          "253650"
         ],
         [
          "Aberdeenshire",
          "2012",
          "255560"
         ],
         [
          "Aberdeenshire",
          "2013",
          "257770"
         ],
         [
          "Aberdeenshire",
          "2014",
          "260530"
         ],
         [
          "Aberdeenshire",
          "2015",
          "261960"
         ],
         [
          "Aberdeenshire",
          "2016",
          "262190"
         ],
         [
          "Aberdeenshire",
          "2017",
          "261800"
         ],
         [
          "Aberdeenshire",
          "2018",
          "261470"
         ],
         [
          "Angus",
          "2011",
          "116200"
         ],
         [
          "Angus",
          "2012",
          "116220"
         ],
         [
          "Angus",
          "2013",
          "116290"
         ],
         [
          "Angus",
          "2014",
          "116740"
         ],
         [
          "Angus",
          "2015",
          "116900"
         ],
         [
          "Angus",
          "2016",
          "116520"
         ],
         [
          "Angus",
          "2017",
          "116280"
         ],
         [
          "Angus",
          "2018",
          "116040"
         ],
         [
          "Argyll and Bute",
          "2011",
          "88930"
         ],
         [
          "Argyll and Bute",
          "2012",
          "86910"
         ],
         [
          "Argyll and Bute",
          "2013",
          "88050"
         ],
         [
          "Argyll and Bute",
          "2014",
          "87650"
         ],
         [
          "Argyll and Bute",
          "2015",
          "86890"
         ],
         [
          "Argyll and Bute",
          "2016",
          "87130"
         ],
         [
          "Argyll and Bute",
          "2017",
          "86810"
         ],
         [
          "Argyll and Bute",
          "2018",
          "86260"
         ],
         [
          "City of Edinburgh",
          "2011",
          "477940"
         ],
         [
          "City of Edinburgh",
          "2012",
          "482630"
         ],
         [
          "City of Edinburgh",
          "2013",
          "487460"
         ],
         [
          "City of Edinburgh",
          "2014",
          "492610"
         ],
         [
          "City of Edinburgh",
          "2015",
          "498810"
         ],
         [
          "City of Edinburgh",
          "2016",
          "507170"
         ],
         [
          "City of Edinburgh",
          "2017",
          "513210"
         ],
         [
          "City of Edinburgh",
          "2018",
          "518500"
         ],
         [
          "Clackmannanshire",
          "2011",
          "51500"
         ],
         [
          "Clackmannanshire",
          "2012",
          "51280"
         ],
         [
          "Clackmannanshire",
          "2013",
          "51280"
         ],
         [
          "Clackmannanshire",
          "2014",
          "51190"
         ],
         [
          "Clackmannanshire",
          "2015",
          "51360"
         ],
         [
          "Clackmannanshire",
          "2016",
          "51350"
         ],
         [
          "Clackmannanshire",
          "2017",
          "51450"
         ],
         [
          "Clackmannanshire",
          "2018",
          "51400"
         ],
         [
          "Dumfries and Galloway",
          "2011",
          "151410"
         ],
         [
          "Dumfries and Galloway",
          "2012",
          "150840"
         ],
         [
          "Dumfries and Galloway",
          "2013",
          "150280"
         ],
         [
          "Dumfries and Galloway",
          "2014",
          "149960"
         ],
         [
          "Dumfries and Galloway",
          "2015",
          "149670"
         ],
         [
          "Dumfries and Galloway",
          "2016",
          "149520"
         ],
         [
          "Dumfries and Galloway",
          "2017",
          "149200"
         ],
         [
          "Dumfries and Galloway",
          "2018",
          "148790"
         ],
         [
          "Dundee City",
          "2011",
          "147200"
         ],
         [
          "Dundee City",
          "2012",
          "147780"
         ],
         [
          "Dundee City",
          "2013",
          "148100"
         ],
         [
          "Dundee City",
          "2014",
          "148130"
         ],
         [
          "Dundee City",
          "2015",
          "148210"
         ],
         [
          "Dundee City",
          "2016",
          "148270"
         ],
         [
          "Dundee City",
          "2017",
          "148710"
         ],
         [
          "Dundee City",
          "2018",
          "148750"
         ],
         [
          "East Ayrshire",
          "2011",
          "122690"
         ],
         [
          "East Ayrshire",
          "2012",
          "122730"
         ],
         [
          "East Ayrshire",
          "2013",
          "122430"
         ],
         [
          "East Ayrshire",
          "2014",
          "122130"
         ],
         [
          "East Ayrshire",
          "2015",
          "122060"
         ],
         [
          "East Ayrshire",
          "2016",
          "122200"
         ],
         [
          "East Ayrshire",
          "2017",
          "121940"
         ],
         [
          "East Ayrshire",
          "2018",
          "121840"
         ],
         [
          "East Dunbartonshire",
          "2011",
          "105000"
         ],
         [
          "East Dunbartonshire",
          "2012",
          "105880"
         ],
         [
          "East Dunbartonshire",
          "2013",
          "105840"
         ],
         [
          "East Dunbartonshire",
          "2014",
          "106710"
         ],
         [
          "East Dunbartonshire",
          "2015",
          "106960"
         ],
         [
          "East Dunbartonshire",
          "2016",
          "107540"
         ],
         [
          "East Dunbartonshire",
          "2017",
          "108130"
         ],
         [
          "East Dunbartonshire",
          "2018",
          "108330"
         ],
         [
          "East Lothian",
          "2011",
          "99920"
         ],
         [
          "East Lothian",
          "2012",
          "100860"
         ],
         [
          "East Lothian",
          "2013",
          "101390"
         ],
         [
          "East Lothian",
          "2014",
          "102090"
         ],
         [
          "East Lothian",
          "2015",
          "103050"
         ],
         [
          "East Lothian",
          "2016",
          "104090"
         ],
         [
          "East Lothian",
          "2017",
          "104840"
         ],
         [
          "East Lothian",
          "2018",
          "105790"
         ],
         [
          "East Renfrewshire",
          "2011",
          "90810"
         ],
         [
          "East Renfrewshire",
          "2012",
          "91040"
         ],
         [
          "East Renfrewshire",
          "2013",
          "91530"
         ],
         [
          "East Renfrewshire",
          "2014",
          "92410"
         ],
         [
          "East Renfrewshire",
          "2015",
          "92940"
         ],
         [
          "East Renfrewshire",
          "2016",
          "93810"
         ],
         [
          "East Renfrewshire",
          "2017",
          "94760"
         ],
         [
          "East Renfrewshire",
          "2018",
          "95170"
         ],
         [
          "Falkirk",
          "2011",
          "156250"
         ],
         [
          "Falkirk",
          "2012",
          "156800"
         ],
         [
          "Falkirk",
          "2013",
          "157160"
         ],
         [
          "Falkirk",
          "2014",
          "157690"
         ],
         [
          "Falkirk",
          "2015",
          "158460"
         ],
         [
          "Falkirk",
          "2016",
          "159380"
         ],
         [
          "Falkirk",
          "2017",
          "160130"
         ],
         [
          "Falkirk",
          "2018",
          "160340"
         ],
         [
          "Fife",
          "2011",
          "365300"
         ],
         [
          "Fife",
          "2012",
          "366210"
         ],
         [
          "Fife",
          "2013",
          "366900"
         ],
         [
          "Fife",
          "2014",
          "367250"
         ],
         [
          "Fife",
          "2015",
          "368080"
         ],
         [
          "Fife",
          "2016",
          "370330"
         ],
         [
          "Fife",
          "2017",
          "371410"
         ],
         [
          "Fife",
          "2018",
          "371910"
         ],
         [
          "Glasgow City",
          "2011",
          "593060"
         ],
         [
          "Glasgow City",
          "2012",
          "595070"
         ],
         [
          "Glasgow City",
          "2013",
          "596520"
         ],
         [
          "Glasgow City",
          "2014",
          "599640"
         ],
         [
          "Glasgow City",
          "2015",
          "606340"
         ],
         [
          "Glasgow City",
          "2016",
          "615070"
         ],
         [
          "Glasgow City",
          "2017",
          "621020"
         ],
         [
          "Glasgow City",
          "2018",
          "626410"
         ],
         [
          "Highland",
          "2011",
          "232730"
         ],
         [
          "Highland",
          "2012",
          "232890"
         ],
         [
          "Highland",
          "2013",
          "232930"
         ],
         [
          "Highland",
          "2014",
          "233080"
         ],
         [
          "Highland",
          "2015",
          "234110"
         ],
         [
          "Highland",
          "2016",
          "234770"
         ],
         [
          "Highland",
          "2017",
          "235180"
         ],
         [
          "Highland",
          "2018",
          "235540"
         ],
         [
          "Inverclyde",
          "2011",
          "81220"
         ],
         [
          "Inverclyde",
          "2012",
          "80690"
         ],
         [
          "Inverclyde",
          "2013",
          "80340"
         ],
         [
          "Inverclyde",
          "2014",
          "79890"
         ],
         [
          "Inverclyde",
          "2015",
          "79500"
         ],
         [
          "Inverclyde",
          "2016",
          "79160"
         ],
         [
          "Inverclyde",
          "2017",
          "78760"
         ],
         [
          "Inverclyde",
          "2018",
          "78150"
         ],
         [
          "Midlothian",
          "2011",
          "83450"
         ],
         [
          "Midlothian",
          "2012",
          "84240"
         ],
         [
          "Midlothian",
          "2013",
          "84710"
         ],
         [
          "Midlothian",
          "2014",
          "86220"
         ],
         [
          "Midlothian",
          "2015",
          "87390"
         ],
         [
          "Midlothian",
          "2016",
          "88610"
         ],
         [
          "Midlothian",
          "2017",
          "90090"
         ],
         [
          "Midlothian",
          "2018",
          "91340"
         ],
         [
          "Moray",
          "2011",
          "93470"
         ],
         [
          "Moray",
          "2012",
          "92930"
         ],
         [
          "Moray",
          "2013",
          "94360"
         ],
         [
          "Moray",
          "2014",
          "94770"
         ],
         [
          "Moray",
          "2015",
          "95510"
         ],
         [
          "Moray",
          "2016",
          "96070"
         ],
         [
          "Moray",
          "2017",
          "95780"
         ],
         [
          "Moray",
          "2018",
          "95520"
         ],
         [
          "Na h-Eileanan Siar",
          "2011",
          "27690"
         ],
         [
          "Na h-Eileanan Siar",
          "2012",
          "27560"
         ],
         [
          "Na h-Eileanan Siar",
          "2013",
          "27400"
         ],
         [
          "Na h-Eileanan Siar",
          "2014",
          "27250"
         ],
         [
          "Na h-Eileanan Siar",
          "2015",
          "27070"
         ],
         [
          "Na h-Eileanan Siar",
          "2016",
          "26900"
         ],
         [
          "Na h-Eileanan Siar",
          "2017",
          "26950"
         ],
         [
          "Na h-Eileanan Siar",
          "2018",
          "26830"
         ],
         [
          "North Ayrshire",
          "2011",
          "138090"
         ],
         [
          "North Ayrshire",
          "2012",
          "137570"
         ],
         [
          "North Ayrshire",
          "2013",
          "136940"
         ],
         [
          "North Ayrshire",
          "2014",
          "136480"
         ],
         [
          "North Ayrshire",
          "2015",
          "136130"
         ],
         [
          "North Ayrshire",
          "2016",
          "135890"
         ],
         [
          "North Ayrshire",
          "2017",
          "135790"
         ],
         [
          "North Ayrshire",
          "2018",
          "135280"
         ],
         [
          "North Lanarkshire",
          "2011",
          "337720"
         ],
         [
          "North Lanarkshire",
          "2012",
          "337890"
         ],
         [
          "North Lanarkshire",
          "2013",
          "337780"
         ],
         [
          "North Lanarkshire",
          "2014",
          "338000"
         ],
         [
          "North Lanarkshire",
          "2015",
          "338260"
         ],
         [
          "North Lanarkshire",
          "2016",
          "339390"
         ],
         [
          "North Lanarkshire",
          "2017",
          "339960"
         ],
         [
          "North Lanarkshire",
          "2018",
          "340180"
         ],
         [
          "Orkney Islands",
          "2011",
          "21420"
         ],
         [
          "Orkney Islands",
          "2012",
          "21530"
         ],
         [
          "Orkney Islands",
          "2013",
          "21560"
         ],
         [
          "Orkney Islands",
          "2014",
          "21580"
         ],
         [
          "Orkney Islands",
          "2015",
          "21670"
         ],
         [
          "Orkney Islands",
          "2016",
          "21850"
         ],
         [
          "Orkney Islands",
          "2017",
          "22000"
         ],
         [
          "Orkney Islands",
          "2018",
          "22190"
         ],
         [
          "Perth and Kinross",
          "2011",
          "146850"
         ],
         [
          "Perth and Kinross",
          "2012",
          "147740"
         ],
         [
          "Perth and Kinross",
          "2013",
          "147770"
         ],
         [
          "Perth and Kinross",
          "2014",
          "148930"
         ],
         [
          "Perth and Kinross",
          "2015",
          "149930"
         ],
         [
          "Perth and Kinross",
          "2016",
          "150680"
         ],
         [
          "Perth and Kinross",
          "2017",
          "151100"
         ],
         [
          "Perth and Kinross",
          "2018",
          "151290"
         ],
         [
          "Renfrewshire",
          "2011",
          "174700"
         ],
         [
          "Renfrewshire",
          "2012",
          "174300"
         ],
         [
          "Renfrewshire",
          "2013",
          "173890"
         ],
         [
          "Renfrewshire",
          "2014",
          "174230"
         ],
         [
          "Renfrewshire",
          "2015",
          "174560"
         ],
         [
          "Renfrewshire",
          "2016",
          "175930"
         ],
         [
          "Renfrewshire",
          "2017",
          "176830"
         ],
         [
          "Renfrewshire",
          "2018",
          "177790"
         ],
         [
          "Scottish Borders",
          "2011",
          "113880"
         ],
         [
          "Scottish Borders",
          "2012",
          "113720"
         ],
         [
          "Scottish Borders",
          "2013",
          "113880"
         ],
         [
          "Scottish Borders",
          "2014",
          "114040"
         ],
         [
          "Scottish Borders",
          "2015",
          "114030"
         ],
         [
          "Scottish Borders",
          "2016",
          "114530"
         ],
         [
          "Scottish Borders",
          "2017",
          "115020"
         ],
         [
          "Scottish Borders",
          "2018",
          "115270"
         ],
         [
          "Shetland Islands",
          "2011",
          "23240"
         ],
         [
          "Shetland Islands",
          "2012",
          "23210"
         ],
         [
          "Shetland Islands",
          "2013",
          "23200"
         ],
         [
          "Shetland Islands",
          "2014",
          "23220"
         ],
         [
          "Shetland Islands",
          "2015",
          "23200"
         ],
         [
          "Shetland Islands",
          "2016",
          "23200"
         ],
         [
          "Shetland Islands",
          "2017",
          "23080"
         ],
         [
          "Shetland Islands",
          "2018",
          "22990"
         ],
         [
          "South Ayrshire",
          "2011",
          "112980"
         ],
         [
          "South Ayrshire",
          "2012",
          "112920"
         ],
         [
          "South Ayrshire",
          "2013",
          "112870"
         ],
         [
          "South Ayrshire",
          "2014",
          "112530"
         ],
         [
          "South Ayrshire",
          "2015",
          "112400"
         ],
         [
          "South Ayrshire",
          "2016",
          "112470"
         ],
         [
          "South Ayrshire",
          "2017",
          "112680"
         ],
         [
          "South Ayrshire",
          "2018",
          "112550"
         ],
         [
          "South Lanarkshire",
          "2011",
          "313900"
         ],
         [
          "South Lanarkshire",
          "2012",
          "314330"
         ],
         [
          "South Lanarkshire",
          "2013",
          "314810"
         ],
         [
          "South Lanarkshire",
          "2014",
          "315300"
         ],
         [
          "South Lanarkshire",
          "2015",
          "316230"
         ],
         [
          "South Lanarkshire",
          "2016",
          "317100"
         ],
         [
          "South Lanarkshire",
          "2017",
          "318170"
         ],
         [
          "South Lanarkshire",
          "2018",
          "319020"
         ],
         [
          "Stirling",
          "2011",
          "90330"
         ],
         [
          "Stirling",
          "2012",
          "91010"
         ],
         [
          "Stirling",
          "2013",
          "91230"
         ],
         [
          "Stirling",
          "2014",
          "91520"
         ],
         [
          "Stirling",
          "2015",
          "92830"
         ],
         [
          "Stirling",
          "2016",
          "93750"
         ],
         [
          "Stirling",
          "2017",
          "94000"
         ],
         [
          "Stirling",
          "2018",
          "94330"
         ],
         [
          "West Dunbartonshire",
          "2011",
          "90610"
         ],
         [
          "West Dunbartonshire",
          "2012",
          "90340"
         ],
         [
          "West Dunbartonshire",
          "2013",
          "89800"
         ],
         [
          "West Dunbartonshire",
          "2014",
          "89710"
         ],
         [
          "West Dunbartonshire",
          "2015",
          "89590"
         ],
         [
          "West Dunbartonshire",
          "2016",
          "89860"
         ],
         [
          "West Dunbartonshire",
          "2017",
          "89610"
         ],
         [
          "West Dunbartonshire",
          "2018",
          "89130"
         ],
         [
          "West Lothian",
          "2011",
          "175300"
         ],
         [
          "West Lothian",
          "2012",
          "176010"
         ],
         [
          "West Lothian",
          "2013",
          "176160"
         ],
         [
          "West Lothian",
          "2014",
          "177200"
         ],
         [
          "West Lothian",
          "2015",
          "178550"
         ],
         [
          "West Lothian",
          "2016",
          "180130"
         ],
         [
          "West Lothian",
          "2017",
          "181310"
         ],
         [
          "West Lothian",
          "2018",
          "182140"
         ]
        ]
       }
      }
     },
     "f67e3aa1-970a-4f9b-86f4-a4329e0d287c": {
      "model_module": "beakerx",
      "model_module_version": "*",
      "model_name": "FoldoutModel",
      "state": {
       "background_color": null,
       "children": [
        "IPY_MODEL_84b0defe-7b4b-44f8-b959-0c2014335826"
       ],
       "color": null,
       "description": "",
       "disabled": false,
       "font_family": "",
       "font_size": "",
       "font_style": "",
       "font_weight": "",
       "headerLabel": "Added jars: ",
       "hidePreview": false,
       "layout": "IPY_MODEL_6b89bd3e-eb9d-4675-bfcd-9b5fe52ec789",
       "msg_throttle": 3,
       "visible": true
      }
     },
     "f9a952ac-98f4-422d-b34d-996171357d21": {
      "model_module": "@jupyter-widgets/base",
      "model_module_version": "*",
      "model_name": "LayoutModel",
      "state": {
       "_model_module_version": "*",
       "_view_module_version": "*",
       "align_content": "",
       "align_self": "",
       "border": "",
       "bottom": "",
       "flex": "",
       "height": "",
       "justify_content": "",
       "left": "",
       "margin": "",
       "max_height": "",
       "max_width": "",
       "min_height": "",
       "min_width": "",
       "msg_throttle": 3,
       "overflow": "",
       "overflow_x": "",
       "overflow_y": "",
       "padding": "",
       "right": "",
       "top": ""
      }
     },
     "ff312778-8d76-441a-bb28-37d492d40796": {
      "model_module": "@jupyter-widgets/base",
      "model_module_version": "*",
      "model_name": "LayoutModel",
      "state": {
       "_model_module_version": "*",
       "_view_module_version": "*",
       "align_content": "",
       "align_self": "",
       "border": "",
       "bottom": "",
       "flex": "",
       "height": "",
       "justify_content": "",
       "left": "",
       "margin": "",
       "max_height": "",
       "max_width": "",
       "min_height": "",
       "min_width": "",
       "msg_throttle": 3,
       "overflow": "",
       "overflow_x": "",
       "overflow_y": "",
       "padding": "",
       "right": "",
       "top": ""
      }
     }
    },
    "version_major": 2,
    "version_minor": 0
   }
  }
 },
 "nbformat": 4,
 "nbformat_minor": 2
}
