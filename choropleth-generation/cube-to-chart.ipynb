{
 "cells": [
  {
   "cell_type": "markdown",
   "metadata": {},
   "source": [
    "# The _geography_ of household waste generation\n",
    "\n",
    "This experiment generates choropleths to help visualise the variations in the amounts of household-generated waste across geographic areas in Scotland."
   ]
  },
  {
   "cell_type": "code",
   "execution_count": 2,
   "metadata": {},
   "outputs": [
    {
     "data": {
      "text/plain": [
       "org.apache.commons.math3.stat.regression.SimpleRegression"
      ]
     },
     "execution_count": 2,
     "metadata": {},
     "output_type": "execute_result"
    }
   ],
   "source": [
    "; Add code libraries\n",
    "\n",
    "(require '[clojupyter.misc.helper :as helper])\n",
    "\n",
    "(helper/add-dependencies '[org.clojure/data.csv \"1.0.0\"])\n",
    "(helper/add-dependencies '[metasoarous/oz \"1.6.0-alpha24\"])\n",
    "(helper/add-dependencies '[clj-http/clj-http \"3.10.1\"])\n",
    "(helper/add-dependencies '[org.apache.commons/commons-math3 \"3.6.1\"])\n",
    "\n",
    "(require '[clojure.string :as str]\n",
    "         '[clojure.pprint :as pp]\n",
    "         '[clojure.java.io :as io]\n",
    "         '[clojure.data.csv :as csv]\n",
    "         '[clj-http.client :as http]\n",
    "         '[oz.notebook.clojupyter :as oz]\n",
    "         '[oz.core :as ozcore])\n",
    "         \n",
    "(import 'java.net.URLEncoder\n",
    "        'org.apache.commons.math3.stat.regression.SimpleRegression)"
   ]
  },
  {
   "cell_type": "code",
   "execution_count": 3,
   "metadata": {},
   "outputs": [
    {
     "data": {
      "text/plain": [
       "#'user/trend"
      ]
     },
     "execution_count": 3,
     "metadata": {},
     "output_type": "execute_result"
    }
   ],
   "source": [
    "; Define convenience functions\n",
    "\n",
    "; Convert the CSV structure to a list-of-maps structure.\n",
    "(defn to-maps [csv-data]\n",
    "    (map zipmap (->> (first csv-data)\n",
    "                    (map keyword)\n",
    "                    repeat)\n",
    "                (rest csv-data)))\n",
    "\n",
    "; Ask statistic.gov.scot to execute the given SPARQL query\n",
    "; and return its result as a list-of-maps.\n",
    "(defn exec-query [sparql]\n",
    "    (->> (http/post \"http://statistics.gov.scot/sparql\" \n",
    "                    {:body (str \"query=\" (URLEncoder/encode sparql)) \n",
    "                    :headers {\"Accept\" \"text/csv\" \n",
    "                              \"Content-Type\" \"application/x-www-form-urlencoded\"} \n",
    "                    :debug false})\n",
    "        :body\n",
    "        csv/read-csv\n",
    "        to-maps))\n",
    "        \n",
    "; Compute 'the trend of y'.\n",
    "; (Returns the gradient of a linear approximation to the curve decribed by xy-pairs.)\n",
    "(defn trend [xy-pairs]\n",
    "    (let [regression (SimpleRegression. true)]\n",
    "        (doseq [[x y] xy-pairs]\n",
    "            (.addData regression x y))\n",
    "        (.getSlope regression)))"
   ]
  },
  {
   "cell_type": "markdown",
   "metadata": {},
   "source": [
    "Use a SPARQL query against statistics.gov.scot's data cubes to find the waste tonnage generated per council citizen per year."
   ]
  },
  {
   "cell_type": "code",
   "execution_count": 4,
   "metadata": {},
   "outputs": [
    {
     "name": "stdout",
     "output_type": "stream",
     "text": [
      "264 rows\n"
     ]
    },
    {
     "data": {
      "text/plain": [
       "nil"
      ]
     },
     "execution_count": 4,
     "metadata": {},
     "output_type": "execute_result"
    }
   ],
   "source": [
    "; Query for the waste tonnage generated per council citizen per year\n",
    "\n",
    "(def sparql \"\n",
    "\n",
    "PREFIX qb: <http://purl.org/linked-data/cube#>\n",
    "PREFIX rdfs: <http://www.w3.org/2000/01/rdf-schema#>\n",
    "PREFIX pdmx: <http://purl.org/linked-data/sdmx/2009/dimension#>\n",
    "PREFIX sdmx: <http://statistics.gov.scot/def/dimension/>\n",
    "PREFIX snum: <http://statistics.gov.scot/def/measure-properties/>\n",
    "PREFIX xsd: <http://www.w3.org/2001/XMLSchema#>\n",
    "\n",
    "SELECT \n",
    "    ?council \n",
    "    ?year \n",
    "    ?tonnagePerCitizen \n",
    "    (strafter(str(?areaUri), 'http://statistics.gov.scot/id/statistical-geography/') as ?councilCode) \n",
    "WHERE {\n",
    "  \n",
    "    ?tonnageObs qb:dataSet <http://statistics.gov.scot/data/household-waste> .\n",
    "    ?tonnageObs pdmx:refArea ?areaUri .\n",
    "    ?tonnageObs pdmx:refPeriod ?periodUri .\n",
    "    ?tonnageObs sdmx:wasteCategory ?wasteCategoryUri .\n",
    "    ?tonnageObs sdmx:wasteManagement ?wasteManagementUri .\n",
    "    ?tonnageObs snum:count ?tonnage .\n",
    "  \n",
    "    ?wasteCategoryUri rdfs:label \\\"Total Waste\\\" .\n",
    "    ?wasteManagementUri rdfs:label \\\"Waste Generated\\\" .\n",
    "\n",
    "    ?populationObs qb:dataSet <http://statistics.gov.scot/data/population-estimates-current-geographic-boundaries> .\n",
    "    ?populationObs pdmx:refArea ?areaUri .\n",
    "    ?populationObs pdmx:refPeriod ?periodUri .\n",
    "    ?populationObs sdmx:age <http://statistics.gov.scot/def/concept/age/all> .\n",
    "    ?populationObs sdmx:sex <http://statistics.gov.scot/def/concept/sex/all> .\n",
    "    ?populationObs snum:count ?population .\n",
    "\n",
    "    ?areaUri rdfs:label ?council .\n",
    "    ?periodUri rdfs:label ?year .\n",
    "    BIND((xsd:integer(?tonnage)/xsd:integer(?population)) AS ?tonnagePerCitizen) .\n",
    "}\n",
    "\")\n",
    "\n",
    "(def tonnage-generated-per-council-citizen-per-year \n",
    "    (->> sparql\n",
    "        exec-query\n",
    "        (sort-by (juxt :c :y))))\n",
    "\n",
    "(println (count tonnage-generated-per-council-citizen-per-year) \"rows\")"
   ]
  },
  {
   "cell_type": "code",
   "execution_count": 5,
   "metadata": {},
   "outputs": [
    {
     "name": "stdout",
     "output_type": "stream",
     "text": [
      "\n",
      "|          :council | :councilCode | :year |         :tonnagePerCitizen |\n",
      "|-------------------+--------------+-------+----------------------------|\n",
      "|    South Ayrshire |    S12000028 |  2013 | 0.491033932843093824754142 |\n",
      "|          Scotland |    S92000003 |  2017 | 0.453624096740893673499484 |\n",
      "|   Argyll and Bute |    S12000035 |  2016 | 0.616194192585791346264203 |\n",
      "|   Argyll and Bute |    S12000035 |  2015 | 0.596696973184486131890897 |\n",
      "| South Lanarkshire |    S12000029 |  2017 | 0.476914856837539680045259 |\n"
     ]
    },
    {
     "data": {
      "text/plain": [
       "nil"
      ]
     },
     "execution_count": 5,
     "metadata": {},
     "output_type": "execute_result"
    }
   ],
   "source": [
    "; Print a sample\n",
    "\n",
    "(def ks [:council :councilCode :year :tonnagePerCitizen])\n",
    "(pp/print-table ks (repeatedly 5 #(rand-nth tonnage-generated-per-council-citizen-per-year)))"
   ]
  },
  {
   "cell_type": "markdown",
   "metadata": {},
   "source": [
    "For each council area, derive the 3 values:\n",
    "* `recent` - 2018's tonnage of waste generated per council citizen.\n",
    "* `average` - 2011-2018's average tonnage of waste generated per council citizen.\n",
    "<br>(Calculated as the _mean_.)\n",
    "* `trend` - 2011-2018's trend in tonnage of waste generated per council citizen.\n",
    "<br>(Calculated as the gradient of a linear approximation to the tonnage over the years.)"
   ]
  },
  {
   "cell_type": "code",
   "execution_count": 6,
   "metadata": {},
   "outputs": [
    {
     "name": "stdout",
     "output_type": "stream",
     "text": [
      "33 rows\n"
     ]
    },
    {
     "data": {
      "text/plain": [
       "nil"
      ]
     },
     "execution_count": 6,
     "metadata": {},
     "output_type": "execute_result"
    }
   ],
   "source": [
    "; For each council area, derive the 3 values: 'recent', 'average' and 'trend'.\n",
    "\n",
    "(def stats-on-tonnage-generated-per-council-citizen\n",
    "    (let [base-data tonnage-generated-per-council-citizen-per-year]\n",
    "        (for [council (->> base-data (map :council) distinct)]\n",
    "            {:council council\n",
    "             :recent (->> base-data \n",
    "                         (filter #(and (= council (:council %)) (= \"2018\" (:year %)))) \n",
    "                         first \n",
    "                         :tonnagePerCitizen\n",
    "                         bigdec\n",
    "                         .doubleValue\n",
    "                         (format \"%.6f\"))\n",
    "             :average (->> base-data \n",
    "                         (filter #(= council (:council %))) \n",
    "                         (map #(-> % :tonnagePerCitizen bigdec .doubleValue))\n",
    "                         (apply +) \n",
    "                         (#(/ % 8))\n",
    "                         (format \"%.6f\"))\n",
    "              :trend (->> base-data \n",
    "                         (filter #(= council (:council %))) \n",
    "                         (map #(vector (-> % :year bigdec .doubleValue) (-> % :tonnagePerCitizen bigdec .doubleValue)))\n",
    "                         trend\n",
    "                         (format \"%.6f\"))})))\n",
    "            \n",
    "(println (count stats-on-tonnage-generated-per-council-citizen) \"rows\")"
   ]
  },
  {
   "cell_type": "code",
   "execution_count": 7,
   "metadata": {
    "scrolled": true
   },
   "outputs": [
    {
     "name": "stdout",
     "output_type": "stream",
     "text": [
      "\n",
      "|         :council |  :recent | :average |    :trend |\n",
      "|------------------+----------+----------+-----------|\n",
      "| Clackmannanshire | 0.508210 | 0.533003 | -0.007780 |\n",
      "|      Dundee City | 0.408558 | 0.442179 | -0.005313 |\n",
      "|            Angus | 0.470691 | 0.497753 | -0.006480 |\n",
      "|     East Lothian | 0.473901 | 0.499116 | -0.007190 |\n",
      "|            Angus | 0.470691 | 0.497753 | -0.006480 |\n"
     ]
    },
    {
     "data": {
      "text/plain": [
       "nil"
      ]
     },
     "execution_count": 7,
     "metadata": {},
     "output_type": "execute_result"
    }
   ],
   "source": [
    "; Print a sample\n",
    "\n",
    "(def ks [:council :recent :average :trend])\n",
    "(pp/print-table ks (repeatedly 5 #(rand-nth stats-on-tonnage-generated-per-council-citizen)))"
   ]
  },
  {
   "cell_type": "code",
   "execution_count": 8,
   "metadata": {},
   "outputs": [
    {
     "name": "stdout",
     "output_type": "stream",
     "text": [
      "Wrote to /Users/amc/workspace/data-commons-scotland/dcs-shorts/choropleth-generation/stats-on-tonnage-generated-per-council-citizen.csv\n"
     ]
    },
    {
     "data": {
      "text/plain": [
       "nil"
      ]
     },
     "execution_count": 8,
     "metadata": {},
     "output_type": "execute_result"
    }
   ],
   "source": [
    "; Store stats-on-tonnage-generated-per-council-citizen in a CSV file for subsequent use by the Vega chart\n",
    "\n",
    "(def filename \"stats-on-tonnage-generated-per-council-citizen.csv\")\n",
    "\n",
    "(let [file (io/file filename)\n",
    "      header-row (->> stats-on-tonnage-generated-per-council-citizen\n",
    "                      first\n",
    "                      keys\n",
    "                      (map name))\n",
    "      data-rows (->> stats-on-tonnage-generated-per-council-citizen\n",
    "                     (map vals))]\n",
    "    (with-open [writer (io/writer file)]\n",
    "      (csv/write-csv writer (cons header-row data-rows)))\n",
    "      \n",
    "    (println \"Wrote to\" (.getAbsolutePath file)))"
   ]
  },
  {
   "cell_type": "markdown",
   "metadata": {},
   "source": [
    "Use Vega to generate 3 choropleths which help visualise the\n",
    "* 2018 tonnage\n",
    "* 2011-2018 average tonnage\n",
    "* 2011-2018 trend in tonnage\n",
    "\n",
    "...of waste generated per council citizen against the council-oriented geography of Scotland."
   ]
  },
  {
   "cell_type": "code",
   "execution_count": 9,
   "metadata": {},
   "outputs": [
    {
     "name": "stdout",
     "output_type": "stream",
     "text": [
      "to-format: :html\n",
      "[I 14:42:32.947 Clojupyter] oz.core:425 -- input: /var/folders/wl/ff7688p93t1b3tm2l0bv93yc0000gn/T/a7ff0e95-d21a-4a80-97e5-619e9f0cba826267511786189011164.vl.json\n",
      "[I 14:42:33.001 Clojupyter] oz.core:426 -- output: /var/folders/wl/ff7688p93t1b3tm2l0bv93yc0000gn/T/7e17d605-ef6b-4437-9d22-cc0d7d5690a21725674012211629027.png\n"
     ]
    },
    {
     "data": {
      "text/html": [
       "\n",
       "  <div>\n",
       "    <div id='uuid-a89bdc5a-31ba-4813-ae56-486c5ee13d0b'></div>\n",
       "    <script>\n",
       "    requirejs.config({\n",
       "      baseUrl: 'https://cdn.jsdelivr.net/npm/',\n",
       "      paths: {\n",
       "        'vega-embed':  'vega-embed@6.9.0?noext',\n",
       "        'vega-lib': 'vega-lib?noext',\n",
       "        'vega-lite': 'vega-lite@4.13.1?noext',\n",
       "        'vega': 'vega@5.13.0?noext'\n",
       "      }\n",
       "    });\n",
       "    require(['vega-embed'], function(vegaEmbed) {\n",
       "      let spec = {\"$schema\":\"https:\\/\\/vega.github.io\\/schema\\/vega-lite\\/v4.json\",\"repeat\":{\"row\":[\"2018 tonnage\",\"2011-2018 average tonnage\",\"2011-2018 trend in tonnage\"]},\"resolve\":{\"scale\":{\"color\":\"independent\"}},\"spec\":{\"width\":\"500\",\"height\":\"500\",\"data\":{\"url\":\"https:\\/\\/raw.githubusercontent.com\\/data-commons-scotland\\/dcs-shorts\\/master\\/choropleth-generation\\/topo_lad.json\",\"format\":{\"type\":\"topojson\",\"feature\":\"lad\"}},\"transform\":[{\"lookup\":\"properties['LAD13NM']\",\"from\":{\"data\":{\"url\":\"https:\\/\\/raw.githubusercontent.com\\/data-commons-scotland\\/dcs-shorts\\/master\\/choropleth-generation\\/stats-on-tonnage-generated-per-council-citizen.csv\"},\"key\":\"council\",\"fields\":[\"recent\",\"average\",\"trend\"]},\"as\":[\"2018 tonnage\",\"2011-2018 average tonnage\",\"2011-2018 trend in tonnage\"]}],\"projection\":{\"type\":\"albers\",\"rotate\":[0,0,0]},\"mark\":{\"type\":\"geoshape\",\"strokeWidth\":0.2,\"stroke\":\"black\"},\"encoding\":{\"tooltip\":[{\"title\":\"council\",\"field\":\"properties['LAD13NM']\",\"type\":\"nominal\"},{\"field\":{\"repeat\":\"row\"},\"type\":\"quantitative\"}],\"color\":{\"field\":{\"repeat\":\"row\"},\"type\":\"quantitative\"}}}};\n",
       "      vegaEmbed('#uuid-a89bdc5a-31ba-4813-ae56-486c5ee13d0b', spec, {defaultStyle:true}).catch(console.warn);\n",
       "      }, function(err) {\n",
       "      console.log('Failed to load');\n",
       "    });\n",
       "    </script>\n",
       "  </div>\n",
       "    "
      ]
     },
     "execution_count": 9,
     "metadata": {},
     "output_type": "execute_result"
    }
   ],
   "source": [
    "; Use Vega to generate 3 choropleths\n",
    "\n",
    "(def repo-dir \"https://raw.githubusercontent.com/data-commons-scotland/dcs-shorts/master/choropleth-generation/\")\n",
    "\n",
    "(def chart-spec {:$schema \"https://vega.github.io/schema/vega-lite/v4.json\"\n",
    "                 :repeat {:row [\"2018 tonnage\" \n",
    "                                \"2011-2018 average tonnage\"\n",
    "                                \"2011-2018 trend in tonnage\"]}\n",
    "                 :resolve {:scale {:color \"independent\"}}\n",
    "                 :spec {\n",
    "                     :width \"500\"\n",
    "                     :height \"500\"\n",
    "                     :data {:url (str repo-dir \"topo_lad.json\")\n",
    "                            :format {:type \"topojson\" :feature \"lad\"}}\n",
    "                     :transform [;; Cross reference by council name rather than council code\n",
    "                                 ;; because the topoJSON data uses some obsolete codes (etc.).\n",
    "                                 {:lookup \"properties['LAD13NM']\" \n",
    "                                  :from {:data {:url (str repo-dir filename)}\n",
    "                                         :key \"council\"\n",
    "                                         :fields [\"recent\" \"average\" \"trend\"]}\n",
    "                                  :as [\"2018 tonnage\" \n",
    "                                       \"2011-2018 average tonnage\"\n",
    "                                       \"2011-2018 trend in tonnage\"]}]\n",
    "                     :projection {:type \"albers\" :rotate [0, 0, 0]}\n",
    "                     :mark {:type \"geoshape\" :strokeWidth 0.2 :stroke \"black\"}\n",
    "                     :encoding {:tooltip [{:title \"council\" :field \"properties['LAD13NM']\" :type \"nominal\"}\n",
    "                                          {:field {:repeat \"row\"} :type \"quantitative\"}]\n",
    "                                :color {;:title \"tonnage per citizen\"\n",
    "                                        :field {:repeat \"row\"}\n",
    "                                        :type \"quantitative\"}}}})\n",
    "\n",
    "; (print (json/write-str chart-spec))\n",
    "\n",
    "; (ozcore/export! [:div [:vega-lite chart-spec]] \"choropleths.html\" {:from-format :hiccup :to-format :html})\n",
    "\n",
    "(oz/view! chart-spec)"
   ]
  },
  {
   "cell_type": "code",
   "execution_count": null,
   "metadata": {},
   "outputs": [],
   "source": []
  },
  {
   "cell_type": "code",
   "execution_count": null,
   "metadata": {},
   "outputs": [],
   "source": []
  }
 ],
 "metadata": {
  "kernelspec": {
   "display_name": "Clojure (clojupyter=0.3.2=1)",
   "language": "clojure",
   "name": "conda-clojupyter"
  },
  "language_info": {
   "file_extension": ".clj",
   "mimetype": "text/x-clojure",
   "name": "clojure",
   "version": "1.10.1"
  },
  "toc": {
   "base_numbering": 1,
   "nav_menu": {},
   "number_sections": false,
   "sideBar": false,
   "skip_h1_title": false,
   "title_cell": "Table of Contents",
   "title_sidebar": "Contents",
   "toc_cell": false,
   "toc_position": {},
   "toc_section_display": false,
   "toc_window_display": false
  },
  "widgets": {
   "application/vnd.jupyter.widget-state+json": {
    "state": {},
    "version_major": 2,
    "version_minor": 0
   }
  }
 },
 "nbformat": 4,
 "nbformat_minor": 2
}
