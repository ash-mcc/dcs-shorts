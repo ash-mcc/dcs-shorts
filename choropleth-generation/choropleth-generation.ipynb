{
 "cells": [
  {
   "cell_type": "code",
   "execution_count": 8,
   "metadata": {},
   "outputs": [
    {
     "data": {
      "text/plain": [
       "nil"
      ]
     },
     "execution_count": 8,
     "metadata": {},
     "output_type": "execute_result"
    }
   ],
   "source": [
    "; Generate visualisations of the variations of waste values across geographic areas in Scotland.\n",
    "\n",
    "\n",
    "; Add code libraries\n",
    "\n",
    "(require '[clojupyter.misc.helper :as helper])\n",
    "(helper/add-dependencies '[metasoarous/oz \"1.6.0-alpha24\"])\n",
    "(require '[clojure.string :as s]\n",
    "         '[clojure.pprint :as pp]\n",
    "         '[oz.notebook.clojupyter :as oz])"
   ]
  },
  {
   "cell_type": "code",
   "execution_count": 24,
   "metadata": {},
   "outputs": [
    {
     "data": {
      "text/html": [
       "\n",
       "  <div>\n",
       "    <div id='uuid-a1ffbc35-8155-49e2-a9a7-1ed96af8896d'></div>\n",
       "    <script>\n",
       "    requirejs.config({\n",
       "      baseUrl: 'https://cdn.jsdelivr.net/npm/',\n",
       "      paths: {\n",
       "        'vega-embed':  'vega-embed@6.9.0?noext',\n",
       "        'vega-lib': 'vega-lib?noext',\n",
       "        'vega-lite': 'vega-lite@4.13.1?noext',\n",
       "        'vega': 'vega@5.13.0?noext'\n",
       "      }\n",
       "    });\n",
       "    require(['vega-embed'], function(vegaEmbed) {\n",
       "      let spec = {\"$schema\":\"https:\\/\\/vega.github.io\\/schema\\/vega-lite\\/v4.json\",\"width\":\"600\",\"height\":\"600\",\"data\":{\"url\":\"https:\\/\\/raw.githubusercontent.com\\/martinjc\\/UK-GeoJSON\\/master\\/json\\/administrative\\/sco\\/topo_lad.json\",\"format\":{\"type\":\"topojson\",\"feature\":\"lad\"}},\"transform\":[{\"lookup\":\"id\",\"from\":{\"data\":{\"values\":[{\"id\":\"S12000005\",\"tonnage\":\"0.3\"},{\"id\":\"S12000008\",\"tonnage\":\"0.4\"},{\"id\":\"S12000010\",\"tonnage\":\"0.5\"},{\"id\":\"S12000011\",\"tonnage\":\"0.6\"},{\"id\":\"S12000013\",\"tonnage\":\"0.7\"},{\"id\":\"S12000014\",\"tonnage\":\"0.8\"},{\"id\":\"S12000015\",\"tonnage\":\"0.9\"},{\"id\":\"S12000017\",\"tonnage\":\"0.8\"},{\"id\":\"S12000018\",\"tonnage\":\"0.7\"},{\"id\":\"S12000019\",\"tonnage\":\"0.6\"},{\"id\":\"S12000020\",\"tonnage\":\"0.5\"},{\"id\":\"S12000021\",\"tonnage\":\"0.4\"}]},\"key\":\"id\",\"fields\":[\"tonnage\"]}}],\"projection\":{\"type\":\"albers\",\"rotate\":[0,0,0]},\"mark\":{\"type\":\"geoshape\"},\"encoding\":{\"color\":{\"field\":\"tonnage\",\"type\":\"quantitative\"}}};\n",
       "      vegaEmbed('#uuid-a1ffbc35-8155-49e2-a9a7-1ed96af8896d', spec, {defaultStyle:true}).catch(console.warn);\n",
       "      }, function(err) {\n",
       "      console.log('Failed to load');\n",
       "    });\n",
       "    </script>\n",
       "  </div>\n",
       "    "
      ]
     },
     "execution_count": 24,
     "metadata": {},
     "output_type": "execute_result"
    }
   ],
   "source": [
    "; *WIP*\n",
    "; Choropleth of the waste generated per council citizen\n",
    "\n",
    "(def chart-spec {:$schema \"https://vega.github.io/schema/vega-lite/v4.json\"\n",
    "                 :width \"600\"\n",
    "                 :height \"600\"\n",
    "                 :data {:url \"https://raw.githubusercontent.com/data-commons-scotland/dcs-shorts/topojson-experiment/choropleth-generation/topo_lad.json\"\n",
    "                        :format {:type \"topojson\"\n",
    "                                 :feature \"lad\"}}\n",
    "                 :transform [{:lookup \"id\"\n",
    "                              :from {:data {:values [{:id \"S12000005\" :tonnage \"0.3\"}\n",
    "                                                     {:id \"S12000008\" :tonnage \"0.4\"}\n",
    "                                                     {:id \"S12000010\" :tonnage \"0.5\"}\n",
    "                                                     {:id \"S12000011\" :tonnage \"0.6\"}\n",
    "                                                     {:id \"S12000013\" :tonnage \"0.7\"}\n",
    "                                                     {:id \"S12000014\" :tonnage \"0.8\"}\n",
    "                                                     {:id \"S12000015\" :tonnage \"0.9\"}\n",
    "                                                     {:id \"S12000017\" :tonnage \"0.8\"}\n",
    "                                                     {:id \"S12000018\" :tonnage \"0.7\"}\n",
    "                                                     {:id \"S12000019\" :tonnage \"0.6\"}\n",
    "                                                     {:id \"S12000020\" :tonnage \"0.5\"}\n",
    "                                                     {:id \"S12000021\" :tonnage \"0.4\"}]}\n",
    "                                     :key \"id\"\n",
    "                                     :fields [\"tonnage\"]}}]\n",
    "                 :projection {:type \"albers\" \n",
    "                              :rotate [0, 0, 0]}\n",
    "                 :mark {:type \"geoshape\"}\n",
    "                 :encoding {:color {:field \"tonnage\"\n",
    "                                    :type \"quantitative\"}}})\n",
    "\n",
    "; (print (json/write-str chart-spec))\n",
    "\n",
    "; Aside: read https://github.com/metasoarous/oz for exporting and embedding and reagent hints\n",
    "\n",
    "(oz/view! chart-spec)"
   ]
  },
  {
   "cell_type": "code",
   "execution_count": null,
   "metadata": {},
   "outputs": [],
   "source": []
  },
  {
   "cell_type": "code",
   "execution_count": null,
   "metadata": {},
   "outputs": [],
   "source": []
  }
 ],
 "metadata": {
  "kernelspec": {
   "display_name": "Clojure (clojupyter=0.3.2=1)",
   "language": "clojure",
   "name": "conda-clojupyter"
  },
  "language_info": {
   "file_extension": ".clj",
   "mimetype": "text/x-clojure",
   "name": "clojure",
   "version": "1.10.1"
  },
  "toc": {
   "base_numbering": 1,
   "nav_menu": {},
   "number_sections": false,
   "sideBar": false,
   "skip_h1_title": false,
   "title_cell": "Table of Contents",
   "title_sidebar": "Contents",
   "toc_cell": false,
   "toc_position": {},
   "toc_section_display": false,
   "toc_window_display": false
  },
  "widgets": {
   "application/vnd.jupyter.widget-state+json": {
    "state": {},
    "version_major": 2,
    "version_minor": 0
   }
  }
 },
 "nbformat": 4,
 "nbformat_minor": 2
}
