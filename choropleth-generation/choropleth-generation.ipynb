{
 "cells": [
  {
   "cell_type": "code",
   "execution_count": 87,
   "metadata": {},
   "outputs": [
    {
     "data": {
      "text/plain": [
       "java.net.URLEncoder"
      ]
     },
     "execution_count": 87,
     "metadata": {},
     "output_type": "execute_result"
    }
   ],
   "source": [
    "; Generate visualisations of the variations of waste values across geographic areas in Scotland.\n",
    "\n",
    "\n",
    "; Add code libraries\n",
    "\n",
    "(require '[clojupyter.misc.helper :as helper])\n",
    "\n",
    "(helper/add-dependencies '[org.clojure/data.csv \"1.0.0\"])\n",
    "(helper/add-dependencies '[metasoarous/oz \"1.6.0-alpha24\"])\n",
    "(helper/add-dependencies '[clj-http/clj-http \"3.10.1\"])\n",
    "\n",
    "(require '[clojure.string :as str]\n",
    "         '[clojure.pprint :as pp]\n",
    "         '[clojure.java.io :as io]\n",
    "         '[clojure.data.csv :as csv]\n",
    "         '[clj-http.client :as http]\n",
    "         '[oz.notebook.clojupyter :as oz]\n",
    "         '[oz.core :as ozcore])\n",
    "(import 'java.net.URLEncoder)"
   ]
  },
  {
   "cell_type": "code",
   "execution_count": 12,
   "metadata": {},
   "outputs": [
    {
     "data": {
      "text/plain": [
       "#'user/exec-query"
      ]
     },
     "execution_count": 12,
     "metadata": {},
     "output_type": "execute_result"
    }
   ],
   "source": [
    "; Define convenience functions\n",
    "\n",
    "; Convert the CSV structure to a list-of-maps structure.\n",
    "(defn to-maps [csv-data]\n",
    "    (map zipmap (->> (first csv-data)\n",
    "                    (map keyword)\n",
    "                    repeat)\n",
    "                (rest csv-data)))\n",
    "\n",
    "; Ask statistic.gov.scot to execute the given SPARQL query\n",
    "; and return its result as a list-of-maps.\n",
    "(defn exec-query [sparql]\n",
    "    (->> (http/post \"http://statistics.gov.scot/sparql\" \n",
    "                    {:body (str \"query=\" (URLEncoder/encode sparql)) \n",
    "                    :headers {\"Accept\" \"text/csv\" \n",
    "                              \"Content-Type\" \"application/x-www-form-urlencoded\"} \n",
    "                    :debug false})\n",
    "        :body\n",
    "        csv/read-csv\n",
    "        to-maps))"
   ]
  },
  {
   "cell_type": "code",
   "execution_count": 47,
   "metadata": {},
   "outputs": [
    {
     "data": {
      "text/plain": [
       "#'user/tonnage-generated-per-council-citizen-per-year"
      ]
     },
     "execution_count": 47,
     "metadata": {},
     "output_type": "execute_result"
    }
   ],
   "source": [
    "; Query for the waste tonnage genearated per council citizen per year\n",
    "\n",
    "(def sparql \"\n",
    "\n",
    "PREFIX qb: <http://purl.org/linked-data/cube#>\n",
    "PREFIX rdfs: <http://www.w3.org/2000/01/rdf-schema#>\n",
    "PREFIX pdmx: <http://purl.org/linked-data/sdmx/2009/dimension#>\n",
    "PREFIX sdmx: <http://statistics.gov.scot/def/dimension/>\n",
    "PREFIX snum: <http://statistics.gov.scot/def/measure-properties/>\n",
    "PREFIX xsd: <http://www.w3.org/2001/XMLSchema#>\n",
    "\n",
    "SELECT \n",
    "    ?council \n",
    "    ?year \n",
    "    ?tonnagePerCitizen \n",
    "    (strafter(str(?areaUri), 'http://statistics.gov.scot/id/statistical-geography/') as ?councilCode) \n",
    "WHERE {\n",
    "  \n",
    "    ?tonnageObs qb:dataSet <http://statistics.gov.scot/data/household-waste> .\n",
    "    ?tonnageObs pdmx:refArea ?areaUri .\n",
    "    ?tonnageObs pdmx:refPeriod ?periodUri .\n",
    "    ?tonnageObs sdmx:wasteCategory ?wasteCategoryUri .\n",
    "    ?tonnageObs sdmx:wasteManagement ?wasteManagementUri .\n",
    "    ?tonnageObs snum:count ?tonnage .\n",
    "  \n",
    "    ?wasteCategoryUri rdfs:label \\\"Total Waste\\\" .\n",
    "    ?wasteManagementUri rdfs:label \\\"Waste Generated\\\" .\n",
    "\n",
    "    ?populationObs qb:dataSet <http://statistics.gov.scot/data/population-estimates-current-geographic-boundaries> .\n",
    "    ?populationObs pdmx:refArea ?areaUri .\n",
    "    ?populationObs pdmx:refPeriod ?periodUri .\n",
    "    ?populationObs sdmx:age <http://statistics.gov.scot/def/concept/age/all> .\n",
    "    ?populationObs sdmx:sex <http://statistics.gov.scot/def/concept/sex/all> .\n",
    "    ?populationObs snum:count ?population .\n",
    "\n",
    "    ?areaUri rdfs:label ?council .\n",
    "    ?periodUri rdfs:label ?year .\n",
    "    BIND((xsd:integer(?tonnage)/xsd:integer(?population)) AS ?tonnagePerCitizen) .\n",
    "}\n",
    "\")\n",
    "\n",
    "(def tonnage-generated-per-council-citizen-per-year \n",
    "    (->> sparql\n",
    "        exec-query\n",
    "        (sort-by (juxt :c :y))))\n",
    "\n",
    "(println (count tonnage-generated-per-council-citizen-per-year) \"rows\")"
   ]
  },
  {
   "cell_type": "code",
   "execution_count": 48,
   "metadata": {},
   "outputs": [
    {
     "name": "stdout",
     "output_type": "stream",
     "text": [
      "\n",
      "|          :council | :councilCode | :year |         :tonnagePerCitizen |\n",
      "|-------------------+--------------+-------+----------------------------|\n",
      "|      West Lothian |    S12000040 |  2012 | 0.412090222146468950627805 |\n",
      "|             Moray |    S12000020 |  2015 | 0.524719924615223536802429 |\n",
      "|           Falkirk |    S12000014 |  2013 | 0.457813693051667090862815 |\n",
      "|  Scottish Borders |    S12000026 |  2017 | 0.464884367936011128499391 |\n",
      "| City of Edinburgh |    S12000036 |  2016 | 0.381199597768006782735572 |\n"
     ]
    },
    {
     "data": {
      "text/plain": [
       "nil"
      ]
     },
     "execution_count": 48,
     "metadata": {},
     "output_type": "execute_result"
    }
   ],
   "source": [
    "; Print a sample\n",
    "\n",
    "(def ks [:council :councilCode :year :tonnagePerCitizen])\n",
    "(pp/print-table ks (repeatedly 5 #(rand-nth tonnage-generated-per-council-citizen-per-year)))"
   ]
  },
  {
   "cell_type": "code",
   "execution_count": 52,
   "metadata": {},
   "outputs": [
    {
     "name": "stdout",
     "output_type": "stream",
     "text": [
      "33 rows\n"
     ]
    },
    {
     "data": {
      "text/plain": [
       "nil"
      ]
     },
     "execution_count": 52,
     "metadata": {},
     "output_type": "execute_result"
    }
   ],
   "source": [
    "; 2018's tonnages\n",
    "\n",
    "(def tonnage-generated-per-council-citizen-in-2018\n",
    "    (filter #(= \"2018\" (:year %))\n",
    "            tonnage-generated-per-council-citizen-per-year))\n",
    "            \n",
    "(println (count tonnage-generated-per-council-citizen-in-2018) \"rows\")"
   ]
  },
  {
   "cell_type": "code",
   "execution_count": 53,
   "metadata": {},
   "outputs": [
    {
     "name": "stdout",
     "output_type": "stream",
     "text": [
      "\n",
      "|          :council | :councilCode | :year |         :tonnagePerCitizen |\n",
      "|-------------------+--------------+-------+----------------------------|\n",
      "|     East Ayrshire |    S12000008 |  2018 | 0.436211424819435325016415 |\n",
      "| North Lanarkshire |    S12000050 |  2018 | 0.429698982891410429772473 |\n",
      "|          Highland |    S12000017 |  2018 | 0.542922645835102318077609 |\n",
      "|      East Lothian |    S12000010 |  2018 | 0.473901124870025522261083 |\n",
      "|             Moray |    S12000020 |  2018 | 0.497508375209380234505863 |\n"
     ]
    },
    {
     "data": {
      "text/plain": [
       "nil"
      ]
     },
     "execution_count": 53,
     "metadata": {},
     "output_type": "execute_result"
    }
   ],
   "source": [
    "; Print a sample\n",
    "\n",
    "(pp/print-table ks (repeatedly 5 #(rand-nth tonnage-generated-per-council-citizen-in-2018)))"
   ]
  },
  {
   "cell_type": "code",
   "execution_count": 84,
   "metadata": {},
   "outputs": [
    {
     "name": "stdout",
     "output_type": "stream",
     "text": [
      "Wrote to /Users/amc/workspace/data-commons-scotland/dcs-shorts/choropleth-generation/tonnage-generated-per-council-citizen-in-2018.csv\n"
     ]
    },
    {
     "data": {
      "text/plain": [
       "nil"
      ]
     },
     "execution_count": 84,
     "metadata": {},
     "output_type": "execute_result"
    }
   ],
   "source": [
    "; Store the 2018 tonnages in a CSV file for subsequent use by the Vega chart\n",
    "\n",
    "(def filename \"tonnage-generated-per-council-citizen-in-2018.csv\")\n",
    "\n",
    "(let [file (io/file filename)\n",
    "      header-row (->> tonnage-generated-per-council-citizen-in-2018\n",
    "                      first\n",
    "                      keys\n",
    "                      (map name))\n",
    "      data-rows (->> tonnage-generated-per-council-citizen-in-2018\n",
    "                     (map vals))]\n",
    "    (with-open [writer (io/writer file)]\n",
    "      (csv/write-csv writer (cons header-row data-rows)))\n",
    "      \n",
    "    (println \"Wrote to\" (.getAbsolutePath file)))"
   ]
  },
  {
   "cell_type": "code",
   "execution_count": 99,
   "metadata": {},
   "outputs": [
    {
     "name": "stdout",
     "output_type": "stream",
     "text": [
      "to-format: :html\n",
      "[I 10:10:57.316 Clojupyter] oz.core:425 -- input: /var/folders/wl/ff7688p93t1b3tm2l0bv93yc0000gn/T/77ff2691-c815-4844-86e9-558790f576543235006439632792951.vl.json\n",
      "[I 10:10:57.317 Clojupyter] oz.core:426 -- output: /var/folders/wl/ff7688p93t1b3tm2l0bv93yc0000gn/T/b9b3a665-a650-4604-b8dc-6dc6ca43ae084578675571710206040.png\n"
     ]
    },
    {
     "data": {
      "text/html": [
       "\n",
       "  <div>\n",
       "    <div id='uuid-bc400b47-f141-4134-a713-be828ac67853'></div>\n",
       "    <script>\n",
       "    requirejs.config({\n",
       "      baseUrl: 'https://cdn.jsdelivr.net/npm/',\n",
       "      paths: {\n",
       "        'vega-embed':  'vega-embed@6.9.0?noext',\n",
       "        'vega-lib': 'vega-lib?noext',\n",
       "        'vega-lite': 'vega-lite@4.13.1?noext',\n",
       "        'vega': 'vega@5.13.0?noext'\n",
       "      }\n",
       "    });\n",
       "    require(['vega-embed'], function(vegaEmbed) {\n",
       "      let spec = {\"$schema\":\"https:\\/\\/vega.github.io\\/schema\\/vega-lite\\/v4.json\",\"width\":\"600\",\"height\":\"600\",\"data\":{\"url\":\"https:\\/\\/raw.githubusercontent.com\\/data-commons-scotland\\/dcs-shorts\\/topojson-experiment\\/choropleth-generation\\/topo_lad.json\",\"format\":{\"type\":\"topojson\",\"feature\":\"lad\"}},\"transform\":[{\"lookup\":\"properties['LAD13NM']\",\"from\":{\"data\":{\"url\":\"https:\\/\\/raw.githubusercontent.com\\/data-commons-scotland\\/dcs-shorts\\/topojson-experiment\\/choropleth-generation\\/tonnage-generated-per-council-citizen-in-2018.csv\"},\"key\":\"council\",\"fields\":[\"tonnagePerCitizen\"]}}],\"projection\":{\"type\":\"albers\",\"rotate\":[0,0,0]},\"mark\":{\"type\":\"geoshape\",\"strokeWidth\":0.2,\"stroke\":\"black\"},\"encoding\":{\"tooltip\":[{\"title\":\"council\",\"field\":\"properties['LAD13NM']\",\"type\":\"nominal\"},{\"title\":\"tonnage per citizen\",\"field\":\"tonnagePerCitizen\",\"type\":\"quantitative\"}],\"color\":{\"title\":\"tonnage per citizen\",\"field\":\"tonnagePerCitizen\",\"type\":\"quantitative\"}}};\n",
       "      vegaEmbed('#uuid-bc400b47-f141-4134-a713-be828ac67853', spec, {defaultStyle:true}).catch(console.warn);\n",
       "      }, function(err) {\n",
       "      console.log('Failed to load');\n",
       "    });\n",
       "    </script>\n",
       "  </div>\n",
       "    "
      ]
     },
     "execution_count": 99,
     "metadata": {},
     "output_type": "execute_result"
    }
   ],
   "source": [
    "; Choropleth of the waste generated per council citizen in 2018\n",
    "\n",
    "(def repo-dir \"https://raw.githubusercontent.com/data-commons-scotland/dcs-shorts/topojson-experiment/choropleth-generation/\")\n",
    "\n",
    "(def chart-spec {:$schema \"https://vega.github.io/schema/vega-lite/v4.json\"\n",
    "                 :width \"600\"\n",
    "                 :height \"600\"\n",
    "                 :data {:url (str repo-dir \"topo_lad.json\")\n",
    "                        :format {:type \"topojson\"\n",
    "                                 :feature \"lad\"}}\n",
    "                 :transform [;; Cross reference by council name rather than council code\n",
    "                             ;; because the topoJSON data uses some obsolete codes (etc.).\n",
    "                             {:lookup \"properties['LAD13NM']\" \n",
    "                              :from {:data {:url (str repo-dir filename)}\n",
    "                                     :key \"council\"\n",
    "                                     :fields [\"tonnagePerCitizen\"]}}]\n",
    "                 :projection {:type \"albers\" \n",
    "                              :rotate [0, 0, 0]}\n",
    "                 :mark {:type \"geoshape\"\n",
    "                        :strokeWidth 0.2\n",
    "                        :stroke \"black\"}\n",
    "                 :encoding {:tooltip [{:title \"council\" :field \"properties['LAD13NM']\" :type \"nominal\"}\n",
    "                                      {:title \"tonnage per citizen\" :field \"tonnagePerCitizen\" :type \"quantitative\"}]\n",
    "                            :color {:title \"tonnage per citizen\"\n",
    "                                    :field \"tonnagePerCitizen\"\n",
    "                                    :type \"quantitative\"}}})\n",
    "\n",
    "; (print (json/write-str chart-spec))\n",
    "\n",
    "; (ozcore/export! [:div [:vega-lite chart-spec]] \"choropleth.html\" {:from-format :hiccup :to-format :html})\n",
    "\n",
    "(oz/view! chart-spec)"
   ]
  },
  {
   "cell_type": "code",
   "execution_count": null,
   "metadata": {},
   "outputs": [],
   "source": []
  },
  {
   "cell_type": "code",
   "execution_count": null,
   "metadata": {},
   "outputs": [],
   "source": []
  }
 ],
 "metadata": {
  "kernelspec": {
   "display_name": "Clojure (clojupyter=0.3.2=1)",
   "language": "clojure",
   "name": "conda-clojupyter"
  },
  "language_info": {
   "file_extension": ".clj",
   "mimetype": "text/x-clojure",
   "name": "clojure",
   "version": "1.10.1"
  },
  "toc": {
   "base_numbering": 1,
   "nav_menu": {},
   "number_sections": false,
   "sideBar": false,
   "skip_h1_title": false,
   "title_cell": "Table of Contents",
   "title_sidebar": "Contents",
   "toc_cell": false,
   "toc_position": {},
   "toc_section_display": false,
   "toc_window_display": false
  },
  "widgets": {
   "application/vnd.jupyter.widget-state+json": {
    "state": {},
    "version_major": 2,
    "version_minor": 0
   }
  }
 },
 "nbformat": 4,
 "nbformat_minor": 2
}
