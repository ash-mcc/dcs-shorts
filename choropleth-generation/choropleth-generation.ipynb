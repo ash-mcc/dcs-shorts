{
 "cells": [
  {
   "cell_type": "code",
   "execution_count": 35,
   "metadata": {},
   "outputs": [
    {
     "data": {
      "text/plain": [
       "java.net.URLEncoder"
      ]
     },
     "execution_count": 35,
     "metadata": {},
     "output_type": "execute_result"
    }
   ],
   "source": [
    "; Generate visualisations of the variations of waste values across geographic areas in Scotland.\n",
    "\n",
    "\n",
    "; Add code libraries\n",
    "\n",
    "(require '[clojupyter.misc.helper :as helper])\n",
    "\n",
    "(helper/add-dependencies '[org.clojure/data.csv \"1.0.0\"])\n",
    "(helper/add-dependencies '[metasoarous/oz \"1.6.0-alpha24\"])\n",
    "(helper/add-dependencies '[clj-http/clj-http \"3.10.1\"])\n",
    "\n",
    "(require '[clojure.string :as str]\n",
    "         '[clojure.pprint :as pp]\n",
    "         '[clojure.data.csv :as csv]\n",
    "         '[clj-http.client :as http]\n",
    "         '[oz.notebook.clojupyter :as oz])\n",
    "(import 'java.net.URLEncoder)"
   ]
  },
  {
   "cell_type": "code",
   "execution_count": 12,
   "metadata": {},
   "outputs": [
    {
     "data": {
      "text/plain": [
       "#'user/exec-query"
      ]
     },
     "execution_count": 12,
     "metadata": {},
     "output_type": "execute_result"
    }
   ],
   "source": [
    "; Define convenience functions\n",
    "\n",
    "; Convert the CSV structure to a list-of-maps structure.\n",
    "(defn to-maps [csv-data]\n",
    "    (map zipmap (->> (first csv-data)\n",
    "                    (map keyword)\n",
    "                    repeat)\n",
    "                (rest csv-data)))\n",
    "\n",
    "; Ask statistic.gov.scot to execute the given SPARQL query\n",
    "; and return its result as a list-of-maps.\n",
    "(defn exec-query [sparql]\n",
    "    (->> (http/post \"http://statistics.gov.scot/sparql\" \n",
    "                    {:body (str \"query=\" (URLEncoder/encode sparql)) \n",
    "                    :headers {\"Accept\" \"text/csv\" \n",
    "                              \"Content-Type\" \"application/x-www-form-urlencoded\"} \n",
    "                    :debug false})\n",
    "        :body\n",
    "        csv/read-csv\n",
    "        to-maps))"
   ]
  },
  {
   "cell_type": "code",
   "execution_count": 47,
   "metadata": {},
   "outputs": [
    {
     "data": {
      "text/plain": [
       "#'user/tonnage-generated-per-council-citizen-per-year"
      ]
     },
     "execution_count": 47,
     "metadata": {},
     "output_type": "execute_result"
    }
   ],
   "source": [
    "; Query for the waste tonnage genearated per council citizen per year\n",
    "\n",
    "(def sparql \"\n",
    "\n",
    "PREFIX qb: <http://purl.org/linked-data/cube#>\n",
    "PREFIX rdfs: <http://www.w3.org/2000/01/rdf-schema#>\n",
    "PREFIX pdmx: <http://purl.org/linked-data/sdmx/2009/dimension#>\n",
    "PREFIX sdmx: <http://statistics.gov.scot/def/dimension/>\n",
    "PREFIX snum: <http://statistics.gov.scot/def/measure-properties/>\n",
    "PREFIX xsd: <http://www.w3.org/2001/XMLSchema#>\n",
    "\n",
    "SELECT \n",
    "    ?council \n",
    "    ?year \n",
    "    ?tonnagePerCitizen \n",
    "    (strafter(str(?areaUri), 'http://statistics.gov.scot/id/statistical-geography/') as ?councilCode) \n",
    "WHERE {\n",
    "  \n",
    "    ?tonnageObs qb:dataSet <http://statistics.gov.scot/data/household-waste> .\n",
    "    ?tonnageObs pdmx:refArea ?areaUri .\n",
    "    ?tonnageObs pdmx:refPeriod ?periodUri .\n",
    "    ?tonnageObs sdmx:wasteCategory ?wasteCategoryUri .\n",
    "    ?tonnageObs sdmx:wasteManagement ?wasteManagementUri .\n",
    "    ?tonnageObs snum:count ?tonnage .\n",
    "  \n",
    "    ?wasteCategoryUri rdfs:label \\\"Total Waste\\\" .\n",
    "    ?wasteManagementUri rdfs:label \\\"Waste Generated\\\" .\n",
    "\n",
    "    ?populationObs qb:dataSet <http://statistics.gov.scot/data/population-estimates-current-geographic-boundaries> .\n",
    "    ?populationObs pdmx:refArea ?areaUri .\n",
    "    ?populationObs pdmx:refPeriod ?periodUri .\n",
    "    ?populationObs sdmx:age <http://statistics.gov.scot/def/concept/age/all> .\n",
    "    ?populationObs sdmx:sex <http://statistics.gov.scot/def/concept/sex/all> .\n",
    "    ?populationObs snum:count ?population .\n",
    "\n",
    "    ?areaUri rdfs:label ?council .\n",
    "    ?periodUri rdfs:label ?year .\n",
    "    BIND((xsd:integer(?tonnage)/xsd:integer(?population)) AS ?tonnagePerCitizen) .\n",
    "}\n",
    "\")\n",
    "\n",
    "(def tonnage-generated-per-council-citizen-per-year \n",
    "    (->> sparql\n",
    "        exec-query\n",
    "        (sort-by (juxt :c :y))))\n",
    "\n",
    "(println (count tonnage-generated-per-council-citizen-per-year) \"rows\")"
   ]
  },
  {
   "cell_type": "code",
   "execution_count": 48,
   "metadata": {},
   "outputs": [
    {
     "name": "stdout",
     "output_type": "stream",
     "text": [
      "\n",
      "|          :council | :councilCode | :year |         :tonnagePerCitizen |\n",
      "|-------------------+--------------+-------+----------------------------|\n",
      "|      West Lothian |    S12000040 |  2012 | 0.412090222146468950627805 |\n",
      "|             Moray |    S12000020 |  2015 | 0.524719924615223536802429 |\n",
      "|           Falkirk |    S12000014 |  2013 | 0.457813693051667090862815 |\n",
      "|  Scottish Borders |    S12000026 |  2017 | 0.464884367936011128499391 |\n",
      "| City of Edinburgh |    S12000036 |  2016 | 0.381199597768006782735572 |\n"
     ]
    },
    {
     "data": {
      "text/plain": [
       "nil"
      ]
     },
     "execution_count": 48,
     "metadata": {},
     "output_type": "execute_result"
    }
   ],
   "source": [
    "; Print a sample\n",
    "\n",
    "(def ks [:council :councilCode :year :tonnagePerCitizen])\n",
    "(pp/print-table ks (repeatedly 5 #(rand-nth tonnage-generated-per-council-citizen-per-year)))"
   ]
  },
  {
   "cell_type": "code",
   "execution_count": 52,
   "metadata": {},
   "outputs": [
    {
     "name": "stdout",
     "output_type": "stream",
     "text": [
      "33 rows\n"
     ]
    },
    {
     "data": {
      "text/plain": [
       "nil"
      ]
     },
     "execution_count": 52,
     "metadata": {},
     "output_type": "execute_result"
    }
   ],
   "source": [
    "; 2018's tonnages\n",
    "\n",
    "(def tonnage-generated-per-council-citizen-in-2018\n",
    "    (filter #(= \"2018\" (:year %))\n",
    "            tonnage-generated-per-council-citizen-per-year))\n",
    "            \n",
    "(println (count tonnage-generated-per-council-citizen-in-2018) \"rows\")"
   ]
  },
  {
   "cell_type": "code",
   "execution_count": 53,
   "metadata": {},
   "outputs": [
    {
     "name": "stdout",
     "output_type": "stream",
     "text": [
      "\n",
      "|          :council | :councilCode | :year |         :tonnagePerCitizen |\n",
      "|-------------------+--------------+-------+----------------------------|\n",
      "|     East Ayrshire |    S12000008 |  2018 | 0.436211424819435325016415 |\n",
      "| North Lanarkshire |    S12000050 |  2018 | 0.429698982891410429772473 |\n",
      "|          Highland |    S12000017 |  2018 | 0.542922645835102318077609 |\n",
      "|      East Lothian |    S12000010 |  2018 | 0.473901124870025522261083 |\n",
      "|             Moray |    S12000020 |  2018 | 0.497508375209380234505863 |\n"
     ]
    },
    {
     "data": {
      "text/plain": [
       "nil"
      ]
     },
     "execution_count": 53,
     "metadata": {},
     "output_type": "execute_result"
    }
   ],
   "source": [
    "; Print a sample\n",
    "\n",
    "(pp/print-table ks (repeatedly 5 #(rand-nth tonnage-generated-per-council-citizen-in-2018)))"
   ]
  },
  {
   "cell_type": "code",
   "execution_count": 54,
   "metadata": {},
   "outputs": [
    {
     "data": {
      "text/html": [
       "\n",
       "  <div>\n",
       "    <div id='uuid-0c41a786-08de-4e45-8d6a-8cc629e76383'></div>\n",
       "    <script>\n",
       "    requirejs.config({\n",
       "      baseUrl: 'https://cdn.jsdelivr.net/npm/',\n",
       "      paths: {\n",
       "        'vega-embed':  'vega-embed@6.9.0?noext',\n",
       "        'vega-lib': 'vega-lib?noext',\n",
       "        'vega-lite': 'vega-lite@4.13.1?noext',\n",
       "        'vega': 'vega@5.13.0?noext'\n",
       "      }\n",
       "    });\n",
       "    require(['vega-embed'], function(vegaEmbed) {\n",
       "      let spec = {\"$schema\":\"https:\\/\\/vega.github.io\\/schema\\/vega-lite\\/v4.json\",\"width\":\"600\",\"height\":\"600\",\"data\":{\"url\":\"https:\\/\\/raw.githubusercontent.com\\/data-commons-scotland\\/dcs-shorts\\/topojson-experiment\\/choropleth-generation\\/topo_lad.json\",\"format\":{\"type\":\"topojson\",\"feature\":\"lad\"}},\"transform\":[{\"lookup\":\"properties['LAD13NM']\",\"from\":{\"data\":{\"values\":[{\"council\":\"Clackmannanshire\",\"year\":\"2018\",\"tonnagePerCitizen\":\"0.508210116731517509727626\",\"councilCode\":\"S12000005\"},{\"council\":\"Dumfries and Galloway\",\"year\":\"2018\",\"tonnagePerCitizen\":\"0.533133947173869211640567\",\"councilCode\":\"S12000006\"},{\"council\":\"East Ayrshire\",\"year\":\"2018\",\"tonnagePerCitizen\":\"0.436211424819435325016415\",\"councilCode\":\"S12000008\"},{\"council\":\"East Lothian\",\"year\":\"2018\",\"tonnagePerCitizen\":\"0.473901124870025522261083\",\"councilCode\":\"S12000010\"},{\"council\":\"East Renfrewshire\",\"year\":\"2018\",\"tonnagePerCitizen\":\"0.461563517915309446254072\",\"councilCode\":\"S12000011\"},{\"council\":\"Na h-Eileanan Siar\",\"year\":\"2018\",\"tonnagePerCitizen\":\"0.533917256802087215803205\",\"councilCode\":\"S12000013\"},{\"council\":\"Falkirk\",\"year\":\"2018\",\"tonnagePerCitizen\":\"0.427659972558313583634776\",\"councilCode\":\"S12000014\"},{\"council\":\"Highland\",\"year\":\"2018\",\"tonnagePerCitizen\":\"0.542922645835102318077609\",\"councilCode\":\"S12000017\"},{\"council\":\"Inverclyde\",\"year\":\"2018\",\"tonnagePerCitizen\":\"0.358630838131797824696097\",\"councilCode\":\"S12000018\"},{\"council\":\"Midlothian\",\"year\":\"2018\",\"tonnagePerCitizen\":\"0.458616159404423034814977\",\"councilCode\":\"S12000019\"},{\"council\":\"Moray\",\"year\":\"2018\",\"tonnagePerCitizen\":\"0.497508375209380234505863\",\"councilCode\":\"S12000020\"},{\"council\":\"North Ayrshire\",\"year\":\"2018\",\"tonnagePerCitizen\":\"0.454028681253696037847428\",\"councilCode\":\"S12000021\"},{\"council\":\"Orkney Islands\",\"year\":\"2018\",\"tonnagePerCitizen\":\"0.460612888688598467778279\",\"councilCode\":\"S12000023\"},{\"council\":\"Scottish Borders\",\"year\":\"2018\",\"tonnagePerCitizen\":\"0.455374338509586188947688\",\"councilCode\":\"S12000026\"},{\"council\":\"Shetland Islands\",\"year\":\"2018\",\"tonnagePerCitizen\":\"0.419704219225750326228795\",\"councilCode\":\"S12000027\"},{\"council\":\"South Ayrshire\",\"year\":\"2018\",\"tonnagePerCitizen\":\"0.495904042647712127943136\",\"councilCode\":\"S12000028\"},{\"council\":\"South Lanarkshire\",\"year\":\"2018\",\"tonnagePerCitizen\":\"0.471663218606983888157482\",\"councilCode\":\"S12000029\"},{\"council\":\"Stirling\",\"year\":\"2018\",\"tonnagePerCitizen\":\"0.444450333934061274249973\",\"councilCode\":\"S12000030\"},{\"council\":\"Aberdeen City\",\"year\":\"2018\",\"tonnagePerCitizen\":\"0.375900861311302513622781\",\"councilCode\":\"S12000033\"},{\"council\":\"Aberdeenshire\",\"year\":\"2018\",\"tonnagePerCitizen\":\"0.46092859601483917849084\",\"councilCode\":\"S12000034\"},{\"council\":\"Argyll and Bute\",\"year\":\"2018\",\"tonnagePerCitizen\":\"0.55613262230466032923719\",\"councilCode\":\"S12000035\"},{\"council\":\"City of Edinburgh\",\"year\":\"2018\",\"tonnagePerCitizen\":\"0.372885245901639344262295\",\"councilCode\":\"S12000036\"},{\"council\":\"Renfrewshire\",\"year\":\"2018\",\"tonnagePerCitizen\":\"0.457027954328139940379099\",\"councilCode\":\"S12000038\"},{\"council\":\"West Dunbartonshire\",\"year\":\"2018\",\"tonnagePerCitizen\":\"0.469729608437114327386963\",\"councilCode\":\"S12000039\"},{\"council\":\"West Lothian\",\"year\":\"2018\",\"tonnagePerCitizen\":\"0.407345997584275831777753\",\"councilCode\":\"S12000040\"},{\"council\":\"Angus\",\"year\":\"2018\",\"tonnagePerCitizen\":\"0.470691140985866942433644\",\"councilCode\":\"S12000041\"},{\"council\":\"Dundee City\",\"year\":\"2018\",\"tonnagePerCitizen\":\"0.40855798319327731092437\",\"councilCode\":\"S12000042\"},{\"council\":\"East Dunbartonshire\",\"year\":\"2018\",\"tonnagePerCitizen\":\"0.476719283670266777439306\",\"councilCode\":\"S12000045\"},{\"council\":\"Fife\",\"year\":\"2018\",\"tonnagePerCitizen\":\"0.449982522653330106746256\",\"councilCode\":\"S12000047\"},{\"council\":\"Perth and Kinross\",\"year\":\"2018\",\"tonnagePerCitizen\":\"0.474684380990151364928283\",\"councilCode\":\"S12000048\"},{\"council\":\"Glasgow City\",\"year\":\"2018\",\"tonnagePerCitizen\":\"0.391625293338228955476445\",\"councilCode\":\"S12000049\"},{\"council\":\"North Lanarkshire\",\"year\":\"2018\",\"tonnagePerCitizen\":\"0.429698982891410429772473\",\"councilCode\":\"S12000050\"},{\"council\":\"Scotland\",\"year\":\"2018\",\"tonnagePerCitizen\":\"0.44229528695684154392159\",\"councilCode\":\"S92000003\"}]},\"key\":\"council\",\"fields\":[\"tonnagePerCitizen\"]}}],\"projection\":{\"type\":\"albers\",\"rotate\":[0,0,0]},\"mark\":{\"type\":\"geoshape\",\"stroke\":\"black\",\"strokeWidth\":0.2},\"encoding\":{\"color\":{\"field\":\"tonnagePerCitizen\",\"type\":\"quantitative\"}}};\n",
       "      vegaEmbed('#uuid-0c41a786-08de-4e45-8d6a-8cc629e76383', spec, {defaultStyle:true}).catch(console.warn);\n",
       "      }, function(err) {\n",
       "      console.log('Failed to load');\n",
       "    });\n",
       "    </script>\n",
       "  </div>\n",
       "    "
      ]
     },
     "execution_count": 54,
     "metadata": {},
     "output_type": "execute_result"
    }
   ],
   "source": [
    "; Choropleth of the waste generated per council citizen in 2018\n",
    "\n",
    "(def chart-spec {:$schema \"https://vega.github.io/schema/vega-lite/v4.json\"\n",
    "                 :width \"600\"\n",
    "                 :height \"600\"\n",
    "                 :data {:url \"https://raw.githubusercontent.com/data-commons-scotland/dcs-shorts/topojson-experiment/choropleth-generation/topo_lad.json\"\n",
    "                        :format {:type \"topojson\"\n",
    "                                 :feature \"lad\"}}\n",
    "                 :transform [;; Cross reference by council name rather than council code\n",
    "                             ;; because the topoJSON data uses some obsolete codes (etc.).\n",
    "                             {:lookup \"properties['LAD13NM']\" \n",
    "                              :from {:data {:values tonnage-generated-per-council-citizen-in-2018}\n",
    "                                     :key \"council\"\n",
    "                                     :fields [\"tonnagePerCitizen\"]}}]\n",
    "                 :projection {:type \"albers\" \n",
    "                              :rotate [0, 0, 0]}\n",
    "                 :mark {:type \"geoshape\"\n",
    "                        :stroke \"black\"\n",
    "                        :strokeWidth 0.2}\n",
    "                 :encoding {:color {:field \"tonnagePerCitizen\"\n",
    "                                    :type \"quantitative\"}}})\n",
    "\n",
    "; (print (json/write-str chart-spec))\n",
    "\n",
    "; Aside: read https://github.com/metasoarous/oz for exporting and embedding and reagent hints\n",
    "\n",
    "(oz/view! chart-spec)"
   ]
  },
  {
   "cell_type": "code",
   "execution_count": null,
   "metadata": {},
   "outputs": [],
   "source": []
  },
  {
   "cell_type": "code",
   "execution_count": null,
   "metadata": {},
   "outputs": [],
   "source": []
  }
 ],
 "metadata": {
  "kernelspec": {
   "display_name": "Clojure (clojupyter=0.3.2=1)",
   "language": "clojure",
   "name": "conda-clojupyter"
  },
  "language_info": {
   "file_extension": ".clj",
   "mimetype": "text/x-clojure",
   "name": "clojure",
   "version": "1.10.1"
  },
  "toc": {
   "base_numbering": 1,
   "nav_menu": {},
   "number_sections": false,
   "sideBar": false,
   "skip_h1_title": false,
   "title_cell": "Table of Contents",
   "title_sidebar": "Contents",
   "toc_cell": false,
   "toc_position": {},
   "toc_section_display": false,
   "toc_window_display": false
  },
  "widgets": {
   "application/vnd.jupyter.widget-state+json": {
    "state": {},
    "version_major": 2,
    "version_minor": 0
   }
  }
 },
 "nbformat": 4,
 "nbformat_minor": 2
}
